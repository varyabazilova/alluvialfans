{
 "cells": [
  {
   "cell_type": "code",
   "execution_count": null,
   "id": "390cbcbe-377d-4c8f-b851-214d08879304",
   "metadata": {},
   "outputs": [],
   "source": [
    "import pandas as pd\n",
    "import numpy as np\n",
    "import matplotlib.pyplot as plt\n",
    "import xarray as xr\n",
    "import seaborn as sns\n",
    "import os\n",
    "from glob import glob\n",
    "\n"
   ]
  },
  {
   "cell_type": "markdown",
   "id": "a7fe54c2-6628-4284-a859-5c90c84be1b7",
   "metadata": {},
   "source": [
    "1. Monsoon precipitation (sum of June-sept) \n",
    "2. Mean precipitation over year - daily\n",
    "3. Annual sum \n",
    "4. Fraction of precipitation in monsoon \n",
    "5. P95% daily - sum in a day and then 95% \n",
    "6. Average number of wet days per year (frequency) \n",
    "7. Rain intensity on wet days \n",
    "8. Snow/no snow (fraction?) during wet days - if temp that day was below 0 \n",
    "9. N-day sum (?) — rainy days (10 to 30) \n",
    "10. Monthly average -> cv (std/average) "
   ]
  },
  {
   "cell_type": "code",
   "execution_count": null,
   "id": "db8d9ac5-9207-4c76-baf5-0774fe8b8cd4",
   "metadata": {},
   "outputs": [],
   "source": []
  }
 ],
 "metadata": {
  "kernelspec": {
   "display_name": "Python [conda env:project1] *",
   "language": "python",
   "name": "conda-env-project1-py"
  },
  "language_info": {
   "codemirror_mode": {
    "name": "ipython",
    "version": 3
   },
   "file_extension": ".py",
   "mimetype": "text/x-python",
   "name": "python",
   "nbconvert_exporter": "python",
   "pygments_lexer": "ipython3",
   "version": "3.7.11"
  }
 },
 "nbformat": 4,
 "nbformat_minor": 5
}
