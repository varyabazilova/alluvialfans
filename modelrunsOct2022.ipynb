{
 "cells": [
  {
   "cell_type": "code",
   "execution_count": 96,
   "id": "7e6ba13f-9187-4707-b07a-d1847df475ab",
   "metadata": {},
   "outputs": [],
   "source": [
    "import pandas as pd\n",
    "import matplotlib.pyplot as plt\n",
    "\n",
    "from SedCas import SedCas\n",
    "\n",
    "import os \n",
    "import numpy as np\n",
    "\n",
    "%matplotlib inline"
   ]
  },
  {
   "cell_type": "markdown",
   "id": "8b17e694-45eb-43d9-87d9-53d23341ec0c",
   "metadata": {},
   "source": [
    "## model run itself "
   ]
  },
  {
   "cell_type": "code",
   "execution_count": 15,
   "id": "afb7247f-1c48-4861-b3b5-41a2f23f3d19",
   "metadata": {},
   "outputs": [
    {
     "data": {
      "text/plain": [
       "'\\nCreated on Thu Feb  3 16:56:57 2022\\n\\n@author: hirschbe\\n'"
      ]
     },
     "execution_count": 15,
     "metadata": {},
     "output_type": "execute_result"
    }
   ],
   "source": [
    "\"\"\"\n",
    "Created on Thu Feb  3 16:56:57 2022\n",
    "\n",
    "@author: hirschbe\n",
    "\"\"\"\n",
    "\n",
    "# from SedCas import SedCas\n",
    "# \n",
    "# model = SedCas()\n",
    "# model.load_climate()\n",
    "# model.load_params()\n",
    "# model.run_hydro()\n",
    "# model.run_sediment()\n",
    "# model.save_output()\n",
    "# model.plot_sedyield_monthly()\n",
    "\n",
    "# Qstl = potential sediment catchment output [mm], i.e. transport-limited case"
   ]
  },
  {
   "cell_type": "markdown",
   "id": "bf622fba-3782-4ea7-9fd8-d621f38e16f9",
   "metadata": {},
   "source": [
    "## data from \"looped\" runs, plot monthly sediment yeld transporten in a form of DF "
   ]
  },
  {
   "cell_type": "code",
   "execution_count": 58,
   "id": "595f7ec7-e3b9-49b3-86e3-1a555fd82633",
   "metadata": {},
   "outputs": [],
   "source": [
    "# data\n",
    "westhimal = pd.read_csv('timeseries/1_Western_Himalaya/Sediment.out', index_col = 0)\n",
    "climate = pd.read_csv('timeseries/1_Western_Himalaya/climate.met', sep = '\\t', index_col = 0)\n",
    "\n"
   ]
  },
  {
   "cell_type": "code",
   "execution_count": 67,
   "id": "6bdd57e8-8321-4a86-a0bd-05bcc04b4be4",
   "metadata": {},
   "outputs": [
    {
     "data": {
      "text/plain": [
       "1161.7870783247463"
      ]
     },
     "execution_count": 67,
     "metadata": {},
     "output_type": "execute_result"
    }
   ],
   "source": [
    "climate.index = pd.to_datetime(climate.index)\n",
    "climate.Ta.resample('y').mean().mean()\n",
    "climate.Pr.resample('y').sum().mean()"
   ]
  },
  {
   "cell_type": "code",
   "execution_count": 18,
   "id": "0ec96709-a2cb-494c-94c2-5066187e1043",
   "metadata": {},
   "outputs": [],
   "source": [
    "# \n",
    "## change unite: \n",
    "sediments = westhimal\n",
    "\n",
    "# get area from parameters files: \n",
    "area = 4.83\n",
    "cf = (area*10**6) * 10**-3   # km2 to m2 and mm to m\n",
    "\n",
    "# qstl_area = pd.DataFrame(data = sedimentout.Qstl*cf, index=pd.to_datetime(sedimentout.index))\n",
    "sediments_area = pd.DataFrame()\n",
    "sediments_area['Qstl']  = sediments.Qstl *cf\n",
    "sediments_area['Qdftl'] = sediments.Qdftl*cf\n",
    "\n",
    "# qstl_area.set_index('D')\n",
    "sediments_area.index = pd.to_datetime(sediments_area.index)\n",
    "\n",
    "\n",
    "# monthly sediment yeild\n",
    "sym = sediments_area.resample('m').sum()                         # sediment yeld month \n",
    "symm_westernhimal = sym.groupby(by=sym.index.month).mean()  # sediment yeld month mean \n",
    "\n",
    "symm_westernhimal = symm_westernhimal.reset_index()"
   ]
  },
  {
   "cell_type": "code",
   "execution_count": 19,
   "id": "2076411f-802b-4779-8661-6a91872d34d3",
   "metadata": {},
   "outputs": [],
   "source": [
    "df = symm_westernhimal"
   ]
  },
  {
   "cell_type": "code",
   "execution_count": 12,
   "id": "0754fb94-bf11-46fb-87ed-9634e34febd2",
   "metadata": {},
   "outputs": [
    {
     "data": {
      "image/png": "[encoded data removed]",
      "text/plain": [
       "<Figure size 720x360 with 1 Axes>"
      ]
     },
     "metadata": {
      "needs_background": "light"
     },
     "output_type": "display_data"
    }
   ],
   "source": [
    "## figure to count all lakes\n",
    "\n",
    "fig, ax = plt.subplots(figsize=(10, 5))\n",
    "\n",
    "width = 0.2\n",
    "ax.bar(x=df.D+0.1, height=df.Qdftl, width=width, label='only DF sediments',  alpha=0.7, color='chartreuse')\n",
    "ax.bar(x=df.D-0.1,     height=df.Qstl, width=width,label='all sediments' , alpha=0.7, color= 'dodgerblue')\n",
    "\n",
    "ax.set_xticks(df.D)\n",
    "ax.set_xticklabels(df.D, fontsize=15)#rotation=45)\n",
    "ax.legend(fontsize=15, )\n",
    "ax.set_ylabel('sediment yield m**3', fontsize=15)\n",
    "fig.tight_layout()\n",
    "\n",
    "# fig.savefig('sed_yeld_3regions.pdf', bbox_inches='tight')"
   ]
  },
  {
   "cell_type": "markdown",
   "id": "3482b43a-d60d-43bb-9ee0-cf9f1a6eef30",
   "metadata": {},
   "source": [
    "## magnitude frequency "
   ]
  },
  {
   "cell_type": "code",
   "execution_count": 22,
   "id": "ad49c6ec-b2fe-47bb-b442-07dddcddcddb",
   "metadata": {},
   "outputs": [
    {
     "data": {
      "text/html": [
       "<div>\n",
       "<style scoped>\n",
       "    .dataframe tbody tr th:only-of-type {\n",
       "        vertical-align: middle;\n",
       "    }\n",
       "\n",
       "    .dataframe tbody tr th {\n",
       "        vertical-align: top;\n",
       "    }\n",
       "\n",
       "    .dataframe thead th {\n",
       "        text-align: right;\n",
       "    }\n",
       "</style>\n",
       "<table border=\"1\" class=\"dataframe\">\n",
       "  <thead>\n",
       "    <tr style=\"text-align: right;\">\n",
       "      <th></th>\n",
       "      <th>Qstl</th>\n",
       "      <th>Qdftl</th>\n",
       "    </tr>\n",
       "    <tr>\n",
       "      <th>D</th>\n",
       "      <th></th>\n",
       "      <th></th>\n",
       "    </tr>\n",
       "  </thead>\n",
       "  <tbody>\n",
       "    <tr>\n",
       "      <th>1980-01-01 00:00:00</th>\n",
       "      <td>0.000000</td>\n",
       "      <td>0.0</td>\n",
       "    </tr>\n",
       "    <tr>\n",
       "      <th>1980-01-01 01:00:00</th>\n",
       "      <td>0.000000</td>\n",
       "      <td>0.0</td>\n",
       "    </tr>\n",
       "    <tr>\n",
       "      <th>1980-01-01 02:00:00</th>\n",
       "      <td>1107.737730</td>\n",
       "      <td>0.0</td>\n",
       "    </tr>\n",
       "    <tr>\n",
       "      <th>1980-01-01 03:00:00</th>\n",
       "      <td>1821.591262</td>\n",
       "      <td>0.0</td>\n",
       "    </tr>\n",
       "    <tr>\n",
       "      <th>1980-01-01 04:00:00</th>\n",
       "      <td>1756.875825</td>\n",
       "      <td>0.0</td>\n",
       "    </tr>\n",
       "  </tbody>\n",
       "</table>\n",
       "</div>"
      ],
      "text/plain": [
       "                            Qstl  Qdftl\n",
       "D                                      \n",
       "1980-01-01 00:00:00     0.000000    0.0\n",
       "1980-01-01 01:00:00     0.000000    0.0\n",
       "1980-01-01 02:00:00  1107.737730    0.0\n",
       "1980-01-01 03:00:00  1821.591262    0.0\n",
       "1980-01-01 04:00:00  1756.875825    0.0"
      ]
     },
     "execution_count": 22,
     "metadata": {},
     "output_type": "execute_result"
    }
   ],
   "source": [
    "sediments_area.head()"
   ]
  },
  {
   "cell_type": "markdown",
   "id": "35f038a1-6555-4755-b96d-2b6b7b77827a",
   "metadata": {},
   "source": [
    "# plots: "
   ]
  },
  {
   "cell_type": "code",
   "execution_count": 69,
   "id": "db1bba98-8f1d-4f18-acfb-bc02b743e0db",
   "metadata": {},
   "outputs": [
    {
     "data": {
      "image/png": "[encoded data removed]",
      "text/plain": [
       "<Figure size 432x288 with 1 Axes>"
      ]
     },
     "metadata": {
      "needs_background": "light"
     },
     "output_type": "display_data"
    }
   ],
   "source": [
    "total = sediments_area.Qstl\n",
    "dfs = sediments_area.Qdftl\n",
    "\n",
    "plt.hist(dfs, bins = 100)\n",
    "plt.show()"
   ]
  },
  {
   "cell_type": "code",
   "execution_count": 90,
   "id": "dcd9d434-79de-4e43-b357-93b6bf0f02ad",
   "metadata": {},
   "outputs": [
    {
     "data": {
      "text/plain": [
       "[<matplotlib.lines.Line2D at 0x7f8a826110a0>]"
      ]
     },
     "execution_count": 90,
     "metadata": {},
     "output_type": "execute_result"
    },
    {
     "data": {
      "image/png": "[encoded data removed]",
      "text/plain": [
       "<Figure size 576x288 with 1 Axes>"
      ]
     },
     "metadata": {
      "needs_background": "light"
     },
     "output_type": "display_data"
    }
   ],
   "source": [
    "# plot the cumulative histogram\n",
    "\n",
    "fig, ax = plt.subplots(figsize=(8, 4))\n",
    "n_bins = 100\n",
    "#n, bins, patches = ax.hist(dfs[dfs>0], n_bins, density=True, histtype='step',\n",
    "#                           cumulative=True, label='Empirical')\n",
    "#n, bins, patches = ax.hist(dfs[dfs>0])\n",
    "import numpy as np\n",
    "dfc = dfs[dfs>0].sort_values()\n",
    "# dfc = np.cumsum(dfc)\n",
    "ax.plot(dfc)"
   ]
  },
  {
   "cell_type": "markdown",
   "id": "8b9e021a-4386-42f8-bc97-93add27b3314",
   "metadata": {},
   "source": [
    "## dfs - take only thise > 0 "
   ]
  },
  {
   "cell_type": "code",
   "execution_count": 127,
   "id": "98b5e7a3-8367-40ea-926e-d33ea5b2eda4",
   "metadata": {},
   "outputs": [],
   "source": [
    "# a = sediments_area[sediments_area.Qdftl>0].sort_values(by=\"Qdftl\")\n",
    "\n",
    "# fig, ax = plt.subplots(figsize=(8, 4))\n",
    "# dfc = np.cumsum(a.Qdftl)\n",
    "# ax.plot(dfc)\n"
   ]
  },
  {
   "cell_type": "code",
   "execution_count": 128,
   "id": "db2a27e9-c17e-4ac3-89eb-104b5c2ee976",
   "metadata": {},
   "outputs": [
    {
     "data": {
      "text/plain": [
       "<matplotlib.legend.Legend at 0x7f8ab46ff6d0>"
      ]
     },
     "execution_count": 128,
     "metadata": {},
     "output_type": "execute_result"
    },
    {
     "data": {
      "image/png": "[encoded data removed]",
      "text/plain": [
       "<Figure size 576x288 with 1 Axes>"
      ]
     },
     "metadata": {
      "needs_background": "light"
     },
     "output_type": "display_data"
    }
   ],
   "source": [
    "\n",
    "fig, ax = plt.subplots(figsize=(8, 4))\n",
    "sediments_area.Qdftl.plot(label = 'Qdftl')\n",
    "sediments_area.Qstl.plot(label = 'Qstl')\n",
    "\n",
    "plt.legend()\n"
   ]
  },
  {
   "cell_type": "code",
   "execution_count": 115,
   "id": "6376f030-2f8a-45f0-b00d-7fbacb6a57bb",
   "metadata": {},
   "outputs": [
    {
     "data": {
      "text/plain": [
       "[Text(0.5, 0, 'time'), Text(0, 0.5, 'sediment transport m**3')]"
      ]
     },
     "execution_count": 115,
     "metadata": {},
     "output_type": "execute_result"
    },
    {
     "data": {
      "image/png": "[encoded data removed]",
      "text/plain": [
       "<Figure size 792x432 with 1 Axes>"
      ]
     },
     "metadata": {
      "needs_background": "light"
     },
     "output_type": "display_data"
    }
   ],
   "source": [
    "# Plot using matplotlib\n",
    "fig, ax = plt.subplots(figsize=(11, 6))\n",
    "\n",
    "ax.scatter(x=sediments_area.index,\n",
    "           y=sediments_area['Qdftl'],\n",
    "           marker=\"o\",\n",
    "           s=4,\n",
    "           color=\"purple\")\n",
    "\n",
    "ax.set(xlabel=\"time\", ylabel=\"sediment transport m**3\")\n"
   ]
  },
  {
   "cell_type": "code",
   "execution_count": 129,
   "id": "bc31b8f1-2c5f-4e26-ab1a-273d702f1b4e",
   "metadata": {},
   "outputs": [
    {
     "data": {
      "text/html": [
       "<div>\n",
       "<style scoped>\n",
       "    .dataframe tbody tr th:only-of-type {\n",
       "        vertical-align: middle;\n",
       "    }\n",
       "\n",
       "    .dataframe tbody tr th {\n",
       "        vertical-align: top;\n",
       "    }\n",
       "\n",
       "    .dataframe thead th {\n",
       "        text-align: right;\n",
       "    }\n",
       "</style>\n",
       "<table border=\"1\" class=\"dataframe\">\n",
       "  <thead>\n",
       "    <tr style=\"text-align: right;\">\n",
       "      <th></th>\n",
       "      <th>Q0</th>\n",
       "      <th>Q10</th>\n",
       "      <th>Q25</th>\n",
       "      <th>Q50</th>\n",
       "      <th>Q75</th>\n",
       "      <th>Q90</th>\n",
       "      <th>Q100</th>\n",
       "      <th>Qstl</th>\n",
       "      <th>Qdftl</th>\n",
       "    </tr>\n",
       "    <tr>\n",
       "      <th>D</th>\n",
       "      <th></th>\n",
       "      <th></th>\n",
       "      <th></th>\n",
       "      <th></th>\n",
       "      <th></th>\n",
       "      <th></th>\n",
       "      <th></th>\n",
       "      <th></th>\n",
       "      <th></th>\n",
       "    </tr>\n",
       "  </thead>\n",
       "  <tbody>\n",
       "    <tr>\n",
       "      <th>1980-01-01 00:00:00</th>\n",
       "      <td>0.0</td>\n",
       "      <td>0.0</td>\n",
       "      <td>0.0</td>\n",
       "      <td>0.0</td>\n",
       "      <td>0.0</td>\n",
       "      <td>0.0</td>\n",
       "      <td>0.0</td>\n",
       "      <td>0.000000</td>\n",
       "      <td>0.0</td>\n",
       "    </tr>\n",
       "    <tr>\n",
       "      <th>1980-01-01 01:00:00</th>\n",
       "      <td>0.0</td>\n",
       "      <td>0.0</td>\n",
       "      <td>0.0</td>\n",
       "      <td>0.0</td>\n",
       "      <td>0.0</td>\n",
       "      <td>0.0</td>\n",
       "      <td>0.0</td>\n",
       "      <td>0.000000</td>\n",
       "      <td>0.0</td>\n",
       "    </tr>\n",
       "    <tr>\n",
       "      <th>1980-01-01 02:00:00</th>\n",
       "      <td>0.0</td>\n",
       "      <td>0.0</td>\n",
       "      <td>0.0</td>\n",
       "      <td>0.0</td>\n",
       "      <td>0.0</td>\n",
       "      <td>0.0</td>\n",
       "      <td>0.0</td>\n",
       "      <td>0.229345</td>\n",
       "      <td>0.0</td>\n",
       "    </tr>\n",
       "    <tr>\n",
       "      <th>1980-01-01 03:00:00</th>\n",
       "      <td>0.0</td>\n",
       "      <td>0.0</td>\n",
       "      <td>0.0</td>\n",
       "      <td>0.0</td>\n",
       "      <td>0.0</td>\n",
       "      <td>0.0</td>\n",
       "      <td>0.0</td>\n",
       "      <td>0.377141</td>\n",
       "      <td>0.0</td>\n",
       "    </tr>\n",
       "    <tr>\n",
       "      <th>1980-01-01 04:00:00</th>\n",
       "      <td>0.0</td>\n",
       "      <td>0.0</td>\n",
       "      <td>0.0</td>\n",
       "      <td>0.0</td>\n",
       "      <td>0.0</td>\n",
       "      <td>0.0</td>\n",
       "      <td>0.0</td>\n",
       "      <td>0.363742</td>\n",
       "      <td>0.0</td>\n",
       "    </tr>\n",
       "  </tbody>\n",
       "</table>\n",
       "</div>"
      ],
      "text/plain": [
       "                      Q0  Q10  Q25  Q50  Q75  Q90  Q100      Qstl  Qdftl\n",
       "D                                                                       \n",
       "1980-01-01 00:00:00  0.0  0.0  0.0  0.0  0.0  0.0   0.0  0.000000    0.0\n",
       "1980-01-01 01:00:00  0.0  0.0  0.0  0.0  0.0  0.0   0.0  0.000000    0.0\n",
       "1980-01-01 02:00:00  0.0  0.0  0.0  0.0  0.0  0.0   0.0  0.229345    0.0\n",
       "1980-01-01 03:00:00  0.0  0.0  0.0  0.0  0.0  0.0   0.0  0.377141    0.0\n",
       "1980-01-01 04:00:00  0.0  0.0  0.0  0.0  0.0  0.0   0.0  0.363742    0.0"
      ]
     },
     "execution_count": 129,
     "metadata": {},
     "output_type": "execute_result"
    }
   ],
   "source": [
    "sediments.head()"
   ]
  },
  {
   "cell_type": "markdown",
   "id": "bdd9e99d-7a48-4d18-924c-665e84eec0c1",
   "metadata": {},
   "source": [
    "## magnitude frequency "
   ]
  },
  {
   "cell_type": "code",
   "execution_count": 180,
   "id": "6ea7ddef-3db4-41f8-951e-834260ec47b2",
   "metadata": {},
   "outputs": [],
   "source": [
    "# pribability of exceedence \n",
    "# Exceedance probability equation:\n",
    "# Probablity= (n−i + 1) / (n+1)\n",
    "\n",
    "# where i is the rank order (smallest to largest) from 1 to n.\n",
    "# Note that the limits of this equation vary from n/(n+1) ~ 1 for the smallest events and 1/(n+1) \n",
    "# for the largest events (i.e., the largest events have a very small exceedance probability).\n",
    "\n",
    "# Sort data smallest to largest\n",
    "sediments_area = sediments_area[sediments_area.Qdftl>0]\n",
    "sediments_sorted = sediments_area.sort_values(by=\"Qdftl\")\n",
    "\n",
    "# Count total obervations\n",
    "n = sediments_sorted.shape[0]\n",
    "\n",
    "# Add a numbered column 1 -> n to use in return calculation for rank\n",
    "sediments_sorted.insert(0, 'rank', range(1, 1 + n))\n",
    "\n",
    "# Calculate probability - note you may need to adjust this value based upon the time period of your data\n",
    "sediments_sorted[\"prob\"] = ((n - sediments_sorted[\"rank\"] + 1) / (n + 1))\n",
    "\n",
    "sediments_sorted[\"return_period\"] = (1 / sediments_sorted[\"prob\"])\n",
    "\n"
   ]
  },
  {
   "cell_type": "code",
   "execution_count": 170,
   "id": "2f042f1b-4235-46fc-9342-f4262e59001a",
   "metadata": {},
   "outputs": [],
   "source": [
    "\n",
    "# # Sort data smallest to largest\n",
    "# # sediments_area = sediments_area[sediments_area.Qstl>0]\n",
    "# sediments_sorted = sediments_area.sort_values(by=\"Qstl\")\n",
    "\n",
    "# # Count total obervations\n",
    "# n = sediments_sorted.shape[0]\n",
    "\n",
    "# # Add a numbered column 1 -> n to use in return calculation for rank\n",
    "# sediments_sorted.insert(0, 'rank_s', range(1, 1 + n))\n",
    "\n",
    "# # Calculate probability - note you may need to adjust this value based upon the time period of your data\n",
    "# sediments_sorted[\"prob_s\"] = ((n - sediments_sorted[\"rank_s\"] + 1) / (n + 1))\n",
    "\n",
    "# sediments_sorted[\"return_period_s\"] = (1 / sediments_sorted[\"prob_s\"])\n",
    "\n"
   ]
  },
  {
   "cell_type": "code",
   "execution_count": 181,
   "id": "ab059b41-f101-465c-8d8e-ca2286b4e015",
   "metadata": {},
   "outputs": [
    {
     "data": {
      "text/html": [
       "<div>\n",
       "<style scoped>\n",
       "    .dataframe tbody tr th:only-of-type {\n",
       "        vertical-align: middle;\n",
       "    }\n",
       "\n",
       "    .dataframe tbody tr th {\n",
       "        vertical-align: top;\n",
       "    }\n",
       "\n",
       "    .dataframe thead th {\n",
       "        text-align: right;\n",
       "    }\n",
       "</style>\n",
       "<table border=\"1\" class=\"dataframe\">\n",
       "  <thead>\n",
       "    <tr style=\"text-align: right;\">\n",
       "      <th></th>\n",
       "      <th>Q0</th>\n",
       "      <th>Q10</th>\n",
       "      <th>Q25</th>\n",
       "      <th>Q50</th>\n",
       "      <th>Q75</th>\n",
       "      <th>Q90</th>\n",
       "      <th>Q100</th>\n",
       "      <th>Qstl</th>\n",
       "      <th>Qdftl</th>\n",
       "    </tr>\n",
       "    <tr>\n",
       "      <th>D</th>\n",
       "      <th></th>\n",
       "      <th></th>\n",
       "      <th></th>\n",
       "      <th></th>\n",
       "      <th></th>\n",
       "      <th></th>\n",
       "      <th></th>\n",
       "      <th></th>\n",
       "      <th></th>\n",
       "    </tr>\n",
       "  </thead>\n",
       "  <tbody>\n",
       "    <tr>\n",
       "      <th>2018-12-31 20:00:00</th>\n",
       "      <td>0.0</td>\n",
       "      <td>0.0</td>\n",
       "      <td>0.0</td>\n",
       "      <td>0.0</td>\n",
       "      <td>0.0</td>\n",
       "      <td>0.0</td>\n",
       "      <td>0.0</td>\n",
       "      <td>0.0</td>\n",
       "      <td>0.0</td>\n",
       "    </tr>\n",
       "    <tr>\n",
       "      <th>2018-12-31 21:00:00</th>\n",
       "      <td>0.0</td>\n",
       "      <td>0.0</td>\n",
       "      <td>0.0</td>\n",
       "      <td>0.0</td>\n",
       "      <td>0.0</td>\n",
       "      <td>0.0</td>\n",
       "      <td>0.0</td>\n",
       "      <td>0.0</td>\n",
       "      <td>0.0</td>\n",
       "    </tr>\n",
       "    <tr>\n",
       "      <th>2018-12-31 22:00:00</th>\n",
       "      <td>0.0</td>\n",
       "      <td>0.0</td>\n",
       "      <td>0.0</td>\n",
       "      <td>0.0</td>\n",
       "      <td>0.0</td>\n",
       "      <td>0.0</td>\n",
       "      <td>0.0</td>\n",
       "      <td>0.0</td>\n",
       "      <td>0.0</td>\n",
       "    </tr>\n",
       "    <tr>\n",
       "      <th>2018-12-31 23:00:00</th>\n",
       "      <td>0.0</td>\n",
       "      <td>0.0</td>\n",
       "      <td>0.0</td>\n",
       "      <td>0.0</td>\n",
       "      <td>0.0</td>\n",
       "      <td>0.0</td>\n",
       "      <td>0.0</td>\n",
       "      <td>0.0</td>\n",
       "      <td>0.0</td>\n",
       "    </tr>\n",
       "    <tr>\n",
       "      <th>2019-01-01 00:00:00</th>\n",
       "      <td>0.0</td>\n",
       "      <td>0.0</td>\n",
       "      <td>0.0</td>\n",
       "      <td>0.0</td>\n",
       "      <td>0.0</td>\n",
       "      <td>0.0</td>\n",
       "      <td>0.0</td>\n",
       "      <td>0.0</td>\n",
       "      <td>0.0</td>\n",
       "    </tr>\n",
       "  </tbody>\n",
       "</table>\n",
       "</div>"
      ],
      "text/plain": [
       "                      Q0  Q10  Q25  Q50  Q75  Q90  Q100  Qstl  Qdftl\n",
       "D                                                                   \n",
       "2018-12-31 20:00:00  0.0  0.0  0.0  0.0  0.0  0.0   0.0   0.0    0.0\n",
       "2018-12-31 21:00:00  0.0  0.0  0.0  0.0  0.0  0.0   0.0   0.0    0.0\n",
       "2018-12-31 22:00:00  0.0  0.0  0.0  0.0  0.0  0.0   0.0   0.0    0.0\n",
       "2018-12-31 23:00:00  0.0  0.0  0.0  0.0  0.0  0.0   0.0   0.0    0.0\n",
       "2019-01-01 00:00:00  0.0  0.0  0.0  0.0  0.0  0.0   0.0   0.0    0.0"
      ]
     },
     "execution_count": 181,
     "metadata": {},
     "output_type": "execute_result"
    }
   ],
   "source": [
    "sediments.tail()"
   ]
  },
  {
   "cell_type": "code",
   "execution_count": 175,
   "id": "4c209063-b2e8-46cd-bbf0-086e6b3d43f6",
   "metadata": {},
   "outputs": [
    {
     "data": {
      "image/png": "[encoded data removed]",
      "text/plain": [
       "<Figure size 792x432 with 1 Axes>"
      ]
     },
     "metadata": {
      "needs_background": "light"
     },
     "output_type": "display_data"
    }
   ],
   "source": [
    "# # sediments_sorted\n",
    "\n",
    "# # Compare both datasets\n",
    "# fig, ax = plt.subplots(figsize=(11, 6))\n",
    "\n",
    "# ax.scatter(x=sediments_sorted.Qstl.values,\n",
    "#            y=sediments_sorted.prob_s.values)\n",
    "\n",
    "# ax.set_xscale('log')\n",
    "# ax.set_yscale('log')\n",
    "\n"
   ]
  },
  {
   "cell_type": "code",
   "execution_count": 185,
   "id": "4b41a105-abb0-46c1-9ba0-ab2d9ce36ab7",
   "metadata": {},
   "outputs": [
    {
     "data": {
      "text/html": [
       "<div>\n",
       "<style scoped>\n",
       "    .dataframe tbody tr th:only-of-type {\n",
       "        vertical-align: middle;\n",
       "    }\n",
       "\n",
       "    .dataframe tbody tr th {\n",
       "        vertical-align: top;\n",
       "    }\n",
       "\n",
       "    .dataframe thead th {\n",
       "        text-align: right;\n",
       "    }\n",
       "</style>\n",
       "<table border=\"1\" class=\"dataframe\">\n",
       "  <thead>\n",
       "    <tr style=\"text-align: right;\">\n",
       "      <th></th>\n",
       "      <th>rank</th>\n",
       "      <th>Qstl</th>\n",
       "      <th>Qdftl</th>\n",
       "      <th>prob</th>\n",
       "      <th>return_period</th>\n",
       "      <th>year</th>\n",
       "    </tr>\n",
       "    <tr>\n",
       "      <th>D</th>\n",
       "      <th></th>\n",
       "      <th></th>\n",
       "      <th></th>\n",
       "      <th></th>\n",
       "      <th></th>\n",
       "      <th></th>\n",
       "    </tr>\n",
       "  </thead>\n",
       "  <tbody>\n",
       "    <tr>\n",
       "      <th>1986-12-12 09:00:00</th>\n",
       "      <td>1</td>\n",
       "      <td>15374.730535</td>\n",
       "      <td>15374.730535</td>\n",
       "      <td>0.995763</td>\n",
       "      <td>1.004255</td>\n",
       "      <td>1986</td>\n",
       "    </tr>\n",
       "    <tr>\n",
       "      <th>1997-08-11 20:00:00</th>\n",
       "      <td>2</td>\n",
       "      <td>15375.203642</td>\n",
       "      <td>15375.203642</td>\n",
       "      <td>0.991525</td>\n",
       "      <td>1.008547</td>\n",
       "      <td>1997</td>\n",
       "    </tr>\n",
       "    <tr>\n",
       "      <th>2010-02-15 14:00:00</th>\n",
       "      <td>3</td>\n",
       "      <td>15412.242017</td>\n",
       "      <td>15412.242017</td>\n",
       "      <td>0.987288</td>\n",
       "      <td>1.012876</td>\n",
       "      <td>2010</td>\n",
       "    </tr>\n",
       "    <tr>\n",
       "      <th>1997-07-19 00:00:00</th>\n",
       "      <td>4</td>\n",
       "      <td>15446.634678</td>\n",
       "      <td>15446.634678</td>\n",
       "      <td>0.983051</td>\n",
       "      <td>1.017241</td>\n",
       "      <td>1997</td>\n",
       "    </tr>\n",
       "    <tr>\n",
       "      <th>1987-08-13 10:00:00</th>\n",
       "      <td>5</td>\n",
       "      <td>15468.672706</td>\n",
       "      <td>15468.672706</td>\n",
       "      <td>0.978814</td>\n",
       "      <td>1.021645</td>\n",
       "      <td>1987</td>\n",
       "    </tr>\n",
       "  </tbody>\n",
       "</table>\n",
       "</div>"
      ],
      "text/plain": [
       "                     rank          Qstl         Qdftl      prob  \\\n",
       "D                                                                 \n",
       "1986-12-12 09:00:00     1  15374.730535  15374.730535  0.995763   \n",
       "1997-08-11 20:00:00     2  15375.203642  15375.203642  0.991525   \n",
       "2010-02-15 14:00:00     3  15412.242017  15412.242017  0.987288   \n",
       "1997-07-19 00:00:00     4  15446.634678  15446.634678  0.983051   \n",
       "1987-08-13 10:00:00     5  15468.672706  15468.672706  0.978814   \n",
       "\n",
       "                     return_period  year  \n",
       "D                                         \n",
       "1986-12-12 09:00:00       1.004255  1986  \n",
       "1997-08-11 20:00:00       1.008547  1997  \n",
       "2010-02-15 14:00:00       1.012876  2010  \n",
       "1997-07-19 00:00:00       1.017241  1997  \n",
       "1987-08-13 10:00:00       1.021645  1987  "
      ]
     },
     "execution_count": 185,
     "metadata": {},
     "output_type": "execute_result"
    }
   ],
   "source": [
    "sediments_sorted.head()#['year'] = "
   ]
  },
  {
   "cell_type": "code",
   "execution_count": 184,
   "id": "b2c58fdc-0cc7-48aa-858a-2034277a3fdc",
   "metadata": {},
   "outputs": [],
   "source": [
    "sediments_sorted['year'] = sediments_sorted.index.year"
   ]
  },
  {
   "cell_type": "code",
   "execution_count": 195,
   "id": "50907d3a-56a9-4dc8-9fe6-7a428e140747",
   "metadata": {},
   "outputs": [
    {
     "data": {
      "image/png": "[encoded data removed]",
      "text/plain": [
       "<Figure size 792x432 with 2 Axes>"
      ]
     },
     "metadata": {
      "needs_background": "light"
     },
     "output_type": "display_data"
    }
   ],
   "source": [
    "# sediments_sorted\n",
    "\n",
    "# Compare both datasets\n",
    "fig, ax = plt.subplots(figsize=(11, 6))\n",
    "\n",
    "a=ax.scatter(x=sediments_sorted.Qdftl.values,\n",
    "           y=sediments_sorted.prob.values, c = sediments_sorted.Qstl, cmap = 'Blues')\n",
    "\n",
    "plt.colorbar(a)\n",
    "ax.set_xscale('log')\n",
    "ax.set_yscale('log')\n"
   ]
  },
  {
   "cell_type": "code",
   "execution_count": 152,
   "id": "9127f966-feae-4267-824a-684e197c03e1",
   "metadata": {},
   "outputs": [
    {
     "data": {
      "text/plain": [
       "<AxesSubplot:>"
      ]
     },
     "execution_count": 152,
     "metadata": {},
     "output_type": "execute_result"
    }
   ],
   "source": [
    "ax"
   ]
  },
  {
   "cell_type": "code",
   "execution_count": null,
   "id": "30ea82af-b8d0-4775-8193-9e275c0e4696",
   "metadata": {},
   "outputs": [],
   "source": []
  }
 ],
 "metadata": {
  "kernelspec": {
   "display_name": "Python [conda env:sedcas] *",
   "language": "python",
   "name": "conda-env-sedcas-py"
  },
  "language_info": {
   "codemirror_mode": {
    "name": "ipython",
    "version": 3
   },
   "file_extension": ".py",
   "mimetype": "text/x-python",
   "name": "python",
   "nbconvert_exporter": "python",
   "pygments_lexer": "ipython3",
   "version": "3.9.7"
  }
 },
 "nbformat": 4,
 "nbformat_minor": 5
}
