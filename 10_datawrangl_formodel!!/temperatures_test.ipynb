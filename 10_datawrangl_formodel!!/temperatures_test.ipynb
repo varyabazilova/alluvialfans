{
 "cells": [
  {
   "cell_type": "code",
   "execution_count": 10,
   "id": "59f5da41-0727-4842-ac0c-33207d8fc7c2",
   "metadata": {},
   "outputs": [],
   "source": [
    "import xarray as xr\n",
    "import pandas as pd\n",
    "import geopandas as gpd\n",
    "import glob\n",
    "import os\n",
    "\n",
    "import matplotlib.pyplot as plt"
   ]
  },
  {
   "cell_type": "markdown",
   "id": "716be49b-6a19-47cf-a70f-632b7c9528a7",
   "metadata": {},
   "source": [
    "in this notebook varya is trying to calculate the climatic (temperature) parameters for the centroid (wgs) coordinates of the catchments \n",
    "\n",
    "#### to do here (for the \"last\" 30 years 1990-2021): \n",
    "\n",
    "- read the table with coordinates \n",
    "- select only needed points in each file (loop through) \n",
    "- calculate the thing (loop? - when needed i guess) "
   ]
  },
  {
   "cell_type": "code",
   "execution_count": null,
   "id": "5fe7aef9-c78c-49f9-bf06-82859ac6a45b",
   "metadata": {},
   "outputs": [],
   "source": [
    "# # temperature parameters of interest: \n",
    "\n",
    "# 1. Mean annual \n",
    "# 2. Jan temp mean \n",
    "# 3. July temp mean \n",
    "# 4. How many times over 0 - frost thaw cycles(?)  \n",
    "# 5. Mean monsoon (no monsoon?)  \n",
    "# 6. Monthly average -> cv (std/average) \n",
    "# 7. Permafrost -> part of the year that is lower then -2 (or smth) - or some measure to convert air temp to surface temp \n",
    "# 8. (Or part of the year when its close) \n",
    "\n",
    "\n",
    "\n",
    "\n",
    "# # 1. get coordinates:\n",
    "# '''(NB: be carefil with x and y) \n",
    "# x - 85, y - 28\n",
    "# longitude - 85, latitude - 28 ''' \n",
    "\n",
    "# lats = catchments.y_wgs\n",
    "# lons = catchments.x_wgs\n"
   ]
  },
  {
   "cell_type": "markdown",
   "id": "0b1a8376-645d-4a4f-bf1b-afdbeab57038",
   "metadata": {},
   "source": [
    "### 0. catchments and coordinates"
   ]
  },
  {
   "cell_type": "code",
   "execution_count": 2,
   "id": "dc1b7602-fc8d-4d5f-973b-31a26ee8a57f",
   "metadata": {},
   "outputs": [],
   "source": [
    "table = pd.read_csv('morphometrical_params.csv', index_col = 0)\n",
    "table_coords = table[['x_wgs', 'y_wgs']]"
   ]
  },
  {
   "cell_type": "code",
   "execution_count": 3,
   "id": "1bbd1ad2-2789-49ca-9815-92e8b13319cd",
   "metadata": {},
   "outputs": [],
   "source": [
    "# table"
   ]
  },
  {
   "cell_type": "code",
   "execution_count": 4,
   "id": "1b500793-9abb-43bd-9797-2f5d41a056c5",
   "metadata": {},
   "outputs": [
    {
     "data": {
      "text/html": [
       "<div>\n",
       "<style scoped>\n",
       "    .dataframe tbody tr th:only-of-type {\n",
       "        vertical-align: middle;\n",
       "    }\n",
       "\n",
       "    .dataframe tbody tr th {\n",
       "        vertical-align: top;\n",
       "    }\n",
       "\n",
       "    .dataframe thead th {\n",
       "        text-align: right;\n",
       "    }\n",
       "</style>\n",
       "<table border=\"1\" class=\"dataframe\">\n",
       "  <thead>\n",
       "    <tr style=\"text-align: right;\">\n",
       "      <th></th>\n",
       "      <th>x_wgs</th>\n",
       "      <th>y_wgs</th>\n",
       "    </tr>\n",
       "  </thead>\n",
       "  <tbody>\n",
       "    <tr>\n",
       "      <th>0</th>\n",
       "      <td>85.622</td>\n",
       "      <td>28.207</td>\n",
       "    </tr>\n",
       "    <tr>\n",
       "      <th>1</th>\n",
       "      <td>85.617</td>\n",
       "      <td>28.205</td>\n",
       "    </tr>\n",
       "    <tr>\n",
       "      <th>2</th>\n",
       "      <td>85.591</td>\n",
       "      <td>28.205</td>\n",
       "    </tr>\n",
       "    <tr>\n",
       "      <th>3</th>\n",
       "      <td>85.603</td>\n",
       "      <td>28.226</td>\n",
       "    </tr>\n",
       "    <tr>\n",
       "      <th>4</th>\n",
       "      <td>85.591</td>\n",
       "      <td>28.184</td>\n",
       "    </tr>\n",
       "  </tbody>\n",
       "</table>\n",
       "</div>"
      ],
      "text/plain": [
       "    x_wgs   y_wgs\n",
       "0  85.622  28.207\n",
       "1  85.617  28.205\n",
       "2  85.591  28.205\n",
       "3  85.603  28.226\n",
       "4  85.591  28.184"
      ]
     },
     "execution_count": 4,
     "metadata": {},
     "output_type": "execute_result"
    }
   ],
   "source": [
    "table_coords.head()#.columns"
   ]
  },
  {
   "cell_type": "markdown",
   "id": "0c07c11d-b93e-461e-bb03-7f1751c685a3",
   "metadata": {},
   "source": [
    "#### deal with .nc files first: create a file with subset of points for each year. deal with them after"
   ]
  },
  {
   "cell_type": "code",
   "execution_count": null,
   "id": "a8fd717b-149b-41f9-a79f-0a60a5da5b6a",
   "metadata": {},
   "outputs": [],
   "source": [
    "# %%time\n",
    "\n",
    "# # loop through:\n",
    "# # 1. select: \n",
    "\n",
    "# # check coords: what is x what is y\n",
    "\n",
    "# # catch: x - 26 y - 28 \n",
    "# # (x = median_t2m_regions.longitude, y = median_t2m_regions.latitude,\n",
    "\n",
    "# # open one .nc to see whats going on \n",
    "\n",
    "# lats = table_coords.y_wgs\n",
    "# lons = table_coords.x_wgs\n",
    "\n",
    "# testfile = xr.open_dataset('/Users/varyabazilova/Desktop/era5land/temperature2m/temp_2m_year2021.nc')\n",
    "# ds_sel = testfile.sel(longitude=lons, latitude=lats, method='nearest')#.mean(dim = 'time')\n",
    "# ds_sel.to_netcdf('/Users/varyabazilova/Desktop/era5land/temperature2m/temp2m_2021_points.nc')\n",
    "# # ds_sel.mean(dim = 'time')\n"
   ]
  },
  {
   "cell_type": "markdown",
   "id": "51fc42fb-4d6d-4414-b73d-01dc74dfbcaf",
   "metadata": {},
   "source": [
    "#### read new point files "
   ]
  },
  {
   "cell_type": "code",
   "execution_count": 5,
   "id": "60500a5e-b188-43b7-8f54-4fe041eda8ec",
   "metadata": {},
   "outputs": [
    {
     "name": "stdout",
     "output_type": "stream",
     "text": [
      "CPU times: user 266 ms, sys: 1.08 s, total: 1.35 s\n",
      "Wall time: 12 s\n"
     ]
    }
   ],
   "source": [
    "%%time\n",
    "points = xr.open_mfdataset('/Users/varyabazilova/Desktop/era5land/points_subset_t2m/*.nc')"
   ]
  },
  {
   "cell_type": "markdown",
   "id": "dcf44a80-57a0-4694-bb4f-92e7d702a7c0",
   "metadata": {},
   "source": [
    "#### mean anual temperature"
   ]
  },
  {
   "cell_type": "code",
   "execution_count": 6,
   "id": "204154a6-9648-4f23-bb81-a08f83bfdf80",
   "metadata": {},
   "outputs": [],
   "source": [
    "# just mean of all data:\n",
    "\n",
    "mean = points.mean(dim='time')\n",
    "# "
   ]
  },
  {
   "cell_type": "code",
   "execution_count": 7,
   "id": "e769701c-5e21-40f7-b4f8-a2e44956ea44",
   "metadata": {},
   "outputs": [],
   "source": [
    "meant2m = mean.t2m"
   ]
  },
  {
   "cell_type": "code",
   "execution_count": 9,
   "id": "635daf0a-5528-4286-ad12-17da59df357e",
   "metadata": {},
   "outputs": [
    {
     "data": {
      "text/plain": [
       "(742, 742)"
      ]
     },
     "execution_count": 9,
     "metadata": {},
     "output_type": "execute_result"
    }
   ],
   "source": [
    "meant2m.shape"
   ]
  },
  {
   "cell_type": "code",
   "execution_count": null,
   "id": "cd444eb8-6373-4c18-bd4c-5f0a1d89f281",
   "metadata": {},
   "outputs": [],
   "source": []
  },
  {
   "cell_type": "code",
   "execution_count": null,
   "id": "4e3f48d9-3760-4dec-a469-52397c27b940",
   "metadata": {},
   "outputs": [],
   "source": [
    "%%time\n",
    "\n",
    "path = '/Users/varyabazilova/Desktop/era5land/points_subset_t2m'\n",
    "\n",
    "# compute mean for each year and then means among them all \n",
    "\n",
    "# mean_annual = xr.Dataset()\n",
    "means = pd.DataFrame()\n",
    "\n",
    "for f in os.listdir(path):\n",
    "    # read every file: \n",
    "    ds = xr.open_dataset(os.path.join(path, f), decode_coords=\"all\")\n",
    "    # select the coordinates: \n",
    "    dsmean = ds.mean(dim = 'time')\n",
    "    # to df:\n",
    "    df = dsmean.to_dataframe()#.drop_duplicates()\n",
    "    # append:\n",
    "    means = means.append(df)\n",
    "    print(df)"
   ]
  },
  {
   "cell_type": "code",
   "execution_count": null,
   "id": "dffd4d06-164e-4214-88fb-3abb153b6ddd",
   "metadata": {},
   "outputs": [],
   "source": [
    "%%time\n",
    "# read all files - years: 1990-2021\n",
    "\n",
    "\n",
    "\n",
    "path = '/Users/varyabazilova/Desktop/era5land/temperature2m/'\n",
    "\n",
    "\n",
    "subset = xr.Dataset()\n",
    "\n",
    "for f in os.listdir(path):\n",
    "    # read every file: \n",
    "    ds = xr.open_dataset(os.path.join(path, f), decode_coords=\"all\")\n",
    "    # select the coordinates: \n",
    "    ds_sel = ds.sel(longitude=lons, latitude=lats, method='nearest')\n",
    "    # merge all back together \n",
    "    subset = xr.merge([subset, ds_sel])\n"
   ]
  },
  {
   "cell_type": "code",
   "execution_count": null,
   "id": "58a3aa50-0232-4b67-9ae7-fddcb1083852",
   "metadata": {},
   "outputs": [],
   "source": [
    "# mean -> to scv: \n",
    "subset = subset.mean(dim = 'time') \n",
    "df = subset.to_dataframe()\n",
    "df.to_csv('/Users/varyabazilova/Desktop/era5land/temperature2m/annual_mean.csv')"
   ]
  },
  {
   "cell_type": "code",
   "execution_count": null,
   "id": "79ba58bb-e50f-4923-beac-0156ccb9afae",
   "metadata": {},
   "outputs": [],
   "source": [
    "# file = xr.open_dataset('/Users/varyabazilova/Desktop/era5land/temperature2m/temperature_2m_1960.nc', decode_coords=\"all\")"
   ]
  },
  {
   "cell_type": "code",
   "execution_count": null,
   "id": "a0a651cd-4d1a-4f82-8493-b34bf163352a",
   "metadata": {},
   "outputs": [],
   "source": [
    "# file "
   ]
  },
  {
   "cell_type": "code",
   "execution_count": null,
   "id": "eeac9ce5-7f1e-46eb-93c3-0045d14367e0",
   "metadata": {},
   "outputs": [],
   "source": [
    "# select things \n",
    "\n",
    "# calculate things \n",
    "\n",
    "# iterate to save to csv (see other notebook where you did that) "
   ]
  },
  {
   "cell_type": "code",
   "execution_count": null,
   "id": "886f689a-65ae-4f1b-b2d7-98a05bd485cf",
   "metadata": {},
   "outputs": [],
   "source": []
  }
 ],
 "metadata": {
  "kernelspec": {
   "display_name": "Python 3 (ipykernel)",
   "language": "python",
   "name": "python3"
  },
  "language_info": {
   "codemirror_mode": {
    "name": "ipython",
    "version": 3
   },
   "file_extension": ".py",
   "mimetype": "text/x-python",
   "name": "python",
   "nbconvert_exporter": "python",
   "pygments_lexer": "ipython3",
   "version": "3.7.11"
  }
 },
 "nbformat": 4,
 "nbformat_minor": 5
}
