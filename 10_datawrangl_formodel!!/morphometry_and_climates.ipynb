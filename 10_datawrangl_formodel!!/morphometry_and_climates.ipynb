{
 "cells": [
  {
   "cell_type": "code",
   "execution_count": null,
   "id": "8bdaa085-7fde-4392-9dd2-28555cfbbd54",
   "metadata": {},
   "outputs": [],
   "source": [
    "import pandas as pd\n",
    "import numpy as np\n",
    "import matplotlib.pyplot as plt\n",
    "import xarray as xr\n",
    "import seaborn as sns\n",
    "import os\n",
    "from glob import glob\n"
   ]
  },
  {
   "cell_type": "code",
   "execution_count": null,
   "id": "fc117ac9-92c5-4211-9c97-60bd10e9e4c8",
   "metadata": {},
   "outputs": [],
   "source": [
    "# read the existing table: \n",
    "\n",
    "table = pd.read_csv('/Users/varyabazilova/Desktop/alluvial_fans/dem_all/all_points_so_far/11_zonalstats_new/table_catchemnts_from_qgis.csv', index_col = 0)\n"
   ]
  },
  {
   "cell_type": "code",
   "execution_count": null,
   "id": "98fc8ceb-a666-42e8-8f90-05852b709b6e",
   "metadata": {},
   "outputs": [],
   "source": [
    "table = table.drop('geometry', axis = 1)"
   ]
  },
  {
   "cell_type": "code",
   "execution_count": null,
   "id": "b11431f5-a59c-4d6a-9fad-1993aa91efba",
   "metadata": {},
   "outputs": [],
   "source": [
    "# table.drop_duplicates()"
   ]
  },
  {
   "cell_type": "markdown",
   "id": "3cdfad23-0598-4af2-8e89-fe4b69749edb",
   "metadata": {},
   "source": [
    "### morphometric parameters from tjalling's book chapter \n",
    "\n"
   ]
  },
  {
   "cell_type": "code",
   "execution_count": null,
   "id": "05a9afb0-8315-47e9-b2c4-7dc322207f18",
   "metadata": {},
   "outputs": [],
   "source": [
    "# ruggedness ratio\n",
    "# Rh = Rd * H (H = range elevation) - requires length of the drainage \n"
   ]
  },
  {
   "cell_type": "code",
   "execution_count": null,
   "id": "42d53b43-2a8e-452d-b531-3a23c25bd3fa",
   "metadata": {},
   "outputs": [],
   "source": [
    "# melton index \n",
    "# M = H *A**0.5 (H = range elevation)\n",
    "\n",
    "table['M'] = table.range_elevation * (table.area_m ** 0.5)"
   ]
  },
  {
   "cell_type": "code",
   "execution_count": null,
   "id": "befc49a6-3aed-42d8-956e-f5e9d63b58e5",
   "metadata": {},
   "outputs": [],
   "source": [
    "# circularity ratio\n",
    "# Rc = 4piA/P^2\n",
    "# numpy.pi#\n",
    "\n",
    "\n",
    "table['Rc'] = (4 * np.pi * table.area_m ) / (table.perimeter ** 2)"
   ]
  },
  {
   "cell_type": "code",
   "execution_count": null,
   "id": "7b9b6961-61dd-4bc2-a8c4-2f2feddbe3fa",
   "metadata": {},
   "outputs": [],
   "source": [
    "# compactness coefficient  \n",
    "# Cc = 0.2841* (P/A**0.5)\n",
    "\n",
    "table['Cc'] = 0.2841 * (table.perimeter / (table.area_m**0.5))\n",
    "\n"
   ]
  },
  {
   "cell_type": "code",
   "execution_count": null,
   "id": "89baf7e0-f0e6-48ec-9975-63769e2cd032",
   "metadata": {},
   "outputs": [],
   "source": [
    "# delete geometry\n",
    "\n",
    "# table = table.drop('geometry', axis =1)"
   ]
  },
  {
   "cell_type": "code",
   "execution_count": null,
   "id": "5fd75090-0667-42b9-9ad4-2a9e94908d01",
   "metadata": {},
   "outputs": [],
   "source": [
    "# table.to_csv('morphometrical_params.csv')"
   ]
  },
  {
   "cell_type": "markdown",
   "id": "2e4fff0d-db15-4394-9c47-aa59d51f9c57",
   "metadata": {},
   "source": [
    "## correlations and some related plots"
   ]
  },
  {
   "cell_type": "code",
   "execution_count": null,
   "id": "c1176f5a-2e75-435d-9c10-c597c524f39c",
   "metadata": {},
   "outputs": [],
   "source": [
    "table_sub = table[['Name', 'x_centroid', 'y_centroid', 'area_m', 'perimeter',\n",
    "       'glaciersum', 'mean_elevation', 'std_elevation',\n",
    "       'min_elevation', 'max_elevation', 'range_elevation',\n",
    "       'variance_elevation','region', 'mean_slope',\n",
    "       'median_slope', 'std_slope', 'min_slope', 'max_slope', 'range_slope',\n",
    "       'variance_slope', 'glarea_percent', 'glacier', 'Rc',\n",
    "       'Cc', 'M']]\n",
    "\n",
    "table_sub_corr = table_sub.corr()\n"
   ]
  },
  {
   "cell_type": "code",
   "execution_count": null,
   "id": "c1fbba86-2171-4541-817d-5c2e30ba19cd",
   "metadata": {},
   "outputs": [],
   "source": [
    "# catchments and streams \n",
    "\n",
    "plt.figure(figsize=(10, 10))\n",
    "\n",
    "# mask for the upper triangle\n",
    "mask = np.triu(np.ones_like(table_sub_corr, dtype=bool))\n",
    "# color palette\n",
    "cmap = sns.diverging_palette(230, 20, as_cmap=True)\n",
    "# heatmap \n",
    "sns.heatmap(table_sub_corr, cmap=cmap, mask = mask)\n",
    "# sns.heatmap(catchments_corr, cmap=cmap)\n",
    "plt.title('various parameters', fontsize = 15)\n",
    "\n",
    "# plt.savefig('various_params_corr.png', dpi = 300, bbox_inches='tight')"
   ]
  },
  {
   "cell_type": "markdown",
   "id": "21c5cfc0-cb63-4304-ae1e-80a5024b2479",
   "metadata": {},
   "source": [
    "### how about grouped by 'name' or 'region' plots? "
   ]
  },
  {
   "cell_type": "code",
   "execution_count": null,
   "id": "9191f137-9747-418d-9b8a-4df370e4d795",
   "metadata": {},
   "outputs": [],
   "source": [
    "# table_sub2 = table[['Name', 'area_m', 'perimeter',\n",
    "       # 'glaciersum', 'mean_elevation', 'std_elevation',\n",
    "       # 'min_elevation', 'max_elevation', 'range_elevation',\n",
    "       # 'variance_elevation', 'mean_slope',\n",
    "       # 'median_slope', 'std_slope', 'min_slope', 'max_slope', 'range_slope',\n",
    "       # 'variance_slope', 'glarea_percent', 'glacier', 'Rc',\n",
    "       # 'Cc', 'M']]\n",
    "# \n",
    "# g = sns.PairGrid(table_sub2, hue = 'Name')\n",
    "# \n",
    "# g.map_diag(sns.histplot)\n",
    "# g.map_offdiag(sns.scatterplot)\n",
    "# \n",
    "# \n",
    "# plt.savefig('params_scatter.png', dpi = 300, bbox_inches = 'tight')\n"
   ]
  },
  {
   "cell_type": "code",
   "execution_count": null,
   "id": "8dbaa182-b45a-4221-ac68-5b6d6e2fdbae",
   "metadata": {},
   "outputs": [],
   "source": [
    "## test with fewer params \n",
    "\n",
    "# table_sub2 = table[['Name', 'area_m', 'perimeter',\n",
    "#        'glarea_percent', 'mean_elevation', 'M', 'Rc',\n",
    "#        'Cc', 'mean_slope', 'range_elevation']]\n",
    "\n",
    "# g = sns.PairGrid(table_sub2, hue = 'Name')\n",
    "# g.map_diag(sns.histplot)\n",
    "# g.map_offdiag(sns.scatterplot)\n",
    "\n",
    "# plt.savefig('params_scatter_sub.png', dpi = 300, bbox_inches = 'tight')\n",
    "\n"
   ]
  },
  {
   "cell_type": "code",
   "execution_count": null,
   "id": "f7d2dc32-fa3d-45e8-bc12-5fd99889e689",
   "metadata": {},
   "outputs": [],
   "source": [
    "# table_sub2 = table[['Name', 'area_m', 'perimeter',\n",
    "#        'glarea_percent', 'mean_elevation', 'M', 'Rc',\n",
    "#        'Cc', 'mean_slope', 'range_elevation', 'region']]\n",
    "\n",
    "# g = sns.PairGrid(table_sub2, hue = 'region')\n",
    "# g.map_diag(sns.histplot)\n",
    "# g.map_offdiag(sns.scatterplot)\n",
    "\n"
   ]
  },
  {
   "cell_type": "code",
   "execution_count": null,
   "id": "abc49202-fcfb-43ee-af8f-024859e38e2e",
   "metadata": {},
   "outputs": [],
   "source": [
    "# make loop to save histograms for each parameter dor different 'name' (ff/df) "
   ]
  },
  {
   "cell_type": "code",
   "execution_count": null,
   "id": "f09690e4-fb9f-43f0-b311-eed2537ca022",
   "metadata": {},
   "outputs": [],
   "source": [
    "table.head()"
   ]
  },
  {
   "cell_type": "markdown",
   "id": "6e5110f3-7ac0-416f-8621-b9b1fe679e74",
   "metadata": {},
   "source": [
    "# climate"
   ]
  },
  {
   "cell_type": "code",
   "execution_count": null,
   "id": "a282f49f-3678-4516-bd8e-72bd9aa07f3a",
   "metadata": {},
   "outputs": [],
   "source": [
    "## read all temperatures\n",
    "\n",
    "df = pd.read_csv('/Users/varyabazilova/Desktop/alluvial_fans/dem_all/all_points_so_far/10_datawrangl_formodel!!/morphometrical_params.csv', sep = ';', index_col = 0)\n",
    "df = df[df.target.isin([1,0])]"
   ]
  },
  {
   "cell_type": "code",
   "execution_count": null,
   "id": "7cb3a350-77ce-42e2-8c34-dc81df66b8cd",
   "metadata": {},
   "outputs": [],
   "source": [
    "len(df.drop_duplicates())"
   ]
  },
  {
   "cell_type": "markdown",
   "id": "e1224403-bb29-4e80-8376-1e1bf794b4b5",
   "metadata": {},
   "source": [
    "### mean annual temperature "
   ]
  },
  {
   "cell_type": "code",
   "execution_count": null,
   "id": "dd967c03-6cc9-4901-b9d8-0cd8ed8a600e",
   "metadata": {},
   "outputs": [],
   "source": [
    "# ## -------- mean of all - for one file: \n",
    "\n",
    "# # read data \n",
    "# climatetemp = xr.open_mfdataset('/Users/varyabazilova/Desktop/era5land/points_coordinates_daymean/*.nc')\n",
    "# # climatetemp = climatetemp.drop(labels='time_bnds')\n",
    "\n",
    "# # lats = table.y_wgs\n",
    "# # lons = table.x_wgs\n",
    "# # tempsel = climatemp.sel(\n",
    "\n",
    "# # mean across time:\n",
    "# climatetemp_mean = climatetemp.mean(dim = 'time')\n",
    "# # to df\n",
    "# mean_df = climatetemp_mean.to_dataframe().drop_duplicates().reset_index()\n",
    "# # rename things\n",
    "# mean_df1 = mean_df.rename(columns = {'longitude':'x_wgs', 'latitude':'y_wgs'})\n",
    "# # merge with the rest of the data on the coordinates\n",
    "# dfclim = df.merge(mean_df1, on=['x_wgs', 'y_wgs'], how='left')#.drop_duplicates()\n",
    "\n"
   ]
  },
  {
   "cell_type": "code",
   "execution_count": null,
   "id": "9d1e6bca-f721-4113-a01f-15080d0e4ab2",
   "metadata": {},
   "outputs": [],
   "source": [
    "%%time\n",
    "# calculate mean annual temperature from daily data for each year: \n",
    "\n",
    "path = '/Users/varyabazilova/Desktop/era5land/daymean_temp'\n",
    "\n",
    "meanannual = xr.Dataset()\n",
    "\n",
    "for f in os.listdir(path):\n",
    "    # read every file: \n",
    "    ds = xr.open_dataset(os.path.join(path, f), decode_coords=\"all\")\n",
    "    # drop useless dimention\n",
    "    ds = ds.drop(labels='time_bnds')\n",
    "    # group by -> resample to annual \n",
    "    dsmean = ds.groupby('time.year').mean('time')\n",
    "    # print(dsmean)\n",
    "    # merge \n",
    "    meanannual = xr.merge([meanannual, dsmean])\n",
    "\n",
    "# print(meanannual)\n",
    "\n",
    "meanannual_mean = meanannual.mean(dim='year')"
   ]
  },
  {
   "cell_type": "code",
   "execution_count": null,
   "id": "c1b1f8ea-7df6-44a6-8455-3866ab608d32",
   "metadata": {},
   "outputs": [],
   "source": [
    "# select coordinates first \n",
    "\n",
    "lats = df.y_wgs\n",
    "lons = df.x_wgs\n",
    "meanannual_mean_sel = meanannual_mean.sel(latitude = lats, longitude = lons, method = 'nearest')\n",
    "\n",
    "# overwrite the coordinates for them to match: (ovewrite dimentions)\n",
    "meanannual_mean_sel['longitude'] = lons.values # x_wgs\n",
    "meanannual_mean_sel['latitude']= lats.values   # y_wgs"
   ]
  },
  {
   "cell_type": "code",
   "execution_count": null,
   "id": "71325e44-8265-4ed1-a3ae-a33e82e4985f",
   "metadata": {},
   "outputs": [],
   "source": [
    "# meanannual_mean_sel.longitude.values - df.x_wgs.values\n"
   ]
  },
  {
   "cell_type": "code",
   "execution_count": null,
   "id": "20e0c40f-0910-47be-ac80-2e279e18aaff",
   "metadata": {},
   "outputs": [],
   "source": [
    "%%time\n",
    "# append these values to the table: \n",
    "meanannual_mean_sel_df = meanannual_mean_sel.to_dataframe()\n",
    "\n",
    "len(meanannual_mean_sel_df) **(0.5) "
   ]
  },
  {
   "cell_type": "code",
   "execution_count": null,
   "id": "8962a39c-97e5-4249-ad58-2118d20b0a54",
   "metadata": {},
   "outputs": [],
   "source": [
    "meanannual_mean_sel_df = meanannual_mean_sel_df.reset_index()\n"
   ]
  },
  {
   "cell_type": "code",
   "execution_count": null,
   "id": "397de4e6-24f8-4e48-844d-729f8a608d12",
   "metadata": {},
   "outputs": [],
   "source": [
    "len(meanannual_mean_sel_df) **(0.5) \n",
    "\n",
    "meanannual_mean_sel_df.head()\n",
    "\n",
    "# df"
   ]
  },
  {
   "cell_type": "code",
   "execution_count": null,
   "id": "699d84c8-a3d3-4669-86c1-c37504d4502c",
   "metadata": {},
   "outputs": [],
   "source": [
    "# rename things\n",
    "meanannual_mean_sel_df1 = meanannual_mean_sel_df.rename(columns = {'longitude':'x_wgs', 'latitude':'y_wgs'})"
   ]
  },
  {
   "cell_type": "markdown",
   "id": "188d3fda-93c9-4c63-9ddd-88f66367190b",
   "metadata": {},
   "source": [
    "### dfclim - new table with data"
   ]
  },
  {
   "cell_type": "code",
   "execution_count": null,
   "id": "bea109bc-204a-4e0f-904e-eb08b2c85f6d",
   "metadata": {},
   "outputs": [],
   "source": [
    "# merge with the rest of the data on the coordinates\n",
    "dfclim = df.merge(meanannual_mean_sel_df1, on=['x_wgs', 'y_wgs'], how='left').drop_duplicates()\n",
    "\n",
    "# convert from K to C \n",
    "dfclim['t2m'] = dfclim.t2m -273.15\n",
    "\n",
    "dfclim = dfclim.rename(columns = {'t2m':'mean_annual_T'}) "
   ]
  },
  {
   "cell_type": "markdown",
   "id": "8044088f-935b-4dba-82ba-1c84c57a27cf",
   "metadata": {},
   "source": [
    "### mean jan and june temp (coldest month and warmenst month)"
   ]
  },
  {
   "cell_type": "code",
   "execution_count": null,
   "id": "9dee4855-4efd-469b-9dcb-c46fac7446f4",
   "metadata": {},
   "outputs": [],
   "source": [
    "%%time\n",
    "# calculate mean annual temperature from daily data for each year: \n",
    "\n",
    "path = '/Users/varyabazilova/Desktop/era5land/daymean_temp'\n",
    "\n",
    "meanmonth = xr.Dataset()\n",
    "\n",
    "for f in os.listdir(path):\n",
    "    # read every file: \n",
    "    ds = xr.open_dataset(os.path.join(path, f), decode_coords=\"all\")\n",
    "    # drop useless dimention\n",
    "    ds = ds.drop(labels='time_bnds')\n",
    "    # group by -> resample to annual \n",
    "    # dsmean = ds.groupby('time.month').mean('time')\n",
    "    dsmean = ds.resample(time=\"1MS\").mean(dim=\"time\")\n",
    "    # print(dsmean)\n",
    "    # merge \n",
    "    meanmonth = xr.merge([meanmonth, dsmean])\n",
    "\n",
    "# print(meanmonth)\n",
    "\n",
    "# meanannual_mean = meanannual.mean(dim='year')"
   ]
  },
  {
   "cell_type": "code",
   "execution_count": null,
   "id": "516866d7-b191-4991-a183-594be1a46491",
   "metadata": {},
   "outputs": [],
   "source": [
    "meanmonth = meanmonth.groupby('time.month').mean()\n",
    "meanmonth_jan = meanmonth.sel(month = 1)\n",
    "meanmonth_jul = meanmonth.sel(month = 7)"
   ]
  },
  {
   "cell_type": "code",
   "execution_count": null,
   "id": "6776f5c0-336c-40bf-81d5-b168a4ad97c9",
   "metadata": {},
   "outputs": [],
   "source": [
    "## select coordinates \n",
    "\n",
    "# select coordinates first \n",
    "\n",
    "lats = df.y_wgs\n",
    "lons = df.x_wgs\n",
    "\n",
    "meanmonth_jan_sel = meanmonth_jan.sel(latitude = lats, longitude = lons, method = 'nearest')\n",
    "meanmonth_jul_sel = meanmonth_jul.sel(latitude = lats, longitude = lons, method = 'nearest')\n",
    "\n",
    "\n",
    "# overwrite the coordinates for them to match: (ovewrite dimentions)\n",
    "meanmonth_jan_sel['longitude'] = lons.values # x_wgs\n",
    "meanmonth_jan_sel['latitude']= lats.values   # y_wgs\n",
    "\n",
    "meanmonth_jul_sel['longitude'] = lons.values # x_wgs\n",
    "meanmonth_jul_sel['latitude']= lats.values   # y_wgs\n",
    "\n",
    "\n"
   ]
  },
  {
   "cell_type": "code",
   "execution_count": null,
   "id": "16467fac-aeb0-4129-b858-8587934d603b",
   "metadata": {},
   "outputs": [],
   "source": [
    "%%time\n",
    "## ---- jan -----\n",
    "# to data frame\n",
    "meanmonth_jan_sel_df = meanmonth_jan_sel.to_dataframe().reset_index()\n",
    "#rename:\n",
    "meanmonth_jan_sel_df = meanmonth_jan_sel_df.rename(columns = {'longitude':'x_wgs', 'latitude':'y_wgs'})\n",
    "# convert from K to C \n",
    "meanmonth_jan_sel_df['t2m'] = meanmonth_jan_sel_df.t2m -273.15\n",
    "#rename column: \n",
    "meanmonth_jan_sel_df = meanmonth_jan_sel_df.rename(columns = {'t2m':'mean_jan_T'}) \n",
    "# drop month \n",
    "meanmonth_jan_sel_df = meanmonth_jan_sel_df.drop('month', axis = 1)\n",
    "\n",
    "\n",
    "## ---- july -----\n",
    "meanmonth_jul_sel_df = meanmonth_jul_sel.to_dataframe().reset_index()\n",
    "meanmonth_jul_sel_df = meanmonth_jul_sel_df.rename(columns = {'longitude':'x_wgs', 'latitude':'y_wgs'})\n",
    "meanmonth_jul_sel_df['t2m'] = meanmonth_jul_sel_df.t2m -273.15\n",
    "meanmonth_jul_sel_df = meanmonth_jul_sel_df.rename(columns = {'t2m':'mean_july_T'}) \n",
    "meanmonth_jul_sel_df = meanmonth_jul_sel_df.drop('month', axis = 1)\n",
    "\n",
    "\n",
    "\n"
   ]
  },
  {
   "cell_type": "code",
   "execution_count": null,
   "id": "68a81e01-4776-463d-91d5-acbc36a53448",
   "metadata": {},
   "outputs": [],
   "source": [
    "# meanmonth_jan_sel_df\n",
    "# meanmonth_jul_sel_df"
   ]
  },
  {
   "cell_type": "code",
   "execution_count": null,
   "id": "5a67189c-9e85-4f9e-9a06-c3a312ae7e4b",
   "metadata": {},
   "outputs": [],
   "source": [
    "## merge to the dataframe with other stuff\n",
    "\n",
    "# january\n",
    "dfclim = dfclim.merge(meanmonth_jan_sel_df, on=['x_wgs', 'y_wgs'], how='left').drop_duplicates()\n",
    "# july\n",
    "dfclim = dfclim.merge(meanmonth_jul_sel_df, on=['x_wgs', 'y_wgs'], how='left').drop_duplicates()\n",
    "\n"
   ]
  },
  {
   "cell_type": "code",
   "execution_count": null,
   "id": "38c0313c-087b-4adb-bb8f-e8f7c47a3023",
   "metadata": {},
   "outputs": [],
   "source": [
    "# dfclim"
   ]
  },
  {
   "cell_type": "markdown",
   "id": "af8d89f1-5a34-49ee-88d4-21672f16ced2",
   "metadata": {},
   "source": [
    "## mean temp during monsoon and no-monsoon (rest of the year)\n",
    "\n",
    "### (just choose different months here i guess)"
   ]
  },
  {
   "cell_type": "code",
   "execution_count": null,
   "id": "7b87bf2d-2d9f-425c-85a2-206dc6569df7",
   "metadata": {},
   "outputs": [],
   "source": [
    "# monsoon - april to september\n",
    "# so i need to select only these month\n",
    "# (1) take all daily values -> mean \n",
    "# (2) take mean monthly -? \n",
    "\n",
    "# data.where(data.time.dt.month.isin([4,5,6,7,8,9]), drop=True)"
   ]
  },
  {
   "cell_type": "code",
   "execution_count": null,
   "id": "da858184-96b8-404f-b002-262ac8097068",
   "metadata": {},
   "outputs": [],
   "source": [
    "%%time\n",
    "# calculate mean annual temperature from daily data for each year: \n",
    "\n",
    "path = '/Users/varyabazilova/Desktop/era5land/daymean_temp'\n",
    "\n",
    "dsmonsoon = xr.Dataset()\n",
    "\n",
    "for f in os.listdir(path):\n",
    "    # read every file: \n",
    "    ds = xr.open_dataset(os.path.join(path, f), decode_coords=\"all\")\n",
    "    # drop useless dimention\n",
    "    ds = ds.drop(labels='time_bnds')\n",
    "    # select monsoon month:\n",
    "    dsmons = ds.sel(time=ds.time.dt.month.isin([4,5,6,7,8,9]))\n",
    "    print(dsmons)\n",
    "    # merge \n",
    "    dsmonsoon = xr.merge([dsmonsoon, dsmons])\n",
    "print('alltogether', dsmonsoon)\n",
    "\n",
    "# meanannual_mean = meanannual.mean(dim='year')"
   ]
  },
  {
   "cell_type": "code",
   "execution_count": null,
   "id": "244cd12f-c0a2-4601-985d-8dd14bc10237",
   "metadata": {},
   "outputs": [],
   "source": [
    "%%time\n",
    "dsmonsoon_mean = dsmonsoon.mean(dim = 'time')"
   ]
  },
  {
   "cell_type": "code",
   "execution_count": null,
   "id": "d5738f96-f51f-428b-9810-4c9939e8bf7b",
   "metadata": {},
   "outputs": [],
   "source": [
    "dsmonsoon_mean"
   ]
  },
  {
   "cell_type": "code",
   "execution_count": null,
   "id": "e00a012c-fab7-433f-bb2d-21eeb3603565",
   "metadata": {},
   "outputs": [],
   "source": [
    "# select coordinates: \n",
    "\n",
    "# select coordinates first \n",
    "\n",
    "lats = df.y_wgs\n",
    "lons = df.x_wgs\n",
    "\n",
    "dsmonsoon_mean_sel = dsmonsoon_mean.sel(latitude = lats, longitude = lons, method = 'nearest')\n",
    "\n",
    "\n",
    "# overwrite the coordinates for them to match: (ovewrite dimentions)\n",
    "dsmonsoon_mean_sel['longitude'] = lons.values # x_wgs\n",
    "dsmonsoon_mean_sel['latitude']= lats.values   # y_wgs\n"
   ]
  },
  {
   "cell_type": "code",
   "execution_count": null,
   "id": "b7e6b88a-a492-4b18-8278-b787fdbbd4c2",
   "metadata": {},
   "outputs": [],
   "source": [
    "%%time\n",
    "\n",
    "# to data frame\n",
    "dsmonsoon_mean_sel_df = dsmonsoon_mean_sel.to_dataframe().reset_index()\n",
    "#rename:\n",
    "dsmonsoon_mean_sel_df = dsmonsoon_mean_sel_df.rename(columns = {'longitude':'x_wgs', 'latitude':'y_wgs'})\n",
    "# convert from K to C \n",
    "dsmonsoon_mean_sel_df['t2m'] = dsmonsoon_mean_sel_df.t2m -273.15\n",
    "#rename column: \n",
    "dsmonsoon_mean_sel_df = dsmonsoon_mean_sel_df.rename(columns = {'t2m':'mean_monsoon_T'}) \n",
    "# drop month \n",
    "# meanmonth_jan_sel_df = meanmonth_jan_sel_df.drop('month', axis = 1)\n",
    "\n",
    "\n"
   ]
  },
  {
   "cell_type": "code",
   "execution_count": null,
   "id": "43fbc2fa-5b94-40a9-aaaf-b65266b7399a",
   "metadata": {},
   "outputs": [],
   "source": [
    "dsmonsoon_mean_sel_df.head()"
   ]
  },
  {
   "cell_type": "code",
   "execution_count": null,
   "id": "711f8cf1-5e47-42a8-8ec0-0759f1355802",
   "metadata": {},
   "outputs": [],
   "source": [
    "# merge to the dfclim table on the coordinates:\n",
    "\n",
    "# july\n",
    "dfclim = dfclim.merge(dsmonsoon_mean_sel_df, on=['x_wgs', 'y_wgs'], how='left').drop_duplicates()\n",
    "\n",
    "\n"
   ]
  },
  {
   "cell_type": "code",
   "execution_count": null,
   "id": "ba1cf9f3-699a-496c-9852-048ad2ebe632",
   "metadata": {},
   "outputs": [],
   "source": [
    "# dfclim.to_csv('morph_temperature_monsoon.csv')"
   ]
  },
  {
   "cell_type": "markdown",
   "id": "1418c0f2-ebe7-4d5b-9360-c4711de3d205",
   "metadata": {},
   "source": [
    "### mean annual temp outside of monsoon"
   ]
  },
  {
   "cell_type": "code",
   "execution_count": null,
   "id": "6e22225e-2fa9-4854-8ef9-9716dd2f4bf4",
   "metadata": {},
   "outputs": [],
   "source": [
    "%%time\n",
    "# calculate mean annual temperature from daily data for each year: \n",
    "\n",
    "path = '/Users/varyabazilova/Desktop/era5land/daymean_temp'\n",
    "\n",
    "dsnomonsoon = xr.Dataset()\n",
    "\n",
    "for f in os.listdir(path):\n",
    "    # read every file: \n",
    "    ds = xr.open_dataset(os.path.join(path, f), decode_coords=\"all\")\n",
    "    # drop useless dimention\n",
    "    ds = ds.drop(labels='time_bnds')\n",
    "    # select monsoon month:\n",
    "    dsnomons = ds.sel(time=ds.time.dt.month.isin([1,2,3,10,11,12]))\n",
    "    print(dsnomons)\n",
    "    # merge \n",
    "    dsnomonsoon = xr.merge([dsnomonsoon, dsnomons])\n",
    "print('alltogether', dsnomonsoon)\n",
    "\n",
    "# meanannual_mean = meanannual.mean(dim='year')"
   ]
  },
  {
   "cell_type": "code",
   "execution_count": null,
   "id": "522ccf82-818c-4f5e-8a40-2f9ec4e3a5fe",
   "metadata": {},
   "outputs": [],
   "source": [
    "%%time\n",
    "dsnomonsoon_mean = dsnomonsoon.mean(dim = 'time')"
   ]
  },
  {
   "cell_type": "code",
   "execution_count": null,
   "id": "5c1e9f0b-62bf-412b-baa2-a2fb4ac1066c",
   "metadata": {},
   "outputs": [],
   "source": [
    "%%time\n",
    "# select coordinates: \n",
    "\n",
    "# select coordinates first \n",
    "\n",
    "lats = df.y_wgs\n",
    "lons = df.x_wgs\n",
    "\n",
    "dsnomonsoon_mean_sel = dsnomonsoon_mean.sel(latitude = lats, longitude = lons, method = 'nearest')\n",
    "\n",
    "\n",
    "# overwrite the coordinates for them to match: (ovewrite dimentions)\n",
    "dsnomonsoon_mean_sel['longitude'] = lons.values # x_wgs\n",
    "dsnomonsoon_mean_sel['latitude']= lats.values   # y_wgs\n",
    "\n"
   ]
  },
  {
   "cell_type": "code",
   "execution_count": null,
   "id": "3d59b168-6aa3-4a52-b734-43cb9e1a0d34",
   "metadata": {},
   "outputs": [],
   "source": [
    "%%time\n",
    "\n",
    "# to data frame\n",
    "dsnomonsoon_mean_sel_df = dsnomonsoon_mean_sel.to_dataframe().reset_index()\n",
    "#rename:\n",
    "dsnomonsoon_mean_sel_df = dsnomonsoon_mean_sel_df.rename(columns = {'longitude':'x_wgs', 'latitude':'y_wgs'})\n",
    "# convert from K to C \n",
    "dsnomonsoon_mean_sel_df['t2m'] = dsnomonsoon_mean_sel_df.t2m -273.15\n",
    "#rename column: \n",
    "dsnomonsoon_mean_sel_df = dsnomonsoon_mean_sel_df.rename(columns = {'t2m':'mean_no_monsoon_T'}) \n",
    "# drop month \n",
    "# meanmonth_jan_sel_df = meanmonth_jan_sel_df.drop('month', axis = 1)\n",
    "\n",
    "\n",
    "\n"
   ]
  },
  {
   "cell_type": "code",
   "execution_count": null,
   "id": "be75b513-717b-4b1c-b0ef-334898b96a9b",
   "metadata": {},
   "outputs": [],
   "source": [
    "dsnomonsoon_mean_sel_df.head()"
   ]
  },
  {
   "cell_type": "code",
   "execution_count": null,
   "id": "be43cb47-f277-47c7-9028-42d6c59de900",
   "metadata": {},
   "outputs": [],
   "source": [
    "# merge to the dfclim table on the coordinates:\n",
    "\n",
    "dfclim = dfclim.merge(dsnomonsoon_mean_sel_df, on=['x_wgs', 'y_wgs'], how='left').drop_duplicates()\n",
    "\n"
   ]
  },
  {
   "cell_type": "code",
   "execution_count": null,
   "id": "d3a8f34e-c8c5-49a1-938c-ce2974bf0423",
   "metadata": {},
   "outputs": [],
   "source": [
    "# dfclim.to_csv('morph_temperature_NOmonsoon.csv')\n",
    "# dfclim\n"
   ]
  },
  {
   "cell_type": "code",
   "execution_count": null,
   "id": "6ba56228-dca3-4efb-a3f4-9f18ceb65826",
   "metadata": {},
   "outputs": [],
   "source": [
    "# read new file\n",
    "\n",
    "dfclim = pd.read_csv('/Users/varyabazilova/Desktop/alluvial_fans/dem_all/all_points_so_far/10_datawrangl_formodel!!/morph_temperature_NOmonsoon.csv', sep = ',', index_col = 0)\n",
    "dfclim = dfclim[dfclim.target.isin([1,0])]"
   ]
  },
  {
   "cell_type": "markdown",
   "id": "77eb1fa5-3f69-499d-bcce-9a2c9315cdfa",
   "metadata": {},
   "source": [
    "### crossing 0 count"
   ]
  },
  {
   "cell_type": "code",
   "execution_count": null,
   "id": "080fe30e-8154-4305-b71a-66958cf781d3",
   "metadata": {},
   "outputs": [],
   "source": [
    "# do for one file: \n",
    "\n",
    "file = xr.open_dataset('/Users/varyabazilova/Desktop/era5land/daymean_temp/daymean_temp_1990.nc')\n",
    "# create new time dim - day of year\n",
    "# file['time'] = np.arange(1, 366, 1)\n",
    "# K to C\n",
    "file['t2m'] = file.t2m -273.15\n",
    "\n",
    "# shift t2m on 1 timestep back \n",
    "file['t2m_shift'] = file.t2m.shift(time = 1)\n",
    "# create new var with multiplying t by t-1\n",
    "file['mult'] = file.t2m * file.t2m_shift\n",
    "# count negative numbers - one d data with only this number \n",
    "file['forcount'] = xr.where(file.mult < 0, 1, 0)\n",
    "# sum to get the number of 0 crossing\n",
    "file = file.sum(dim = 'time')"
   ]
  },
  {
   "cell_type": "code",
   "execution_count": null,
   "id": "378e70e6-466c-4650-a39e-23c9e16797ea",
   "metadata": {},
   "outputs": [],
   "source": [
    "%%time\n",
    "# calculate mean annual temperature from daily data for each year: \n",
    "\n",
    "path = '/Users/varyabazilova/Desktop/era5land/daymean_temp'\n",
    "\n",
    "meanannual = xr.Dataset()\n",
    "\n",
    "for f in os.listdir(path):\n",
    "    # read every file: \n",
    "    ds = xr.open_dataset(os.path.join(path, f), decode_coords=\"all\")\n",
    "    # drop useless dimention\n",
    "    ds = ds.drop(labels='time_bnds')\n",
    "    # group by -> resample to annual \n",
    "    dsmean = ds.groupby('time.year').mean('time')\n",
    "    # print(dsmean)\n",
    "    # merge \n",
    "    meanannual = xr.merge([meanannual, dsmean])\n",
    "\n",
    "# print(meanannual)\n",
    "\n",
    "meanannual_mean = meanannual.mean(dim='year')"
   ]
  },
  {
   "cell_type": "code",
   "execution_count": null,
   "id": "fb2d22ab-bc20-4b32-ab74-f129041c2c55",
   "metadata": {},
   "outputs": [],
   "source": []
  },
  {
   "cell_type": "code",
   "execution_count": null,
   "id": "989e51d2-7ccf-4b67-90e2-97e4638968df",
   "metadata": {},
   "outputs": [],
   "source": [
    "%%time\n",
    "# calculate how many times temp timeseries crosses 0 \n",
    "path = '/Users/varyabazilova/Desktop/era5land/daymean_temp'\n",
    "\n",
    "countzeros = xr.Dataset()\n",
    "\n",
    "for f in os.listdir(path):\n",
    "    # read every file: \n",
    "    ds = xr.open_dataset(os.path.join(path, f), decode_coords=\"all\")\n",
    "    # drop useless dimention\n",
    "    ds = ds.drop(labels='time_bnds')\n",
    "    # create new time dim - day of year\n",
    "    # ds['time'] = np.arange(0, 364, 1)\n",
    "    # K to C \n",
    "    ds['t2m'] = ds.t2m -273.15\n",
    "    # shift t2m on 1 timestep back \n",
    "    ds['t2m_shift'] = ds.t2m.shift(time = 1)\n",
    "    ds = ds.fillna(0)\n",
    "    # create new var with multiplying t by t-1\n",
    "    ds['mult'] = ds.t2m * ds.t2m_shift\n",
    "    # if negative = 1, else = 0 \n",
    "    ds['forcount'] = xr.where(ds.mult < 0, 1, 0)\n",
    "    # sum to get the number of 0 crossing\n",
    "    # countsum = ds.sum(dim = 'time')\n",
    "    dscount = ds.groupby('time.year').sum('time')\n",
    "    \n",
    "    print('countsum', dscount)\n",
    "    # merge:\n",
    "    countzeros = xr.merge([countzeros, dscount])\n",
    "\n",
    "print('count of 0 crossing per year', countzeros)\n"
   ]
  },
  {
   "cell_type": "code",
   "execution_count": null,
   "id": "fcf574bc-cb7b-4c11-9f1d-b60713b77e9b",
   "metadata": {},
   "outputs": [],
   "source": [
    "countzerosmean = countzeros.mean(dim = 'year')\n",
    "# countzeros"
   ]
  },
  {
   "cell_type": "code",
   "execution_count": null,
   "id": "dd4f3dd8-b8a2-4376-88af-fc37d39609be",
   "metadata": {},
   "outputs": [],
   "source": [
    "# select values \n",
    "lats = dfclim.y_wgs\n",
    "lons = dfclim.x_wgs\n",
    "\n",
    "countzerosmean_sel = countzerosmean.sel(latitude = lats, longitude = lons, method = 'nearest')\n",
    "\n",
    "# overwrite the coordinates for them to match: (ovewrite dimentions)\n",
    "countzerosmean_sel['longitude'] = lons.values # x_wgs\n",
    "countzerosmean_sel['latitude']= lats.values   # y_wgs"
   ]
  },
  {
   "cell_type": "code",
   "execution_count": null,
   "id": "b5c09942-c6ed-46f2-8bee-926ab5223073",
   "metadata": {},
   "outputs": [],
   "source": [
    "%%time\n",
    "\n",
    "# to data frame\n",
    "countzerosmean_sel_df = countzerosmean_sel.to_dataframe().reset_index()\n",
    "#rename:\n",
    "countzerosmean_sel_df = countzerosmean_sel_df.rename(columns = {'longitude':'x_wgs', 'latitude':'y_wgs'})\n",
    "\n",
    "#rename column: \n",
    "countzerosmean_sel_df = countzerosmean_sel_df.rename(columns = {'forcount':'count_zeros'}) \n",
    "# drop month \n",
    "countzerosmean_sel_df = countzerosmean_sel_df.drop(['t2m', 't2m_shift', 'mult'], axis = 1)"
   ]
  },
  {
   "cell_type": "code",
   "execution_count": null,
   "id": "9f390806-505b-4033-96d4-ae1eda45879b",
   "metadata": {},
   "outputs": [],
   "source": [
    "# countzerosmean_sel_df"
   ]
  },
  {
   "cell_type": "code",
   "execution_count": null,
   "id": "f38b840a-3b65-4e5e-9e41-c8ac3f23d8d6",
   "metadata": {},
   "outputs": [],
   "source": [
    "# merge to the dfclim table on the coordinates:\n",
    "\n",
    "dfclim = dfclim.merge(countzerosmean_sel_df, on=['x_wgs', 'y_wgs'], how='left').drop_duplicates()\n"
   ]
  },
  {
   "cell_type": "code",
   "execution_count": null,
   "id": "f0f0d153-1d07-4c71-8abe-2b76a03b775c",
   "metadata": {},
   "outputs": [],
   "source": [
    "# dfclim.to_csv('morph_temperature_NOmonsoon_zerocount.csv')"
   ]
  },
  {
   "cell_type": "markdown",
   "id": "2feba07a-b1e9-4321-9714-87f57af6ed67",
   "metadata": {},
   "source": []
  },
  {
   "cell_type": "markdown",
   "id": "e2b1b974-546b-4ec5-b9bc-561155030deb",
   "metadata": {},
   "source": [
    "## fraction of the year when daily temp is <0"
   ]
  },
  {
   "cell_type": "code",
   "execution_count": null,
   "id": "1541da37-9344-4037-8ec7-c5ba0f4efb37",
   "metadata": {},
   "outputs": [],
   "source": [
    "file = xr.open_dataset('/Users/varyabazilova/Desktop/era5land/daymean_temp/daymean_temp_1990.nc')\n",
    "file = file.drop(labels='time_bnds')\n",
    "file['t2m'] = file.t2m -273.15\n",
    "\n",
    "file['forcount'] = xr.where(file.t2m < 0, 1, 0)\n",
    "\n",
    "fileyear = file.groupby('time.year').sum('time')\n",
    "# fraction of the year\n",
    "fileyear['fraction'] = fileyear.forcount / 365\n",
    "\n"
   ]
  },
  {
   "cell_type": "code",
   "execution_count": null,
   "id": "50a173f6-6500-4583-8837-8c2b7c386854",
   "metadata": {},
   "outputs": [],
   "source": [
    "# fileyear.fraction.values"
   ]
  },
  {
   "cell_type": "code",
   "execution_count": null,
   "id": "358c8456-eaa5-496d-830d-09341b2b8d31",
   "metadata": {},
   "outputs": [],
   "source": [
    "%%time\n",
    "# calculate how many times temp timeseries crosses 0 \n",
    "path = '/Users/varyabazilova/Desktop/era5land/daymean_temp'\n",
    "\n",
    "countnegative = xr.Dataset()\n",
    "\n",
    "for f in os.listdir(path):\n",
    "    # read every file: \n",
    "    ds = xr.open_dataset(os.path.join(path, f), decode_coords=\"all\")\n",
    "    # drop useless dimention\n",
    "    ds = ds.drop(labels='time_bnds')\n",
    "    # K to C \n",
    "    ds['t2m'] = ds.t2m - 273.15\n",
    "    # if negative = 1, else = 0 \n",
    "    ds['forcount'] = xr.where(ds.t2m < 0, 1, 0)\n",
    "    # sum the negative days number \n",
    "    dscount = ds.groupby('time.year').sum('time')\n",
    "    # fraction of the year\n",
    "    dscount['fraction'] = dscount.forcount / 365\n",
    "    \n",
    "    print('dsfraction', dscount)\n",
    "    # merge:\n",
    "    countnegative = xr.merge([countnegative, dscount])\n",
    "\n",
    "print('negative temp fraction', countnegative)"
   ]
  },
  {
   "cell_type": "code",
   "execution_count": null,
   "id": "a158fe42-6f55-4a34-8c8b-902ba385b12e",
   "metadata": {},
   "outputs": [],
   "source": [
    "countnegative_mean = countnegative.mean(dim = 'year')"
   ]
  },
  {
   "cell_type": "code",
   "execution_count": null,
   "id": "fb5ea12e-f2cb-4db1-838c-93570f07e252",
   "metadata": {},
   "outputs": [],
   "source": [
    "%%time\n",
    "# select coordinates: \n",
    "\n",
    "# select coordinates first \n",
    "\n",
    "lats = dfclim.y_wgs\n",
    "lons = dfclim.x_wgs\n",
    "\n",
    "countnegative_mean_sel = countnegative_mean.sel(latitude = lats, longitude = lons, method = 'nearest')\n",
    "\n",
    "\n",
    "# overwrite the coordinates for them to match: (ovewrite dimentions)\n",
    "countnegative_mean_sel['longitude'] = lons.values # x_wgs\n",
    "countnegative_mean_sel['latitude']= lats.values   # y_wgs"
   ]
  },
  {
   "cell_type": "code",
   "execution_count": null,
   "id": "5282492c-07b6-4db0-9ad3-931a37aae481",
   "metadata": {},
   "outputs": [],
   "source": [
    "%%time\n",
    "\n",
    "# to data frame\n",
    "countnegative_mean_sel_df = countnegative_mean_sel.to_dataframe().reset_index()\n",
    "#rename:\n",
    "countnegative_mean_sel_df = countnegative_mean_sel_df.rename(columns = {'longitude':'x_wgs', 'latitude':'y_wgs'})\n",
    "#rename column: \n",
    "countnegative_mean_sel_df = countnegative_mean_sel_df.rename(columns = {'fraction':'belowzero_frac'}) \n",
    "# drop month \n",
    "countnegative_mean_sel_df = countnegative_mean_sel_df.drop(['t2m','forcount'], axis = 1)"
   ]
  },
  {
   "cell_type": "code",
   "execution_count": null,
   "id": "18dbcd4d-0aeb-4118-8687-626e06ad6b34",
   "metadata": {},
   "outputs": [],
   "source": [
    "# merge to the dfclim table on the coordinates:\n",
    "\n",
    "dfclim = dfclim.merge(countnegative_mean_sel_df, on=['x_wgs', 'y_wgs'], how='left').drop_duplicates()"
   ]
  },
  {
   "cell_type": "code",
   "execution_count": null,
   "id": "391aa96f-2574-454e-82c6-e0676cd83612",
   "metadata": {},
   "outputs": [],
   "source": [
    "# dfclim.columns"
   ]
  },
  {
   "cell_type": "markdown",
   "id": "039a2b62-0365-461f-b240-befea6b8da91",
   "metadata": {},
   "source": [
    "## average annual temp < 0"
   ]
  },
  {
   "cell_type": "code",
   "execution_count": null,
   "id": "c28dedf4-65a8-4b66-8895-2cea0fd9e6fc",
   "metadata": {},
   "outputs": [],
   "source": [
    "# pd.Series(np.where(sample.housing.values == 'yes', 1, 0),\n",
    "\n",
    "dfclim['avgtemp_belowzero'] = np.where(dfclim.mean_annual_T < 0, 1, 0)"
   ]
  },
  {
   "cell_type": "code",
   "execution_count": null,
   "id": "2f751cb9-3a1b-447b-8f57-a494151cd99d",
   "metadata": {},
   "outputs": [],
   "source": [
    "# dfclim.to_csv('2aug_morph_temperature.csv')"
   ]
  },
  {
   "cell_type": "code",
   "execution_count": null,
   "id": "dc3b7dc7-9c6f-439f-b26c-10fe41b4573b",
   "metadata": {},
   "outputs": [],
   "source": []
  }
 ],
 "metadata": {
  "kernelspec": {
   "display_name": "Python 3 (ipykernel)",
   "language": "python",
   "name": "python3"
  },
  "language_info": {
   "codemirror_mode": {
    "name": "ipython",
    "version": 3
   },
   "file_extension": ".py",
   "mimetype": "text/x-python",
   "name": "python",
   "nbconvert_exporter": "python",
   "pygments_lexer": "ipython3",
   "version": "3.7.11"
  }
 },
 "nbformat": 4,
 "nbformat_minor": 5
}
