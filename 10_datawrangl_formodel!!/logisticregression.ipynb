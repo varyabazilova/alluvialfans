{
 "cells": [
  {
   "cell_type": "code",
   "execution_count": 1,
   "id": "d201ae5b-98b0-4b1e-a8c0-fdf8a7203f4d",
   "metadata": {},
   "outputs": [],
   "source": [
    "# in this notebook varya is building logistic regression as an example to see if it works and learn how to do it \n",
    "\n",
    "# https://towardsdatascience.com/logistic-regression-detailed-overview-46c4da4303bc"
   ]
  },
  {
   "cell_type": "code",
   "execution_count": null,
   "id": "cb0a13f8-f388-451b-9d15-80db90edc6be",
   "metadata": {},
   "outputs": [],
   "source": []
  }
 ],
 "metadata": {
  "kernelspec": {
   "display_name": "Python [conda env:project1] *",
   "language": "python",
   "name": "conda-env-project1-py"
  },
  "language_info": {
   "codemirror_mode": {
    "name": "ipython",
    "version": 3
   },
   "file_extension": ".py",
   "mimetype": "text/x-python",
   "name": "python",
   "nbconvert_exporter": "python",
   "pygments_lexer": "ipython3",
   "version": "3.7.11"
  }
 },
 "nbformat": 4,
 "nbformat_minor": 5
}
