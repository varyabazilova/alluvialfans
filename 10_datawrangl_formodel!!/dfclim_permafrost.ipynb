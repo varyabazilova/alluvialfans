{
 "cells": [
  {
   "cell_type": "code",
   "execution_count": null,
   "id": "c04811d3-51bf-4779-894d-5c1b8576cdf8",
   "metadata": {},
   "outputs": [],
   "source": [
    "# read shp files\n",
    "# rename columns \n",
    "# merge into one \n",
    "# merge into the datafile\n",
    "\n"
   ]
  },
  {
   "cell_type": "code",
   "execution_count": 21,
   "id": "f96133d6-7c9e-403a-8ab6-7b177aba29a6",
   "metadata": {},
   "outputs": [],
   "source": [
    "import numpy as np\n",
    "import pandas as pd\n",
    "import geopandas as gpd"
   ]
  },
  {
   "cell_type": "code",
   "execution_count": 22,
   "id": "43b04872-2e49-40e1-b498-c49294caeb22",
   "metadata": {},
   "outputs": [],
   "source": [
    "# clean up: \n",
    "\n",
    "def dropstuff(df):\n",
    "    df = df.drop(['DN', 'glaceir', 'layer', 'path', 'Name', 'layer_2', 'path_2', 'area_m', \n",
    "             'perimeter', 'glaciersum', 'geometry'], axis = 1)\n",
    "    return df"
   ]
  },
  {
   "cell_type": "code",
   "execution_count": 23,
   "id": "54684ff8-ec30-4082-b2fb-1f1863fbd2e4",
   "metadata": {},
   "outputs": [],
   "source": [
    "# read all .shp files\n",
    "\n",
    "folder = '/Users/varyabazilova/Desktop/alluvial_fans/dem_all/all_points_so_far/10_datawrangl_formodel!!/shapes/permafrost/'\n",
    "\n",
    "permafrost4 = pd.DataFrame(gpd.read_file(folder + 'overlap_permafrost4.shp')).rename(columns={\"permafrost\": \"permafrost4\", \"permafro_1\": \"permafrost4_frac\"})\n",
    "permafrost3 = pd.DataFrame(gpd.read_file(folder + 'overlap_permafrost3.shp')).rename(columns={\"permafrost\": \"permafrost3\", \"permafro_1\": \"permafrost3_frac\"})\n",
    "permafrost2 = pd.DataFrame(gpd.read_file(folder + 'overlap_permafrost2.shp')).rename(columns={\"permafrost\": \"permafrost2\", \"permafro_1\": \"permafrost2_frac\"})\n",
    "permafrost1 = pd.DataFrame(gpd.read_file(folder + 'overlap_permafrost1.shp')).rename(columns={\"permafrost\": \"permafrost1\", \"permafro_1\": \"permafrost1_frac\"})"
   ]
  },
  {
   "cell_type": "code",
   "execution_count": 24,
   "id": "88317e38-32c4-46db-8e16-976757beb834",
   "metadata": {},
   "outputs": [],
   "source": [
    "# clean up \n",
    "permafrost4 = dropstuff(permafrost4)\n",
    "permafrost3 = dropstuff(permafrost3)\n",
    "permafrost2 = dropstuff(permafrost2)\n",
    "permafrost1 = dropstuff(permafrost1)"
   ]
  },
  {
   "cell_type": "code",
   "execution_count": 25,
   "id": "d1096c26-892a-4cba-813c-812fab15851f",
   "metadata": {},
   "outputs": [],
   "source": [
    "# merge into the dfclim data \n",
    "\n",
    "folder = '/Users/varyabazilova/Desktop/alluvial_fans/dem_all/all_points_so_far/ml_model/data_current/'\n",
    "\n",
    "dfclim = pd.read_csv(folder + 'dfclim_3aug_rainydays.csv').drop(['Unnamed: 0', 'Unnamed: 0.1'], axis = 1)"
   ]
  },
  {
   "cell_type": "code",
   "execution_count": 26,
   "id": "d5c1451e-b664-4ba6-9625-2ffd2055d284",
   "metadata": {},
   "outputs": [],
   "source": [
    "dfclim1 = dfclim.merge(permafrost1, on =['x_centroid', 'y_centroid'], how = 'left')\n",
    "dfclim1 = dfclim1.merge(permafrost2, on =['x_centroid', 'y_centroid'], how = 'left')\n",
    "dfclim1 = dfclim1.merge(permafrost3, on =['x_centroid', 'y_centroid'], how = 'left')\n",
    "dfclim1 = dfclim1.merge(permafrost4, on =['x_centroid', 'y_centroid'], how = 'left')"
   ]
  },
  {
   "cell_type": "code",
   "execution_count": 27,
   "id": "03605aff-a210-4ca9-be11-65edcfef7bd2",
   "metadata": {},
   "outputs": [],
   "source": [
    "dfclim1 = dfclim1.drop_duplicates()\n",
    "\n",
    "# dfclim1.to_csv('out/dfclim_permafrost9aug.csv')"
   ]
  },
  {
   "cell_type": "code",
   "execution_count": 28,
   "id": "9f5ef3fc-12da-43c8-baf1-9038e1aaca86",
   "metadata": {},
   "outputs": [
    {
     "data": {
      "text/plain": [
       "Index(['DN', 'target', 'Name', 'x_centroid', 'y_centroid', 'area_m',\n",
       "       'perimeter', 'glaciersum', 'mean_elevation', 'median_elevation',\n",
       "       'std_elevation', 'min_elevation', 'max_elevation', 'range_elevation',\n",
       "       'variance_elevation', 'region', 'region_name', 'mean_slope',\n",
       "       'median_slope', 'std_slope', 'min_slope', 'max_slope', 'range_slope',\n",
       "       'variance_slope', 'glarea_percent', 'glacier', 'x_wgs', 'y_wgs', 'M',\n",
       "       'Rc', 'Cc', 'mean_annual_T', 'mean_jan_T', 'mean_july_T',\n",
       "       'mean_monsoon_T', 'mean_no_monsoon_T', 'count_zeros', 'belowzero_frac',\n",
       "       'avgtemp_belowzero', 'mean_annual_tp', 'mean_annualsum_tp',\n",
       "       'mean_daylymonsoon_tp_x', 'mean_daylymonsoon_tp_y',\n",
       "       'mean_monsoon_sum_tp', 'monsoon_tp_frac', 'n_rainy_days',\n",
       "       'rainy_days_frac', 'permafrost1', 'permafrost1_frac', 'permafrost2',\n",
       "       'permafrost2_frac', 'permafrost3', 'permafrost3_frac', 'permafrost4',\n",
       "       'permafrost4_frac'],\n",
       "      dtype='object')"
      ]
     },
     "execution_count": 28,
     "metadata": {},
     "output_type": "execute_result"
    }
   ],
   "source": [
    "dfclim1.head()\n",
    "dfclim1.columns"
   ]
  },
  {
   "cell_type": "markdown",
   "id": "543b47d1-b32b-4b1c-8277-d1980207c2a4",
   "metadata": {},
   "source": [
    "### continious permafrost (type4) yes/no "
   ]
  },
  {
   "cell_type": "code",
   "execution_count": 29,
   "id": "6c632b92-82d7-46f0-ad7d-4ed62f96c700",
   "metadata": {},
   "outputs": [],
   "source": [
    "# pd.Series(np.where(sample.housing.values == 'yes', 1, 0),\n",
    "\n",
    "dfclim1['cont_permafrost'] = np.where(dfclim1.permafrost4 > 0, 1, 0)\n",
    "dfclim1['cont_permafrost_frac50'] = np.where(dfclim1.permafrost4_frac > 50, 1, 0) "
   ]
  },
  {
   "cell_type": "code",
   "execution_count": 30,
   "id": "ca3e6b97-d7a4-45fd-bea8-0201b43e2521",
   "metadata": {},
   "outputs": [],
   "source": [
    "# make a column about all types of permafrost (like sum them or smth) \n",
    "# then look for where it is not 0 -> where(condition) \n",
    "# then remove the column \n",
    "\n",
    "dfclim1['all_permafrost_frac'] = dfclim1.permafrost1_frac + dfclim1.permafrost2_frac + dfclim1.permafrost3_frac + dfclim1.permafrost4_frac\n",
    "dfclim1['any_permafrost'] = np.where(dfclim1.all_permafrost_frac > 0, 1, 0)\n"
   ]
  },
  {
   "cell_type": "code",
   "execution_count": 13,
   "id": "f74a6e7b-5145-404d-af11-24592abd7a6b",
   "metadata": {},
   "outputs": [],
   "source": [
    "# dfclim1.permafrost4.values"
   ]
  },
  {
   "cell_type": "code",
   "execution_count": 31,
   "id": "504fa674-69d2-4d1b-88cc-adaeb49ca691",
   "metadata": {},
   "outputs": [
    {
     "data": {
      "text/plain": [
       "Index(['DN', 'target', 'Name', 'x_centroid', 'y_centroid', 'area_m',\n",
       "       'perimeter', 'glaciersum', 'mean_elevation', 'median_elevation',\n",
       "       'std_elevation', 'min_elevation', 'max_elevation', 'range_elevation',\n",
       "       'variance_elevation', 'region', 'region_name', 'mean_slope',\n",
       "       'median_slope', 'std_slope', 'min_slope', 'max_slope', 'range_slope',\n",
       "       'variance_slope', 'glarea_percent', 'glacier', 'x_wgs', 'y_wgs', 'M',\n",
       "       'Rc', 'Cc', 'mean_annual_T', 'mean_jan_T', 'mean_july_T',\n",
       "       'mean_monsoon_T', 'mean_no_monsoon_T', 'count_zeros', 'belowzero_frac',\n",
       "       'avgtemp_belowzero', 'mean_annual_tp', 'mean_annualsum_tp',\n",
       "       'mean_daylymonsoon_tp_x', 'mean_daylymonsoon_tp_y',\n",
       "       'mean_monsoon_sum_tp', 'monsoon_tp_frac', 'n_rainy_days',\n",
       "       'rainy_days_frac', 'permafrost1', 'permafrost1_frac', 'permafrost2',\n",
       "       'permafrost2_frac', 'permafrost3', 'permafrost3_frac', 'permafrost4',\n",
       "       'permafrost4_frac', 'cont_permafrost', 'cont_permafrost_frac50',\n",
       "       'all_permafrost_frac', 'any_permafrost'],\n",
       "      dtype='object')"
      ]
     },
     "execution_count": 31,
     "metadata": {},
     "output_type": "execute_result"
    }
   ],
   "source": [
    "dfclim1.columns"
   ]
  },
  {
   "cell_type": "code",
   "execution_count": 32,
   "id": "d75c658f-e31c-4d6a-9d90-d5217325ed14",
   "metadata": {},
   "outputs": [],
   "source": [
    "# dfclim1.to_csv('out/dfclim_permafrost9aug.csv')"
   ]
  },
  {
   "cell_type": "code",
   "execution_count": 33,
   "id": "e89c60fb-6135-4538-9a47-636534d867ed",
   "metadata": {},
   "outputs": [],
   "source": [
    "#  cont_permafrost - 1/0 - if there is any continious permafrost in the catchment\n",
    "#  any_permafrost - 1/0 - if there is any permafrost in the catchment \n",
    "#  all_permafrost_frac - whats the total fraction of the area covered by any type of permafrost \n",
    "#  cont_permafrost_frac50 - 1/0 - if more than 50% of the area are covered by continious permafrost \n",
    "\n",
    "# permafrost4 - continious permafrost (>90% coverage)\n",
    "# permafrost3 - discontinious permafrost (50-90%)\n",
    "# permafrost2 - sporadic permafrost (10-50%)\n",
    "# permafrost1 - isolated patches (<10%) \n",
    "\n",
    "# permafrost4_frac - fraction of area with continious permafrost (>90% coverage)\n",
    "# permafrost3_frac - fraction of area with discontinious permafrost (50-90%)\n",
    "# permafrost2_frac - fraction of area with sporadic permafrost (10-50%)\n",
    "# permafrost1_frac - fraction of area with isolated patches (<10%) \n",
    "\n"
   ]
  },
  {
   "cell_type": "code",
   "execution_count": null,
   "id": "1629c91f-b68e-4b27-a4ca-52ad154b7e16",
   "metadata": {},
   "outputs": [],
   "source": []
  },
  {
   "cell_type": "code",
   "execution_count": null,
   "id": "4b0c4b19-c248-4bac-afb3-9cd3a9ab2e12",
   "metadata": {},
   "outputs": [],
   "source": []
  }
 ],
 "metadata": {
  "kernelspec": {
   "display_name": "Python [conda env:project1] *",
   "language": "python",
   "name": "conda-env-project1-py"
  },
  "language_info": {
   "codemirror_mode": {
    "name": "ipython",
    "version": 3
   },
   "file_extension": ".py",
   "mimetype": "text/x-python",
   "name": "python",
   "nbconvert_exporter": "python",
   "pygments_lexer": "ipython3",
   "version": "3.7.11"
  }
 },
 "nbformat": 4,
 "nbformat_minor": 5
}
