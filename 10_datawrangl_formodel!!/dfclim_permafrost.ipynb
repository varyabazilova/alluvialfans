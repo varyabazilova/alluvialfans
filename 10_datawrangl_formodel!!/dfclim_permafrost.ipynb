{
 "cells": [
  {
   "cell_type": "code",
   "execution_count": null,
   "id": "c04811d3-51bf-4779-894d-5c1b8576cdf8",
   "metadata": {},
   "outputs": [],
   "source": [
    "# read shp files\n",
    "# rename columns \n",
    "# merge into one \n",
    "# merge into the datafile\n",
    "\n"
   ]
  },
  {
   "cell_type": "code",
   "execution_count": 1,
   "id": "f96133d6-7c9e-403a-8ab6-7b177aba29a6",
   "metadata": {},
   "outputs": [],
   "source": [
    "import numpy as np\n",
    "import pandas as pd\n",
    "import geopandas as gpd"
   ]
  },
  {
   "cell_type": "code",
   "execution_count": null,
   "id": "43b04872-2e49-40e1-b498-c49294caeb22",
   "metadata": {},
   "outputs": [],
   "source": [
    "# clean up: \n",
    "\n",
    "def dropstuff(df):\n",
    "    df = df.drop(['DN', 'glaceir', 'layer', 'path', 'Name', 'layer_2', 'path_2', 'area_m', \n",
    "             'perimeter', 'glaciersum', 'geometry'], axis = 1)\n",
    "    return df"
   ]
  },
  {
   "cell_type": "code",
   "execution_count": null,
   "id": "54684ff8-ec30-4082-b2fb-1f1863fbd2e4",
   "metadata": {},
   "outputs": [],
   "source": [
    "# read all .shp files\n",
    "\n",
    "folder = '/Users/varyabazilova/Desktop/alluvial_fans/dem_all/all_points_so_far/10_datawrangl_formodel!!/shapes/permafrost/'\n",
    "\n",
    "permafrost4 = pd.DataFrame(gpd.read_file(folder + 'overlap_permafrost4.shp')).rename(columns={\"permafrost\": \"permafrost4\", \"permafro_1\": \"permafrost4_frac\"})\n",
    "permafrost3 = pd.DataFrame(gpd.read_file(folder + 'overlap_permafrost3.shp')).rename(columns={\"permafrost\": \"permafrost3\", \"permafro_1\": \"permafrost3_frac\"})\n",
    "permafrost2 = pd.DataFrame(gpd.read_file(folder + 'overlap_permafrost2.shp')).rename(columns={\"permafrost\": \"permafrost2\", \"permafro_1\": \"permafrost2_frac\"})\n",
    "permafrost1 = pd.DataFrame(gpd.read_file(folder + 'overlap_permafrost1.shp')).rename(columns={\"permafrost\": \"permafrost1\", \"permafro_1\": \"permafrost1_frac\"})"
   ]
  },
  {
   "cell_type": "code",
   "execution_count": null,
   "id": "88317e38-32c4-46db-8e16-976757beb834",
   "metadata": {},
   "outputs": [],
   "source": [
    "# clean up \n",
    "permafrost4 = dropstuff(permafrost4)\n",
    "permafrost3 = dropstuff(permafrost3)\n",
    "permafrost2 = dropstuff(permafrost2)\n",
    "permafrost1 = dropstuff(permafrost1)"
   ]
  },
  {
   "cell_type": "code",
   "execution_count": null,
   "id": "d1096c26-892a-4cba-813c-812fab15851f",
   "metadata": {},
   "outputs": [],
   "source": [
    "# merge into the dfclim data \n",
    "\n",
    "folder = '/Users/varyabazilova/Desktop/alluvial_fans/dem_all/all_points_so_far/ml_model/data_current/'\n",
    "\n",
    "dfclim = pd.read_csv(folder + 'dfclim_3aug_rainydays.csv').drop(['Unnamed: 0', 'Unnamed: 0.1'], axis = 1)"
   ]
  },
  {
   "cell_type": "code",
   "execution_count": null,
   "id": "d5c1451e-b664-4ba6-9625-2ffd2055d284",
   "metadata": {},
   "outputs": [],
   "source": [
    "dfclim1 = dfclim.merge(permafrost1, on =['x_centroid', 'y_centroid'], how = 'left')\n",
    "dfclim1 = dfclim1.merge(permafrost2, on =['x_centroid', 'y_centroid'], how = 'left')\n",
    "dfclim1 = dfclim1.merge(permafrost3, on =['x_centroid', 'y_centroid'], how = 'left')\n",
    "dfclim1 = dfclim1.merge(permafrost4, on =['x_centroid', 'y_centroid'], how = 'left')"
   ]
  },
  {
   "cell_type": "code",
   "execution_count": null,
   "id": "03605aff-a210-4ca9-be11-65edcfef7bd2",
   "metadata": {},
   "outputs": [],
   "source": [
    "dfclim1 = dfclim1.drop_duplicates()\n",
    "\n",
    "# dfclim1.to_csv('out/dfclim_permafrost9aug.csv')"
   ]
  },
  {
   "cell_type": "markdown",
   "id": "543b47d1-b32b-4b1c-8277-d1980207c2a4",
   "metadata": {},
   "source": [
    "### continious permafrost (type4) yes/no "
   ]
  },
  {
   "cell_type": "code",
   "execution_count": null,
   "id": "6c632b92-82d7-46f0-ad7d-4ed62f96c700",
   "metadata": {},
   "outputs": [],
   "source": []
  },
  {
   "cell_type": "code",
   "execution_count": null,
   "id": "ca3e6b97-d7a4-45fd-bea8-0201b43e2521",
   "metadata": {},
   "outputs": [],
   "source": []
  }
 ],
 "metadata": {
  "kernelspec": {
   "display_name": "Python [conda env:project1] *",
   "language": "python",
   "name": "conda-env-project1-py"
  },
  "language_info": {
   "codemirror_mode": {
    "name": "ipython",
    "version": 3
   },
   "file_extension": ".py",
   "mimetype": "text/x-python",
   "name": "python",
   "nbconvert_exporter": "python",
   "pygments_lexer": "ipython3",
   "version": "3.7.11"
  }
 },
 "nbformat": 4,
 "nbformat_minor": 5
}
