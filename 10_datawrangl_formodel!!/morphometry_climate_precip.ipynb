{
 "cells": [
  {
   "cell_type": "code",
   "execution_count": 1,
   "id": "390cbcbe-377d-4c8f-b851-214d08879304",
   "metadata": {},
   "outputs": [],
   "source": [
    "import pandas as pd\n",
    "import numpy as np\n",
    "import matplotlib.pyplot as plt\n",
    "import xarray as xr\n",
    "import seaborn as sns\n",
    "import os\n",
    "from glob import glob\n",
    "\n",
    "# import ecCodes"
   ]
  },
  {
   "cell_type": "code",
   "execution_count": 54,
   "id": "78a0b210-f381-429d-9b58-c9b473592cde",
   "metadata": {},
   "outputs": [],
   "source": [
    "# import cfgrib\n",
    "# !pip install ecCodes\n",
    "# !conda install eccodes\n",
    "# !conda install -c conda-forge eccodes"
   ]
  },
  {
   "cell_type": "code",
   "execution_count": 55,
   "id": "4d132c8e-3923-4849-a707-bb666e419b09",
   "metadata": {},
   "outputs": [],
   "source": [
    "# read table with params: \n",
    "outdata = '/Users/varyabazilova/Desktop/alluvial_fans/dem_all/all_points_so_far/10_datawrangl_formodel!!/out/'\n",
    "\n",
    "dfclim = pd.read_csv(outdata + '2aug_morph_temperature.csv')"
   ]
  },
  {
   "cell_type": "code",
   "execution_count": 4,
   "id": "40bcfc57-54d6-41c3-b163-eca1e4797c76",
   "metadata": {},
   "outputs": [
    {
     "data": {
      "text/html": [
       "<div>\n",
       "<style scoped>\n",
       "    .dataframe tbody tr th:only-of-type {\n",
       "        vertical-align: middle;\n",
       "    }\n",
       "\n",
       "    .dataframe tbody tr th {\n",
       "        vertical-align: top;\n",
       "    }\n",
       "\n",
       "    .dataframe thead th {\n",
       "        text-align: right;\n",
       "    }\n",
       "</style>\n",
       "<table border=\"1\" class=\"dataframe\">\n",
       "  <thead>\n",
       "    <tr style=\"text-align: right;\">\n",
       "      <th></th>\n",
       "      <th>Unnamed: 0</th>\n",
       "      <th>DN</th>\n",
       "      <th>target</th>\n",
       "      <th>Name</th>\n",
       "      <th>x_centroid</th>\n",
       "      <th>y_centroid</th>\n",
       "      <th>area_m</th>\n",
       "      <th>perimeter</th>\n",
       "      <th>glaciersum</th>\n",
       "      <th>mean_elevation</th>\n",
       "      <th>...</th>\n",
       "      <th>Rc</th>\n",
       "      <th>Cc</th>\n",
       "      <th>mean_annual_T</th>\n",
       "      <th>mean_jan_T</th>\n",
       "      <th>mean_july_T</th>\n",
       "      <th>mean_monsoon_T</th>\n",
       "      <th>mean_no_monsoon_T</th>\n",
       "      <th>count_zeros</th>\n",
       "      <th>belowzero_frac</th>\n",
       "      <th>avgtemp_belowzero</th>\n",
       "    </tr>\n",
       "  </thead>\n",
       "  <tbody>\n",
       "    <tr>\n",
       "      <th>0</th>\n",
       "      <td>0</td>\n",
       "      <td>2</td>\n",
       "      <td>1</td>\n",
       "      <td>DF</td>\n",
       "      <td>6533932.497</td>\n",
       "      <td>-500205.440</td>\n",
       "      <td>323908.568</td>\n",
       "      <td>3584.675</td>\n",
       "      <td>0.000</td>\n",
       "      <td>4738.964789</td>\n",
       "      <td>...</td>\n",
       "      <td>0.316762</td>\n",
       "      <td>1.789410</td>\n",
       "      <td>-4.698425</td>\n",
       "      <td>-13.451904</td>\n",
       "      <td>4.031158</td>\n",
       "      <td>0.353302</td>\n",
       "      <td>-9.77121</td>\n",
       "      <td>6.6875</td>\n",
       "      <td>0.66738</td>\n",
       "      <td>1</td>\n",
       "    </tr>\n",
       "    <tr>\n",
       "      <th>1</th>\n",
       "      <td>1</td>\n",
       "      <td>3</td>\n",
       "      <td>1</td>\n",
       "      <td>DF</td>\n",
       "      <td>6534113.836</td>\n",
       "      <td>-500799.045</td>\n",
       "      <td>182483.700</td>\n",
       "      <td>2922.889</td>\n",
       "      <td>0.000</td>\n",
       "      <td>4568.158333</td>\n",
       "      <td>...</td>\n",
       "      <td>0.268417</td>\n",
       "      <td>1.943889</td>\n",
       "      <td>-4.698425</td>\n",
       "      <td>-13.451904</td>\n",
       "      <td>4.031158</td>\n",
       "      <td>0.353302</td>\n",
       "      <td>-9.77121</td>\n",
       "      <td>6.6875</td>\n",
       "      <td>0.66738</td>\n",
       "      <td>1</td>\n",
       "    </tr>\n",
       "    <tr>\n",
       "      <th>2</th>\n",
       "      <td>3</td>\n",
       "      <td>4</td>\n",
       "      <td>1</td>\n",
       "      <td>DF</td>\n",
       "      <td>6533894.325</td>\n",
       "      <td>-503821.445</td>\n",
       "      <td>205294.163</td>\n",
       "      <td>2702.293</td>\n",
       "      <td>0.000</td>\n",
       "      <td>4182.414815</td>\n",
       "      <td>...</td>\n",
       "      <td>0.353282</td>\n",
       "      <td>1.694398</td>\n",
       "      <td>-4.698425</td>\n",
       "      <td>-13.451904</td>\n",
       "      <td>4.031158</td>\n",
       "      <td>0.353302</td>\n",
       "      <td>-9.77121</td>\n",
       "      <td>6.6875</td>\n",
       "      <td>0.66738</td>\n",
       "      <td>1</td>\n",
       "    </tr>\n",
       "    <tr>\n",
       "      <th>3</th>\n",
       "      <td>7</td>\n",
       "      <td>5</td>\n",
       "      <td>0</td>\n",
       "      <td>Mixed - new looks FF, vegetated DF</td>\n",
       "      <td>6531952.768</td>\n",
       "      <td>-502250.739</td>\n",
       "      <td>8413968.867</td>\n",
       "      <td>19907.851</td>\n",
       "      <td>2763.123</td>\n",
       "      <td>4867.525384</td>\n",
       "      <td>...</td>\n",
       "      <td>0.266785</td>\n",
       "      <td>1.949823</td>\n",
       "      <td>-4.698425</td>\n",
       "      <td>-13.451904</td>\n",
       "      <td>4.031158</td>\n",
       "      <td>0.353302</td>\n",
       "      <td>-9.77121</td>\n",
       "      <td>6.6875</td>\n",
       "      <td>0.66738</td>\n",
       "      <td>1</td>\n",
       "    </tr>\n",
       "    <tr>\n",
       "      <th>4</th>\n",
       "      <td>8</td>\n",
       "      <td>7</td>\n",
       "      <td>0</td>\n",
       "      <td>FF - lower lef DF remnants?</td>\n",
       "      <td>6535837.722</td>\n",
       "      <td>-503989.910</td>\n",
       "      <td>359644.959</td>\n",
       "      <td>3750.121</td>\n",
       "      <td>0.000</td>\n",
       "      <td>4346.589852</td>\n",
       "      <td>...</td>\n",
       "      <td>0.321361</td>\n",
       "      <td>1.776559</td>\n",
       "      <td>-4.698425</td>\n",
       "      <td>-13.451904</td>\n",
       "      <td>4.031158</td>\n",
       "      <td>0.353302</td>\n",
       "      <td>-9.77121</td>\n",
       "      <td>6.6875</td>\n",
       "      <td>0.66738</td>\n",
       "      <td>1</td>\n",
       "    </tr>\n",
       "  </tbody>\n",
       "</table>\n",
       "<p>5 rows × 40 columns</p>\n",
       "</div>"
      ],
      "text/plain": [
       "   Unnamed: 0  DN  target                                Name   x_centroid  \\\n",
       "0           0   2       1                                  DF  6533932.497   \n",
       "1           1   3       1                                  DF  6534113.836   \n",
       "2           3   4       1                                  DF  6533894.325   \n",
       "3           7   5       0  Mixed - new looks FF, vegetated DF  6531952.768   \n",
       "4           8   7       0         FF - lower lef DF remnants?  6535837.722   \n",
       "\n",
       "   y_centroid       area_m  perimeter  glaciersum  mean_elevation  ...  \\\n",
       "0 -500205.440   323908.568   3584.675       0.000     4738.964789  ...   \n",
       "1 -500799.045   182483.700   2922.889       0.000     4568.158333  ...   \n",
       "2 -503821.445   205294.163   2702.293       0.000     4182.414815  ...   \n",
       "3 -502250.739  8413968.867  19907.851    2763.123     4867.525384  ...   \n",
       "4 -503989.910   359644.959   3750.121       0.000     4346.589852  ...   \n",
       "\n",
       "         Rc        Cc  mean_annual_T  mean_jan_T  mean_july_T  mean_monsoon_T  \\\n",
       "0  0.316762  1.789410      -4.698425  -13.451904     4.031158        0.353302   \n",
       "1  0.268417  1.943889      -4.698425  -13.451904     4.031158        0.353302   \n",
       "2  0.353282  1.694398      -4.698425  -13.451904     4.031158        0.353302   \n",
       "3  0.266785  1.949823      -4.698425  -13.451904     4.031158        0.353302   \n",
       "4  0.321361  1.776559      -4.698425  -13.451904     4.031158        0.353302   \n",
       "\n",
       "   mean_no_monsoon_T count_zeros  belowzero_frac  avgtemp_belowzero  \n",
       "0           -9.77121      6.6875         0.66738                  1  \n",
       "1           -9.77121      6.6875         0.66738                  1  \n",
       "2           -9.77121      6.6875         0.66738                  1  \n",
       "3           -9.77121      6.6875         0.66738                  1  \n",
       "4           -9.77121      6.6875         0.66738                  1  \n",
       "\n",
       "[5 rows x 40 columns]"
      ]
     },
     "execution_count": 4,
     "metadata": {},
     "output_type": "execute_result"
    }
   ],
   "source": [
    "dfclim.head()"
   ]
  },
  {
   "cell_type": "markdown",
   "id": "a7fe54c2-6628-4284-a859-5c90c84be1b7",
   "metadata": {},
   "source": [
    "1. Monsoon precipitation (sum of June-sept) \n",
    "2. Mean precipitation over year - daily\n",
    "3. Annual sum \n",
    "4. Fraction of precipitation in monsoon \n",
    "5. P95% daily - sum in a day and then 95% \n",
    "6. Average number of wet days per year (frequency) \n",
    "7. Rain intensity on wet days \n",
    "8. Snow/no snow (fraction?) during wet days - if temp that day was below 0 precip_daymax_1990.nc\n",
    "9. N-day sum (?) — rainy days (10 to 30) \n",
    "10. Monthly average -> cv (std/average) "
   ]
  },
  {
   "cell_type": "code",
   "execution_count": null,
   "id": "c4056f61-9ae4-4b9d-8d9c-d4c1af609856",
   "metadata": {},
   "outputs": [],
   "source": []
  },
  {
   "cell_type": "code",
   "execution_count": null,
   "id": "2448a752-ae50-45c6-9878-f687fcee3334",
   "metadata": {},
   "outputs": [],
   "source": []
  },
  {
   "cell_type": "markdown",
   "id": "63ad042a-91b6-4b2e-a97d-2154386afa0a",
   "metadata": {},
   "source": [
    "## just precipitations (no temps) \n"
   ]
  },
  {
   "cell_type": "markdown",
   "id": "02850419-b20c-487b-be76-943427671e1d",
   "metadata": {},
   "source": [
    "### mean annual daily precipitation"
   ]
  },
  {
   "cell_type": "code",
   "execution_count": 26,
   "id": "4e330813-37fb-49a9-b228-9ae97c107044",
   "metadata": {},
   "outputs": [],
   "source": [
    "# skip first element in path because its always ds_store\n",
    "# paths = paths[1:]\n"
   ]
  },
  {
   "cell_type": "code",
   "execution_count": 57,
   "id": "0611bace-8eab-4754-95e4-2d3af84cd48a",
   "metadata": {},
   "outputs": [
    {
     "name": "stdout",
     "output_type": "stream",
     "text": [
      "CPU times: user 18.9 s, sys: 16.7 s, total: 35.6 s\n",
      "Wall time: 37 s\n"
     ]
    }
   ],
   "source": [
    "%%time\n",
    "# calculate mean annual temperature from daily data for each year: \n",
    "\n",
    "path = '/Users/varyabazilova/Desktop/era5land/dayly_precip'\n",
    "\n",
    "meanannual = xr.Dataset()\n",
    "\n",
    "\n",
    "for f in os.listdir(path)[1:]: # [1:] is to get rid of DS_store thing\n",
    "    # print(f)\n",
    "    # read every file: \n",
    "    ds = xr.open_dataset(os.path.join(path, f), decode_coords=\"all\")\n",
    "    # print(ds)\n",
    "    # drop useless dimention\n",
    "    ds = ds.drop(labels='time_bnds')\n",
    "    # group by -> resample to annual \n",
    "    dsmean = ds.groupby('time.year').mean('time')\n",
    "    # print(dsmean)\n",
    "    # merge \n",
    "    meanannual = xr.merge([meanannual, dsmean])\n",
    "\n",
    "# print(meanannual)\n",
    "\n",
    "meanannual_mean = meanannual.mean(dim='year')"
   ]
  },
  {
   "cell_type": "code",
   "execution_count": 59,
   "id": "07f4f4e3-8df4-49d9-bfc1-8e306fadbeed",
   "metadata": {},
   "outputs": [],
   "source": [
    "# select things \n",
    "\n",
    "# meanannual_mean\n",
    "\n",
    "# select coordinates first \n",
    "\n",
    "lats = dfclim.y_wgs\n",
    "lons = dfclim.x_wgs\n",
    "meanannual_mean_sel = meanannual_mean.sel(latitude = lats, longitude = lons, method = 'nearest')\n",
    "\n",
    "# overwrite the coordinates for them to match: (ovewrite dimentions)\n",
    "meanannual_mean_sel['longitude'] = lons.values # x_wgs\n",
    "meanannual_mean_sel['latitude']= lats.values   # y_wgs"
   ]
  },
  {
   "cell_type": "code",
   "execution_count": 60,
   "id": "9ace4d6c-3e52-441a-9152-cf3ce6a67d3e",
   "metadata": {},
   "outputs": [
    {
     "name": "stdout",
     "output_type": "stream",
     "text": [
      "CPU times: user 121 ms, sys: 17.2 ms, total: 138 ms\n",
      "Wall time: 150 ms\n"
     ]
    }
   ],
   "source": [
    "%%time\n",
    "# to dataframe \n",
    "meanannual_mean_sel_df = meanannual_mean_sel.to_dataframe()\n",
    "# reset index \n",
    "meanannual_mean_sel_df = meanannual_mean_sel_df.reset_index()\n",
    "# rename coordinates \n",
    "meanannual_mean_sel_df = meanannual_mean_sel_df.rename(columns = {'longitude':'x_wgs', 'latitude':'y_wgs'})\n",
    "# m to mm \n",
    "meanannual_mean_sel_df['tp'] = meanannual_mean_sel_df.tp * 1000\n",
    "# rename: \n",
    "meanannual_mean_sel_df = meanannual_mean_sel_df.rename(columns = {'tp':'mean_annual_tp'}) \n",
    "\n",
    "\n",
    "# merge:\n",
    "dfclim = dfclim.merge(meanannual_mean_sel_df, on=['x_wgs', 'y_wgs'], how='left').drop_duplicates()\n",
    "\n"
   ]
  },
  {
   "cell_type": "code",
   "execution_count": 64,
   "id": "44f01e9e-31b8-4cc9-a3ff-540fa04b5081",
   "metadata": {},
   "outputs": [],
   "source": [
    "# dfclim.to_csv('out/3aug_dfclim.csv')"
   ]
  },
  {
   "cell_type": "markdown",
   "id": "e8036614-ee9e-4e58-beeb-d5d1f76adfd6",
   "metadata": {},
   "source": [
    "### mean annual sum "
   ]
  },
  {
   "cell_type": "code",
   "execution_count": 65,
   "id": "6dafe20e-64c6-40b8-837e-42e74f8376e0",
   "metadata": {},
   "outputs": [
    {
     "name": "stdout",
     "output_type": "stream",
     "text": [
      "<xarray.Dataset>\n",
      "Dimensions:    (year: 32, longitude: 691, latitude: 491)\n",
      "Coordinates:\n",
      "  * year       (year) int64 1990 1991 1992 1993 1994 ... 2018 2019 2020 2021\n",
      "  * longitude  (longitude) float32 55.0 55.1 55.2 55.3 ... 123.8 123.9 124.0\n",
      "  * latitude   (latitude) float32 55.0 54.9 54.8 54.7 54.6 ... 6.3 6.2 6.1 6.0\n",
      "Data variables:\n",
      "    tp         (year, latitude, longitude) float32 1.292 1.303 1.315 ... 0.0 0.0\n",
      "CPU times: user 16.3 s, sys: 17 s, total: 33.3 s\n",
      "Wall time: 35 s\n"
     ]
    }
   ],
   "source": [
    "%%time\n",
    "# calculate mean annual temperature from daily data for each year: \n",
    "\n",
    "path = '/Users/varyabazilova/Desktop/era5land/dayly_precip'\n",
    "\n",
    "sumannual = xr.Dataset()\n",
    "\n",
    "\n",
    "for f in os.listdir(path)[1:]: # [1:] is to get rid of DS_store thing\n",
    "    # read every file: \n",
    "    ds = xr.open_dataset(os.path.join(path, f), decode_coords=\"all\")\n",
    "    # drop useless dimention\n",
    "    ds = ds.drop(labels='time_bnds')\n",
    "    # group by -> resample to annual \n",
    "    dsmean = ds.groupby('time.year').sum('time')\n",
    "    # print(dsmean)\n",
    "    # merge \n",
    "    sumannual = xr.merge([sumannual, dsmean])\n",
    "\n",
    "print(sumannual)\n",
    "\n"
   ]
  },
  {
   "cell_type": "code",
   "execution_count": 66,
   "id": "33bfe3fb-2bfe-4881-a8c3-65f2bc51c5ac",
   "metadata": {},
   "outputs": [],
   "source": [
    "# mean of the annual sum \n",
    "sumannual_mean = sumannual.mean(dim='year')"
   ]
  },
  {
   "cell_type": "code",
   "execution_count": 67,
   "id": "95f21b2c-a98f-4cae-84bd-5f298cedd2cc",
   "metadata": {},
   "outputs": [
    {
     "name": "stdout",
     "output_type": "stream",
     "text": [
      "CPU times: user 12.7 ms, sys: 6.87 ms, total: 19.6 ms\n",
      "Wall time: 19.7 ms\n"
     ]
    }
   ],
   "source": [
    "%%time\n",
    "\n",
    "lats = dfclim.y_wgs\n",
    "lons = dfclim.x_wgs\n",
    "\n",
    "sumannual_mean_sel = sumannual_mean.sel(latitude = lats, longitude = lons, method = 'nearest')\n",
    "\n",
    "\n",
    "# overwrite the coordinates for them to match: (ovewrite dimentions)\n",
    "sumannual_mean_sel['longitude'] = lons.values # x_wgs\n",
    "sumannual_mean_sel['latitude']= lats.values   # y_wgs"
   ]
  },
  {
   "cell_type": "code",
   "execution_count": 68,
   "id": "e49c102b-7682-4005-9284-b8ed8285d493",
   "metadata": {},
   "outputs": [
    {
     "name": "stdout",
     "output_type": "stream",
     "text": [
      "CPU times: user 115 ms, sys: 30.2 ms, total: 145 ms\n",
      "Wall time: 201 ms\n"
     ]
    }
   ],
   "source": [
    "%%time\n",
    "# to dataframe \n",
    "sumannual_mean_sel_df = sumannual_mean_sel.to_dataframe()\n",
    "# reset index \n",
    "sumannual_mean_sel_df = sumannual_mean_sel_df.reset_index()\n",
    "# rename coordinates \n",
    "sumannual_mean_sel_df = sumannual_mean_sel_df.rename(columns = {'longitude':'x_wgs', 'latitude':'y_wgs'})\n",
    "# m to mm \n",
    "sumannual_mean_sel_df['tp'] = sumannual_mean_sel_df.tp * 1000\n",
    "# rename: \n",
    "sumannual_mean_sel_df = sumannual_mean_sel_df.rename(columns = {'tp':'mean_annualsum_tp'}) \n",
    "\n",
    "\n",
    "# merge:\n",
    "dfclim = dfclim.merge(sumannual_mean_sel_df, on=['x_wgs', 'y_wgs'], how='left').drop_duplicates()\n",
    "\n",
    "\n"
   ]
  },
  {
   "cell_type": "code",
   "execution_count": 70,
   "id": "1492c7ed-8993-4863-a64a-14fcf81d2098",
   "metadata": {},
   "outputs": [],
   "source": [
    "# dfclim.to_csv('out/3aug_dfclim.csv')\n",
    "# dfclim"
   ]
  },
  {
   "cell_type": "markdown",
   "id": "43fb43fd-3296-4bcf-98c0-7da66c78d32e",
   "metadata": {},
   "source": [
    "## monsoon "
   ]
  },
  {
   "cell_type": "code",
   "execution_count": 41,
   "id": "a57d8262-c64e-4e37-90f7-49429bc10085",
   "metadata": {},
   "outputs": [
    {
     "name": "stdout",
     "output_type": "stream",
     "text": [
      "alltogether <xarray.Dataset>\n",
      "Dimensions:    (time: 5856, longitude: 691, latitude: 491)\n",
      "Coordinates:\n",
      "  * time       (time) datetime64[ns] 1990-04-01T11:00:00 ... 2021-09-30T11:00:00\n",
      "  * longitude  (longitude) float32 55.0 55.1 55.2 55.3 ... 123.8 123.9 124.0\n",
      "  * latitude   (latitude) float32 55.0 54.9 54.8 54.7 54.6 ... 6.3 6.2 6.1 6.0\n",
      "Data variables:\n",
      "    tp         (time, latitude, longitude) float32 0.005021 0.004943 ... nan nan\n",
      "CPU times: user 5min 28s, sys: 10min 43s, total: 16min 11s\n",
      "Wall time: 22min 20s\n"
     ]
    }
   ],
   "source": [
    "%%time\n",
    "# calculate mean annual temperature from daily data for each year: \n",
    "\n",
    "path = '/Users/varyabazilova/Desktop/era5land/dayly_precip'\n",
    "\n",
    "dsmonsoon = xr.Dataset()\n",
    "\n",
    "for f in os.listdir(path)[1:]:       # [1:] is to get rid of DS_store thing\n",
    "    # read every file: \n",
    "    ds = xr.open_dataset(os.path.join(path, f), decode_coords=\"all\")\n",
    "    # drop useless dimention\n",
    "    ds = ds.drop(labels='time_bnds')\n",
    "    # select monsoon month:\n",
    "    dsmons = ds.sel(time=ds.time.dt.month.isin([4,5,6,7,8,9]))\n",
    "    # merge \n",
    "    dsmonsoon = xr.merge([dsmonsoon, dsmons])\n",
    "print('alltogether', dsmonsoon)\n",
    "\n"
   ]
  },
  {
   "cell_type": "markdown",
   "id": "008cbb3e-fd40-46e3-ad47-35397bb5cff0",
   "metadata": {},
   "source": [
    "## mean "
   ]
  },
  {
   "cell_type": "code",
   "execution_count": 71,
   "id": "d718b5f4-b8f9-499c-82c5-a66396fea09f",
   "metadata": {},
   "outputs": [],
   "source": [
    "# calculate mean:\n",
    "dsmonsoon_mean = dsmonsoon.mean(dim = 'time')\n",
    "\n",
    "\n",
    "lats = dfclim.y_wgs\n",
    "lons = dfclim.x_wgs\n",
    "\n",
    "dsmonsoon_mean_sel = dsmonsoon_mean.sel(latitude = lats, longitude = lons, method = 'nearest')\n",
    "\n",
    "\n",
    "# overwrite the coordinates for them to match: (ovewrite dimentions)\n",
    "dsmonsoon_mean_sel['longitude'] = lons.values # x_wgs\n",
    "dsmonsoon_mean_sel['latitude']= lats.values   # y_wgs"
   ]
  },
  {
   "cell_type": "code",
   "execution_count": 72,
   "id": "615c039c-a209-4639-9cdf-d2ddc70a608a",
   "metadata": {},
   "outputs": [
    {
     "name": "stdout",
     "output_type": "stream",
     "text": [
      "CPU times: user 114 ms, sys: 38.8 ms, total: 153 ms\n",
      "Wall time: 204 ms\n"
     ]
    }
   ],
   "source": [
    "%%time\n",
    "\n",
    "# to dataframe, clean up and merge \n",
    "\n",
    "# to dataframe \n",
    "dsmonsoon_mean_sel_df = dsmonsoon_mean_sel.to_dataframe()\n",
    "# reset index \n",
    "dsmonsoon_mean_sel_df = dsmonsoon_mean_sel_df.reset_index()\n",
    "# rename coordinates \n",
    "dsmonsoon_mean_sel_df = dsmonsoon_mean_sel_df.rename(columns = {'longitude':'x_wgs', 'latitude':'y_wgs'})\n",
    "# m to mm \n",
    "dsmonsoon_mean_sel_df['tp'] = dsmonsoon_mean_sel_df.tp * 1000\n",
    "# rename: \n",
    "dsmonsoon_mean_sel_df = dsmonsoon_mean_sel_df.rename(columns = {'tp':'mean_daylymonsoon_tp'}) \n",
    "\n",
    "\n",
    "# merge:\n",
    "dfclim = dfclim.merge(dsmonsoon_mean_sel_df, on=['x_wgs', 'y_wgs'], how='left').drop_duplicates()\n",
    "\n",
    "\n",
    "\n"
   ]
  },
  {
   "cell_type": "code",
   "execution_count": 89,
   "id": "65b282a3-bc22-42cc-9e1d-205a64395b0d",
   "metadata": {},
   "outputs": [],
   "source": [
    "\n",
    "dfclim1 = dfclim.drop('mean_daylymonsoon_tp_x', axis = 1)\n",
    "dfclim1 = dfclim1.rename(columns = {'mean_daylymonsoon_tp_y':'mean_daylymonsoon_tp'}) \n",
    "\n",
    "# dfclim1.to_csv('out/3aug_dfclim.csv')"
   ]
  },
  {
   "cell_type": "code",
   "execution_count": 90,
   "id": "1ad098aa-e0f0-4006-ae82-ab615de55d89",
   "metadata": {},
   "outputs": [
    {
     "data": {
      "text/plain": [
       "Index(['Unnamed: 0', 'DN', 'target', 'Name', 'x_centroid', 'y_centroid',\n",
       "       'area_m', 'perimeter', 'glaciersum', 'mean_elevation',\n",
       "       'median_elevation', 'std_elevation', 'min_elevation', 'max_elevation',\n",
       "       'range_elevation', 'variance_elevation', 'region', 'region_name',\n",
       "       'mean_slope', 'median_slope', 'std_slope', 'min_slope', 'max_slope',\n",
       "       'range_slope', 'variance_slope', 'glarea_percent', 'glacier', 'x_wgs',\n",
       "       'y_wgs', 'M', 'Rc', 'Cc', 'mean_annual_T', 'mean_jan_T', 'mean_july_T',\n",
       "       'mean_monsoon_T', 'mean_no_monsoon_T', 'count_zeros', 'belowzero_frac',\n",
       "       'avgtemp_belowzero', 'mean_annual_tp', 'mean_annualsum_tp',\n",
       "       'mean_daylymonsoon_tp', 'mean_monsoon_sum_tp', 'monsoon_tp_frac'],\n",
       "      dtype='object')"
      ]
     },
     "execution_count": 90,
     "metadata": {},
     "output_type": "execute_result"
    }
   ],
   "source": [
    "dfclim1.columns    "
   ]
  },
  {
   "cell_type": "code",
   "execution_count": null,
   "id": "2449b4ad-9c5e-49a7-8f1c-573cd3dc718b",
   "metadata": {},
   "outputs": [],
   "source": []
  },
  {
   "cell_type": "markdown",
   "id": "3852eff8-4dff-4d94-b506-e8b118cb1322",
   "metadata": {},
   "source": [
    "### sum "
   ]
  },
  {
   "cell_type": "code",
   "execution_count": 91,
   "id": "02692560-5895-4681-89c7-1581df1f2363",
   "metadata": {},
   "outputs": [],
   "source": [
    "# calculate sum \n",
    "dsmonsoon_sum = dsmonsoon.sum(dim = 'time')\n",
    "\n",
    "# select coordinates \n",
    "lats = dfclim.y_wgs\n",
    "lons = dfclim.x_wgs\n",
    "\n",
    "dsmonsoon_sum_sel = dsmonsoon_sum.sel(latitude = lats, longitude = lons, method = 'nearest')\n",
    "\n",
    "\n",
    "# overwrite the coordinates for them to match: (ovewrite dimentions)\n",
    "dsmonsoon_sum_sel['longitude'] = lons.values # x_wgs\n",
    "dsmonsoon_sum_sel['latitude']= lats.values   # y_wgs\n"
   ]
  },
  {
   "cell_type": "code",
   "execution_count": 82,
   "id": "a7c3963e-34cd-4440-a95a-c36272b931af",
   "metadata": {},
   "outputs": [
    {
     "name": "stdout",
     "output_type": "stream",
     "text": [
      "CPU times: user 130 ms, sys: 35.9 ms, total: 165 ms\n",
      "Wall time: 171 ms\n"
     ]
    }
   ],
   "source": [
    "%%time\n",
    "\n",
    "# to dataframe, clean up and merge \n",
    "\n",
    "# to dataframe \n",
    "# reset index \n",
    "dsmonsoon_sum_sel_df = dsmonsoon_sum_sel.to_dataframe().reset_index()\n",
    "# rename coordinates \n",
    "dsmonsoon_sum_sel_df = dsmonsoon_sum_sel_df.rename(columns = {'longitude':'x_wgs', 'latitude':'y_wgs'})\n",
    "# m to mm \n",
    "dsmonsoon_sum_sel_df['tp'] = dsmonsoon_sum_sel_df.tp * 1000\n",
    "# rename: \n",
    "dsmonsoon_sum_sel_df = dsmonsoon_sum_sel_df.rename(columns = {'tp':'mean_monsoon_sum_tp'}) \n",
    "\n",
    "\n",
    "# merge:\n",
    "dfclim = dfclim.merge(dsmonsoon_sum_sel_df, on=['x_wgs', 'y_wgs'], how='left').drop_duplicates()\n",
    "\n",
    "\n",
    "\n",
    "\n"
   ]
  },
  {
   "cell_type": "code",
   "execution_count": 80,
   "id": "bf1a4f2f-ebfe-403e-ad2a-6e9acdeb9d8f",
   "metadata": {},
   "outputs": [],
   "source": [
    "# save dfclim \n",
    "\n",
    "# dfclim.columns\n",
    "# dfclim.to_csv('out/3aug_dfclim.csv')\n",
    "\n"
   ]
  },
  {
   "cell_type": "code",
   "execution_count": 95,
   "id": "d5034f2e-8d1b-40fe-9125-8545ce52f760",
   "metadata": {},
   "outputs": [
    {
     "data": {
      "text/plain": [
       "Index(['Unnamed: 0', 'DN', 'target', 'Name', 'x_centroid', 'y_centroid',\n",
       "       'area_m', 'perimeter', 'glaciersum', 'mean_elevation',\n",
       "       'median_elevation', 'std_elevation', 'min_elevation', 'max_elevation',\n",
       "       'range_elevation', 'variance_elevation', 'region', 'region_name',\n",
       "       'mean_slope', 'median_slope', 'std_slope', 'min_slope', 'max_slope',\n",
       "       'range_slope', 'variance_slope', 'glarea_percent', 'glacier', 'x_wgs',\n",
       "       'y_wgs', 'M', 'Rc', 'Cc', 'mean_annual_T', 'mean_jan_T', 'mean_july_T',\n",
       "       'mean_monsoon_T', 'mean_no_monsoon_T', 'count_zeros', 'belowzero_frac',\n",
       "       'avgtemp_belowzero', 'mean_annual_tp', 'mean_annualsum_tp',\n",
       "       'mean_daylymonsoon_tp', 'mean_monsoon_sum_tp', 'monsoon_tp_frac'],\n",
       "      dtype='object')"
      ]
     },
     "execution_count": 95,
     "metadata": {},
     "output_type": "execute_result"
    }
   ],
   "source": [
    "dfclim1.columns"
   ]
  },
  {
   "cell_type": "markdown",
   "id": "2fd5425d-ec4a-4cad-9f0f-c3b5e61713c1",
   "metadata": {},
   "source": [
    "## fraction of rain during monsoon "
   ]
  },
  {
   "cell_type": "code",
   "execution_count": 97,
   "id": "6ef6d40e-6165-4cc2-b587-701fa465f449",
   "metadata": {},
   "outputs": [],
   "source": [
    "# total monsoon / total annual precip \n",
    "\n",
    "dfclim1['monsoon_tp_frac'] = dfclim.mean_monsoon_sum_tp / dfclim.mean_annualsum_tp"
   ]
  },
  {
   "cell_type": "code",
   "execution_count": 99,
   "id": "9a2e9b6e-8bcf-48d5-9568-dd420f7fd889",
   "metadata": {},
   "outputs": [],
   "source": [
    "dfclim1.to_csv('out/3aug_dfclim.csv')"
   ]
  },
  {
   "cell_type": "code",
   "execution_count": null,
   "id": "65122a83-268a-4527-b29d-85d9e43bfa48",
   "metadata": {},
   "outputs": [],
   "source": []
  },
  {
   "cell_type": "markdown",
   "id": "f710c807-47dc-419c-8095-fc33ad4f2712",
   "metadata": {},
   "source": [
    "### number of wet days (precip more them 10mm) a day "
   ]
  },
  {
   "cell_type": "code",
   "execution_count": 115,
   "id": "b1f3d747-def7-49f4-8fac-e2dcc1592408",
   "metadata": {},
   "outputs": [
    {
     "name": "stdout",
     "output_type": "stream",
     "text": [
      "number of days <10mm <xarray.Dataset>\n",
      "Dimensions:    (year: 32, longitude: 691, latitude: 491)\n",
      "Coordinates:\n",
      "  * year       (year) int64 1990 1991 1992 1993 1994 ... 2018 2019 2020 2021\n",
      "  * longitude  (longitude) float32 55.0 55.1 55.2 55.3 ... 123.8 123.9 124.0\n",
      "  * latitude   (latitude) float32 55.0 54.9 54.8 54.7 54.6 ... 6.3 6.2 6.1 6.0\n",
      "Data variables:\n",
      "    tp         (year, latitude, longitude) float32 1.292e+03 1.303e+03 ... 0.0\n",
      "    forcount   (year, latitude, longitude) float64 90.0 92.0 99.0 ... 0.0 0.0\n",
      "CPU times: user 36.2 s, sys: 49.9 s, total: 1min 26s\n",
      "Wall time: 1min 34s\n"
     ]
    }
   ],
   "source": [
    "%%time\n",
    "# calculate how many times temp timeseries crosses 0 \n",
    "path = '/Users/varyabazilova/Desktop/era5land/dayly_precip'\n",
    "\n",
    "raindays = xr.Dataset()\n",
    "\n",
    "for f in os.listdir(path)[1:]: \n",
    "    # read every file: \n",
    "    ds = xr.open_dataset(os.path.join(path, f), decode_coords=\"all\")\n",
    "    # drop useless dimention\n",
    "    ds = ds.drop(labels='time_bnds')\n",
    "    # m to mm \n",
    "    ds['tp'] = ds.tp * 1000\n",
    "    # if negative = 1, else = 0 \n",
    "    ds['forcount'] = xr.where(ds.tp > 5, 1, 0)\n",
    "    # sum the \"rainy days\"\n",
    "    dscount = ds.groupby('time.year').sum('time')\n",
    "    # fraction of the year\n",
    "    # dscount['fraction'] = dscount.forcount / 365\n",
    "    \n",
    "    # print('dsfraction', dscount)\n",
    "    # merge:\n",
    "    raindays = xr.merge([raindays, dscount])\n",
    "\n",
    "print('number of days > 5 mm', raindays)"
   ]
  },
  {
   "cell_type": "code",
   "execution_count": 117,
   "id": "c6cfcf29-dbbf-461a-8118-bec4b196325b",
   "metadata": {},
   "outputs": [],
   "source": [
    "raindays_mean = raindays.mean(dim = 'year')"
   ]
  },
  {
   "cell_type": "code",
   "execution_count": 118,
   "id": "1fb15a28-d459-4573-8997-fea5f0e969f4",
   "metadata": {},
   "outputs": [
    {
     "name": "stdout",
     "output_type": "stream",
     "text": [
      "CPU times: user 16.3 ms, sys: 7.62 ms, total: 23.9 ms\n",
      "Wall time: 22.6 ms\n"
     ]
    }
   ],
   "source": [
    "%%time\n",
    "\n",
    "\n",
    "lats = dfclim.y_wgs\n",
    "lons = dfclim.x_wgs\n",
    "\n",
    "raindays_mean_sel = raindays_mean.sel(latitude = lats, longitude = lons, method = 'nearest')\n",
    "\n",
    "\n",
    "# overwrite the coordinates for them to match: (ovewrite dimentions)\n",
    "raindays_mean_sel['longitude'] = lons.values # x_wgs\n",
    "raindays_mean_sel['latitude']= lats.values   # y_wgs"
   ]
  },
  {
   "cell_type": "code",
   "execution_count": 119,
   "id": "d5fe2eb4-24e3-423a-b740-ca3370e31694",
   "metadata": {},
   "outputs": [
    {
     "name": "stdout",
     "output_type": "stream",
     "text": [
      "CPU times: user 32.5 ms, sys: 25.4 ms, total: 57.9 ms\n",
      "Wall time: 75.4 ms\n"
     ]
    }
   ],
   "source": [
    "%%time\n",
    "\n",
    "# to data frame\n",
    "raindays_mean_sel_df = raindays_mean_sel.to_dataframe().reset_index().drop(['tp'], axis = 1)\n",
    "# #rename:\n",
    "raindays_mean_sel_df = raindays_mean_sel_df.rename(columns = {'longitude':'x_wgs', 'latitude':'y_wgs', \n",
    "                                                              'forcount': 'n_rainy_days'})\n",
    "# #rename column: \n",
    "# # drop month \n",
    "# raindays_mean_sel_df = raindays_mean_sel_df"
   ]
  },
  {
   "cell_type": "code",
   "execution_count": 122,
   "id": "43650bae-5397-4c4a-8c84-11a123e21510",
   "metadata": {},
   "outputs": [],
   "source": [
    "dfclim = dfclim.merge(raindays_mean_sel_df, on=['x_wgs', 'y_wgs'], how='left').drop_duplicates()\n"
   ]
  },
  {
   "cell_type": "code",
   "execution_count": 126,
   "id": "03c1d85d-3fe1-4d28-ab1a-d9ef882462c5",
   "metadata": {},
   "outputs": [],
   "source": [
    "# dfclim.to_csv('out/dfclim_3aug_rainydays.csv')"
   ]
  },
  {
   "cell_type": "markdown",
   "id": "353738f2-016c-42e7-8867-1a88e1412e9e",
   "metadata": {},
   "source": [
    "### fraction of wet days (relative to 365)"
   ]
  },
  {
   "cell_type": "code",
   "execution_count": 128,
   "id": "c6cfbbdf-36da-4eb8-9849-25934b866999",
   "metadata": {},
   "outputs": [],
   "source": [
    "# n_rainy_days/365\n",
    "\n",
    "dfclim['rainy_days_frac'] = dfclim.n_rainy_days / 365"
   ]
  },
  {
   "cell_type": "code",
   "execution_count": 129,
   "id": "78db4d94-1a4f-4354-a6fd-3e038d75286e",
   "metadata": {},
   "outputs": [],
   "source": [
    "# dfclim.to_csv('out/dfclim_3aug_rainydays.csv')"
   ]
  },
  {
   "cell_type": "code",
   "execution_count": 2,
   "id": "24d0af27-012d-4036-895e-d69ec53319f8",
   "metadata": {},
   "outputs": [],
   "source": [
    "dfclim = pd.read_csv('out/dfclim_3aug_rainydays.csv')"
   ]
  },
  {
   "cell_type": "markdown",
   "id": "983c8f73-5bce-4004-8420-bd3bc86864e4",
   "metadata": {},
   "source": [
    "### Q: 95% \n"
   ]
  },
  {
   "cell_type": "code",
   "execution_count": 16,
   "id": "c51252f2-f51c-4157-8c4c-314b89448a96",
   "metadata": {},
   "outputs": [
    {
     "name": "stderr",
     "output_type": "stream",
     "text": [
      "/Users/varyabazilova/opt/anaconda3/envs/project1/lib/python3.7/site-packages/numpy/lib/nanfunctions.py:1390: RuntimeWarning: All-NaN slice encountered\n",
      "  overwrite_input, interpolation)\n"
     ]
    }
   ],
   "source": [
    "path = '/Users/varyabazilova/Desktop/era5land/dayly_precip/'\n",
    "testfile = xr.open_dataset(path + 'precip_daymax_1990.nc')\n",
    "\n",
    "testfileq95 = testfile.quantile(0.95, dim = 'time') "
   ]
  },
  {
   "cell_type": "code",
   "execution_count": 28,
   "id": "c9e4ccfb-3183-47b9-af2a-7efb499ba3bb",
   "metadata": {},
   "outputs": [],
   "source": [
    "t95 = testfile.quantile(q=0.95, dim='time')"
   ]
  },
  {
   "cell_type": "code",
   "execution_count": 29,
   "id": "80319870-93df-4049-975d-2565b33620a4",
   "metadata": {},
   "outputs": [],
   "source": [
    "t65 = testfile.quantile(q=0.65, dim='time')"
   ]
  },
  {
   "cell_type": "code",
   "execution_count": 34,
   "id": "6fea8049-986d-4df3-ac33-960a815c390b",
   "metadata": {},
   "outputs": [],
   "source": [
    "# xr.merge([t95, t65], compat='override')"
   ]
  },
  {
   "cell_type": "code",
   "execution_count": 32,
   "id": "2c7eea0d-74ee-4218-a567-58e3fc16186e",
   "metadata": {},
   "outputs": [
    {
     "ename": "KeyboardInterrupt",
     "evalue": "",
     "output_type": "error",
     "traceback": [
      "\u001b[0;31m---------------------------------------------------------------------------\u001b[0m",
      "\u001b[0;31mKeyboardInterrupt\u001b[0m                         Traceback (most recent call last)",
      "\u001b[0;32m/var/folders/31/xdyntby945q7564txk4rqyh40000gp/T/ipykernel_11840/3232524019.py\u001b[0m in \u001b[0;36m<module>\u001b[0;34m\u001b[0m\n\u001b[1;32m     12\u001b[0m     \u001b[0;31m# m to mm\u001b[0m\u001b[0;34m\u001b[0m\u001b[0;34m\u001b[0m\u001b[0;34m\u001b[0m\u001b[0m\n\u001b[1;32m     13\u001b[0m     \u001b[0mds\u001b[0m\u001b[0;34m[\u001b[0m\u001b[0;34m'tp'\u001b[0m\u001b[0;34m]\u001b[0m  \u001b[0;34m=\u001b[0m \u001b[0mds\u001b[0m\u001b[0;34m.\u001b[0m\u001b[0mtp\u001b[0m \u001b[0;34m*\u001b[0m \u001b[0;36m1000\u001b[0m\u001b[0;34m\u001b[0m\u001b[0;34m\u001b[0m\u001b[0m\n\u001b[0;32m---> 14\u001b[0;31m     \u001b[0mds\u001b[0m\u001b[0;34m[\u001b[0m\u001b[0;34m'q95'\u001b[0m\u001b[0;34m]\u001b[0m \u001b[0;34m=\u001b[0m \u001b[0mds\u001b[0m\u001b[0;34m.\u001b[0m\u001b[0mgroupby\u001b[0m\u001b[0;34m(\u001b[0m\u001b[0;34m'time.year'\u001b[0m\u001b[0;34m)\u001b[0m\u001b[0;34m.\u001b[0m\u001b[0mquantile\u001b[0m\u001b[0;34m(\u001b[0m\u001b[0mq\u001b[0m\u001b[0;34m=\u001b[0m\u001b[0;36m0.95\u001b[0m\u001b[0;34m,\u001b[0m \u001b[0mdim\u001b[0m \u001b[0;34m=\u001b[0m \u001b[0;34m'time'\u001b[0m\u001b[0;34m)\u001b[0m\u001b[0;34m\u001b[0m\u001b[0;34m\u001b[0m\u001b[0m\n\u001b[0m\u001b[1;32m     15\u001b[0m \u001b[0;34m\u001b[0m\u001b[0m\n\u001b[1;32m     16\u001b[0m     \u001b[0;31m# print(ds)\u001b[0m\u001b[0;34m\u001b[0m\u001b[0;34m\u001b[0m\u001b[0;34m\u001b[0m\u001b[0m\n",
      "\u001b[0;32m~/opt/anaconda3/envs/project1/lib/python3.7/site-packages/xarray/core/groupby.py\u001b[0m in \u001b[0;36mquantile\u001b[0;34m(self, q, dim, interpolation, keep_attrs, skipna)\u001b[0m\n\u001b[1;32m    650\u001b[0m             \u001b[0minterpolation\u001b[0m\u001b[0;34m=\u001b[0m\u001b[0minterpolation\u001b[0m\u001b[0;34m,\u001b[0m\u001b[0;34m\u001b[0m\u001b[0;34m\u001b[0m\u001b[0m\n\u001b[1;32m    651\u001b[0m             \u001b[0mkeep_attrs\u001b[0m\u001b[0;34m=\u001b[0m\u001b[0mkeep_attrs\u001b[0m\u001b[0;34m,\u001b[0m\u001b[0;34m\u001b[0m\u001b[0;34m\u001b[0m\u001b[0m\n\u001b[0;32m--> 652\u001b[0;31m             \u001b[0mskipna\u001b[0m\u001b[0;34m=\u001b[0m\u001b[0mskipna\u001b[0m\u001b[0;34m,\u001b[0m\u001b[0;34m\u001b[0m\u001b[0;34m\u001b[0m\u001b[0m\n\u001b[0m\u001b[1;32m    653\u001b[0m         )\n\u001b[1;32m    654\u001b[0m         \u001b[0;32mreturn\u001b[0m \u001b[0mout\u001b[0m\u001b[0;34m\u001b[0m\u001b[0;34m\u001b[0m\u001b[0m\n",
      "\u001b[0;32m~/opt/anaconda3/envs/project1/lib/python3.7/site-packages/xarray/core/groupby.py\u001b[0m in \u001b[0;36mmap\u001b[0;34m(self, func, args, shortcut, **kwargs)\u001b[0m\n\u001b[1;32m    914\u001b[0m         \u001b[0;31m# ignore shortcut if set (for now)\u001b[0m\u001b[0;34m\u001b[0m\u001b[0;34m\u001b[0m\u001b[0;34m\u001b[0m\u001b[0m\n\u001b[1;32m    915\u001b[0m         \u001b[0mapplied\u001b[0m \u001b[0;34m=\u001b[0m \u001b[0;34m(\u001b[0m\u001b[0mfunc\u001b[0m\u001b[0;34m(\u001b[0m\u001b[0mds\u001b[0m\u001b[0;34m,\u001b[0m \u001b[0;34m*\u001b[0m\u001b[0margs\u001b[0m\u001b[0;34m,\u001b[0m \u001b[0;34m**\u001b[0m\u001b[0mkwargs\u001b[0m\u001b[0;34m)\u001b[0m \u001b[0;32mfor\u001b[0m \u001b[0mds\u001b[0m \u001b[0;32min\u001b[0m \u001b[0mself\u001b[0m\u001b[0;34m.\u001b[0m\u001b[0m_iter_grouped\u001b[0m\u001b[0;34m(\u001b[0m\u001b[0;34m)\u001b[0m\u001b[0;34m)\u001b[0m\u001b[0;34m\u001b[0m\u001b[0;34m\u001b[0m\u001b[0m\n\u001b[0;32m--> 916\u001b[0;31m         \u001b[0;32mreturn\u001b[0m \u001b[0mself\u001b[0m\u001b[0;34m.\u001b[0m\u001b[0m_combine\u001b[0m\u001b[0;34m(\u001b[0m\u001b[0mapplied\u001b[0m\u001b[0;34m)\u001b[0m\u001b[0;34m\u001b[0m\u001b[0;34m\u001b[0m\u001b[0m\n\u001b[0m\u001b[1;32m    917\u001b[0m \u001b[0;34m\u001b[0m\u001b[0m\n\u001b[1;32m    918\u001b[0m     \u001b[0;32mdef\u001b[0m \u001b[0mapply\u001b[0m\u001b[0;34m(\u001b[0m\u001b[0mself\u001b[0m\u001b[0;34m,\u001b[0m \u001b[0mfunc\u001b[0m\u001b[0;34m,\u001b[0m \u001b[0margs\u001b[0m\u001b[0;34m=\u001b[0m\u001b[0;34m(\u001b[0m\u001b[0;34m)\u001b[0m\u001b[0;34m,\u001b[0m \u001b[0mshortcut\u001b[0m\u001b[0;34m=\u001b[0m\u001b[0;32mNone\u001b[0m\u001b[0;34m,\u001b[0m \u001b[0;34m**\u001b[0m\u001b[0mkwargs\u001b[0m\u001b[0;34m)\u001b[0m\u001b[0;34m:\u001b[0m\u001b[0;34m\u001b[0m\u001b[0;34m\u001b[0m\u001b[0m\n",
      "\u001b[0;32m~/opt/anaconda3/envs/project1/lib/python3.7/site-packages/xarray/core/groupby.py\u001b[0m in \u001b[0;36m_combine\u001b[0;34m(self, applied)\u001b[0m\n\u001b[1;32m    934\u001b[0m     \u001b[0;32mdef\u001b[0m \u001b[0m_combine\u001b[0m\u001b[0;34m(\u001b[0m\u001b[0mself\u001b[0m\u001b[0;34m,\u001b[0m \u001b[0mapplied\u001b[0m\u001b[0;34m)\u001b[0m\u001b[0;34m:\u001b[0m\u001b[0;34m\u001b[0m\u001b[0;34m\u001b[0m\u001b[0m\n\u001b[1;32m    935\u001b[0m         \u001b[0;34m\"\"\"Recombine the applied objects like the original.\"\"\"\u001b[0m\u001b[0;34m\u001b[0m\u001b[0;34m\u001b[0m\u001b[0m\n\u001b[0;32m--> 936\u001b[0;31m         \u001b[0mapplied_example\u001b[0m\u001b[0;34m,\u001b[0m \u001b[0mapplied\u001b[0m \u001b[0;34m=\u001b[0m \u001b[0mpeek_at\u001b[0m\u001b[0;34m(\u001b[0m\u001b[0mapplied\u001b[0m\u001b[0;34m)\u001b[0m\u001b[0;34m\u001b[0m\u001b[0;34m\u001b[0m\u001b[0m\n\u001b[0m\u001b[1;32m    937\u001b[0m         \u001b[0mcoord\u001b[0m\u001b[0;34m,\u001b[0m \u001b[0mdim\u001b[0m\u001b[0;34m,\u001b[0m \u001b[0mpositions\u001b[0m \u001b[0;34m=\u001b[0m \u001b[0mself\u001b[0m\u001b[0;34m.\u001b[0m\u001b[0m_infer_concat_args\u001b[0m\u001b[0;34m(\u001b[0m\u001b[0mapplied_example\u001b[0m\u001b[0;34m)\u001b[0m\u001b[0;34m\u001b[0m\u001b[0;34m\u001b[0m\u001b[0m\n\u001b[1;32m    938\u001b[0m         \u001b[0mcombined\u001b[0m \u001b[0;34m=\u001b[0m \u001b[0mconcat\u001b[0m\u001b[0;34m(\u001b[0m\u001b[0mapplied\u001b[0m\u001b[0;34m,\u001b[0m \u001b[0mdim\u001b[0m\u001b[0;34m)\u001b[0m\u001b[0;34m\u001b[0m\u001b[0;34m\u001b[0m\u001b[0m\n",
      "\u001b[0;32m~/opt/anaconda3/envs/project1/lib/python3.7/site-packages/xarray/core/utils.py\u001b[0m in \u001b[0;36mpeek_at\u001b[0;34m(iterable)\u001b[0m\n\u001b[1;32m    194\u001b[0m     \"\"\"\n\u001b[1;32m    195\u001b[0m     \u001b[0mgen\u001b[0m \u001b[0;34m=\u001b[0m \u001b[0miter\u001b[0m\u001b[0;34m(\u001b[0m\u001b[0miterable\u001b[0m\u001b[0;34m)\u001b[0m\u001b[0;34m\u001b[0m\u001b[0;34m\u001b[0m\u001b[0m\n\u001b[0;32m--> 196\u001b[0;31m     \u001b[0mpeek\u001b[0m \u001b[0;34m=\u001b[0m \u001b[0mnext\u001b[0m\u001b[0;34m(\u001b[0m\u001b[0mgen\u001b[0m\u001b[0;34m)\u001b[0m\u001b[0;34m\u001b[0m\u001b[0;34m\u001b[0m\u001b[0m\n\u001b[0m\u001b[1;32m    197\u001b[0m     \u001b[0;32mreturn\u001b[0m \u001b[0mpeek\u001b[0m\u001b[0;34m,\u001b[0m \u001b[0mitertools\u001b[0m\u001b[0;34m.\u001b[0m\u001b[0mchain\u001b[0m\u001b[0;34m(\u001b[0m\u001b[0;34m[\u001b[0m\u001b[0mpeek\u001b[0m\u001b[0;34m]\u001b[0m\u001b[0;34m,\u001b[0m \u001b[0mgen\u001b[0m\u001b[0;34m)\u001b[0m\u001b[0;34m\u001b[0m\u001b[0;34m\u001b[0m\u001b[0m\n\u001b[1;32m    198\u001b[0m \u001b[0;34m\u001b[0m\u001b[0m\n",
      "\u001b[0;32m~/opt/anaconda3/envs/project1/lib/python3.7/site-packages/xarray/core/groupby.py\u001b[0m in \u001b[0;36m<genexpr>\u001b[0;34m(.0)\u001b[0m\n\u001b[1;32m    913\u001b[0m         \"\"\"\n\u001b[1;32m    914\u001b[0m         \u001b[0;31m# ignore shortcut if set (for now)\u001b[0m\u001b[0;34m\u001b[0m\u001b[0;34m\u001b[0m\u001b[0;34m\u001b[0m\u001b[0m\n\u001b[0;32m--> 915\u001b[0;31m         \u001b[0mapplied\u001b[0m \u001b[0;34m=\u001b[0m \u001b[0;34m(\u001b[0m\u001b[0mfunc\u001b[0m\u001b[0;34m(\u001b[0m\u001b[0mds\u001b[0m\u001b[0;34m,\u001b[0m \u001b[0;34m*\u001b[0m\u001b[0margs\u001b[0m\u001b[0;34m,\u001b[0m \u001b[0;34m**\u001b[0m\u001b[0mkwargs\u001b[0m\u001b[0;34m)\u001b[0m \u001b[0;32mfor\u001b[0m \u001b[0mds\u001b[0m \u001b[0;32min\u001b[0m \u001b[0mself\u001b[0m\u001b[0;34m.\u001b[0m\u001b[0m_iter_grouped\u001b[0m\u001b[0;34m(\u001b[0m\u001b[0;34m)\u001b[0m\u001b[0;34m)\u001b[0m\u001b[0;34m\u001b[0m\u001b[0;34m\u001b[0m\u001b[0m\n\u001b[0m\u001b[1;32m    916\u001b[0m         \u001b[0;32mreturn\u001b[0m \u001b[0mself\u001b[0m\u001b[0;34m.\u001b[0m\u001b[0m_combine\u001b[0m\u001b[0;34m(\u001b[0m\u001b[0mapplied\u001b[0m\u001b[0;34m)\u001b[0m\u001b[0;34m\u001b[0m\u001b[0;34m\u001b[0m\u001b[0m\n\u001b[1;32m    917\u001b[0m \u001b[0;34m\u001b[0m\u001b[0m\n",
      "\u001b[0;32m~/opt/anaconda3/envs/project1/lib/python3.7/site-packages/xarray/core/dataset.py\u001b[0m in \u001b[0;36mquantile\u001b[0;34m(self, q, dim, interpolation, numeric_only, keep_attrs, skipna)\u001b[0m\n\u001b[1;32m   6258\u001b[0m                             \u001b[0minterpolation\u001b[0m\u001b[0;34m=\u001b[0m\u001b[0minterpolation\u001b[0m\u001b[0;34m,\u001b[0m\u001b[0;34m\u001b[0m\u001b[0;34m\u001b[0m\u001b[0m\n\u001b[1;32m   6259\u001b[0m                             \u001b[0mkeep_attrs\u001b[0m\u001b[0;34m=\u001b[0m\u001b[0mkeep_attrs\u001b[0m\u001b[0;34m,\u001b[0m\u001b[0;34m\u001b[0m\u001b[0;34m\u001b[0m\u001b[0m\n\u001b[0;32m-> 6260\u001b[0;31m                             \u001b[0mskipna\u001b[0m\u001b[0;34m=\u001b[0m\u001b[0mskipna\u001b[0m\u001b[0;34m,\u001b[0m\u001b[0;34m\u001b[0m\u001b[0;34m\u001b[0m\u001b[0m\n\u001b[0m\u001b[1;32m   6261\u001b[0m                         )\n\u001b[1;32m   6262\u001b[0m \u001b[0;34m\u001b[0m\u001b[0m\n",
      "\u001b[0;32m~/opt/anaconda3/envs/project1/lib/python3.7/site-packages/xarray/core/variable.py\u001b[0m in \u001b[0;36mquantile\u001b[0;34m(self, q, dim, interpolation, keep_attrs, skipna)\u001b[0m\n\u001b[1;32m   2034\u001b[0m             \u001b[0mdask_gufunc_kwargs\u001b[0m\u001b[0;34m=\u001b[0m\u001b[0mdict\u001b[0m\u001b[0;34m(\u001b[0m\u001b[0moutput_sizes\u001b[0m\u001b[0;34m=\u001b[0m\u001b[0;34m{\u001b[0m\u001b[0;34m\"quantile\"\u001b[0m\u001b[0;34m:\u001b[0m \u001b[0mlen\u001b[0m\u001b[0;34m(\u001b[0m\u001b[0mq\u001b[0m\u001b[0;34m)\u001b[0m\u001b[0;34m}\u001b[0m\u001b[0;34m)\u001b[0m\u001b[0;34m,\u001b[0m\u001b[0;34m\u001b[0m\u001b[0;34m\u001b[0m\u001b[0m\n\u001b[1;32m   2035\u001b[0m             \u001b[0mdask\u001b[0m\u001b[0;34m=\u001b[0m\u001b[0;34m\"parallelized\"\u001b[0m\u001b[0;34m,\u001b[0m\u001b[0;34m\u001b[0m\u001b[0;34m\u001b[0m\u001b[0m\n\u001b[0;32m-> 2036\u001b[0;31m             \u001b[0mkwargs\u001b[0m\u001b[0;34m=\u001b[0m\u001b[0;34m{\u001b[0m\u001b[0;34m\"q\"\u001b[0m\u001b[0;34m:\u001b[0m \u001b[0mq\u001b[0m\u001b[0;34m,\u001b[0m \u001b[0;34m\"axis\"\u001b[0m\u001b[0;34m:\u001b[0m \u001b[0maxis\u001b[0m\u001b[0;34m,\u001b[0m \u001b[0;34m\"interpolation\"\u001b[0m\u001b[0;34m:\u001b[0m \u001b[0minterpolation\u001b[0m\u001b[0;34m}\u001b[0m\u001b[0;34m,\u001b[0m\u001b[0;34m\u001b[0m\u001b[0;34m\u001b[0m\u001b[0m\n\u001b[0m\u001b[1;32m   2037\u001b[0m         )\n\u001b[1;32m   2038\u001b[0m \u001b[0;34m\u001b[0m\u001b[0m\n",
      "\u001b[0;32m~/opt/anaconda3/envs/project1/lib/python3.7/site-packages/xarray/core/computation.py\u001b[0m in \u001b[0;36mapply_ufunc\u001b[0;34m(func, input_core_dims, output_core_dims, exclude_dims, vectorize, join, dataset_join, dataset_fill_value, keep_attrs, kwargs, dask, output_dtypes, output_sizes, meta, dask_gufunc_kwargs, *args)\u001b[0m\n\u001b[1;32m   1173\u001b[0m     \u001b[0;31m# feed Variables directly through apply_variable_ufunc\u001b[0m\u001b[0;34m\u001b[0m\u001b[0;34m\u001b[0m\u001b[0;34m\u001b[0m\u001b[0m\n\u001b[1;32m   1174\u001b[0m     \u001b[0;32melif\u001b[0m \u001b[0many\u001b[0m\u001b[0;34m(\u001b[0m\u001b[0misinstance\u001b[0m\u001b[0;34m(\u001b[0m\u001b[0ma\u001b[0m\u001b[0;34m,\u001b[0m \u001b[0mVariable\u001b[0m\u001b[0;34m)\u001b[0m \u001b[0;32mfor\u001b[0m \u001b[0ma\u001b[0m \u001b[0;32min\u001b[0m \u001b[0margs\u001b[0m\u001b[0;34m)\u001b[0m\u001b[0;34m:\u001b[0m\u001b[0;34m\u001b[0m\u001b[0;34m\u001b[0m\u001b[0m\n\u001b[0;32m-> 1175\u001b[0;31m         \u001b[0;32mreturn\u001b[0m \u001b[0mvariables_vfunc\u001b[0m\u001b[0;34m(\u001b[0m\u001b[0;34m*\u001b[0m\u001b[0margs\u001b[0m\u001b[0;34m)\u001b[0m\u001b[0;34m\u001b[0m\u001b[0;34m\u001b[0m\u001b[0m\n\u001b[0m\u001b[1;32m   1176\u001b[0m     \u001b[0;32melse\u001b[0m\u001b[0;34m:\u001b[0m\u001b[0;34m\u001b[0m\u001b[0;34m\u001b[0m\u001b[0m\n\u001b[1;32m   1177\u001b[0m         \u001b[0;31m# feed anything else through apply_array_ufunc\u001b[0m\u001b[0;34m\u001b[0m\u001b[0;34m\u001b[0m\u001b[0;34m\u001b[0m\u001b[0m\n",
      "\u001b[0;32m~/opt/anaconda3/envs/project1/lib/python3.7/site-packages/xarray/core/computation.py\u001b[0m in \u001b[0;36mapply_variable_ufunc\u001b[0;34m(func, signature, exclude_dims, dask, output_dtypes, vectorize, keep_attrs, dask_gufunc_kwargs, *args)\u001b[0m\n\u001b[1;32m    731\u001b[0m             )\n\u001b[1;32m    732\u001b[0m \u001b[0;34m\u001b[0m\u001b[0m\n\u001b[0;32m--> 733\u001b[0;31m     \u001b[0mresult_data\u001b[0m \u001b[0;34m=\u001b[0m \u001b[0mfunc\u001b[0m\u001b[0;34m(\u001b[0m\u001b[0;34m*\u001b[0m\u001b[0minput_data\u001b[0m\u001b[0;34m)\u001b[0m\u001b[0;34m\u001b[0m\u001b[0;34m\u001b[0m\u001b[0m\n\u001b[0m\u001b[1;32m    734\u001b[0m \u001b[0;34m\u001b[0m\u001b[0m\n\u001b[1;32m    735\u001b[0m     \u001b[0;32mif\u001b[0m \u001b[0msignature\u001b[0m\u001b[0;34m.\u001b[0m\u001b[0mnum_outputs\u001b[0m \u001b[0;34m==\u001b[0m \u001b[0;36m1\u001b[0m\u001b[0;34m:\u001b[0m\u001b[0;34m\u001b[0m\u001b[0;34m\u001b[0m\u001b[0m\n",
      "\u001b[0;32m~/opt/anaconda3/envs/project1/lib/python3.7/site-packages/xarray/core/variable.py\u001b[0m in \u001b[0;36m_wrapper\u001b[0;34m(npa, **kwargs)\u001b[0m\n\u001b[1;32m   2022\u001b[0m         \u001b[0;32mdef\u001b[0m \u001b[0m_wrapper\u001b[0m\u001b[0;34m(\u001b[0m\u001b[0mnpa\u001b[0m\u001b[0;34m,\u001b[0m \u001b[0;34m**\u001b[0m\u001b[0mkwargs\u001b[0m\u001b[0;34m)\u001b[0m\u001b[0;34m:\u001b[0m\u001b[0;34m\u001b[0m\u001b[0;34m\u001b[0m\u001b[0m\n\u001b[1;32m   2023\u001b[0m             \u001b[0;31m# move quantile axis to end. required for apply_ufunc\u001b[0m\u001b[0;34m\u001b[0m\u001b[0;34m\u001b[0m\u001b[0;34m\u001b[0m\u001b[0m\n\u001b[0;32m-> 2024\u001b[0;31m             \u001b[0;32mreturn\u001b[0m \u001b[0mnp\u001b[0m\u001b[0;34m.\u001b[0m\u001b[0mmoveaxis\u001b[0m\u001b[0;34m(\u001b[0m\u001b[0m_quantile_func\u001b[0m\u001b[0;34m(\u001b[0m\u001b[0mnpa\u001b[0m\u001b[0;34m,\u001b[0m \u001b[0;34m**\u001b[0m\u001b[0mkwargs\u001b[0m\u001b[0;34m)\u001b[0m\u001b[0;34m,\u001b[0m \u001b[0;36m0\u001b[0m\u001b[0;34m,\u001b[0m \u001b[0;34m-\u001b[0m\u001b[0;36m1\u001b[0m\u001b[0;34m)\u001b[0m\u001b[0;34m\u001b[0m\u001b[0;34m\u001b[0m\u001b[0m\n\u001b[0m\u001b[1;32m   2025\u001b[0m \u001b[0;34m\u001b[0m\u001b[0m\n\u001b[1;32m   2026\u001b[0m         \u001b[0maxis\u001b[0m \u001b[0;34m=\u001b[0m \u001b[0mnp\u001b[0m\u001b[0;34m.\u001b[0m\u001b[0marange\u001b[0m\u001b[0;34m(\u001b[0m\u001b[0;34m-\u001b[0m\u001b[0;36m1\u001b[0m\u001b[0;34m,\u001b[0m \u001b[0;34m-\u001b[0m\u001b[0;36m1\u001b[0m \u001b[0;34m*\u001b[0m \u001b[0mlen\u001b[0m\u001b[0;34m(\u001b[0m\u001b[0mdim\u001b[0m\u001b[0;34m)\u001b[0m \u001b[0;34m-\u001b[0m \u001b[0;36m1\u001b[0m\u001b[0;34m,\u001b[0m \u001b[0;34m-\u001b[0m\u001b[0;36m1\u001b[0m\u001b[0;34m)\u001b[0m\u001b[0;34m\u001b[0m\u001b[0;34m\u001b[0m\u001b[0m\n",
      "\u001b[0;32m<__array_function__ internals>\u001b[0m in \u001b[0;36mnanquantile\u001b[0;34m(*args, **kwargs)\u001b[0m\n",
      "\u001b[0;32m~/opt/anaconda3/envs/project1/lib/python3.7/site-packages/numpy/lib/nanfunctions.py\u001b[0m in \u001b[0;36mnanquantile\u001b[0;34m(a, q, axis, out, overwrite_input, interpolation, keepdims)\u001b[0m\n\u001b[1;32m   1355\u001b[0m         \u001b[0;32mraise\u001b[0m \u001b[0mValueError\u001b[0m\u001b[0;34m(\u001b[0m\u001b[0;34m\"Quantiles must be in the range [0, 1]\"\u001b[0m\u001b[0;34m)\u001b[0m\u001b[0;34m\u001b[0m\u001b[0;34m\u001b[0m\u001b[0m\n\u001b[1;32m   1356\u001b[0m     return _nanquantile_unchecked(\n\u001b[0;32m-> 1357\u001b[0;31m         a, q, axis, out, overwrite_input, interpolation, keepdims)\n\u001b[0m\u001b[1;32m   1358\u001b[0m \u001b[0;34m\u001b[0m\u001b[0m\n\u001b[1;32m   1359\u001b[0m \u001b[0;34m\u001b[0m\u001b[0m\n",
      "\u001b[0;32m~/opt/anaconda3/envs/project1/lib/python3.7/site-packages/numpy/lib/nanfunctions.py\u001b[0m in \u001b[0;36m_nanquantile_unchecked\u001b[0;34m(a, q, axis, out, overwrite_input, interpolation, keepdims)\u001b[0m\n\u001b[1;32m   1368\u001b[0m     r, k = function_base._ureduce(\n\u001b[1;32m   1369\u001b[0m         \u001b[0ma\u001b[0m\u001b[0;34m,\u001b[0m \u001b[0mfunc\u001b[0m\u001b[0;34m=\u001b[0m\u001b[0m_nanquantile_ureduce_func\u001b[0m\u001b[0;34m,\u001b[0m \u001b[0mq\u001b[0m\u001b[0;34m=\u001b[0m\u001b[0mq\u001b[0m\u001b[0;34m,\u001b[0m \u001b[0maxis\u001b[0m\u001b[0;34m=\u001b[0m\u001b[0maxis\u001b[0m\u001b[0;34m,\u001b[0m \u001b[0mout\u001b[0m\u001b[0;34m=\u001b[0m\u001b[0mout\u001b[0m\u001b[0;34m,\u001b[0m\u001b[0;34m\u001b[0m\u001b[0;34m\u001b[0m\u001b[0m\n\u001b[0;32m-> 1370\u001b[0;31m         \u001b[0moverwrite_input\u001b[0m\u001b[0;34m=\u001b[0m\u001b[0moverwrite_input\u001b[0m\u001b[0;34m,\u001b[0m \u001b[0minterpolation\u001b[0m\u001b[0;34m=\u001b[0m\u001b[0minterpolation\u001b[0m\u001b[0;34m\u001b[0m\u001b[0;34m\u001b[0m\u001b[0m\n\u001b[0m\u001b[1;32m   1371\u001b[0m     )\n\u001b[1;32m   1372\u001b[0m     \u001b[0;32mif\u001b[0m \u001b[0mkeepdims\u001b[0m \u001b[0;32mand\u001b[0m \u001b[0mkeepdims\u001b[0m \u001b[0;32mis\u001b[0m \u001b[0;32mnot\u001b[0m \u001b[0mnp\u001b[0m\u001b[0;34m.\u001b[0m\u001b[0m_NoValue\u001b[0m\u001b[0;34m:\u001b[0m\u001b[0;34m\u001b[0m\u001b[0;34m\u001b[0m\u001b[0m\n",
      "\u001b[0;32m~/opt/anaconda3/envs/project1/lib/python3.7/site-packages/numpy/lib/function_base.py\u001b[0m in \u001b[0;36m_ureduce\u001b[0;34m(a, func, **kwargs)\u001b[0m\n\u001b[1;32m   3513\u001b[0m         \u001b[0mkeepdim\u001b[0m \u001b[0;34m=\u001b[0m \u001b[0;34m(\u001b[0m\u001b[0;36m1\u001b[0m\u001b[0;34m,\u001b[0m\u001b[0;34m)\u001b[0m \u001b[0;34m*\u001b[0m \u001b[0ma\u001b[0m\u001b[0;34m.\u001b[0m\u001b[0mndim\u001b[0m\u001b[0;34m\u001b[0m\u001b[0;34m\u001b[0m\u001b[0m\n\u001b[1;32m   3514\u001b[0m \u001b[0;34m\u001b[0m\u001b[0m\n\u001b[0;32m-> 3515\u001b[0;31m     \u001b[0mr\u001b[0m \u001b[0;34m=\u001b[0m \u001b[0mfunc\u001b[0m\u001b[0;34m(\u001b[0m\u001b[0ma\u001b[0m\u001b[0;34m,\u001b[0m \u001b[0;34m**\u001b[0m\u001b[0mkwargs\u001b[0m\u001b[0;34m)\u001b[0m\u001b[0;34m\u001b[0m\u001b[0;34m\u001b[0m\u001b[0m\n\u001b[0m\u001b[1;32m   3516\u001b[0m     \u001b[0;32mreturn\u001b[0m \u001b[0mr\u001b[0m\u001b[0;34m,\u001b[0m \u001b[0mkeepdim\u001b[0m\u001b[0;34m\u001b[0m\u001b[0;34m\u001b[0m\u001b[0m\n\u001b[1;32m   3517\u001b[0m \u001b[0;34m\u001b[0m\u001b[0m\n",
      "\u001b[0;32m~/opt/anaconda3/envs/project1/lib/python3.7/site-packages/numpy/lib/nanfunctions.py\u001b[0m in \u001b[0;36m_nanquantile_ureduce_func\u001b[0;34m(a, q, axis, out, overwrite_input, interpolation)\u001b[0m\n\u001b[1;32m   1388\u001b[0m     \u001b[0;32melse\u001b[0m\u001b[0;34m:\u001b[0m\u001b[0;34m\u001b[0m\u001b[0;34m\u001b[0m\u001b[0m\n\u001b[1;32m   1389\u001b[0m         result = np.apply_along_axis(_nanquantile_1d, axis, a, q,\n\u001b[0;32m-> 1390\u001b[0;31m                                      overwrite_input, interpolation)\n\u001b[0m\u001b[1;32m   1391\u001b[0m         \u001b[0;31m# apply_along_axis fills in collapsed axis with results.\u001b[0m\u001b[0;34m\u001b[0m\u001b[0;34m\u001b[0m\u001b[0;34m\u001b[0m\u001b[0m\n\u001b[1;32m   1392\u001b[0m         \u001b[0;31m# Move that axis to the beginning to match percentile's\u001b[0m\u001b[0;34m\u001b[0m\u001b[0;34m\u001b[0m\u001b[0;34m\u001b[0m\u001b[0m\n",
      "\u001b[0;32m<__array_function__ internals>\u001b[0m in \u001b[0;36mapply_along_axis\u001b[0;34m(*args, **kwargs)\u001b[0m\n",
      "\u001b[0;32m~/opt/anaconda3/envs/project1/lib/python3.7/site-packages/numpy/lib/shape_base.py\u001b[0m in \u001b[0;36mapply_along_axis\u001b[0;34m(func1d, axis, arr, *args, **kwargs)\u001b[0m\n\u001b[1;32m    400\u001b[0m     \u001b[0mbuff\u001b[0m\u001b[0;34m[\u001b[0m\u001b[0mind0\u001b[0m\u001b[0;34m]\u001b[0m \u001b[0;34m=\u001b[0m \u001b[0mres\u001b[0m\u001b[0;34m\u001b[0m\u001b[0;34m\u001b[0m\u001b[0m\n\u001b[1;32m    401\u001b[0m     \u001b[0;32mfor\u001b[0m \u001b[0mind\u001b[0m \u001b[0;32min\u001b[0m \u001b[0minds\u001b[0m\u001b[0;34m:\u001b[0m\u001b[0;34m\u001b[0m\u001b[0;34m\u001b[0m\u001b[0m\n\u001b[0;32m--> 402\u001b[0;31m         \u001b[0mbuff\u001b[0m\u001b[0;34m[\u001b[0m\u001b[0mind\u001b[0m\u001b[0;34m]\u001b[0m \u001b[0;34m=\u001b[0m \u001b[0masanyarray\u001b[0m\u001b[0;34m(\u001b[0m\u001b[0mfunc1d\u001b[0m\u001b[0;34m(\u001b[0m\u001b[0minarr_view\u001b[0m\u001b[0;34m[\u001b[0m\u001b[0mind\u001b[0m\u001b[0;34m]\u001b[0m\u001b[0;34m,\u001b[0m \u001b[0;34m*\u001b[0m\u001b[0margs\u001b[0m\u001b[0;34m,\u001b[0m \u001b[0;34m**\u001b[0m\u001b[0mkwargs\u001b[0m\u001b[0;34m)\u001b[0m\u001b[0;34m)\u001b[0m\u001b[0;34m\u001b[0m\u001b[0;34m\u001b[0m\u001b[0m\n\u001b[0m\u001b[1;32m    403\u001b[0m \u001b[0;34m\u001b[0m\u001b[0m\n\u001b[1;32m    404\u001b[0m     \u001b[0;32mif\u001b[0m \u001b[0;32mnot\u001b[0m \u001b[0misinstance\u001b[0m\u001b[0;34m(\u001b[0m\u001b[0mres\u001b[0m\u001b[0;34m,\u001b[0m \u001b[0mmatrix\u001b[0m\u001b[0;34m)\u001b[0m\u001b[0;34m:\u001b[0m\u001b[0;34m\u001b[0m\u001b[0;34m\u001b[0m\u001b[0m\n",
      "\u001b[0;32m~/opt/anaconda3/envs/project1/lib/python3.7/site-packages/numpy/lib/nanfunctions.py\u001b[0m in \u001b[0;36m_nanquantile_1d\u001b[0;34m(arr1d, q, overwrite_input, interpolation)\u001b[0m\n\u001b[1;32m   1411\u001b[0m \u001b[0;34m\u001b[0m\u001b[0m\n\u001b[1;32m   1412\u001b[0m     return function_base._quantile_unchecked(\n\u001b[0;32m-> 1413\u001b[0;31m         arr1d, q, overwrite_input=overwrite_input, interpolation=interpolation)\n\u001b[0m\u001b[1;32m   1414\u001b[0m \u001b[0;34m\u001b[0m\u001b[0m\n\u001b[1;32m   1415\u001b[0m \u001b[0;34m\u001b[0m\u001b[0m\n",
      "\u001b[0;32m~/opt/anaconda3/envs/project1/lib/python3.7/site-packages/numpy/lib/function_base.py\u001b[0m in \u001b[0;36m_quantile_unchecked\u001b[0;34m(a, q, axis, out, overwrite_input, interpolation, keepdims)\u001b[0m\n\u001b[1;32m   3937\u001b[0m     r, k = _ureduce(a, func=_quantile_ureduce_func, q=q, axis=axis, out=out,\n\u001b[1;32m   3938\u001b[0m                     \u001b[0moverwrite_input\u001b[0m\u001b[0;34m=\u001b[0m\u001b[0moverwrite_input\u001b[0m\u001b[0;34m,\u001b[0m\u001b[0;34m\u001b[0m\u001b[0;34m\u001b[0m\u001b[0m\n\u001b[0;32m-> 3939\u001b[0;31m                     interpolation=interpolation)\n\u001b[0m\u001b[1;32m   3940\u001b[0m     \u001b[0;32mif\u001b[0m \u001b[0mkeepdims\u001b[0m\u001b[0;34m:\u001b[0m\u001b[0;34m\u001b[0m\u001b[0;34m\u001b[0m\u001b[0m\n\u001b[1;32m   3941\u001b[0m         \u001b[0;32mreturn\u001b[0m \u001b[0mr\u001b[0m\u001b[0;34m.\u001b[0m\u001b[0mreshape\u001b[0m\u001b[0;34m(\u001b[0m\u001b[0mq\u001b[0m\u001b[0;34m.\u001b[0m\u001b[0mshape\u001b[0m \u001b[0;34m+\u001b[0m \u001b[0mk\u001b[0m\u001b[0;34m)\u001b[0m\u001b[0;34m\u001b[0m\u001b[0;34m\u001b[0m\u001b[0m\n",
      "\u001b[0;32m~/opt/anaconda3/envs/project1/lib/python3.7/site-packages/numpy/lib/function_base.py\u001b[0m in \u001b[0;36m_ureduce\u001b[0;34m(a, func, **kwargs)\u001b[0m\n\u001b[1;32m   3513\u001b[0m         \u001b[0mkeepdim\u001b[0m \u001b[0;34m=\u001b[0m \u001b[0;34m(\u001b[0m\u001b[0;36m1\u001b[0m\u001b[0;34m,\u001b[0m\u001b[0;34m)\u001b[0m \u001b[0;34m*\u001b[0m \u001b[0ma\u001b[0m\u001b[0;34m.\u001b[0m\u001b[0mndim\u001b[0m\u001b[0;34m\u001b[0m\u001b[0;34m\u001b[0m\u001b[0m\n\u001b[1;32m   3514\u001b[0m \u001b[0;34m\u001b[0m\u001b[0m\n\u001b[0;32m-> 3515\u001b[0;31m     \u001b[0mr\u001b[0m \u001b[0;34m=\u001b[0m \u001b[0mfunc\u001b[0m\u001b[0;34m(\u001b[0m\u001b[0ma\u001b[0m\u001b[0;34m,\u001b[0m \u001b[0;34m**\u001b[0m\u001b[0mkwargs\u001b[0m\u001b[0;34m)\u001b[0m\u001b[0;34m\u001b[0m\u001b[0;34m\u001b[0m\u001b[0m\n\u001b[0m\u001b[1;32m   3516\u001b[0m     \u001b[0;32mreturn\u001b[0m \u001b[0mr\u001b[0m\u001b[0;34m,\u001b[0m \u001b[0mkeepdim\u001b[0m\u001b[0;34m\u001b[0m\u001b[0;34m\u001b[0m\u001b[0m\n\u001b[1;32m   3517\u001b[0m \u001b[0;34m\u001b[0m\u001b[0m\n",
      "\u001b[0;32m~/opt/anaconda3/envs/project1/lib/python3.7/site-packages/numpy/lib/function_base.py\u001b[0m in \u001b[0;36m_quantile_ureduce_func\u001b[0;34m(***failed resolving arguments***)\u001b[0m\n\u001b[1;32m   4060\u001b[0m \u001b[0;34m\u001b[0m\u001b[0m\n\u001b[1;32m   4061\u001b[0m         \u001b[0mx_below\u001b[0m \u001b[0;34m=\u001b[0m \u001b[0mtake\u001b[0m\u001b[0;34m(\u001b[0m\u001b[0map\u001b[0m\u001b[0;34m,\u001b[0m \u001b[0mindices_below\u001b[0m\u001b[0;34m,\u001b[0m \u001b[0maxis\u001b[0m\u001b[0;34m=\u001b[0m\u001b[0;36m0\u001b[0m\u001b[0;34m)\u001b[0m\u001b[0;34m\u001b[0m\u001b[0;34m\u001b[0m\u001b[0m\n\u001b[0;32m-> 4062\u001b[0;31m         \u001b[0mx_above\u001b[0m \u001b[0;34m=\u001b[0m \u001b[0mtake\u001b[0m\u001b[0;34m(\u001b[0m\u001b[0map\u001b[0m\u001b[0;34m,\u001b[0m \u001b[0mindices_above\u001b[0m\u001b[0;34m,\u001b[0m \u001b[0maxis\u001b[0m\u001b[0;34m=\u001b[0m\u001b[0;36m0\u001b[0m\u001b[0;34m)\u001b[0m\u001b[0;34m\u001b[0m\u001b[0;34m\u001b[0m\u001b[0m\n\u001b[0m\u001b[1;32m   4063\u001b[0m \u001b[0;34m\u001b[0m\u001b[0m\n\u001b[1;32m   4064\u001b[0m         \u001b[0mr\u001b[0m \u001b[0;34m=\u001b[0m \u001b[0m_lerp\u001b[0m\u001b[0;34m(\u001b[0m\u001b[0mx_below\u001b[0m\u001b[0;34m,\u001b[0m \u001b[0mx_above\u001b[0m\u001b[0;34m,\u001b[0m \u001b[0mweights_above\u001b[0m\u001b[0;34m,\u001b[0m \u001b[0mout\u001b[0m\u001b[0;34m=\u001b[0m\u001b[0mout\u001b[0m\u001b[0;34m)\u001b[0m\u001b[0;34m\u001b[0m\u001b[0;34m\u001b[0m\u001b[0m\n",
      "\u001b[0;32m<__array_function__ internals>\u001b[0m in \u001b[0;36mtake\u001b[0;34m(*args, **kwargs)\u001b[0m\n",
      "\u001b[0;32m~/opt/anaconda3/envs/project1/lib/python3.7/site-packages/numpy/core/fromnumeric.py\u001b[0m in \u001b[0;36mtake\u001b[0;34m(a, indices, axis, out, mode)\u001b[0m\n\u001b[1;32m    189\u001b[0m            [5, 7]])\n\u001b[1;32m    190\u001b[0m     \"\"\"\n\u001b[0;32m--> 191\u001b[0;31m     \u001b[0;32mreturn\u001b[0m \u001b[0m_wrapfunc\u001b[0m\u001b[0;34m(\u001b[0m\u001b[0ma\u001b[0m\u001b[0;34m,\u001b[0m \u001b[0;34m'take'\u001b[0m\u001b[0;34m,\u001b[0m \u001b[0mindices\u001b[0m\u001b[0;34m,\u001b[0m \u001b[0maxis\u001b[0m\u001b[0;34m=\u001b[0m\u001b[0maxis\u001b[0m\u001b[0;34m,\u001b[0m \u001b[0mout\u001b[0m\u001b[0;34m=\u001b[0m\u001b[0mout\u001b[0m\u001b[0;34m,\u001b[0m \u001b[0mmode\u001b[0m\u001b[0;34m=\u001b[0m\u001b[0mmode\u001b[0m\u001b[0;34m)\u001b[0m\u001b[0;34m\u001b[0m\u001b[0;34m\u001b[0m\u001b[0m\n\u001b[0m\u001b[1;32m    192\u001b[0m \u001b[0;34m\u001b[0m\u001b[0m\n\u001b[1;32m    193\u001b[0m \u001b[0;34m\u001b[0m\u001b[0m\n",
      "\u001b[0;31mKeyboardInterrupt\u001b[0m: "
     ]
    }
   ],
   "source": [
    "# %%time÷\n",
    "# calculate how many times temp timeseries crosses 0 \n",
    "path = '/Users/varyabazilova/Desktop/era5land/dayly_precip'\n",
    "\n",
    "precentile95 = xr.Dataset()\n",
    "\n",
    "for f in os.listdir(path)[1:]: \n",
    "    # read every file: \n",
    "    ds = xr.open_dataset(os.path.join(path, f), decode_coords=\"all\")\n",
    "    # drop useless dimention\n",
    "    ds = ds.drop(labels='time_bnds')\n",
    "    # m to mm \n",
    "    ds['tp']  = ds.tp * 1000\n",
    "    ds['q95'] = ds.groupby('time.year').quantile(q=0.95, dim = 'time')\n",
    "       \n",
    "    # print(ds)\n",
    "    dsq95 = ds.drop(labels = 'tp')\n",
    "    \n",
    "    # merge:\n",
    "    precentile95 = xr.merge([precentile95, dsq95])\n",
    "\n",
    "print('precentile95', precentile95)"
   ]
  },
  {
   "cell_type": "code",
   "execution_count": 14,
   "id": "fdf6d9a9-f619-449c-a16f-ccad91e520cc",
   "metadata": {},
   "outputs": [
    {
     "ename": "ValueError",
     "evalue": "Dataset does not contain the dimensions: ['year']",
     "output_type": "error",
     "traceback": [
      "\u001b[0;31m---------------------------------------------------------------------------\u001b[0m",
      "\u001b[0;31mValueError\u001b[0m                                Traceback (most recent call last)",
      "\u001b[0;32m/var/folders/31/xdyntby945q7564txk4rqyh40000gp/T/ipykernel_11840/597754197.py\u001b[0m in \u001b[0;36m<module>\u001b[0;34m\u001b[0m\n\u001b[1;32m      1\u001b[0m \u001b[0;31m# mean over the year for this parameter\u001b[0m\u001b[0;34m\u001b[0m\u001b[0;34m\u001b[0m\u001b[0;34m\u001b[0m\u001b[0m\n\u001b[0;32m----> 2\u001b[0;31m \u001b[0mprecentile95_mean\u001b[0m \u001b[0;34m=\u001b[0m \u001b[0mprecentile95\u001b[0m\u001b[0;34m.\u001b[0m\u001b[0mmean\u001b[0m\u001b[0;34m(\u001b[0m\u001b[0;34m'year'\u001b[0m\u001b[0;34m)\u001b[0m\u001b[0;34m\u001b[0m\u001b[0;34m\u001b[0m\u001b[0m\n\u001b[0m",
      "\u001b[0;32m~/opt/anaconda3/envs/project1/lib/python3.7/site-packages/xarray/core/common.py\u001b[0m in \u001b[0;36mwrapped_func\u001b[0;34m(self, dim, skipna, **kwargs)\u001b[0m\n\u001b[1;32m     99\u001b[0m             \u001b[0;32mdef\u001b[0m \u001b[0mwrapped_func\u001b[0m\u001b[0;34m(\u001b[0m\u001b[0mself\u001b[0m\u001b[0;34m,\u001b[0m \u001b[0mdim\u001b[0m\u001b[0;34m=\u001b[0m\u001b[0;32mNone\u001b[0m\u001b[0;34m,\u001b[0m \u001b[0mskipna\u001b[0m\u001b[0;34m=\u001b[0m\u001b[0;32mNone\u001b[0m\u001b[0;34m,\u001b[0m \u001b[0;34m**\u001b[0m\u001b[0mkwargs\u001b[0m\u001b[0;34m)\u001b[0m\u001b[0;34m:\u001b[0m\u001b[0;34m\u001b[0m\u001b[0;34m\u001b[0m\u001b[0m\n\u001b[1;32m    100\u001b[0m                 return self.reduce(\n\u001b[0;32m--> 101\u001b[0;31m                     \u001b[0mfunc\u001b[0m\u001b[0;34m,\u001b[0m \u001b[0mdim\u001b[0m\u001b[0;34m,\u001b[0m \u001b[0mskipna\u001b[0m\u001b[0;34m=\u001b[0m\u001b[0mskipna\u001b[0m\u001b[0;34m,\u001b[0m \u001b[0mnumeric_only\u001b[0m\u001b[0;34m=\u001b[0m\u001b[0mnumeric_only\u001b[0m\u001b[0;34m,\u001b[0m \u001b[0;34m**\u001b[0m\u001b[0mkwargs\u001b[0m\u001b[0;34m\u001b[0m\u001b[0;34m\u001b[0m\u001b[0m\n\u001b[0m\u001b[1;32m    102\u001b[0m                 )\n\u001b[1;32m    103\u001b[0m \u001b[0;34m\u001b[0m\u001b[0m\n",
      "\u001b[0;32m~/opt/anaconda3/envs/project1/lib/python3.7/site-packages/xarray/core/dataset.py\u001b[0m in \u001b[0;36mreduce\u001b[0;34m(self, func, dim, keep_attrs, keepdims, numeric_only, **kwargs)\u001b[0m\n\u001b[1;32m   5051\u001b[0m         \u001b[0;32mif\u001b[0m \u001b[0mmissing_dimensions\u001b[0m\u001b[0;34m:\u001b[0m\u001b[0;34m\u001b[0m\u001b[0;34m\u001b[0m\u001b[0m\n\u001b[1;32m   5052\u001b[0m             raise ValueError(\n\u001b[0;32m-> 5053\u001b[0;31m                 \u001b[0;34mf\"Dataset does not contain the dimensions: {missing_dimensions}\"\u001b[0m\u001b[0;34m\u001b[0m\u001b[0;34m\u001b[0m\u001b[0m\n\u001b[0m\u001b[1;32m   5054\u001b[0m             )\n\u001b[1;32m   5055\u001b[0m \u001b[0;34m\u001b[0m\u001b[0m\n",
      "\u001b[0;31mValueError\u001b[0m: Dataset does not contain the dimensions: ['year']"
     ]
    }
   ],
   "source": [
    "# mean over the year for this parameter \n",
    "precentile95_mean = precentile95.mean('year')"
   ]
  },
  {
   "cell_type": "code",
   "execution_count": null,
   "id": "8f60b66c-e831-4fc6-b75c-ea451e6f7791",
   "metadata": {},
   "outputs": [],
   "source": [
    "# precentile95_mean\n",
    "precentile95"
   ]
  },
  {
   "cell_type": "code",
   "execution_count": 24,
   "id": "d976b089-7fc0-4e12-8f40-bbcb69636270",
   "metadata": {},
   "outputs": [
    {
     "name": "stdout",
     "output_type": "stream",
     "text": [
      "CPU times: user 13.7 ms, sys: 4.22 ms, total: 17.9 ms\n",
      "Wall time: 16.1 ms\n"
     ]
    }
   ],
   "source": [
    "%%time\n",
    "\n",
    "\n",
    "lats = dfclim.y_wgs\n",
    "lons = dfclim.x_wgs\n",
    "\n",
    "precentile95_mean_sel = precentile95_mean.sel(latitude = lats, longitude = lons, method = 'nearest')\n",
    "\n",
    "# overwrite the coordinates for them to match: (ovewrite dimentions)\n",
    "precentile95_mean_sel['longitude'] = lons.values # x_wgs\n",
    "precentile95_mean_sel['latitude']= lats.values   # y_wgs"
   ]
  },
  {
   "cell_type": "code",
   "execution_count": 20,
   "id": "871530da-bb0d-401c-94c0-ee7356d1d5ec",
   "metadata": {},
   "outputs": [],
   "source": [
    "precentile95_mean_sel"
   ]
  },
  {
   "cell_type": "code",
   "execution_count": null,
   "id": "c26a3e4b-f19a-48f3-bc15-d9ebb9bb2806",
   "metadata": {},
   "outputs": [],
   "source": [
    "%%time\n",
    "\n",
    "# to data frame\n",
    "precentile95_mean_sel_df = precentile95_mean_sel.to_dataframe()#.reset_index()#.drop(['tp'], axis = 1)\n",
    "# reset index: \n",
    "precentile95_mean_sel_df = precentile95_mean_sel.reset_index()\n",
    "# #rename:\n",
    "# precentile95_mean_sel_df = precentile95_mean_sel_df.rename(columns = {'longitude':'x_wgs', 'latitude':'y_wgs', \n",
    "                                                              # 'forcount': 'n_rainy_days'})\n",
    "# #rename column: \n",
    "# # drop month \n",
    "# raindays_mean_sel_df = raindays_mean_sel_df"
   ]
  },
  {
   "cell_type": "code",
   "execution_count": null,
   "id": "9b95fb8e-9f0a-4de2-b876-e9050dd96f95",
   "metadata": {},
   "outputs": [],
   "source": [
    "precentile95_mean_sel_df"
   ]
  },
  {
   "cell_type": "code",
   "execution_count": null,
   "id": "0b7d9cc9-7322-4c7b-bd38-9e292452342b",
   "metadata": {},
   "outputs": [],
   "source": []
  }
 ],
 "metadata": {
  "kernelspec": {
   "display_name": "Python 3 (ipykernel)",
   "language": "python",
   "name": "python3"
  },
  "language_info": {
   "codemirror_mode": {
    "name": "ipython",
    "version": 3
   },
   "file_extension": ".py",
   "mimetype": "text/x-python",
   "name": "python",
   "nbconvert_exporter": "python",
   "pygments_lexer": "ipython3",
   "version": "3.7.11"
  }
 },
 "nbformat": 4,
 "nbformat_minor": 5
}
