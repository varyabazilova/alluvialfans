{
 "cells": [
  {
   "cell_type": "markdown",
   "id": "34cd812d-1580-4882-83ce-ad92bf58aaa9",
   "metadata": {},
   "source": [
    "## in this notebook i build 2 catboost classifiers for different sets of features: including (1) only morphometrical parametes and (2) morphometrical + climatic parameters \n",
    "\n",
    "### 1) morphometric model, export the result as a table. (i) confusion thing coded in numbers (ii) probabilities \n",
    "\n",
    "### 2) morph + climate (same) \n",
    "\n",
    "### in the end: 2 tables with the catchments, coordinates, \"confusion\" and probabilities\n"
   ]
  },
  {
   "cell_type": "code",
   "execution_count": 1,
   "id": "b1efd625-d0a8-47b0-a01b-b7ce308c4d08",
   "metadata": {},
   "outputs": [
    {
     "name": "stdout",
     "output_type": "stream",
     "text": [
      "Config option `kernel_spec_manager_class` not recognized by `EnableNBExtensionApp`.\n",
      "Enabling notebook extension jupyter-js-widgets/extension...\n",
      "      - Validating: \u001b[32mOK\u001b[0m\n"
     ]
    }
   ],
   "source": [
    "import pandas as pd\n",
    "import os\n",
    "import numpy as np\n",
    "np.set_printoptions(precision=4)\n",
    "\n",
    "import catboost\n",
    "from catboost import *\n",
    "from catboost import CatBoostClassifier, Pool, metrics, cv\n",
    "from catboost.utils import get_roc_curve, get_confusion_matrix\n",
    "\n",
    "import matplotlib.pyplot as plt\n",
    "import geopandas as gpd\n",
    "import seaborn as sns\n",
    "\n",
    "# other things: \n",
    "from sklearn.model_selection import train_test_split, GridSearchCV\n",
    "from sklearn.metrics import accuracy_score, roc_curve, auc, roc_auc_score, recall_score, f1_score, confusion_matrix, precision_score\n",
    "\n",
    "import shap \n",
    "\n",
    "!jupyter nbextension enable --py widgetsnbextension\n",
    "\n"
   ]
  },
  {
   "cell_type": "markdown",
   "id": "dc62dcd4-2eb2-4d7a-9555-9e3c9a6def06",
   "metadata": {},
   "source": [
    "### all features here: morphometrical and climate  "
   ]
  },
  {
   "cell_type": "code",
   "execution_count": 2,
   "id": "b1654559-9f13-442c-ad0d-cac1f798a049",
   "metadata": {},
   "outputs": [],
   "source": [
    "# in this notebook varya is trying to buld a \"best-working\" catboost classifier for the DF and FF catchments \n",
    "# then \"deconstrust\" that model for the shap values to see how different features affect the result of the model \n",
    "# PD? \n",
    "\n",
    "\n",
    "# 1. read data and lable cat features \n",
    "# 2. split to train and test \n",
    "# 3. find the right hyperparameters (grid search)\n",
    "# 4. choose the \"best model\" - save the parameters \n",
    "# 5. \n",
    "\n",
    "\n",
    "\n",
    "# https://medium.com/@gabrieltseng/interpreting-complex-models-with-shap-values-1c187db6ec83"
   ]
  },
  {
   "cell_type": "markdown",
   "id": "7e9a9b6a-6f58-43f6-b872-67b089b244be",
   "metadata": {},
   "source": [
    "### 1. read the data, defince X and y, defince categorical features for y "
   ]
  },
  {
   "cell_type": "code",
   "execution_count": 3,
   "id": "78de2c44-b9ab-43a4-847d-3c67cfceb597",
   "metadata": {},
   "outputs": [],
   "source": [
    "# read the data: \n",
    "\n",
    "path = '/Users/varyabazilova/Desktop/alluvial_fans/dem_all/all_points_so_far/ml_model/data_current/'\n",
    "df = pd.read_csv(path + '09082022dfclim_permafrost.csv', sep = ',', index_col = 0)\n",
    "\n",
    "df = df[df.target.isin([1,0])]\n",
    "df = df.drop(['DN', 'Name', 'mean_daylymonsoon_tp_x', 'region_name'], axis = 1)\n"
   ]
  },
  {
   "cell_type": "code",
   "execution_count": 4,
   "id": "47faa729-ae16-44c3-bbb3-0302613fd394",
   "metadata": {},
   "outputs": [],
   "source": [
    "y = df.target\n",
    "X = df.drop(columns=['target'])\n",
    "\n",
    "\n",
    "# # what values are categorical: \n",
    "# # region, glacier, avgtemp_belowzero, cont_permafrost, any_permafrost, cont_permafrost_frac50\n",
    "X['glacier'] = X['glacier'].astype('category') # n 21\n",
    "X['region'] = X['region'].astype('category') # n 12\n",
    "X['avgtemp_belowzero'] = X['avgtemp_belowzero'].astype('category') # n 34\n",
    "X['cont_permafrost'] = X['cont_permafrost'].astype('category') # n 51\n",
    "X['any_permafrost'] = X['any_permafrost'].astype('category') # n 52\n",
    "X['cont_permafrost_frac50'] = X['cont_permafrost_frac50'].astype('category') # n 54\n",
    "\n",
    "# cat_features = list([12, 21, 34, 50, 51, 53])\n",
    "cat_features = list(['glacier', 'region', 'avgtemp_belowzero', 'cont_permafrost', 'any_permafrost', 'cont_permafrost_frac50'])"
   ]
  },
  {
   "cell_type": "code",
   "execution_count": 5,
   "id": "73cfb9a1-3d23-4912-bc96-984c06954836",
   "metadata": {},
   "outputs": [
    {
     "data": {
      "text/plain": [
       "Index(['target', 'x_centroid', 'y_centroid', 'area_m', 'perimeter',\n",
       "       'glaciersum', 'mean_elevation', 'median_elevation', 'std_elevation',\n",
       "       'min_elevation', 'max_elevation', 'range_elevation',\n",
       "       'variance_elevation', 'region', 'mean_slope', 'median_slope',\n",
       "       'std_slope', 'min_slope', 'max_slope', 'range_slope', 'variance_slope',\n",
       "       'glarea_percent', 'glacier', 'x_wgs', 'y_wgs', 'M', 'Rc', 'Cc',\n",
       "       'mean_annual_T', 'mean_jan_T', 'mean_july_T', 'mean_monsoon_T',\n",
       "       'mean_no_monsoon_T', 'count_zeros', 'belowzero_frac',\n",
       "       'avgtemp_belowzero', 'mean_annual_tp', 'mean_annualsum_tp',\n",
       "       'mean_daylymonsoon_tp_y', 'mean_monsoon_sum_tp', 'monsoon_tp_frac',\n",
       "       'n_rainy_days', 'rainy_days_frac', 'permafrost1', 'permafrost1_frac',\n",
       "       'permafrost2', 'permafrost2_frac', 'permafrost3', 'permafrost3_frac',\n",
       "       'permafrost4', 'permafrost4_frac', 'cont_permafrost',\n",
       "       'cont_permafrost_frac50', 'all_permafrost_frac', 'any_permafrost'],\n",
       "      dtype='object')"
      ]
     },
     "execution_count": 5,
     "metadata": {},
     "output_type": "execute_result"
    }
   ],
   "source": [
    "df.columns"
   ]
  },
  {
   "cell_type": "code",
   "execution_count": 6,
   "id": "65a66392-e869-4721-a06d-588f276e7b4c",
   "metadata": {},
   "outputs": [],
   "source": [
    "# X.dtypes\n",
    "# Just change the categorical variables to the string by .astype(str)\n",
    "# and when you check the data types by using .dtypes you will see them as \"objects\"\n",
    "# then pass the cat_features as a list of indices. That would work fine.\n",
    "\n",
    "# Don't change the data type to the category by .astype('category')\n",
    "\n",
    "\n",
    "# X['glacier'] = X['glacier'].astype(str) # n 21\n",
    "X['region'] = X['region'].astype(str) # n 12\n",
    "X['avgtemp_belowzero'] = X['avgtemp_belowzero'].astype(str) # n 34\n",
    "X['cont_permafrost'] = X['cont_permafrost'].astype(str) # n 51\n",
    "X['any_permafrost'] = X['any_permafrost'].astype(str) # n 52\n",
    "X['cont_permafrost_frac50'] = X['cont_permafrost_frac50'].astype(str) # n 54\n",
    "\n",
    "cat_features = list([12, 21, 34, 50, 51, 53])\n",
    "# cat_features = list(['glacier', 'region', 'avgtemp_belowzero', 'cont_permafrost', 'any_permafrost', 'cont_permafrost_frac50'])"
   ]
  },
  {
   "cell_type": "code",
   "execution_count": 7,
   "id": "a56487f2-97e5-47be-ac0c-e8d388a04e63",
   "metadata": {},
   "outputs": [
    {
     "data": {
      "text/plain": [
       "1    539\n",
       "0    173\n",
       "Name: target, dtype: int64"
      ]
     },
     "execution_count": 7,
     "metadata": {},
     "output_type": "execute_result"
    }
   ],
   "source": [
    "# data split:\n",
    "\n",
    "df['target'].value_counts()"
   ]
  },
  {
   "cell_type": "code",
   "execution_count": 8,
   "id": "2974942d-3d7f-4006-ac4e-d6a5197451c7",
   "metadata": {},
   "outputs": [
    {
     "data": {
      "text/plain": [
       "712"
      ]
     },
     "execution_count": 8,
     "metadata": {},
     "output_type": "execute_result"
    }
   ],
   "source": [
    "539 + 173"
   ]
  },
  {
   "cell_type": "code",
   "execution_count": 9,
   "id": "f95b82fb-941e-4104-a88c-5d59d720efc8",
   "metadata": {},
   "outputs": [
    {
     "name": "stdout",
     "output_type": "stream",
     "text": [
      "random guess chanses with this data split: 75.70%\n"
     ]
    }
   ],
   "source": [
    "# random guess: \n",
    "    \n",
    "print('random guess chanses with this data split: %.2f%%' % (539/712 * 100)) #df/total "
   ]
  },
  {
   "cell_type": "code",
   "execution_count": 12,
   "id": "259c4a9a-8dcd-4556-ae2a-7630b0ced573",
   "metadata": {},
   "outputs": [],
   "source": [
    "# df.hist(edgecolor = \"black\" , figsize = (20 , 20));\n"
   ]
  },
  {
   "cell_type": "markdown",
   "id": "5aeb3945-68bd-4f8a-b622-468138c9a678",
   "metadata": {},
   "source": [
    "### 2. classifier data prep: split to train and test, convert to pool data class "
   ]
  },
  {
   "cell_type": "code",
   "execution_count": 13,
   "id": "dd17fe40-cf17-4af1-838d-13daded617e9",
   "metadata": {},
   "outputs": [],
   "source": [
    "# train test \n",
    "\n",
    "seed = 42\n",
    "test_size = 0.3\n",
    "\n",
    "X_train, X_test, y_train, y_test = train_test_split(X, y, test_size=test_size, random_state=seed)\n"
   ]
  },
  {
   "cell_type": "code",
   "execution_count": 14,
   "id": "2a508789-8cc5-4030-ac6f-6bcf5b3641d7",
   "metadata": {},
   "outputs": [],
   "source": [
    "# X_train.dtypes"
   ]
  },
  {
   "cell_type": "code",
   "execution_count": 15,
   "id": "a5ddad39-85af-479c-a708-9518eb1ddcd2",
   "metadata": {},
   "outputs": [],
   "source": [
    "# pool\n",
    "\n",
    "train_pool = Pool(data=X_train,\n",
    "                  label=y_train,\n",
    "                  cat_features=cat_features,\n",
    "                 )\n",
    "\n",
    "test_pool = Pool(data=X_test,\n",
    "                 label=y_test,\n",
    "                 cat_features=cat_features,\n",
    "                 )\n",
    "\n",
    "data_pool = Pool(X, y, cat_features = cat_features)"
   ]
  },
  {
   "cell_type": "markdown",
   "id": "ffdb358b-40f5-488d-b096-ae9b026f47a4",
   "metadata": {},
   "source": [
    "### 3. catboost classifier - build the model and identify the hyperparameters that are needed "
   ]
  },
  {
   "cell_type": "code",
   "execution_count": 16,
   "id": "6fb7239d-6422-4116-9d8b-8a3a47978cfd",
   "metadata": {},
   "outputs": [],
   "source": [
    "# default parameters:\n",
    "\n",
    "params = {\n",
    "    'loss_function': 'CrossEntropy',\n",
    "    'iterations': 1000,\n",
    "    'learning_rate': 0.03,\n",
    "    'custom_metric' : ['Logloss', 'Accuracy', 'AUC:hints=skip_train~false'],\n",
    "    'random_seed': 42,\n",
    "    'logging_level': 'Silent',\n",
    "    'use_best_model': False\n",
    "}"
   ]
  },
  {
   "cell_type": "markdown",
   "id": "354cd0da-7914-47d9-a259-6c78f977432a",
   "metadata": {},
   "source": [
    "### simple model (default-ish) - nice but we dont really care "
   ]
  },
  {
   "cell_type": "code",
   "execution_count": 17,
   "id": "84492809-55ea-42e5-a516-de7be91f044f",
   "metadata": {},
   "outputs": [],
   "source": [
    "\n",
    "# # ------ model ------\n",
    "# model = CatBoostClassifier(**params)\n",
    "# model.fit(train_pool, \n",
    "#           eval_set=test_pool, \n",
    "#           plot = True)\n",
    "\n",
    "# print('simple model validation Accuracy: {:.4}'.format(\n",
    "#     accuracy_score(y_test, model.predict(X_test))\n",
    "# ))\n",
    "\n",
    "\n",
    "# print('best model get best iteration: \\n', model.get_best_iteration())\n",
    "\n",
    "# print('\\n simple model get best score: \\n', model.get_best_score())\n",
    "\n"
   ]
  },
  {
   "cell_type": "code",
   "execution_count": 18,
   "id": "050dc037-bc83-4951-92bf-d4c27769afbc",
   "metadata": {},
   "outputs": [],
   "source": [
    "# (fpr, tpr, thresholds) = get_roc_curve(model, train_pool, plot=True)\n",
    "# print(fpr)\n",
    "# print(tpr)\n",
    "# print(thresholds)"
   ]
  },
  {
   "cell_type": "code",
   "execution_count": 19,
   "id": "5353afef-e671-48fd-8760-eb28707480e3",
   "metadata": {},
   "outputs": [],
   "source": [
    "# get_confusion_matrix(model, data_pool)"
   ]
  },
  {
   "cell_type": "code",
   "execution_count": 20,
   "id": "c6ec5e39-fc44-45d4-afb2-de9d97a082ce",
   "metadata": {},
   "outputs": [
    {
     "data": {
      "application/vnd.jupyter.widget-view+json": {
       "model_id": "50f500e9cc894eb4ae9a29ee9c717cbb",
       "version_major": 2,
       "version_minor": 0
      },
      "text/plain": [
       "MetricVisualizer(layout=Layout(align_self='stretch', height='500px'))"
      ]
     },
     "metadata": {},
     "output_type": "display_data"
    },
    {
     "name": "stdout",
     "output_type": "stream",
     "text": [
      "Best model validation Accuracy: 0.8925\n",
      "\n",
      "parameters for the \"best model: \n",
      " {'iterations': 1000, 'learning_rate': 0.03, 'loss_function': 'CrossEntropy', 'random_seed': 42, 'use_best_model': True, 'logging_level': 'Silent', 'custom_metric': ['Logloss', 'Accuracy', 'AUC:hints=skip_train~false']}\n",
      " \n",
      "best model get best iteration: \n",
      " 121\n",
      " \n",
      "best model get best score: \n",
      " {'learn': {'Accuracy': 1.0, 'Logloss': 0.011252582369533921, 'CrossEntropy': 0.011252582369533921, 'AUC': 1.0}, 'validation': {'Accuracy': 0.9112149532710281, 'Logloss': 0.29971753525515543, 'CrossEntropy': 0.29971753525515543, 'AUC': 0.9162757127390834}}\n"
     ]
    }
   ],
   "source": [
    "\n",
    "# ------ best model ------\n",
    "\n",
    "best_model_params = params.copy()\n",
    "best_model_params.update({\n",
    "    'use_best_model': True\n",
    "})\n",
    "\n",
    "best_model = CatBoostClassifier(**best_model_params)\n",
    "best_model.fit(train_pool, \n",
    "               eval_set=test_pool, \n",
    "               plot = True)\n",
    "\n",
    "\n",
    "\n",
    "print('Best model validation Accuracy: {:.4}'.format(\n",
    "    accuracy_score(y_test, best_model.predict(X_test))\n",
    "))\n",
    "\n",
    "print('')\n",
    "print('parameters for the \"best model: \\n', best_model.get_params())\n",
    "\n",
    "print(' ')\n",
    "print('best model get best iteration: \\n', best_model.get_best_iteration())\n",
    "\n",
    "print(' ')\n",
    "print('best model get best score: \\n', best_model.get_best_score())\n",
    "\n"
   ]
  },
  {
   "cell_type": "code",
   "execution_count": 21,
   "id": "1f0d2bba-7262-4a1d-8f26-f1e9d6966b3e",
   "metadata": {},
   "outputs": [
    {
     "name": "stderr",
     "output_type": "stream",
     "text": [
      "Cannot restore border parameter, falling to default border = 0.5\n"
     ]
    },
    {
     "data": {
      "text/plain": [
       "Text(0.5, 1.0, 'roc curve for the morph+climate dataset')"
      ]
     },
     "execution_count": 21,
     "metadata": {},
     "output_type": "execute_result"
    },
    {
     "data": {
      "image/png": "[encoded data removed]",
      "text/plain": [
       "<Figure size 576x360 with 1 Axes>"
      ]
     },
     "metadata": {
      "needs_background": "light"
     },
     "output_type": "display_data"
    }
   ],
   "source": [
    "\n",
    "fpr, tpr, thresholds = get_roc_curve(best_model, train_pool, plot=False)\n",
    "\n",
    "roc = roc_auc_score(y_test, best_model.predict_proba(X_test)[: , 1])\n",
    "\n",
    "# print(thresholds)\n",
    "## calculate roc curve\n",
    "# fpr, tpr, thresholds = roc_curve(y_test, probs)\n",
    "# auc = roc_auc_score(y_test, probs)\n",
    "\n",
    "\n",
    "fig, ax = plt.subplots(figsize = (8,5))\n",
    "plt.plot(fpr, tpr, color = 'green', marker='o', label = 'roc curve (area = %0.2f)' % roc)\n",
    "plt.plot([0, 1], [0, 1], color=\"navy\", linestyle=\"--\", label = '1-1 line (auc = 0.5)')\n",
    "\n",
    "plt.xticks(fontsize=15)\n",
    "plt.yticks(fontsize=15)\n",
    "plt.xlabel('false positive rate', fontsize=20)\n",
    "plt.ylabel('true positive rate',fontsize=20)\n",
    "plt.legend(fontsize=12)\n",
    "plt.title('roc curve for the morph+climate dataset', fontsize=18)\n",
    "\n",
    "# plt.savefig('figs_talk/roc_climate.pdf')"
   ]
  },
  {
   "cell_type": "code",
   "execution_count": 22,
   "id": "6f4f50f4-8f69-4445-b75d-8bc41e311a1e",
   "metadata": {},
   "outputs": [
    {
     "name": "stdout",
     "output_type": "stream",
     "text": [
      "catboost best model Area Under ROC curve: 0.908\n"
     ]
    },
    {
     "data": {
      "text/plain": [
       "array([[145.,  28.],\n",
       "       [ 17., 522.]])"
      ]
     },
     "execution_count": 22,
     "metadata": {},
     "output_type": "execute_result"
    }
   ],
   "source": [
    "print('catboost best model Area Under ROC curve:', round(roc, 3))\n",
    "get_confusion_matrix(best_model, data_pool)\n",
    "\n",
    "# fpr, tpr, thresholds = get_roc_curve(best_model, train_pool, plot=True)\n"
   ]
  },
  {
   "cell_type": "markdown",
   "id": "45f0856e-4cd7-4cd7-8c7f-eb5c9c7928c0",
   "metadata": {},
   "source": [
    "### model done - next - predictions "
   ]
  },
  {
   "cell_type": "code",
   "execution_count": 23,
   "id": "658faba3-91fe-4c99-bd2e-823793f36180",
   "metadata": {},
   "outputs": [],
   "source": [
    "y_result = best_model.predict(X)\n",
    "\n",
    "probs = best_model.predict_proba(X)\n",
    "probs = probs[:,1]\n"
   ]
  },
  {
   "cell_type": "code",
   "execution_count": 27,
   "id": "b9c5c3f1-2cb3-4226-969a-718cc6366810",
   "metadata": {},
   "outputs": [],
   "source": []
  },
  {
   "cell_type": "code",
   "execution_count": null,
   "id": "9538e698-1a0e-45b1-a2a0-b48aaa34580a",
   "metadata": {},
   "outputs": [],
   "source": []
  },
  {
   "cell_type": "code",
   "execution_count": null,
   "id": "5fc75043-d7da-4f68-a562-56d59be25234",
   "metadata": {},
   "outputs": [],
   "source": []
  },
  {
   "cell_type": "code",
   "execution_count": null,
   "id": "77772167-cb22-4697-8143-413f5e1b9016",
   "metadata": {},
   "outputs": [],
   "source": []
  },
  {
   "cell_type": "code",
   "execution_count": null,
   "id": "22acca4c-d101-440f-9149-4d52e39f9b8d",
   "metadata": {},
   "outputs": [],
   "source": []
  },
  {
   "cell_type": "markdown",
   "id": "80cca48b-c09b-45ea-8a43-80c17ddf4895",
   "metadata": {},
   "source": [
    "## !!!!! save the predictions AND the \"confusions\" for each data"
   ]
  },
  {
   "cell_type": "code",
   "execution_count": null,
   "id": "7de2374d-b38d-47cc-9689-b77cf393bb0c",
   "metadata": {},
   "outputs": [],
   "source": [
    "# merge back to the original table\n",
    "\n",
    "df_copy = df.copy()\n",
    "\n",
    "df_copy['y_result'] = y_result\n",
    "df_copy['y_result_probs'] = probs\n",
    "\n",
    "df_copy['result_True'] = df.target + df_copy.y_result # TP = 2, TN = 0\n",
    "# df['result_F'] = df.target - df.y_result # FP = -1, FN = 1\n",
    "\n",
    "\n",
    "# this is the column to see the \"confusuon\" situations\n",
    "# TP = 2, TN = 0\n",
    "# FP = -1, FN = 1\n",
    "df_copy['diff_res'] = np.where(df_copy.result_True != 1, df_copy.result_True, (df.target - df_copy.y_result)) \n"
   ]
  },
  {
   "cell_type": "code",
   "execution_count": null,
   "id": "4198fb8f-f4d0-4a32-860e-26f409dbcf8e",
   "metadata": {},
   "outputs": [],
   "source": [
    "# read geometies so that you can merge it with the shp file of catchments \n",
    "\n",
    "# read the shape file with geometries \n",
    "folder = '/Users/varyabazilova/Desktop/alluvial_fans/dem_all/all_points_so_far/10_datawrangl_formodel!!/shapes/'\n",
    "\n",
    "geom = pd.DataFrame(gpd.read_file(folder+ 'catchments_points_together.shp'))\n",
    "\n",
    "# take only coordinates and geometry \n",
    "geom = geom[['x_centroid', 'y_centroid', 'geometry']].drop_duplicates()"
   ]
  },
  {
   "cell_type": "code",
   "execution_count": null,
   "id": "b5a11989-fe36-412c-8e8b-c301ef36cd61",
   "metadata": {},
   "outputs": [],
   "source": [
    "# df_copy.columns"
   ]
  },
  {
   "cell_type": "code",
   "execution_count": null,
   "id": "3c8e19ff-c891-45c3-8ba3-f0fc19b9ec86",
   "metadata": {},
   "outputs": [],
   "source": [
    "## merge with df_copy: \n",
    "predicted_clim = df_copy.merge(geom, on = ['x_centroid', 'y_centroid'], how = 'left')\n",
    "\n",
    "# take only columns of interest \n",
    "predicted_clim = predicted_clim[['x_centroid', 'y_centroid', 'x_wgs', 'y_wgs', \n",
    "                                 'region', 'y_result_probs',\n",
    "                                 'diff_res', 'geometry']]\n",
    "\n",
    "# make a shp file out of it\n",
    "predicted_gdf = gpd.GeoDataFrame(predicted_clim, geometry='geometry')\n",
    "\n",
    "# save\n",
    "shpout = '/Users/varyabazilova/Desktop/alluvial_fans/dem_all/all_points_so_far/ml_model/output/morph_climate_result/'\n",
    "\n",
    "# predicted_gdf.to_file(shpout + 'morph_climate_predicted.shp')  "
   ]
  },
  {
   "cell_type": "code",
   "execution_count": null,
   "id": "a5e3dd88-f4aa-48e9-9ecd-05b53304b561",
   "metadata": {},
   "outputs": [],
   "source": [
    "# predicted_clim"
   ]
  },
  {
   "cell_type": "markdown",
   "id": "d3693319-eb38-4cf0-805e-d5637882eb18",
   "metadata": {},
   "source": [
    "# make \"projections\" \n",
    "\n",
    "### adjust X: increase temperature and precipitation according to RCP8.5 (citation) \n",
    "### median temperature increase of 6.5 [4.9 - 9.0] ∘C for SSP5-8.5.\n",
    "### median precipitation increase of 24.9 % [14.4 % to 48.1 %]  for SSP5-8.5.\n",
    "\n",
    "citation (https://esd.copernicus.org/articles/12/1061/2021/)\n"
   ]
  },
  {
   "cell_type": "code",
   "execution_count": 39,
   "id": "4d7e4f2f-3497-40ec-930a-718031f503f7",
   "metadata": {},
   "outputs": [],
   "source": [
    "dfcc = df.copy() \n",
    "\n",
    "# adjust temperatures \n",
    "dfcc['mean_annual_T']  = dfcc.mean_annual_T + 6.5\n",
    "dfcc['mean_jan_T']     = dfcc.mean_jan_T + 6.5\n",
    "dfcc['mean_july_T']    = dfcc.mean_july_T + 6.5\n",
    "dfcc['mean_monsoon_T'] = dfcc.mean_monsoon_T + 6.5\n",
    "dfcc['mean_no_monsoon_T'] = dfcc.mean_no_monsoon_T + 6.5\n",
    "\n",
    "\n",
    "# adjust precipitation \n",
    "dfcc['mean_annual_tp'] = dfcc.mean_annual_tp + (dfcc.mean_annual_tp * 0.25)\n",
    "dfcc['mean_annualsum_tp'] = dfcc.mean_annualsum_tp + (dfcc.mean_annualsum_tp * 0.25)\n",
    "dfcc['mean_daylymonsoon_tp_y'] = dfcc.mean_daylymonsoon_tp_y + (dfcc.mean_daylymonsoon_tp_y * 0.25)\n",
    "dfcc['mean_monsoon_sum_tp'] = dfcc.mean_monsoon_sum_tp + (dfcc.mean_monsoon_sum_tp * 0.25)\n",
    "dfcc['monsoon_tp_frac'] = dfcc.mean_annualsum_tp / dfcc.mean_monsoon_sum_tp \n"
   ]
  },
  {
   "cell_type": "code",
   "execution_count": 40,
   "id": "265aa49f-9a7a-4fcc-aae9-3aa24fc81d21",
   "metadata": {},
   "outputs": [],
   "source": [
    "# X and y \n",
    "ycc = dfcc.target\n",
    "Xcc = dfcc.drop(columns=['target'])\n",
    "\n",
    "\n",
    "# pool for Xcc \n",
    "cc_pool = Pool(Xcc, ycc, cat_features = cat_features)"
   ]
  },
  {
   "cell_type": "code",
   "execution_count": 41,
   "id": "61c45472-ec1b-489e-ab1a-177be80c7d66",
   "metadata": {},
   "outputs": [],
   "source": [
    "ycc_result = best_model.predict(Xcc)\n",
    "\n",
    "probs_cc = best_model.predict_proba(Xcc)\n",
    "probs_cc = probs_cc[:,1]\n",
    "\n"
   ]
  },
  {
   "cell_type": "code",
   "execution_count": null,
   "id": "1f045af7-d122-472c-a191-132e2b952747",
   "metadata": {},
   "outputs": [],
   "source": []
  },
  {
   "cell_type": "code",
   "execution_count": null,
   "id": "966a0804-975a-4e1d-b6cf-c8aef776d197",
   "metadata": {},
   "outputs": [],
   "source": [
    "\n",
    "# X2 = df2[df2.columns[df2.columns.isin(['x_centroid', 'y_centroid', 'area_m', 'perimeter', \n",
    "#         'mean_elevation', 'median_elevation', 'std_elevation',\n",
    "#         'min_elevation', 'max_elevation', 'range_elevation',\n",
    "#         'variance_elevation', 'region', 'mean_slope', 'median_slope',\n",
    "#         'std_slope', 'min_slope', 'max_slope', 'range_slope', 'variance_slope',\n",
    "#         'M', 'Rc', 'Cc'])]]"
   ]
  },
  {
   "cell_type": "code",
   "execution_count": null,
   "id": "07028e37-461c-41db-9411-283d8ff20258",
   "metadata": {},
   "outputs": [],
   "source": []
  },
  {
   "cell_type": "markdown",
   "id": "96d5f853-fe59-4510-843a-e5ae3663c022",
   "metadata": {},
   "source": [
    "## predictions done! next: what does that mean "
   ]
  },
  {
   "cell_type": "code",
   "execution_count": null,
   "id": "6ecccfc6-dc2c-454d-b7a9-571b69a29350",
   "metadata": {},
   "outputs": [],
   "source": [
    "feature_import = best_model.get_feature_importance(prettified=True)\n",
    "feature_import.head()"
   ]
  },
  {
   "cell_type": "code",
   "execution_count": null,
   "id": "7ab05635-0d8c-4713-9861-ba8f43daddb2",
   "metadata": {},
   "outputs": [],
   "source": [
    "plt.figure(figsize=(12, 15))\n",
    "sns.barplot(x=\"Importances\", y=\"Feature Id\", data=feature_import, color='darkcyan', alpha = 0.8)\n",
    "plt.title('CatBoost features importance:')"
   ]
  },
  {
   "cell_type": "code",
   "execution_count": null,
   "id": "e5d52252-87ed-46c5-ab6c-46faca4e87bf",
   "metadata": {},
   "outputs": [],
   "source": [
    "shap_values_X   = best_model.get_feature_importance(data_pool, type='ShapValues')\n",
    "shap_values_test = best_model.get_feature_importance(test_pool, type='ShapValues')\n",
    "\n",
    "shap_values_test = shap_values_test[:,:-1]"
   ]
  },
  {
   "cell_type": "code",
   "execution_count": null,
   "id": "d465dd83-d0c6-48ad-a60b-e382b34fd724",
   "metadata": {},
   "outputs": [],
   "source": [
    "explainer = shap.TreeExplainer(best_model)\n",
    "\n",
    "# shap_valuesX = explainer.shap_values(X)\n",
    "# shap.summary_plot(shap_valuesX, X)"
   ]
  },
  {
   "cell_type": "code",
   "execution_count": null,
   "id": "36f6f247-9aa9-49d6-909a-c46225d7aa60",
   "metadata": {},
   "outputs": [],
   "source": [
    "shap_valuesTE = explainer.shap_values(X_test)\n",
    "shap.summary_plot(shap_valuesTE, X_test, max_display=10, show=False)\n",
    "\n",
    "# plt.savefig('figs_talk/climate_shap_testdata_first10.pdf')"
   ]
  },
  {
   "cell_type": "code",
   "execution_count": null,
   "id": "5f93047d-c0bb-483a-8be5-d003e33c7c20",
   "metadata": {},
   "outputs": [],
   "source": [
    "shap.summary_plot(shap_valuesTE, X_test, max_display=15, plot_type=\"bar\")\n",
    "\n"
   ]
  },
  {
   "cell_type": "code",
   "execution_count": null,
   "id": "6aabc333-4b8f-41ec-a5ee-700ebe1fc2ac",
   "metadata": {},
   "outputs": [],
   "source": [
    "# create a SHAP dependence plot to show the effect of a single feature across the whole dataset\n",
    "shap.dependence_plot('area_m', shap_values_test, X_test)"
   ]
  },
  {
   "cell_type": "markdown",
   "id": "2d6fecff-2845-41f2-a66c-57c4f66f17a2",
   "metadata": {},
   "source": [
    "## partial dependence stuff "
   ]
  },
  {
   "cell_type": "code",
   "execution_count": null,
   "id": "dcf8a2ce-5bf5-4f00-a99f-88a17097cf44",
   "metadata": {},
   "outputs": [],
   "source": [
    "\n",
    "from sklearn.inspection import partial_dependence, plot_partial_dependence\n",
    "\n",
    "fig, ax = plt.subplots(figsize=(6, 6))\n",
    "ax.set_ylim(0, 1)\n",
    "my_plots = plot_partial_dependence(best_model,       \n",
    "                                   features=['area_m'],       # column numbers of plots we want to show\n",
    "                                   X=X,                        # raw predictors data.\n",
    "                                   grid_resolution=20,\n",
    "                                   response_method='predict_proba', \n",
    "                                   ax=ax)  # number of values to plot on x axis\n",
    "ax.set_ylim(0, 1)\n",
    "\n",
    "# plt.savefig('figs_talk/PD_area_example_fortalk2.pdf')"
   ]
  },
  {
   "cell_type": "code",
   "execution_count": null,
   "id": "2e98bbb7-f994-424b-9998-27a3fa06324d",
   "metadata": {},
   "outputs": [],
   "source": []
  },
  {
   "cell_type": "code",
   "execution_count": null,
   "id": "e5a6986b-6705-45c9-aca5-80dc56025abb",
   "metadata": {},
   "outputs": [],
   "source": []
  },
  {
   "cell_type": "code",
   "execution_count": null,
   "id": "ad08e210-e83a-4db6-ae7c-3fb0750d1548",
   "metadata": {},
   "outputs": [],
   "source": [
    "type(a)"
   ]
  },
  {
   "cell_type": "code",
   "execution_count": null,
   "id": "9f049183-bbbb-47c8-ad62-0970243d43ad",
   "metadata": {},
   "outputs": [],
   "source": [
    "a = ['x_centroid', 'y_centroid', 'area_m', 'perimeter', \n",
    "        'mean_elevation', 'median_elevation', 'std_elevation',\n",
    "        'min_elevation', 'max_elevation', 'range_elevation',\n",
    "        'variance_elevation', 'region', 'mean_slope', 'median_slope',\n",
    "        'std_slope', 'min_slope', 'max_slope', 'range_slope', 'variance_slope',\n",
    "        'M', 'Rc', 'Cc']"
   ]
  },
  {
   "cell_type": "code",
   "execution_count": null,
   "id": "895982cc-a45c-4f8c-877b-08203b098b76",
   "metadata": {},
   "outputs": [],
   "source": [
    "df.columns"
   ]
  },
  {
   "cell_type": "markdown",
   "id": "86a04e7a-5fb6-46d4-86a6-cef56030e808",
   "metadata": {},
   "source": [
    "# !!! only morphometry "
   ]
  },
  {
   "cell_type": "code",
   "execution_count": null,
   "id": "73027ed2-2175-4c2e-a2ed-19b5fae2648d",
   "metadata": {},
   "outputs": [],
   "source": [
    "# df.columns\n",
    "df2 = df.copy()\n",
    "y2 = df2.target\n",
    "\n",
    "X2 = df2[df2.columns[df2.columns.isin(['x_centroid', 'y_centroid', 'area_m', 'perimeter', \n",
    "        'mean_elevation', 'median_elevation', 'std_elevation',\n",
    "        'min_elevation', 'max_elevation', 'range_elevation',\n",
    "        'variance_elevation', 'region', 'mean_slope', 'median_slope',\n",
    "        'std_slope', 'min_slope', 'max_slope', 'range_slope', 'variance_slope',\n",
    "        'M', 'Rc', 'Cc'])]]\n",
    "\n",
    "\n",
    "# test columns for only climate: \n",
    "# X2 = df2[df2.columns[df2.columns.isin(['region', 'glacier', 'mean_annual_T', 'mean_jan_T', 'mean_july_T', 'mean_monsoon_T',\n",
    "#        'mean_no_monsoon_T', 'count_zeros', 'belowzero_frac',\n",
    "#        'avgtemp_belowzero', 'mean_annual_tp', 'mean_annualsum_tp',\n",
    "#        'mean_daylymonsoon_tp_y', 'mean_monsoon_sum_tp', 'monsoon_tp_frac',\n",
    "#        'n_rainy_days', 'rainy_days_frac', 'permafrost1', 'permafrost1_frac',\n",
    "#        'permafrost2', 'permafrost2_frac', 'permafrost3', 'permafrost3_frac',\n",
    "#        'permafrost4', 'permafrost4_frac', 'cont_permafrost',\n",
    "#        'cont_permafrost_frac50', 'all_permafrost_frac', 'any_permafrost'])]]\n",
    "\n",
    "# cat_features = list([12])"
   ]
  },
  {
   "cell_type": "code",
   "execution_count": null,
   "id": "afb2eaee-982b-4141-b153-8d6063c17104",
   "metadata": {},
   "outputs": [],
   "source": [
    "# X2.columns"
   ]
  },
  {
   "cell_type": "code",
   "execution_count": null,
   "id": "7f53baf4-e67b-4789-bd47-57169b3af88e",
   "metadata": {},
   "outputs": [],
   "source": [
    "# X2['glacier'] = X2['glacier'].astype(str) # n 21\n",
    "# X2['region'] = X2['region'].astype(str) # n 12\n",
    "# X2['avgtemp_belowzero'] = X2['avgtemp_belowzero'].astype(str) # n 34\n",
    "# X2['cont_permafrost'] = X2['cont_permafrost'].astype(str) # n 51\n",
    "# X2['any_permafrost'] = X2['any_permafrost'].astype(str) # n 52\n",
    "# X2['cont_permafrost_frac50'] = X2['cont_permafrost_frac50'].astype(str) # n 54\n",
    "\n",
    "# cat_features = list([])\n",
    "\n",
    "X2['region'] = X2['region'].astype('str') # n 12\n",
    "cat_features2 = list([11])"
   ]
  },
  {
   "cell_type": "code",
   "execution_count": null,
   "id": "e6b38d30-181d-4781-a620-c555bd3146a1",
   "metadata": {},
   "outputs": [],
   "source": [
    "# cat_features2"
   ]
  },
  {
   "cell_type": "code",
   "execution_count": null,
   "id": "cec0b592-3c63-4968-838c-c0a1aac8fa13",
   "metadata": {},
   "outputs": [],
   "source": [
    "# X2.dtypes"
   ]
  },
  {
   "cell_type": "code",
   "execution_count": null,
   "id": "e6acd4c6-fb06-4b90-abf9-e7a44e4e11e6",
   "metadata": {},
   "outputs": [],
   "source": [
    "\n",
    "\n",
    "test_size = 0.3\n",
    "seed = 42\n",
    "\n",
    "# train test \n",
    "X_train2, X_test2, y_train2, y_test2 = train_test_split(X2, y2, test_size=test_size, random_state=seed)\n",
    "\n",
    "# pool\n",
    "\n",
    "train_pool2 = Pool(data=X_train2,\n",
    "                  label=y_train2,\n",
    "                  cat_features=cat_features,\n",
    "                 )\n",
    "\n",
    "test_pool2 = Pool(data=X_test2,\n",
    "                 label=y_test2,\n",
    "                 cat_features=cat_features,\n",
    "                 )\n",
    "\n",
    "data_pool2 = Pool(X2, y2, cat_features = cat_features)"
   ]
  },
  {
   "cell_type": "code",
   "execution_count": null,
   "id": "3b4c6621-751a-4e38-912b-edea4c932c64",
   "metadata": {},
   "outputs": [],
   "source": [
    "\n",
    "# ------ best model ------\n",
    "\n",
    "best_model_params2 = params.copy()\n",
    "best_model_params2.update({\n",
    "    'use_best_model': True\n",
    "})\n",
    "\n",
    "best_model2 = CatBoostClassifier(**best_model_params2)\n",
    "best_model2.fit(train_pool2, \n",
    "               eval_set=test_pool2, \n",
    "               plot = False)\n",
    "\n",
    "\n",
    "\n",
    "print('Best model validation Accuracy: {:.4}'.format(\n",
    "    accuracy_score(y_test2, best_model2.predict(X_test2))\n",
    "))\n",
    "\n",
    "print('')\n",
    "print('parameters for the \"best model: \\n', best_model2.get_params())\n",
    "\n",
    "print(' ')\n",
    "print('best model get best iteration: \\n', best_model2.get_best_iteration())\n",
    "\n",
    "print(' ')\n",
    "print('best model get best score: \\n', best_model2.get_best_score())\n",
    "\n",
    "\n",
    "\n"
   ]
  },
  {
   "cell_type": "code",
   "execution_count": null,
   "id": "e22d62c5-d84b-4353-9724-491edcb2f7c1",
   "metadata": {},
   "outputs": [],
   "source": [
    "fpr2, tpr2, thresholds2 = get_roc_curve(best_model2, train_pool2, plot=False)\n",
    "\n",
    "roc2 = roc_auc_score(y_test2, best_model2.predict_proba(X_test2)[: , 1])\n",
    "\n",
    "get_confusion_matrix(best_model2, data_pool2)\n",
    "\n"
   ]
  },
  {
   "cell_type": "code",
   "execution_count": null,
   "id": "b783652a-d3ae-4992-8755-b5eac18e10e5",
   "metadata": {},
   "outputs": [],
   "source": [
    "# roc curve all together \n",
    "\n",
    "\n",
    "fpr, tpr, thresholds = get_roc_curve(best_model, train_pool, plot=False)\n",
    "\n",
    "roc = roc_auc_score(y_test, best_model.predict_proba(X_test)[: , 1])\n",
    "\n",
    "# print(thresholds)\n",
    "## calculate roc curve\n",
    "# fpr, tpr, thresholds = roc_curve(y_test, probs)\n",
    "# auc = roc_auc_score(y_test, probs)\n",
    "\n",
    "fig, ax = plt.subplots(figsize = (8,6))\n",
    "# morh + climate - green\n",
    "plt.plot(fpr, tpr, color = 'green', linewidth=5, label = 'morphometry + climate (auc = %0.2f)' % roc)\n",
    "# morph - orange\n",
    "plt.plot(fpr2, tpr2, color = 'orange', linewidth=5, alpha = 0.7, label = 'morphometry (auc = %0.2f)' % roc2)\n",
    "\n",
    "plt.plot([0, 1], [0, 1], color=\"navy\", linestyle= \"--\", label = '1-1 line (auc = 0.5)')\n",
    "\n",
    "plt.xticks(fontsize=20)\n",
    "plt.yticks(fontsize=20)\n",
    "plt.xlabel('false positive rate', fontsize=30)\n",
    "plt.ylabel('true positive rate',fontsize=30)\n",
    "# plt.legend(fontsize=20)\n",
    "\n",
    "# plt.savefig('figs_talk/both_roc_poster.pdf')\n",
    "\n",
    "\n",
    "plt.legend()"
   ]
  },
  {
   "cell_type": "markdown",
   "id": "77aac95a-9832-4b5d-8eb1-4124fc4e5d38",
   "metadata": {},
   "source": [
    "## predictions!"
   ]
  },
  {
   "cell_type": "code",
   "execution_count": null,
   "id": "f2dcab18-e167-427c-9b9f-3ec75eb51b18",
   "metadata": {},
   "outputs": [],
   "source": [
    "y_result2 = best_model2.predict(X2)\n",
    "\n",
    "probs2 = best_model2.predict_proba(X2)\n",
    "probs2 = probs2[:,1]"
   ]
  },
  {
   "cell_type": "markdown",
   "id": "9f4dbf00-9c31-43aa-ae64-9a704ee88857",
   "metadata": {},
   "source": [
    "## !!!!! save the predictions AND the \"confusions\" for each data\n"
   ]
  },
  {
   "cell_type": "code",
   "execution_count": null,
   "id": "af3b6baa-cd70-4bf5-bfe1-b8b6c6fcdd1c",
   "metadata": {},
   "outputs": [],
   "source": [
    "# merge back to the original table\n",
    "\n",
    "df_copy2 = df.copy()\n",
    "\n",
    "df_copy2['y_result'] = y_result2\n",
    "df_copy2['y_result_probs'] = probs2\n",
    "\n",
    "df_copy2['result_True'] = df.target + df_copy2.y_result # TP = 2, TN = 0\n",
    "# df['result_F'] = df.target - df.y_result # FP = -1, FN = 1\n",
    "\n",
    "\n",
    "# this is the column to see the \"confusuon\" situations\n",
    "# TP = 2, TN = 0\n",
    "# FP = -1, FN = 1\n",
    "df_copy2['diff_res'] = np.where(df_copy2.result_True != 1, df_copy2.result_True, (df.target - df_copy2.y_result)) "
   ]
  },
  {
   "cell_type": "code",
   "execution_count": null,
   "id": "8684a37c-dda6-48c0-b707-3582f5095137",
   "metadata": {},
   "outputs": [],
   "source": [
    "# df_copy2.columns"
   ]
  },
  {
   "cell_type": "code",
   "execution_count": null,
   "id": "10a41c20-9a11-4fa6-9c9f-9bceb88f4992",
   "metadata": {},
   "outputs": [],
   "source": [
    "# read geometies so that you can merge it with the shp file of catchments \n",
    "\n",
    "# read the shape file with geometries \n",
    "folder = '/Users/varyabazilova/Desktop/alluvial_fans/dem_all/all_points_so_far/10_datawrangl_formodel!!/shapes/'\n",
    "\n",
    "# geom is already there if you ran morph+climate dataset  \n",
    "# geom = pd.DataFrame(gpd.read_file(folder+ 'catchments_points_together.shp'))\n",
    "\n",
    "# take only coordinates and geometry \n",
    "# geom = geom[['x_centroid', 'y_centroid', 'geometry']].drop_duplicates()"
   ]
  },
  {
   "cell_type": "code",
   "execution_count": null,
   "id": "01a0660f-de29-42f8-b82a-c80ef70160c9",
   "metadata": {},
   "outputs": [],
   "source": [
    "## merge with df_copy: \n",
    "predicted_morph = df_copy2.merge(geom, on = ['x_centroid', 'y_centroid'], how = 'left')\n",
    "\n",
    "# take only columns of interest \n",
    "predicted_morph = predicted_morph[['x_centroid', 'y_centroid', 'x_wgs', 'y_wgs', \n",
    "                                   'region', 'y_result_probs', 'y_result',\n",
    "                                   'diff_res', 'geometry']]\n",
    "\n",
    "# make a shp file out of it\n",
    "predicted_gdf = gpd.GeoDataFrame(predicted_morph, geometry='geometry')\n",
    "\n",
    "# save\n",
    "shpout = '/Users/varyabazilova/Desktop/alluvial_fans/dem_all/all_points_so_far/ml_model/output/morph_result/'\n",
    "\n",
    "# predicted_gdf.to_file(shpout + 'morph_predicted.shp')  "
   ]
  },
  {
   "cell_type": "code",
   "execution_count": null,
   "id": "1703af81-3ed6-4ea3-97b0-0fa74a0ad045",
   "metadata": {},
   "outputs": [],
   "source": [
    "# predicted_morph"
   ]
  },
  {
   "cell_type": "code",
   "execution_count": null,
   "id": "ccc97061-6493-4af5-814e-055d5c5e562c",
   "metadata": {},
   "outputs": [],
   "source": []
  },
  {
   "cell_type": "markdown",
   "id": "c290db85-a2c1-45a0-b3e3-1fa30519ee92",
   "metadata": {},
   "source": [
    "### feature importance, shap values etc"
   ]
  },
  {
   "cell_type": "code",
   "execution_count": null,
   "id": "e6cddace-675e-460f-ac15-c9d61121880e",
   "metadata": {},
   "outputs": [],
   "source": [
    "feature_import2 = best_model2.get_feature_importance(prettified=True)\n",
    "feature_import2.head()"
   ]
  },
  {
   "cell_type": "code",
   "execution_count": null,
   "id": "0689cfa9-06a8-48f7-9e6d-0141b42d0b1f",
   "metadata": {},
   "outputs": [],
   "source": [
    "shap_values_X2   = best_model2.get_feature_importance(data_pool2, type='ShapValues')\n",
    "shap_values_test2 = best_model2.get_feature_importance(test_pool2, type='ShapValues')\n",
    "\n",
    "shap_values_test2 = shap_values_test2[:,:-1]"
   ]
  },
  {
   "cell_type": "code",
   "execution_count": null,
   "id": "a406ecf9-6fce-429f-86d1-5afaa055f357",
   "metadata": {},
   "outputs": [],
   "source": [
    "explainer2= shap.TreeExplainer(best_model2)\n",
    "\n",
    "shap_valuesTE2 = explainer2.shap_values(X_test2)\n",
    "shap.summary_plot(shap_valuesTE2, X_test2, max_display=10,show=False)\n",
    "\n",
    "# plt.savefig('figs_talk/morph_shap_testdata_first10.pdf')"
   ]
  },
  {
   "cell_type": "code",
   "execution_count": null,
   "id": "2a6db44f-0a8d-4b70-848a-7d012b018312",
   "metadata": {},
   "outputs": [],
   "source": []
  },
  {
   "cell_type": "code",
   "execution_count": null,
   "id": "e7628aa5-bdea-4249-b9ea-7a29b263ffc2",
   "metadata": {},
   "outputs": [],
   "source": [
    "\n"
   ]
  },
  {
   "cell_type": "code",
   "execution_count": null,
   "id": "5a55d71f-b782-4fbf-b315-83361549e403",
   "metadata": {},
   "outputs": [],
   "source": []
  },
  {
   "cell_type": "code",
   "execution_count": null,
   "id": "d1af2338-df5e-4d9c-893c-bd6f9e750239",
   "metadata": {},
   "outputs": [],
   "source": []
  },
  {
   "cell_type": "code",
   "execution_count": null,
   "id": "91f6f02a-6f1e-4ba7-b669-910c050c1273",
   "metadata": {},
   "outputs": [],
   "source": []
  },
  {
   "cell_type": "code",
   "execution_count": null,
   "id": "f22216f3-2554-4c84-9024-3eb2d67f6634",
   "metadata": {},
   "outputs": [],
   "source": []
  },
  {
   "cell_type": "code",
   "execution_count": null,
   "id": "6bee461c-dcaa-4c45-b0d4-597e63879b6e",
   "metadata": {},
   "outputs": [],
   "source": []
  },
  {
   "cell_type": "code",
   "execution_count": null,
   "id": "ad6471a6-74b8-42e6-a839-008e84ba4884",
   "metadata": {},
   "outputs": [],
   "source": []
  },
  {
   "cell_type": "code",
   "execution_count": null,
   "id": "73a93562-c88c-4d64-b40e-bace34c226bf",
   "metadata": {},
   "outputs": [],
   "source": [
    "# hyperparams matter but not that much for this toy-model exersise \n",
    "\n",
    "# ## hyperparameters tuning: \n",
    "\n",
    "# hyperparams = {'depth'         :[2,4,6,8,10],\n",
    "#                'learning_rate' :[0.01,0.03,0.05,0.07,0.1],\n",
    "#                'l2_leaf_reg'  : [0, 2, 1],\n",
    "#                'iterations' : [28]\n",
    "#                }\n",
    "\n",
    "\n",
    "# # cv: None — Use the default three-fold cross-validation.\n",
    "# # \n",
    "# Grid_CBC = GridSearchCV(estimator=best_model, param_grid = hyperparams, cv = 2, n_jobs=-1)\n",
    "\n",
    "# # Grid_CBC.fit(X_train, y_train)\n",
    "\n",
    "# Grid_CBC.fit(\n",
    "#     X_train, y_train,\n",
    "#     cat_features=cat_features,\n",
    "#     eval_set=(X_test, y_test), \n",
    "# #     logging_level='Verbose',  # you can uncomment this for text output\n",
    "#     plot=True\n",
    "# )\n",
    "\n",
    "\n",
    "# print(\" Results from Grid Search \" )\n",
    "# print(\"\\n The best estimator across ALL searched params:\\n\",Grid_CBC.best_estimator_)\n",
    "# print(\"\\n The best score across ALL searched params:\\n\",Grid_CBC.best_score_)\n",
    "# print(\"\\n The best parameters across ALL searched params:\\n\",Grid_CBC.best_params_)|"
   ]
  }
 ],
 "metadata": {
  "kernelspec": {
   "display_name": "Python 3 (ipykernel)",
   "language": "python",
   "name": "python3"
  },
  "language_info": {
   "codemirror_mode": {
    "name": "ipython",
    "version": 3
   },
   "file_extension": ".py",
   "mimetype": "text/x-python",
   "name": "python",
   "nbconvert_exporter": "python",
   "pygments_lexer": "ipython3",
   "version": "3.7.11"
  }
 },
 "nbformat": 4,
 "nbformat_minor": 5
}
