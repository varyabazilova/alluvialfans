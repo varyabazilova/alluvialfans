{
 "cells": [
  {
   "cell_type": "code",
   "execution_count": 15,
   "id": "5282f2c8-b81e-4f79-85df-f81c66268ccc",
   "metadata": {},
   "outputs": [
    {
     "name": "stdout",
     "output_type": "stream",
     "text": [
      "Config option `kernel_spec_manager_class` not recognized by `EnableNBExtensionApp`.\n",
      "Enabling notebook extension jupyter-js-widgets/extension...\n",
      "      - Validating: \u001b[32mOK\u001b[0m\n"
     ]
    }
   ],
   "source": [
    "import pandas as pd\n",
    "import os\n",
    "import numpy as np\n",
    "np.set_printoptions(precision=4)\n",
    "\n",
    "import catboost\n",
    "from catboost import *\n",
    "from catboost import Pool\n",
    "from catboost import CatBoostClassifier\n",
    "\n",
    "\n",
    "import matplotlib.pyplot as plt\n",
    "import geopandas as gpd\n",
    "\n",
    "# other things: \n",
    "from sklearn.model_selection import train_test_split, GridSearchCV\n",
    "from sklearn.metrics import accuracy_score, roc_curve, auc, roc_auc_score, recall_score, f1_score, confusion_matrix, precision_score\n",
    "\n",
    "!jupyter nbextension enable --py widgetsnbextension\n"
   ]
  },
  {
   "cell_type": "code",
   "execution_count": null,
   "id": "b1654559-9f13-442c-ad0d-cac1f798a049",
   "metadata": {},
   "outputs": [],
   "source": [
    "# in this notebook varya is trying to buld a \"best-working\" catboost classifier for the DF and FF catchments \n",
    "# then \"deconstrust\" that model for the shap values to see how different features affect the result of the model \n",
    "# PD? \n",
    "\n"
   ]
  },
  {
   "cell_type": "markdown",
   "id": "7e9a9b6a-6f58-43f6-b872-67b089b244be",
   "metadata": {},
   "source": [
    "### 1. read the data, defince X and y, defince categorical features for y "
   ]
  },
  {
   "cell_type": "code",
   "execution_count": 6,
   "id": "78de2c44-b9ab-43a4-847d-3c67cfceb597",
   "metadata": {},
   "outputs": [],
   "source": [
    "# read the data: \n",
    "\n",
    "path = '/Users/varyabazilova/Desktop/alluvial_fans/dem_all/all_points_so_far/ml_model/data_current/'\n",
    "df = pd.read_csv(path + '09082022dfclim_permafrost.csv', sep = ',', index_col = 0)\n",
    "\n",
    "df = df[df.target.isin([1,0])]\n",
    "df = df.drop(['DN', 'Name', 'mean_daylymonsoon_tp_x', 'region_name'], axis = 1)\n"
   ]
  },
  {
   "cell_type": "code",
   "execution_count": 11,
   "id": "47faa729-ae16-44c3-bbb3-0302613fd394",
   "metadata": {},
   "outputs": [],
   "source": [
    "y = df.target\n",
    "X = df.drop(columns=['target'])\n",
    "\n",
    "\n",
    "# # what values are categorical: \n",
    "# # region, glacier, avgtemp_belowzero, cont_permafrost, any_permafrost, cont_permafrost_frac50\n",
    "X['glacier'] = X['glacier'].astype('category') # n 21\n",
    "X['region'] = X['region'].astype('category') # n 12\n",
    "X['avgtemp_belowzero'] = X['avgtemp_belowzero'].astype('category') # n 34\n",
    "X['cont_permafrost'] = X['cont_permafrost'].astype('category') # n 51\n",
    "X['any_permafrost'] = X['any_permafrost'].astype('category') # n 52\n",
    "X['cont_permafrost_frac50'] = X['cont_permafrost_frac50'].astype('category') # n 54\n",
    "\n",
    "cat_features = list([12, 21, 34, 50, 51, 53])\n"
   ]
  },
  {
   "cell_type": "markdown",
   "id": "5aeb3945-68bd-4f8a-b622-468138c9a678",
   "metadata": {},
   "source": [
    "### 2. classifier data prep: split to train and test, convert to pool data class "
   ]
  },
  {
   "cell_type": "code",
   "execution_count": 12,
   "id": "dd17fe40-cf17-4af1-838d-13daded617e9",
   "metadata": {},
   "outputs": [],
   "source": [
    "# train test \n",
    "seed = 42\n",
    "test_size = 0.3\n",
    "\n",
    "X_train, X_test, y_train, y_test = train_test_split(X, y, test_size=test_size, random_state=seed)\n"
   ]
  },
  {
   "cell_type": "code",
   "execution_count": 13,
   "id": "a5ddad39-85af-479c-a708-9518eb1ddcd2",
   "metadata": {},
   "outputs": [],
   "source": [
    "# pool\n",
    "\n",
    "train_data = Pool(data=X_train,\n",
    "                  label=y_train,\n",
    "                  cat_features=cat_features,\n",
    "                 )\n",
    "\n",
    "test_data = Pool(data=X_test,\n",
    "                 label=y_test,\n",
    "                 cat_features=cat_features,\n",
    "                 )"
   ]
  },
  {
   "cell_type": "markdown",
   "id": "ffdb358b-40f5-488d-b096-ae9b026f47a4",
   "metadata": {},
   "source": [
    "### 3. catboost classifier - build the model and identify the hyperparameters that are needed "
   ]
  },
  {
   "cell_type": "code",
   "execution_count": null,
   "id": "a4eed79a-8e02-4a12-a9e3-031e5a51fa29",
   "metadata": {},
   "outputs": [],
   "source": [
    "# tune number of trees: \n",
    "\n",
    "\n",
    "\n",
    "\n"
   ]
  },
  {
   "cell_type": "code",
   "execution_count": null,
   "id": "73a93562-c88c-4d64-b40e-bace34c226bf",
   "metadata": {},
   "outputs": [],
   "source": [
    "# import CatBoostClassifier\n",
    "# logloss - default(?)\n",
    "# CrossEntropy - for probabilities \n",
    "\n",
    "model = CatBoostClassifier(\n",
    "    iterations=500,\n",
    "    learning_rate=0.1,\n",
    "    use_best_model= True,\n",
    "    loss_function='CrossEntropy', \n",
    "    custom_loss=['AUC', 'Accuracy']\n",
    ")\n",
    "\n",
    "\n",
    "model.fit(\n",
    "    train_data,                # pool thing - instead of X_train, y_train\n",
    "    # cat_features=cat_features, # since the data is a pool - it already knows about it \n",
    "    eval_set=test_data,        # pool thing - instead of X_test, y_test\n",
    "    verbose=False, \n",
    "    plot=True\n",
    ")\n",
    "\n",
    "print('Model is fitted: ' + str(model.is_fitted()))\n",
    "print('Model params:')\n",
    "print(model.get_params())"
   ]
  }
 ],
 "metadata": {
  "kernelspec": {
   "display_name": "Python [conda env:project1] *",
   "language": "python",
   "name": "conda-env-project1-py"
  },
  "language_info": {
   "codemirror_mode": {
    "name": "ipython",
    "version": 3
   },
   "file_extension": ".py",
   "mimetype": "text/x-python",
   "name": "python",
   "nbconvert_exporter": "python",
   "pygments_lexer": "ipython3",
   "version": "3.7.11"
  }
 },
 "nbformat": 4,
 "nbformat_minor": 5
}
