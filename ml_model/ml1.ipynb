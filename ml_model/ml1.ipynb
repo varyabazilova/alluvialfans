{
 "cells": [
  {
   "cell_type": "code",
   "execution_count": 29,
   "id": "c9fb49a8-8bcc-4586-86d3-813c56f57ad7",
   "metadata": {},
   "outputs": [],
   "source": [
    "# in this notebook varya is trying to fit the model to classify DF and FF \n",
    "# based on some features of the catchments (such as morphometrics and/or climate stuff)"
   ]
  },
  {
   "cell_type": "code",
   "execution_count": null,
   "id": "a5aae9c8-517f-43ec-a2d3-7bb9ce2327af",
   "metadata": {},
   "outputs": [],
   "source": []
  },
  {
   "cell_type": "code",
   "execution_count": 30,
   "id": "ba2136fd-6f1f-4226-92d3-c22e8a0f133f",
   "metadata": {},
   "outputs": [],
   "source": [
    "# https://machinelearningmastery.com/develop-first-xgboost-model-python-scikit-learn/\n",
    "\n",
    "# i will try to use this tutorial"
   ]
  },
  {
   "cell_type": "code",
   "execution_count": 31,
   "id": "9bbde706-800a-450c-a5e0-517f3374613e",
   "metadata": {},
   "outputs": [],
   "source": [
    "import pandas as pd\n",
    "import numpy as np\n",
    "import matplotlib.pyplot as plt\n",
    "\n",
    "import seaborn as sns\n",
    "\n",
    "from xgboost import XGBClassifier\n",
    "from sklearn.model_selection import train_test_split\n",
    "from sklearn.metrics import accuracy_score\n",
    "from scipy.stats import zscore\n",
    "\n"
   ]
  },
  {
   "cell_type": "markdown",
   "id": "ed0cd287-6ca6-4243-baf5-278b39a3b93a",
   "metadata": {},
   "source": [
    "### read data\n",
    "\n",
    " - make sure it has the target value X (1/0 -> DF/FF)\n",
    " - make sure its only 1 and 0 (not anything else) \n",
    " - calculate correlations and scatter plots to look at how data looks \n",
    " - make histograms for all features (to see how data looks like for different classes)\n",
    " - normalize with the z-score (just curious if it will change smth "
   ]
  },
  {
   "cell_type": "code",
   "execution_count": 32,
   "id": "9fd81dbb-2013-49a9-a1ae-163f90e1cc9e",
   "metadata": {},
   "outputs": [],
   "source": [
    "# read data: \n",
    "\n",
    "# in the copy table i have changed the FF/DF column \n",
    "# df = pd.read_csv('morphometrical_params.csv', sep = ';', index_col = 0)\n",
    "df = pd.read_csv('/Users/varyabazilova/Desktop/alluvial_fans/dem_all/all_points_so_far/10_datawrangl_formodel!!/morphometrical_params.csv', sep = ';', index_col = 0)\n",
    "df = df[df.target.isin([1,0])]\n",
    "# reset FF/DF to 0 and 1\n",
    "# all - flood, some - DF\n",
    "# df['target'] = df.Name = "
   ]
  },
  {
   "cell_type": "code",
   "execution_count": 33,
   "id": "f8c2d987-8edc-41a0-9103-feb78f0ad92b",
   "metadata": {},
   "outputs": [
    {
     "data": {
      "text/html": [
       "<div>\n",
       "<style scoped>\n",
       "    .dataframe tbody tr th:only-of-type {\n",
       "        vertical-align: middle;\n",
       "    }\n",
       "\n",
       "    .dataframe tbody tr th {\n",
       "        vertical-align: top;\n",
       "    }\n",
       "\n",
       "    .dataframe thead th {\n",
       "        text-align: right;\n",
       "    }\n",
       "</style>\n",
       "<table border=\"1\" class=\"dataframe\">\n",
       "  <thead>\n",
       "    <tr style=\"text-align: right;\">\n",
       "      <th></th>\n",
       "      <th>DN</th>\n",
       "      <th>target</th>\n",
       "      <th>Name</th>\n",
       "      <th>x_centroid</th>\n",
       "      <th>y_centroid</th>\n",
       "      <th>area_m</th>\n",
       "      <th>perimeter</th>\n",
       "      <th>glaciersum</th>\n",
       "      <th>mean_elevation</th>\n",
       "      <th>median_elevation</th>\n",
       "      <th>...</th>\n",
       "      <th>max_slope</th>\n",
       "      <th>range_slope</th>\n",
       "      <th>variance_slope</th>\n",
       "      <th>glarea_percent</th>\n",
       "      <th>glacier</th>\n",
       "      <th>x_wgs</th>\n",
       "      <th>y_wgs</th>\n",
       "      <th>M</th>\n",
       "      <th>Rc</th>\n",
       "      <th>Cc</th>\n",
       "    </tr>\n",
       "  </thead>\n",
       "  <tbody>\n",
       "    <tr>\n",
       "      <th>0</th>\n",
       "      <td>2</td>\n",
       "      <td>1</td>\n",
       "      <td>DF</td>\n",
       "      <td>6533932.497</td>\n",
       "      <td>-500205.440</td>\n",
       "      <td>323908.568</td>\n",
       "      <td>3584.675</td>\n",
       "      <td>0.000</td>\n",
       "      <td>4738.964789</td>\n",
       "      <td>4764.5</td>\n",
       "      <td>...</td>\n",
       "      <td>73.454002</td>\n",
       "      <td>68.675880</td>\n",
       "      <td>189.262607</td>\n",
       "      <td>0.00000</td>\n",
       "      <td>0</td>\n",
       "      <td>85.622</td>\n",
       "      <td>28.207</td>\n",
       "      <td>5.082328e+05</td>\n",
       "      <td>0.316762</td>\n",
       "      <td>1.789410</td>\n",
       "    </tr>\n",
       "    <tr>\n",
       "      <th>1</th>\n",
       "      <td>3</td>\n",
       "      <td>1</td>\n",
       "      <td>DF</td>\n",
       "      <td>6534113.836</td>\n",
       "      <td>-500799.045</td>\n",
       "      <td>182483.700</td>\n",
       "      <td>2922.889</td>\n",
       "      <td>0.000</td>\n",
       "      <td>4568.158333</td>\n",
       "      <td>4594.5</td>\n",
       "      <td>...</td>\n",
       "      <td>69.205093</td>\n",
       "      <td>66.178936</td>\n",
       "      <td>239.110864</td>\n",
       "      <td>0.00000</td>\n",
       "      <td>0</td>\n",
       "      <td>85.617</td>\n",
       "      <td>28.205</td>\n",
       "      <td>2.584446e+05</td>\n",
       "      <td>0.268417</td>\n",
       "      <td>1.943889</td>\n",
       "    </tr>\n",
       "    <tr>\n",
       "      <th>2</th>\n",
       "      <td>4</td>\n",
       "      <td>1</td>\n",
       "      <td>DF</td>\n",
       "      <td>6533894.325</td>\n",
       "      <td>-503821.445</td>\n",
       "      <td>205294.163</td>\n",
       "      <td>2702.293</td>\n",
       "      <td>0.000</td>\n",
       "      <td>4182.414815</td>\n",
       "      <td>4179.0</td>\n",
       "      <td>...</td>\n",
       "      <td>49.839001</td>\n",
       "      <td>37.792932</td>\n",
       "      <td>58.833395</td>\n",
       "      <td>0.00000</td>\n",
       "      <td>0</td>\n",
       "      <td>85.591</td>\n",
       "      <td>28.205</td>\n",
       "      <td>2.854492e+05</td>\n",
       "      <td>0.353282</td>\n",
       "      <td>1.694398</td>\n",
       "    </tr>\n",
       "    <tr>\n",
       "      <th>3</th>\n",
       "      <td>5</td>\n",
       "      <td>0</td>\n",
       "      <td>Mixed - new looks FF, vegetated DF</td>\n",
       "      <td>6531952.768</td>\n",
       "      <td>-502250.739</td>\n",
       "      <td>8413968.867</td>\n",
       "      <td>19907.851</td>\n",
       "      <td>2763.123</td>\n",
       "      <td>4867.525384</td>\n",
       "      <td>4886.5</td>\n",
       "      <td>...</td>\n",
       "      <td>59.196445</td>\n",
       "      <td>58.829133</td>\n",
       "      <td>129.789809</td>\n",
       "      <td>0.03284</td>\n",
       "      <td>1</td>\n",
       "      <td>85.603</td>\n",
       "      <td>28.226</td>\n",
       "      <td>5.212530e+06</td>\n",
       "      <td>0.266785</td>\n",
       "      <td>1.949823</td>\n",
       "    </tr>\n",
       "    <tr>\n",
       "      <th>4</th>\n",
       "      <td>7</td>\n",
       "      <td>0</td>\n",
       "      <td>FF - lower lef DF remnants?</td>\n",
       "      <td>6535837.722</td>\n",
       "      <td>-503989.910</td>\n",
       "      <td>359644.959</td>\n",
       "      <td>3750.121</td>\n",
       "      <td>0.000</td>\n",
       "      <td>4346.589852</td>\n",
       "      <td>4321.0</td>\n",
       "      <td>...</td>\n",
       "      <td>58.032841</td>\n",
       "      <td>51.812997</td>\n",
       "      <td>91.630189</td>\n",
       "      <td>0.00000</td>\n",
       "      <td>0</td>\n",
       "      <td>85.591</td>\n",
       "      <td>28.184</td>\n",
       "      <td>4.587736e+05</td>\n",
       "      <td>0.321361</td>\n",
       "      <td>1.776559</td>\n",
       "    </tr>\n",
       "  </tbody>\n",
       "</table>\n",
       "<p>5 rows × 31 columns</p>\n",
       "</div>"
      ],
      "text/plain": [
       "   DN  target                                Name   x_centroid  y_centroid  \\\n",
       "0   2       1                                  DF  6533932.497 -500205.440   \n",
       "1   3       1                                  DF  6534113.836 -500799.045   \n",
       "2   4       1                                  DF  6533894.325 -503821.445   \n",
       "3   5       0  Mixed - new looks FF, vegetated DF  6531952.768 -502250.739   \n",
       "4   7       0         FF - lower lef DF remnants?  6535837.722 -503989.910   \n",
       "\n",
       "        area_m  perimeter  glaciersum  mean_elevation  median_elevation  ...  \\\n",
       "0   323908.568   3584.675       0.000     4738.964789            4764.5  ...   \n",
       "1   182483.700   2922.889       0.000     4568.158333            4594.5  ...   \n",
       "2   205294.163   2702.293       0.000     4182.414815            4179.0  ...   \n",
       "3  8413968.867  19907.851    2763.123     4867.525384            4886.5  ...   \n",
       "4   359644.959   3750.121       0.000     4346.589852            4321.0  ...   \n",
       "\n",
       "   max_slope  range_slope  variance_slope  glarea_percent  glacier   x_wgs  \\\n",
       "0  73.454002    68.675880      189.262607         0.00000        0  85.622   \n",
       "1  69.205093    66.178936      239.110864         0.00000        0  85.617   \n",
       "2  49.839001    37.792932       58.833395         0.00000        0  85.591   \n",
       "3  59.196445    58.829133      129.789809         0.03284        1  85.603   \n",
       "4  58.032841    51.812997       91.630189         0.00000        0  85.591   \n",
       "\n",
       "    y_wgs             M        Rc        Cc  \n",
       "0  28.207  5.082328e+05  0.316762  1.789410  \n",
       "1  28.205  2.584446e+05  0.268417  1.943889  \n",
       "2  28.205  2.854492e+05  0.353282  1.694398  \n",
       "3  28.226  5.212530e+06  0.266785  1.949823  \n",
       "4  28.184  4.587736e+05  0.321361  1.776559  \n",
       "\n",
       "[5 rows x 31 columns]"
      ]
     },
     "execution_count": 33,
     "metadata": {},
     "output_type": "execute_result"
    }
   ],
   "source": [
    "df.head()"
   ]
  },
  {
   "cell_type": "code",
   "execution_count": 34,
   "id": "f734bf1f-e9f4-4acb-b799-f050b32f428f",
   "metadata": {},
   "outputs": [
    {
     "data": {
      "text/plain": [
       "<matplotlib.collections.PathCollection at 0x7ff493fc7950>"
      ]
     },
     "execution_count": 34,
     "metadata": {},
     "output_type": "execute_result"
    },
    {
     "data": {
      "image/png": "[encoded data removed]",
      "text/plain": [
       "<Figure size 432x288 with 1 Axes>"
      ]
     },
     "metadata": {
      "needs_background": "light"
     },
     "output_type": "display_data"
    }
   ],
   "source": [
    "plt.scatter(df.min_slope, y = df.index)"
   ]
  },
  {
   "cell_type": "code",
   "execution_count": 35,
   "id": "a9813c0c-5804-4c5c-b605-7e1081b7db58",
   "metadata": {},
   "outputs": [
    {
     "data": {
      "text/plain": [
       "Text(0.5, 1.0, 'various parameters')"
      ]
     },
     "execution_count": 35,
     "metadata": {},
     "output_type": "execute_result"
    },
    {
     "data": {
      "image/png": "[encoded data removed]",
      "text/plain": [
       "<Figure size 720x720 with 2 Axes>"
      ]
     },
     "metadata": {
      "needs_background": "light"
     },
     "output_type": "display_data"
    }
   ],
   "source": [
    "# correlations\n",
    "df_corr = df.corr()\n",
    "\n",
    "\n",
    "# plot\n",
    "\n",
    "plt.figure(figsize=(10, 10))\n",
    "\n",
    "# mask for the upper triangle\n",
    "# mask = np.triu(np.ones_like(df_corr, dtype=bool))\n",
    "# color palette\n",
    "cmap = sns.diverging_palette(230, 20, as_cmap=True)\n",
    "# heatmap \n",
    "# sns.heatmap(df_corr, cmap=cmap, mask = mask)\n",
    "sns.heatmap(df_corr, cmap=cmap, vmin = -0.25, vmax = 0.25)\n",
    "plt.title('various parameters', fontsize = 15)\n",
    "\n"
   ]
  },
  {
   "cell_type": "code",
   "execution_count": 36,
   "id": "4d82a57d-3e78-4d9a-afe6-3163c5019403",
   "metadata": {},
   "outputs": [],
   "source": [
    "# scatter plot (stupid one for now) \n",
    "# g = sns.PairGrid(df, hue = 'target')\n",
    "# g.map_diag(sns.histplot)\n",
    "# g.map_offdiag(sns.scatterplot)\n",
    "\n",
    "# plt.savefig('params_scatter_sub.png', dpi = 300, bbox_inches = 'tight')\n"
   ]
  },
  {
   "cell_type": "code",
   "execution_count": 37,
   "id": "09e72a05-aafa-49c6-98fe-6f157c39ca7c",
   "metadata": {},
   "outputs": [],
   "source": [
    "# scale the data with the z score: \n"
   ]
  },
  {
   "cell_type": "code",
   "execution_count": 46,
   "id": "b6af6bb0-fdcf-43dc-913f-760fb22c003a",
   "metadata": {},
   "outputs": [
    {
     "data": {
      "text/html": [
       "<div>\n",
       "<style scoped>\n",
       "    .dataframe tbody tr th:only-of-type {\n",
       "        vertical-align: middle;\n",
       "    }\n",
       "\n",
       "    .dataframe tbody tr th {\n",
       "        vertical-align: top;\n",
       "    }\n",
       "\n",
       "    .dataframe thead th {\n",
       "        text-align: right;\n",
       "    }\n",
       "</style>\n",
       "<table border=\"1\" class=\"dataframe\">\n",
       "  <thead>\n",
       "    <tr style=\"text-align: right;\">\n",
       "      <th></th>\n",
       "      <th>target</th>\n",
       "      <th>area_m</th>\n",
       "      <th>perimeter</th>\n",
       "      <th>glaciersum</th>\n",
       "      <th>mean_elevation</th>\n",
       "      <th>median_elevation</th>\n",
       "      <th>std_elevation</th>\n",
       "      <th>min_elevation</th>\n",
       "      <th>max_elevation</th>\n",
       "      <th>range_elevation</th>\n",
       "      <th>...</th>\n",
       "      <th>max_slope</th>\n",
       "      <th>range_slope</th>\n",
       "      <th>variance_slope</th>\n",
       "      <th>glarea_percent</th>\n",
       "      <th>glacier</th>\n",
       "      <th>x_wgs</th>\n",
       "      <th>y_wgs</th>\n",
       "      <th>M</th>\n",
       "      <th>Rc</th>\n",
       "      <th>Cc</th>\n",
       "    </tr>\n",
       "  </thead>\n",
       "  <tbody>\n",
       "    <tr>\n",
       "      <th>0</th>\n",
       "      <td>0.574221</td>\n",
       "      <td>-0.117850</td>\n",
       "      <td>-0.404523</td>\n",
       "      <td>-0.095920</td>\n",
       "      <td>0.748443</td>\n",
       "      <td>0.754410</td>\n",
       "      <td>-0.536311</td>\n",
       "      <td>0.828620</td>\n",
       "      <td>0.268787</td>\n",
       "      <td>-0.459021</td>\n",
       "      <td>...</td>\n",
       "      <td>0.890031</td>\n",
       "      <td>0.787584</td>\n",
       "      <td>1.467503</td>\n",
       "      <td>-0.338281</td>\n",
       "      <td>-0.553349</td>\n",
       "      <td>1.471906</td>\n",
       "      <td>-2.292733</td>\n",
       "      <td>-0.373069</td>\n",
       "      <td>-0.400704</td>\n",
       "      <td>0.193027</td>\n",
       "    </tr>\n",
       "    <tr>\n",
       "      <th>1</th>\n",
       "      <td>0.574221</td>\n",
       "      <td>-0.119802</td>\n",
       "      <td>-0.441653</td>\n",
       "      <td>-0.095920</td>\n",
       "      <td>0.530024</td>\n",
       "      <td>0.539020</td>\n",
       "      <td>-0.726029</td>\n",
       "      <td>0.897092</td>\n",
       "      <td>0.026802</td>\n",
       "      <td>-0.773787</td>\n",
       "      <td>...</td>\n",
       "      <td>0.652822</td>\n",
       "      <td>0.686322</td>\n",
       "      <td>2.212975</td>\n",
       "      <td>-0.338281</td>\n",
       "      <td>-0.553349</td>\n",
       "      <td>1.471034</td>\n",
       "      <td>-2.293260</td>\n",
       "      <td>-0.402386</td>\n",
       "      <td>-0.657128</td>\n",
       "      <td>0.643531</td>\n",
       "    </tr>\n",
       "    <tr>\n",
       "      <th>2</th>\n",
       "      <td>0.574221</td>\n",
       "      <td>-0.119487</td>\n",
       "      <td>-0.454030</td>\n",
       "      <td>-0.095920</td>\n",
       "      <td>0.036755</td>\n",
       "      <td>0.012581</td>\n",
       "      <td>-0.721720</td>\n",
       "      <td>0.509490</td>\n",
       "      <td>-0.277765</td>\n",
       "      <td>-0.746463</td>\n",
       "      <td>...</td>\n",
       "      <td>-0.428357</td>\n",
       "      <td>-0.464858</td>\n",
       "      <td>-0.483045</td>\n",
       "      <td>-0.338281</td>\n",
       "      <td>-0.553349</td>\n",
       "      <td>1.466499</td>\n",
       "      <td>-2.293260</td>\n",
       "      <td>-0.399216</td>\n",
       "      <td>-0.207000</td>\n",
       "      <td>-0.084054</td>\n",
       "    </tr>\n",
       "    <tr>\n",
       "      <th>3</th>\n",
       "      <td>-1.741490</td>\n",
       "      <td>-0.006181</td>\n",
       "      <td>0.511297</td>\n",
       "      <td>-0.095398</td>\n",
       "      <td>0.912840</td>\n",
       "      <td>0.908984</td>\n",
       "      <td>0.540355</td>\n",
       "      <td>0.529054</td>\n",
       "      <td>0.956149</td>\n",
       "      <td>0.528993</td>\n",
       "      <td>...</td>\n",
       "      <td>0.094055</td>\n",
       "      <td>0.388254</td>\n",
       "      <td>0.578097</td>\n",
       "      <td>-0.332106</td>\n",
       "      <td>1.807179</td>\n",
       "      <td>1.468592</td>\n",
       "      <td>-2.287733</td>\n",
       "      <td>0.179047</td>\n",
       "      <td>-0.665780</td>\n",
       "      <td>0.660835</td>\n",
       "    </tr>\n",
       "    <tr>\n",
       "      <th>4</th>\n",
       "      <td>-1.741490</td>\n",
       "      <td>-0.117356</td>\n",
       "      <td>-0.395241</td>\n",
       "      <td>-0.095920</td>\n",
       "      <td>0.246693</td>\n",
       "      <td>0.192495</td>\n",
       "      <td>-0.474486</td>\n",
       "      <td>0.652548</td>\n",
       "      <td>-0.014919</td>\n",
       "      <td>-0.598917</td>\n",
       "      <td>...</td>\n",
       "      <td>0.029092</td>\n",
       "      <td>0.103719</td>\n",
       "      <td>0.007426</td>\n",
       "      <td>-0.338281</td>\n",
       "      <td>-0.553349</td>\n",
       "      <td>1.466499</td>\n",
       "      <td>-2.298787</td>\n",
       "      <td>-0.378874</td>\n",
       "      <td>-0.376309</td>\n",
       "      <td>0.155549</td>\n",
       "    </tr>\n",
       "  </tbody>\n",
       "</table>\n",
       "<p>5 rows × 26 columns</p>\n",
       "</div>"
      ],
      "text/plain": [
       "     target    area_m  perimeter  glaciersum  mean_elevation  \\\n",
       "0  0.574221 -0.117850  -0.404523   -0.095920        0.748443   \n",
       "1  0.574221 -0.119802  -0.441653   -0.095920        0.530024   \n",
       "2  0.574221 -0.119487  -0.454030   -0.095920        0.036755   \n",
       "3 -1.741490 -0.006181   0.511297   -0.095398        0.912840   \n",
       "4 -1.741490 -0.117356  -0.395241   -0.095920        0.246693   \n",
       "\n",
       "   median_elevation  std_elevation  min_elevation  max_elevation  \\\n",
       "0          0.754410      -0.536311       0.828620       0.268787   \n",
       "1          0.539020      -0.726029       0.897092       0.026802   \n",
       "2          0.012581      -0.721720       0.509490      -0.277765   \n",
       "3          0.908984       0.540355       0.529054       0.956149   \n",
       "4          0.192495      -0.474486       0.652548      -0.014919   \n",
       "\n",
       "   range_elevation  ...  max_slope  range_slope  variance_slope  \\\n",
       "0        -0.459021  ...   0.890031     0.787584        1.467503   \n",
       "1        -0.773787  ...   0.652822     0.686322        2.212975   \n",
       "2        -0.746463  ...  -0.428357    -0.464858       -0.483045   \n",
       "3         0.528993  ...   0.094055     0.388254        0.578097   \n",
       "4        -0.598917  ...   0.029092     0.103719        0.007426   \n",
       "\n",
       "   glarea_percent   glacier     x_wgs     y_wgs         M        Rc        Cc  \n",
       "0       -0.338281 -0.553349  1.471906 -2.292733 -0.373069 -0.400704  0.193027  \n",
       "1       -0.338281 -0.553349  1.471034 -2.293260 -0.402386 -0.657128  0.643531  \n",
       "2       -0.338281 -0.553349  1.466499 -2.293260 -0.399216 -0.207000 -0.084054  \n",
       "3       -0.332106  1.807179  1.468592 -2.287733  0.179047 -0.665780  0.660835  \n",
       "4       -0.338281 -0.553349  1.466499 -2.298787 -0.378874 -0.376309  0.155549  \n",
       "\n",
       "[5 rows x 26 columns]"
      ]
     },
     "execution_count": 46,
     "metadata": {},
     "output_type": "execute_result"
    }
   ],
   "source": [
    "# z score (#!!! maybe think about not including region number here) \n",
    "\n",
    "df = df[['target', 'area_m', 'perimeter', 'glaciersum', 'mean_elevation', 'median_elevation', \n",
    "         'std_elevation', 'min_elevation', 'max_elevation', 'range_elevation',\n",
    "         'variance_elevation', 'region', 'mean_slope', 'median_slope', 'std_slope', \n",
    "         'min_slope', 'max_slope', 'range_slope',\n",
    "         'variance_slope', 'glarea_percent', 'glacier', 'x_wgs', 'y_wgs', 'M', 'Rc', 'Cc']]\n",
    "\n",
    "dfz = df.apply(zscore)\n",
    "dfz.head()"
   ]
  },
  {
   "cell_type": "code",
   "execution_count": 23,
   "id": "cb3af589-e9b8-46c3-b65c-872abf2076ee",
   "metadata": {},
   "outputs": [],
   "source": [
    "# dfz"
   ]
  },
  {
   "cell_type": "code",
   "execution_count": null,
   "id": "5ac9ff4e-a6f9-4710-951f-106ad11a33d8",
   "metadata": {},
   "outputs": [],
   "source": []
  },
  {
   "cell_type": "markdown",
   "id": "f98753d0-c5fc-4116-b1ec-c28e592dfb9b",
   "metadata": {},
   "source": [
    "# model stuff"
   ]
  },
  {
   "cell_type": "code",
   "execution_count": 39,
   "id": "a412ad36-e90e-4de9-b9e1-4b48dcedfdc0",
   "metadata": {},
   "outputs": [
    {
     "data": {
      "text/plain": [
       "Index(['target', 'area_m', 'perimeter', 'glaciersum', 'mean_elevation',\n",
       "       'median_elevation', 'std_elevation', 'min_elevation', 'max_elevation',\n",
       "       'range_elevation', 'variance_elevation', 'region', 'mean_slope',\n",
       "       'median_slope', 'std_slope', 'min_slope', 'max_slope', 'range_slope',\n",
       "       'variance_slope', 'glarea_percent', 'glacier', 'x_wgs', 'y_wgs', 'M',\n",
       "       'Rc', 'Cc'],\n",
       "      dtype='object')"
      ]
     },
     "execution_count": 39,
     "metadata": {},
     "output_type": "execute_result"
    }
   ],
   "source": [
    "# subset the data: \n",
    "\n",
    "df.columns"
   ]
  },
  {
   "cell_type": "code",
   "execution_count": 40,
   "id": "a1435cd3-737a-4e64-9250-870f0adf9d39",
   "metadata": {},
   "outputs": [],
   "source": [
    "x_columns = [ 'area_m', 'perimeter', 'glaciersum', 'mean_elevation', 'median_elevation', \n",
    "         'std_elevation', 'min_elevation', 'max_elevation', 'range_elevation',\n",
    "         'variance_elevation', 'region', 'mean_slope', 'median_slope', 'std_slope', \n",
    "         'min_slope', 'max_slope', 'range_slope',\n",
    "         'variance_slope', 'glarea_percent', 'glacier', 'x_wgs', 'y_wgs', 'M', 'Rc', 'Cc']\n",
    "y_column = 'target'"
   ]
  },
  {
   "cell_type": "code",
   "execution_count": 41,
   "id": "d3bdd45f-f8d2-43fd-9561-a2002e83e4b4",
   "metadata": {},
   "outputs": [],
   "source": [
    "# ------- split data into X and y\n",
    "X = df[x_columns]\n",
    "y = df[y_column]"
   ]
  },
  {
   "cell_type": "code",
   "execution_count": 42,
   "id": "8d4c65d7-a360-4cbb-a9a1-f4a9baedcf08",
   "metadata": {},
   "outputs": [],
   "source": [
    "# ------- split to train test: \n",
    "\n",
    "seed = 7\n",
    "test_size = 0.2\n",
    "\n",
    "X_train, X_test, y_train, y_test = train_test_split(X, y, test_size=test_size, random_state=seed)"
   ]
  },
  {
   "cell_type": "code",
   "execution_count": 43,
   "id": "ca03046f-6e76-4019-843d-3355512c3689",
   "metadata": {},
   "outputs": [
    {
     "name": "stdout",
     "output_type": "stream",
     "text": [
      "[11:54:29] WARNING: /Users/runner/work/xgboost/xgboost/python-package/build/temp.macosx-10.9-x86_64-3.7/xgboost/src/learner.cc:627: \n",
      "Parameters: { \"depth\" } might not be used.\n",
      "\n",
      "  This could be a false alarm, with some parameters getting used by language bindings but\n",
      "  then being mistakenly passed down to XGBoost core, or some parameter actually being used\n",
      "  but getting flagged wrongly here. Please open an issue if you find any such cases.\n",
      "\n",
      "\n"
     ]
    },
    {
     "data": {
      "text/plain": [
       "XGBClassifier(base_score=0.5, booster='gbtree', callbacks=None,\n",
       "              colsample_bylevel=1, colsample_bynode=1, colsample_bytree=1,\n",
       "              depth=2, early_stopping_rounds=None, enable_categorical=False,\n",
       "              eval_metric=None, gamma=0, gpu_id=-1, grow_policy='depthwise',\n",
       "              importance_type=None, interaction_constraints='',\n",
       "              learning_rate=0.300000012, max_bin=256, max_cat_to_onehot=4,\n",
       "              max_delta_step=0, max_depth=6, max_leaves=0, min_child_weight=1,\n",
       "              missing=nan, monotone_constraints='()', n_estimators=1000,\n",
       "              n_jobs=0, num_parallel_tree=1, predictor='auto', random_state=0,\n",
       "              reg_alpha=0, ...)"
      ]
     },
     "execution_count": 43,
     "metadata": {},
     "output_type": "execute_result"
    }
   ],
   "source": [
    "# 1. fit model to training data\n",
    "\n",
    "model = XGBClassifier(n_estimators=1000, depth=2)\n",
    "model.fit(X_train, y_train)"
   ]
  },
  {
   "cell_type": "code",
   "execution_count": 44,
   "id": "1a7c758c-fab9-40ab-899a-2478b252eda6",
   "metadata": {},
   "outputs": [],
   "source": [
    "# print(model)"
   ]
  },
  {
   "cell_type": "code",
   "execution_count": 45,
   "id": "1e37fb44-821b-4fac-af26-0146f3a019db",
   "metadata": {},
   "outputs": [
    {
     "name": "stdout",
     "output_type": "stream",
     "text": [
      "Accuracy: 87.84%\n"
     ]
    }
   ],
   "source": [
    "# 5. Make Predictions\n",
    "\n",
    "# make predictions for test data\n",
    "y_pred = model.predict(X_test)\n",
    "predictions = [round(value) for value in y_pred]\n",
    "\n",
    "# evaluate predictions\n",
    "# accuracy = accuracy_score(y_test, predictions)\n",
    "\n",
    "accuracy = accuracy_score(y_test, y_pred)\n",
    "\n",
    "print(\"Accuracy: %.2f%%\" % (accuracy * 100.0))"
   ]
  },
  {
   "cell_type": "code",
   "execution_count": null,
   "id": "ad9c2211-5be9-427e-9d55-2b235d57ffbb",
   "metadata": {},
   "outputs": [],
   "source": [
    "len(df)"
   ]
  },
  {
   "cell_type": "code",
   "execution_count": null,
   "id": "e0b79e7a-63c0-4039-a61e-9c65dd8b030e",
   "metadata": {},
   "outputs": [],
   "source": [
    "# random guess: \n",
    "\n",
    "555/738 * 100#df/total "
   ]
  },
  {
   "cell_type": "markdown",
   "id": "9a8f5732-72a5-4243-a0f3-99fac77a29cd",
   "metadata": {},
   "source": [
    "### model evaluation/validation stuff: (todo)\n",
    "\n",
    " - ROC curve \n",
    " - AUC curve \n",
    " - precision/recall curve \n",
    " - F1 score \n",
    " - confusion matrix\n",
    " - cross validation( k10 -?)\n",
    " \n",
    " "
   ]
  },
  {
   "cell_type": "code",
   "execution_count": null,
   "id": "236d0bee-bc5e-46db-baf7-a26e71cebff1",
   "metadata": {},
   "outputs": [],
   "source": [
    "# predict probability (not class) \n",
    "\n",
    "probs = model.predict_proba(X_test)\n",
    "# 2 columns: (1) 0 is true, (2) 1 is true\n",
    "# therefore take the 2nd column:\n",
    "probs = probs[:,1]\n",
    "\n"
   ]
  },
  {
   "cell_type": "code",
   "execution_count": null,
   "id": "959f8069-f0ec-4ff2-84b4-f8fbb0302a0f",
   "metadata": {},
   "outputs": [],
   "source": [
    "# ------- probability distributions plot:\n",
    "\n",
    "# calculate probabilities \n",
    "# split into 2 classes \n",
    "\n",
    "debris = df[df.target.isin([1,])] # df\n",
    "flood = df[df.target.isin([0,])]  # ff \n",
    "\n",
    "# split data into X and y\n",
    "Xdebris = debris[x_columns]\n",
    "ydebris = debris[y_column]\n",
    "\n",
    "Xflood = flood[x_columns]\n",
    "yflood = flood[y_column]\n",
    "\n",
    "# debris:\n",
    "dfprobs = model.predict_proba(Xdebris)\n",
    "dfprobs = dfprobs[:,1]\n",
    "# floods:\n",
    "ffprobs = model.predict_proba(Xflood)\n",
    "ffprobs = ffprobs[:,1]\n",
    "\n",
    "\n",
    "\n",
    "# ------- histograms -------\n",
    "# normalize: \n",
    "# dfprobs = dfprobs/dfprobs.sum()\n",
    "# ffprobs = ffprobs/ffprobs.sum()\n",
    "\n",
    "# plot:\n",
    "# plt.hist(ffprobs, bins = np.arange(0, 1, 25))\n",
    "# plt.hist(dfprobs, bins = np.arange(0, 1, 25))\n",
    "\n",
    "fig, ax = plt.subplots()\n",
    "\n",
    "# ax.hist(ffprobs, bins=np.linspace(0,1, 25))\n",
    "# ax.hist(dfprobs,bins=np.linspace(0,1, 25))\n",
    "\n",
    "\n",
    "# normalize histogram (example)\n",
    "h, e = np.histogram(ffprobs, bins=np.linspace(0, 1, 25))\n",
    "\n",
    "ax.plot(e[:-1], h/h.sum())\n",
    "\n",
    "hd, ed = np.histogram(dfprobs, bins=np.linspace(0, 1, 25))\n",
    "ax.plot(ed[:-1], hd/hd.sum())"
   ]
  },
  {
   "cell_type": "code",
   "execution_count": null,
   "id": "e9805e41-fac6-4496-82b1-6744f2aed410",
   "metadata": {},
   "outputs": [],
   "source": [
    "### ROC curve: \n",
    "from sklearn.metrics import roc_curve, auc\n",
    "\n",
    "# calculate roc curve\n",
    "fpr, tpr, thresholds = roc_curve(y_test, probs)\n",
    "\n",
    "plt.plot(fpr, tpr)\n",
    "plt.xlabel('false positive rate')\n",
    "plt.ylabel('true positive rate')\n",
    "\n"
   ]
  },
  {
   "cell_type": "code",
   "execution_count": null,
   "id": "6342c3cc-9c8f-43ad-a8af-ed6fa8d5b9a4",
   "metadata": {},
   "outputs": [],
   "source": [
    "# probs"
   ]
  },
  {
   "cell_type": "code",
   "execution_count": null,
   "id": "11c7fb54-72f9-4a56-9883-1b9d50b61beb",
   "metadata": {},
   "outputs": [],
   "source": []
  },
  {
   "cell_type": "code",
   "execution_count": null,
   "id": "400690e7-7689-4cfe-9473-7b7be53d091e",
   "metadata": {},
   "outputs": [],
   "source": []
  },
  {
   "cell_type": "code",
   "execution_count": null,
   "id": "ff54ecc7-02ee-45eb-8f8c-f08009905090",
   "metadata": {},
   "outputs": [],
   "source": []
  },
  {
   "cell_type": "markdown",
   "id": "ce894d94-7774-4bd5-9532-005c27237e36",
   "metadata": {},
   "source": [
    "### model meaning: \n",
    "\n",
    " - what features are important: gain and weight (plots here) "
   ]
  },
  {
   "cell_type": "code",
   "execution_count": null,
   "id": "76c96f87-eeea-4dd3-85c3-32685f2c6e41",
   "metadata": {},
   "outputs": [],
   "source": []
  },
  {
   "cell_type": "code",
   "execution_count": null,
   "id": "79c2b7a7-a4e7-4af8-80fc-edfa72ce3509",
   "metadata": {},
   "outputs": [],
   "source": []
  },
  {
   "cell_type": "code",
   "execution_count": null,
   "id": "caafadc8-a773-49ce-a26d-7dd2a746a9f8",
   "metadata": {},
   "outputs": [],
   "source": [
    "## overall todo: \n",
    "# - play around with model tuning and make sure you have optimal hyperparameters (all these model evaluation plots etc) \n",
    "# - evaluation \n",
    "# meaning things "
   ]
  },
  {
   "cell_type": "code",
   "execution_count": null,
   "id": "32bbe78e-e8ce-4ef0-9197-9abd313ebd57",
   "metadata": {},
   "outputs": [],
   "source": []
  }
 ],
 "metadata": {
  "kernelspec": {
   "display_name": "Python [conda env:project1] *",
   "language": "python",
   "name": "conda-env-project1-py"
  },
  "language_info": {
   "codemirror_mode": {
    "name": "ipython",
    "version": 3
   },
   "file_extension": ".py",
   "mimetype": "text/x-python",
   "name": "python",
   "nbconvert_exporter": "python",
   "pygments_lexer": "ipython3",
   "version": "3.7.11"
  }
 },
 "nbformat": 4,
 "nbformat_minor": 5
}
