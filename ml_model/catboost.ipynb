{
 "cells": [
  {
   "cell_type": "code",
   "execution_count": 1,
   "id": "a719ed03-71e8-433d-8ce3-35a033b183f7",
   "metadata": {},
   "outputs": [],
   "source": [
    "#  in this notebook varya is trying to implement catboost library for the catchment probability prediction "
   ]
  },
  {
   "cell_type": "code",
   "execution_count": 5,
   "id": "cb687bcd-17c0-4694-9ab4-02ccecafe659",
   "metadata": {},
   "outputs": [],
   "source": [
    "# !pip install catboost\n",
    "# !pip install ipywidgets\n",
    "\n",
    "# catboost tutorial: \n",
    "# https://github.com/catboost/tutorials/blob/master/classification/classification_tutorial.ipynb"
   ]
  },
  {
   "cell_type": "code",
   "execution_count": 6,
   "id": "0ca267f2-597d-4fa9-ab77-5b9e47b06ed2",
   "metadata": {},
   "outputs": [
    {
     "name": "stdout",
     "output_type": "stream",
     "text": [
      "1.0.6\n",
      "Python 3.7.11\n"
     ]
    }
   ],
   "source": [
    "import catboost\n",
    "print(catboost.__version__)\n",
    "!python --version"
   ]
  },
  {
   "cell_type": "code",
   "execution_count": 7,
   "id": "ab303cca-bc2c-47e8-89ce-7e1888a30dc6",
   "metadata": {},
   "outputs": [
    {
     "name": "stdout",
     "output_type": "stream",
     "text": [
      "Config option `kernel_spec_manager_class` not recognized by `EnableNBExtensionApp`.\n",
      "Enabling notebook extension jupyter-js-widgets/extension...\n",
      "      - Validating: \u001b[32mOK\u001b[0m\n"
     ]
    }
   ],
   "source": [
    "import pandas as pd\n",
    "import os\n",
    "import numpy as np\n",
    "np.set_printoptions(precision=4)\n",
    "import catboost\n",
    "from catboost import *\n",
    "from catboost import datasets\n",
    "\n",
    "# train and test:\n",
    "from sklearn.model_selection import train_test_split\n",
    "\n",
    "!jupyter nbextension enable --py widgetsnbextension\n",
    "\n",
    "\n",
    "# some opinions:\n",
    "# https://towardsdatascience.com/catboost-vs-light-gbm-vs-xgboost-5f93620723db"
   ]
  },
  {
   "cell_type": "code",
   "execution_count": 16,
   "id": "f0ac6d00-9108-4f48-a311-b15b36d5ecc4",
   "metadata": {},
   "outputs": [],
   "source": [
    "# read the data: \n",
    "\n",
    "path = '/Users/varyabazilova/Desktop/alluvial_fans/dem_all/all_points_so_far/ml_model/data_current/'\n",
    "# df = pd.read_csv(path + 'dfclim_3aug_rainydays.csv', sep = ',', index_col = 0)\n",
    "df = pd.read_csv(path + '09082022dfclim_permafrost.csv', sep = ',', index_col = 0)\n",
    "\n",
    "df = df[df.target.isin([1,0])]\n",
    "df = df.drop(['DN', 'Name', 'mean_daylymonsoon_tp_x'], axis = 1)\n"
   ]
  },
  {
   "cell_type": "code",
   "execution_count": 14,
   "id": "4d2dc4c6-51d6-47a7-aaa6-872c3e1b8917",
   "metadata": {},
   "outputs": [
    {
     "data": {
      "text/plain": [
       "Index(['target', 'x_centroid', 'y_centroid', 'area_m', 'perimeter',\n",
       "       'glaciersum', 'mean_elevation', 'median_elevation', 'std_elevation',\n",
       "       'min_elevation', 'max_elevation', 'range_elevation',\n",
       "       'variance_elevation', 'region', 'region_name', 'mean_slope',\n",
       "       'median_slope', 'std_slope', 'min_slope', 'max_slope', 'range_slope',\n",
       "       'variance_slope', 'glarea_percent', 'glacier', 'x_wgs', 'y_wgs', 'M',\n",
       "       'Rc', 'Cc', 'mean_annual_T', 'mean_jan_T', 'mean_july_T',\n",
       "       'mean_monsoon_T', 'mean_no_monsoon_T', 'count_zeros', 'belowzero_frac',\n",
       "       'avgtemp_belowzero', 'mean_annual_tp', 'mean_annualsum_tp',\n",
       "       'mean_daylymonsoon_tp_x', 'mean_daylymonsoon_tp_y',\n",
       "       'mean_monsoon_sum_tp', 'monsoon_tp_frac', 'n_rainy_days',\n",
       "       'rainy_days_frac', 'permafrost1', 'permafrost1_frac', 'permafrost2',\n",
       "       'permafrost2_frac', 'permafrost3', 'permafrost3_frac', 'permafrost4',\n",
       "       'permafrost4_frac', 'cont_permafrost', 'cont_permafrost_frac50',\n",
       "       'all_permafrost_frac', 'any_permafrost'],\n",
       "      dtype='object')"
      ]
     },
     "execution_count": 14,
     "metadata": {},
     "output_type": "execute_result"
    }
   ],
   "source": [
    "# df.columns\n",
    "\n"
   ]
  },
  {
   "cell_type": "code",
   "execution_count": 15,
   "id": "bf212d74-9ac2-4bc2-9449-3478a4ca0b28",
   "metadata": {},
   "outputs": [
    {
     "data": {
      "text/plain": [
       "tadjikistan       233\n",
       "karakorum         166\n",
       "chitral            89\n",
       "eastTSH            84\n",
       "interior tibet     84\n",
       "langtang           32\n",
       "nyanq              24\n",
       "Name: region_name, dtype: int64"
      ]
     },
     "execution_count": 15,
     "metadata": {},
     "output_type": "execute_result"
    }
   ],
   "source": [
    "# df.columns\n",
    "\n",
    "df['region_name'].value_counts()\n",
    "\n",
    "# print('cat features': list(range(0, X.shape[1])))"
   ]
  },
  {
   "cell_type": "code",
   "execution_count": 18,
   "id": "cb7b4e2a-cda8-4f60-9ae7-9427a966d2f4",
   "metadata": {},
   "outputs": [],
   "source": [
    "# define X and y \n",
    "y = df.target\n",
    "X = df.drop(['target', 'region_name'], axis=1)\n",
    "\n",
    "\n",
    "# # what values are categorical: \n",
    "# # region, glacier, avgtemp_belowzero, cont_permafrost, any_permafrost, cont_permafrost_frac50\n",
    "X['glacier'] = X['glacier'].astype('category') # n 21\n",
    "X['region'] = X['region'].astype('category') # n 12\n",
    "X['avgtemp_belowzero'] = X['avgtemp_belowzero'].astype('category') # n 34\n",
    "X['cont_permafrost'] = X['cont_permafrost'].astype('category') # n 51\n",
    "X['any_permafrost'] = X['any_permafrost'].astype('category') # n 52\n",
    "X['cont_permafrost_frac50'] = X['cont_permafrost_frac50'].astype('category') # n 54\n",
    "\n"
   ]
  },
  {
   "cell_type": "code",
   "execution_count": 21,
   "id": "0bddb45b-2943-48e0-9823-92cabac5d5dc",
   "metadata": {},
   "outputs": [],
   "source": [
    "# X.columns\n",
    "\n",
    "# 13, 22, 35, 52, 53, 55 - cat features "
   ]
  },
  {
   "cell_type": "code",
   "execution_count": 32,
   "id": "2dfef0ce-168c-4e42-92ad-ed5abcf1e3c3",
   "metadata": {},
   "outputs": [],
   "source": [
    "# cat features: \n",
    "# X.columns\n",
    "cat_features = list([12, 21, 34, 50, 51, 53])\n",
    "# type(cat_features)\n"
   ]
  },
  {
   "cell_type": "code",
   "execution_count": 33,
   "id": "5e4bf72c-9b74-4689-939a-95a623129100",
   "metadata": {},
   "outputs": [
    {
     "name": "stdout",
     "output_type": "stream",
     "text": [
      "Labels: {0, 1}\n",
      "FF (0) count = 173, DF (1) count = 539\n"
     ]
    }
   ],
   "source": [
    "print('Labels: {}'.format(set(y)))\n",
    "print('FF (0) count = {}, DF (1) count = {}'.format(len(y) - sum(y), sum(y)))\n"
   ]
  },
  {
   "cell_type": "markdown",
   "id": "8826d33b-65db-4fc9-a790-c81459cb8964",
   "metadata": {},
   "source": [
    "## Pool data class (?) \n",
    "\n",
    "#### catboost needs data to be stored as a \"pool\" thing for some functions "
   ]
  },
  {
   "cell_type": "code",
   "execution_count": null,
   "id": "9d0a9f70-eafe-45f1-a1ee-14fcbfb1224c",
   "metadata": {},
   "outputs": [],
   "source": []
  },
  {
   "cell_type": "code",
   "execution_count": null,
   "id": "4aed9629-0fbe-40a1-9479-3f9557476496",
   "metadata": {},
   "outputs": [],
   "source": []
  },
  {
   "cell_type": "code",
   "execution_count": null,
   "id": "97b37116-76f2-4282-9e9f-3595714d9536",
   "metadata": {},
   "outputs": [],
   "source": []
  },
  {
   "cell_type": "code",
   "execution_count": null,
   "id": "e3764aa4-98d8-42fc-ac40-3fd2bc94234d",
   "metadata": {},
   "outputs": [],
   "source": []
  },
  {
   "cell_type": "markdown",
   "id": "0c128d00-c965-4c22-babd-df7ae6de4701",
   "metadata": {},
   "source": [
    "# catboost classifier "
   ]
  },
  {
   "cell_type": "markdown",
   "id": "16de74d1-b908-4bdf-9290-417de9e536bb",
   "metadata": {},
   "source": [
    "### train test "
   ]
  },
  {
   "cell_type": "code",
   "execution_count": 34,
   "id": "b55fff85-aa44-4410-9cf2-8ce482b8c7ed",
   "metadata": {},
   "outputs": [],
   "source": [
    "from sklearn.model_selection import train_test_split\n",
    "\n",
    "seed = 7\n",
    "test_size = 0.2\n",
    "\n",
    "X_train, X_test, y_train, y_test = train_test_split(X, y, test_size=test_size, random_state=seed)\n",
    "# X_train, X_validation, y_train, y_validation = train_test_split(X, y, test_size=test_size, random_state=seed)"
   ]
  },
  {
   "cell_type": "code",
   "execution_count": null,
   "id": "f6db7859-b2f4-473b-a2e3-6b42927bb604",
   "metadata": {},
   "outputs": [],
   "source": []
  },
  {
   "cell_type": "markdown",
   "id": "87582f7b-eb00-4762-9728-a1f1621c15fa",
   "metadata": {},
   "source": [
    "### classifier "
   ]
  },
  {
   "cell_type": "code",
   "execution_count": 35,
   "id": "33a55d18-49cc-4adf-aedc-109a2216392e",
   "metadata": {},
   "outputs": [
    {
     "name": "stdout",
     "output_type": "stream",
     "text": [
      "Model is fitted: True\n",
      "Model params:\n",
      "{'iterations': 95, 'learning_rate': 0.1, 'loss_function': 'CrossEntropy'}\n"
     ]
    }
   ],
   "source": [
    "from catboost import CatBoostClassifier\n",
    "# logloss - default(?)\n",
    "# CrossEntropy - for probabilities \n",
    "\n",
    "model = CatBoostClassifier(\n",
    "    iterations=95,\n",
    "    learning_rate=0.1,\n",
    "    loss_function='CrossEntropy'\n",
    ")\n",
    "\n",
    "model.fit(\n",
    "    X_train, y_train,\n",
    "    cat_features=cat_features,\n",
    "    eval_set=(X_test, y_test),\n",
    "    verbose=False\n",
    ")\n",
    "print('Model is fitted: ' + str(model.is_fitted()))\n",
    "print('Model params:')\n",
    "print(model.get_params())"
   ]
  },
  {
   "cell_type": "code",
   "execution_count": 95,
   "id": "6ff679ae-3fa3-460f-a6dd-9b211661ac87",
   "metadata": {},
   "outputs": [],
   "source": [
    "### standart out of the training\n",
    "\n",
    "# model = CatBoostClassifier(\n",
    "#     iterations=100,\n",
    "# #     verbose=5,\n",
    "# )\n",
    "# model.fit(\n",
    "#     X_train, y_train,\n",
    "#     cat_features=cat_features,\n",
    "#     eval_set=(X_validation, y_validation),\n",
    "# )"
   ]
  },
  {
   "cell_type": "code",
   "execution_count": 111,
   "id": "cd590e44-d698-4ba3-9a1d-f907e8e77ed9",
   "metadata": {},
   "outputs": [
    {
     "data": {
      "application/vnd.jupyter.widget-view+json": {
       "model_id": "64fec2c00dd94555b35498cfc5a232e7",
       "version_major": 2,
       "version_minor": 0
      },
      "text/plain": [
       "MetricVisualizer(layout=Layout(align_self='stretch', height='500px'))"
      ]
     },
     "metadata": {},
     "output_type": "display_data"
    },
    {
     "data": {
      "text/plain": [
       "<catboost.core.CatBoostClassifier at 0x7fee60363c90>"
      ]
     },
     "execution_count": 111,
     "metadata": {},
     "output_type": "execute_result"
    }
   ],
   "source": [
    "model = CatBoostClassifier(\n",
    "    iterations=50,\n",
    "    random_seed=63,\n",
    "    learning_rate=0.5,\n",
    "    use_best_model= True,\n",
    "    custom_loss=['AUC', 'Accuracy'],\n",
    ")\n",
    "\n",
    "\n",
    "model.fit(\n",
    "    X_train, y_train,\n",
    "    cat_features=cat_features,\n",
    "    eval_set=(X_validation, y_validation),\n",
    "    verbose=False,\n",
    "    plot=True\n",
    ")\n",
    "\n"
   ]
  },
  {
   "cell_type": "code",
   "execution_count": 132,
   "id": "be2d1dcf-d252-4a86-9b70-44b79a0bcff6",
   "metadata": {
    "tags": []
   },
   "outputs": [
    {
     "data": {
      "text/html": [
       "        <script type=\"text/javascript\">\n",
       "        window.PlotlyConfig = {MathJaxConfig: 'local'};\n",
       "        if (window.MathJax && window.MathJax.Hub && window.MathJax.Hub.Config) {window.MathJax.Hub.Config({SVG: {font: \"STIX-Web\"}});}\n",
       "        if (typeof require !== 'undefined') {\n",
       "        require.undef(\"plotly\");\n",
       "        requirejs.config({\n",
       "            paths: {\n",
       "                'plotly': ['https://cdn.plot.ly/plotly-2.12.1.min']\n",
       "            }\n",
       "        });\n",
       "        require(['plotly'], function(Plotly) {\n",
       "            window._Plotly = Plotly;\n",
       "        });\n",
       "        }\n",
       "        </script>\n",
       "        "
      ]
     },
     "metadata": {},
     "output_type": "display_data"
    },
    {
     "data": {
      "application/vnd.plotly.v1+json": {
       "config": {
        "linkText": "Export to plot.ly",
        "plotlyServerURL": "https://plot.ly",
        "showLink": false
       },
       "data": [
        {
         "mode": "lines+markers",
         "name": "Mean target",
         "type": "scatter",
         "xaxis": "x",
         "y": [
          0.9311294555664062,
          0.8775510191917419,
          0.5384615659713745,
          0.47999998927116394,
          0.1603773534297943
         ],
         "yaxis": "y"
        },
        {
         "line": {
          "dash": "dash"
         },
         "mode": "lines+markers",
         "name": "Mean prediction on each segment of feature values",
         "type": "scatter",
         "xaxis": "x",
         "y": [
          3.951263427734375,
          2.4809165000915527,
          0.2373974472284317,
          -0.24960127472877502,
          -2.0704095363616943
         ],
         "yaxis": "y"
        },
        {
         "marker": {
          "color": "rgba(30, 150, 30, 0.4)"
         },
         "name": "Objects per bin",
         "type": "bar",
         "width": 0.8,
         "xaxis": "x",
         "y": [
          363,
          49,
          26,
          25,
          106
         ],
         "yaxis": "y2"
        },
        {
         "line": {
          "dash": "dashdot"
         },
         "mode": "lines+markers",
         "name": "Mean prediction with substituted feature",
         "type": "scatter",
         "xaxis": "x",
         "y": [
          3.2012908533547653,
          2.666537399804923,
          1.385547342451472,
          1.188113008025693,
          0.5151162934623549
         ],
         "yaxis": "y"
        }
       ],
       "layout": {
        "annotations": [
         {
          "align": "left",
          "showarrow": false,
          "text": "Statistics for feature",
          "x": 0,
          "xref": "paper",
          "y": 1.05,
          "yref": "paper"
         }
        ],
        "autosize": true,
        "legend": {
         "bgcolor": "rgba(0, 0, 0, 0)",
         "x": 1.07,
         "y": 1
        },
        "template": {
         "data": {
          "bar": [
           {
            "error_x": {
             "color": "#2a3f5f"
            },
            "error_y": {
             "color": "#2a3f5f"
            },
            "marker": {
             "line": {
              "color": "#E5ECF6",
              "width": 0.5
             },
             "pattern": {
              "fillmode": "overlay",
              "size": 10,
              "solidity": 0.2
             }
            },
            "type": "bar"
           }
          ],
          "barpolar": [
           {
            "marker": {
             "line": {
              "color": "#E5ECF6",
              "width": 0.5
             },
             "pattern": {
              "fillmode": "overlay",
              "size": 10,
              "solidity": 0.2
             }
            },
            "type": "barpolar"
           }
          ],
          "carpet": [
           {
            "aaxis": {
             "endlinecolor": "#2a3f5f",
             "gridcolor": "white",
             "linecolor": "white",
             "minorgridcolor": "white",
             "startlinecolor": "#2a3f5f"
            },
            "baxis": {
             "endlinecolor": "#2a3f5f",
             "gridcolor": "white",
             "linecolor": "white",
             "minorgridcolor": "white",
             "startlinecolor": "#2a3f5f"
            },
            "type": "carpet"
           }
          ],
          "choropleth": [
           {
            "colorbar": {
             "outlinewidth": 0,
             "ticks": ""
            },
            "type": "choropleth"
           }
          ],
          "contour": [
           {
            "colorbar": {
             "outlinewidth": 0,
             "ticks": ""
            },
            "colorscale": [
             [
              0,
              "#0d0887"
             ],
             [
              0.1111111111111111,
              "#46039f"
             ],
             [
              0.2222222222222222,
              "#7201a8"
             ],
             [
              0.3333333333333333,
              "#9c179e"
             ],
             [
              0.4444444444444444,
              "#bd3786"
             ],
             [
              0.5555555555555556,
              "#d8576b"
             ],
             [
              0.6666666666666666,
              "#ed7953"
             ],
             [
              0.7777777777777778,
              "#fb9f3a"
             ],
             [
              0.8888888888888888,
              "#fdca26"
             ],
             [
              1,
              "#f0f921"
             ]
            ],
            "type": "contour"
           }
          ],
          "contourcarpet": [
           {
            "colorbar": {
             "outlinewidth": 0,
             "ticks": ""
            },
            "type": "contourcarpet"
           }
          ],
          "heatmap": [
           {
            "colorbar": {
             "outlinewidth": 0,
             "ticks": ""
            },
            "colorscale": [
             [
              0,
              "#0d0887"
             ],
             [
              0.1111111111111111,
              "#46039f"
             ],
             [
              0.2222222222222222,
              "#7201a8"
             ],
             [
              0.3333333333333333,
              "#9c179e"
             ],
             [
              0.4444444444444444,
              "#bd3786"
             ],
             [
              0.5555555555555556,
              "#d8576b"
             ],
             [
              0.6666666666666666,
              "#ed7953"
             ],
             [
              0.7777777777777778,
              "#fb9f3a"
             ],
             [
              0.8888888888888888,
              "#fdca26"
             ],
             [
              1,
              "#f0f921"
             ]
            ],
            "type": "heatmap"
           }
          ],
          "heatmapgl": [
           {
            "colorbar": {
             "outlinewidth": 0,
             "ticks": ""
            },
            "colorscale": [
             [
              0,
              "#0d0887"
             ],
             [
              0.1111111111111111,
              "#46039f"
             ],
             [
              0.2222222222222222,
              "#7201a8"
             ],
             [
              0.3333333333333333,
              "#9c179e"
             ],
             [
              0.4444444444444444,
              "#bd3786"
             ],
             [
              0.5555555555555556,
              "#d8576b"
             ],
             [
              0.6666666666666666,
              "#ed7953"
             ],
             [
              0.7777777777777778,
              "#fb9f3a"
             ],
             [
              0.8888888888888888,
              "#fdca26"
             ],
             [
              1,
              "#f0f921"
             ]
            ],
            "type": "heatmapgl"
           }
          ],
          "histogram": [
           {
            "marker": {
             "pattern": {
              "fillmode": "overlay",
              "size": 10,
              "solidity": 0.2
             }
            },
            "type": "histogram"
           }
          ],
          "histogram2d": [
           {
            "colorbar": {
             "outlinewidth": 0,
             "ticks": ""
            },
            "colorscale": [
             [
              0,
              "#0d0887"
             ],
             [
              0.1111111111111111,
              "#46039f"
             ],
             [
              0.2222222222222222,
              "#7201a8"
             ],
             [
              0.3333333333333333,
              "#9c179e"
             ],
             [
              0.4444444444444444,
              "#bd3786"
             ],
             [
              0.5555555555555556,
              "#d8576b"
             ],
             [
              0.6666666666666666,
              "#ed7953"
             ],
             [
              0.7777777777777778,
              "#fb9f3a"
             ],
             [
              0.8888888888888888,
              "#fdca26"
             ],
             [
              1,
              "#f0f921"
             ]
            ],
            "type": "histogram2d"
           }
          ],
          "histogram2dcontour": [
           {
            "colorbar": {
             "outlinewidth": 0,
             "ticks": ""
            },
            "colorscale": [
             [
              0,
              "#0d0887"
             ],
             [
              0.1111111111111111,
              "#46039f"
             ],
             [
              0.2222222222222222,
              "#7201a8"
             ],
             [
              0.3333333333333333,
              "#9c179e"
             ],
             [
              0.4444444444444444,
              "#bd3786"
             ],
             [
              0.5555555555555556,
              "#d8576b"
             ],
             [
              0.6666666666666666,
              "#ed7953"
             ],
             [
              0.7777777777777778,
              "#fb9f3a"
             ],
             [
              0.8888888888888888,
              "#fdca26"
             ],
             [
              1,
              "#f0f921"
             ]
            ],
            "type": "histogram2dcontour"
           }
          ],
          "mesh3d": [
           {
            "colorbar": {
             "outlinewidth": 0,
             "ticks": ""
            },
            "type": "mesh3d"
           }
          ],
          "parcoords": [
           {
            "line": {
             "colorbar": {
              "outlinewidth": 0,
              "ticks": ""
             }
            },
            "type": "parcoords"
           }
          ],
          "pie": [
           {
            "automargin": true,
            "type": "pie"
           }
          ],
          "scatter": [
           {
            "fillpattern": {
             "fillmode": "overlay",
             "size": 10,
             "solidity": 0.2
            },
            "type": "scatter"
           }
          ],
          "scatter3d": [
           {
            "line": {
             "colorbar": {
              "outlinewidth": 0,
              "ticks": ""
             }
            },
            "marker": {
             "colorbar": {
              "outlinewidth": 0,
              "ticks": ""
             }
            },
            "type": "scatter3d"
           }
          ],
          "scattercarpet": [
           {
            "marker": {
             "colorbar": {
              "outlinewidth": 0,
              "ticks": ""
             }
            },
            "type": "scattercarpet"
           }
          ],
          "scattergeo": [
           {
            "marker": {
             "colorbar": {
              "outlinewidth": 0,
              "ticks": ""
             }
            },
            "type": "scattergeo"
           }
          ],
          "scattergl": [
           {
            "marker": {
             "colorbar": {
              "outlinewidth": 0,
              "ticks": ""
             }
            },
            "type": "scattergl"
           }
          ],
          "scattermapbox": [
           {
            "marker": {
             "colorbar": {
              "outlinewidth": 0,
              "ticks": ""
             }
            },
            "type": "scattermapbox"
           }
          ],
          "scatterpolar": [
           {
            "marker": {
             "colorbar": {
              "outlinewidth": 0,
              "ticks": ""
             }
            },
            "type": "scatterpolar"
           }
          ],
          "scatterpolargl": [
           {
            "marker": {
             "colorbar": {
              "outlinewidth": 0,
              "ticks": ""
             }
            },
            "type": "scatterpolargl"
           }
          ],
          "scatterternary": [
           {
            "marker": {
             "colorbar": {
              "outlinewidth": 0,
              "ticks": ""
             }
            },
            "type": "scatterternary"
           }
          ],
          "surface": [
           {
            "colorbar": {
             "outlinewidth": 0,
             "ticks": ""
            },
            "colorscale": [
             [
              0,
              "#0d0887"
             ],
             [
              0.1111111111111111,
              "#46039f"
             ],
             [
              0.2222222222222222,
              "#7201a8"
             ],
             [
              0.3333333333333333,
              "#9c179e"
             ],
             [
              0.4444444444444444,
              "#bd3786"
             ],
             [
              0.5555555555555556,
              "#d8576b"
             ],
             [
              0.6666666666666666,
              "#ed7953"
             ],
             [
              0.7777777777777778,
              "#fb9f3a"
             ],
             [
              0.8888888888888888,
              "#fdca26"
             ],
             [
              1,
              "#f0f921"
             ]
            ],
            "type": "surface"
           }
          ],
          "table": [
           {
            "cells": {
             "fill": {
              "color": "#EBF0F8"
             },
             "line": {
              "color": "white"
             }
            },
            "header": {
             "fill": {
              "color": "#C8D4E3"
             },
             "line": {
              "color": "white"
             }
            },
            "type": "table"
           }
          ]
         },
         "layout": {
          "annotationdefaults": {
           "arrowcolor": "#2a3f5f",
           "arrowhead": 0,
           "arrowwidth": 1
          },
          "autotypenumbers": "strict",
          "coloraxis": {
           "colorbar": {
            "outlinewidth": 0,
            "ticks": ""
           }
          },
          "colorscale": {
           "diverging": [
            [
             0,
             "#8e0152"
            ],
            [
             0.1,
             "#c51b7d"
            ],
            [
             0.2,
             "#de77ae"
            ],
            [
             0.3,
             "#f1b6da"
            ],
            [
             0.4,
             "#fde0ef"
            ],
            [
             0.5,
             "#f7f7f7"
            ],
            [
             0.6,
             "#e6f5d0"
            ],
            [
             0.7,
             "#b8e186"
            ],
            [
             0.8,
             "#7fbc41"
            ],
            [
             0.9,
             "#4d9221"
            ],
            [
             1,
             "#276419"
            ]
           ],
           "sequential": [
            [
             0,
             "#0d0887"
            ],
            [
             0.1111111111111111,
             "#46039f"
            ],
            [
             0.2222222222222222,
             "#7201a8"
            ],
            [
             0.3333333333333333,
             "#9c179e"
            ],
            [
             0.4444444444444444,
             "#bd3786"
            ],
            [
             0.5555555555555556,
             "#d8576b"
            ],
            [
             0.6666666666666666,
             "#ed7953"
            ],
            [
             0.7777777777777778,
             "#fb9f3a"
            ],
            [
             0.8888888888888888,
             "#fdca26"
            ],
            [
             1,
             "#f0f921"
            ]
           ],
           "sequentialminus": [
            [
             0,
             "#0d0887"
            ],
            [
             0.1111111111111111,
             "#46039f"
            ],
            [
             0.2222222222222222,
             "#7201a8"
            ],
            [
             0.3333333333333333,
             "#9c179e"
            ],
            [
             0.4444444444444444,
             "#bd3786"
            ],
            [
             0.5555555555555556,
             "#d8576b"
            ],
            [
             0.6666666666666666,
             "#ed7953"
            ],
            [
             0.7777777777777778,
             "#fb9f3a"
            ],
            [
             0.8888888888888888,
             "#fdca26"
            ],
            [
             1,
             "#f0f921"
            ]
           ]
          },
          "colorway": [
           "#636efa",
           "#EF553B",
           "#00cc96",
           "#ab63fa",
           "#FFA15A",
           "#19d3f3",
           "#FF6692",
           "#B6E880",
           "#FF97FF",
           "#FECB52"
          ],
          "font": {
           "color": "#2a3f5f"
          },
          "geo": {
           "bgcolor": "white",
           "lakecolor": "white",
           "landcolor": "#E5ECF6",
           "showlakes": true,
           "showland": true,
           "subunitcolor": "white"
          },
          "hoverlabel": {
           "align": "left"
          },
          "hovermode": "closest",
          "mapbox": {
           "style": "light"
          },
          "paper_bgcolor": "white",
          "plot_bgcolor": "#E5ECF6",
          "polar": {
           "angularaxis": {
            "gridcolor": "white",
            "linecolor": "white",
            "ticks": ""
           },
           "bgcolor": "#E5ECF6",
           "radialaxis": {
            "gridcolor": "white",
            "linecolor": "white",
            "ticks": ""
           }
          },
          "scene": {
           "xaxis": {
            "backgroundcolor": "#E5ECF6",
            "gridcolor": "white",
            "gridwidth": 2,
            "linecolor": "white",
            "showbackground": true,
            "ticks": "",
            "zerolinecolor": "white"
           },
           "yaxis": {
            "backgroundcolor": "#E5ECF6",
            "gridcolor": "white",
            "gridwidth": 2,
            "linecolor": "white",
            "showbackground": true,
            "ticks": "",
            "zerolinecolor": "white"
           },
           "zaxis": {
            "backgroundcolor": "#E5ECF6",
            "gridcolor": "white",
            "gridwidth": 2,
            "linecolor": "white",
            "showbackground": true,
            "ticks": "",
            "zerolinecolor": "white"
           }
          },
          "shapedefaults": {
           "line": {
            "color": "#2a3f5f"
           }
          },
          "ternary": {
           "aaxis": {
            "gridcolor": "white",
            "linecolor": "white",
            "ticks": ""
           },
           "baxis": {
            "gridcolor": "white",
            "linecolor": "white",
            "ticks": ""
           },
           "bgcolor": "#E5ECF6",
           "caxis": {
            "gridcolor": "white",
            "linecolor": "white",
            "ticks": ""
           }
          },
          "title": {
           "x": 0.05
          },
          "xaxis": {
           "automargin": true,
           "gridcolor": "white",
           "linecolor": "white",
           "ticks": "",
           "title": {
            "standoff": 15
           },
           "zerolinecolor": "white",
           "zerolinewidth": 2
          },
          "yaxis": {
           "automargin": true,
           "gridcolor": "white",
           "linecolor": "white",
           "ticks": "",
           "title": {
            "standoff": 15
           },
           "zerolinecolor": "white",
           "zerolinewidth": 2
          }
         }
        },
        "updatemenus": [
         {
          "active": 1,
          "buttons": [
           {
            "args": [
             {
              "y": [
               [
                0.3636363744735718,
                0.8545454740524292,
                0.761904776096344,
                0.7772276997566223,
                0.4736842215061188
               ],
               [
                0.3939513862133026,
                3.236057996749878,
                2.2273340225219727,
                2.6214404106140137,
                0.024850212037563324
               ],
               [
                11,
                55,
                42,
                404,
                57
               ],
               [
                1.6498770974181656,
                2.3490609839935126,
                2.5055954958542697,
                2.345274164348007,
                1.6653193345865354
               ]
              ]
             },
             {
              "xaxis": {
               "showticklabels": false,
               "tickmode": "array",
               "ticktext": [
                "(-inf, -1766210.7500]",
                "(-1766210.7500, -1749000.6250]",
                "(-1749000.6250, -1737858.0000]",
                "(-1737858.0000, -432738.3750]",
                "(-432738.3750, +inf)"
               ],
               "tickvals": [
                0,
                1,
                2,
                3,
                4
               ],
               "title": {
                "text": "Bins"
               }
              }
             }
            ],
            "label": "y_centroid",
            "method": "update"
           },
           {
            "args": [
             {
              "y": [
               [
                0.9311294555664062,
                0.8775510191917419,
                0.5384615659713745,
                0.47999998927116394,
                0.1603773534297943
               ],
               [
                3.951263427734375,
                2.4809165000915527,
                0.2373974472284317,
                -0.24960127472877502,
                -2.0704095363616943
               ],
               [
                363,
                49,
                26,
                25,
                106
               ],
               [
                3.2012908533547653,
                2.666537399804923,
                1.385547342451472,
                1.188113008025693,
                0.5151162934623549
               ]
              ]
             },
             {
              "xaxis": {
               "autorange": true,
               "range": [
                -0.5,
                4.5
               ],
               "showticklabels": false,
               "tickmode": "array",
               "ticktext": [
                "(-inf, 2387520.0000]",
                "(2387520.0000, 4173168.2500]",
                "(4173168.2500, 5154156.0000]",
                "(5154156.0000, 7815335.5000]",
                "(7815335.5000, +inf)"
               ],
               "tickvals": [
                0,
                1,
                2,
                3,
                4
               ],
               "title": {
                "text": "Bins"
               }
              }
             }
            ],
            "label": "area_m",
            "method": "update"
           },
           {
            "args": [
             {
              "y": [
               [
                0.9335106611251831,
                0.625,
                0.20353981852531433
               ],
               [
                3.9188311100006104,
                0.9434061050415039,
                -1.8815102577209473
               ],
               [
                376,
                80,
                113
               ],
               [
                2.414427682099245,
                2.3711619462200235,
                1.9975389086671014
               ]
              ]
             },
             {
              "xaxis": {
               "autorange": true,
               "range": [
                -0.5,
                2.5
               ],
               "showticklabels": false,
               "tickmode": "array",
               "ticktext": [
                "(-inf, 10224.3320]",
                "(10224.3320, 16280.9160]",
                "(16280.9160, +inf)"
               ],
               "tickvals": [
                0,
                1,
                2
               ],
               "title": {
                "text": "Bins"
               }
              }
             }
            ],
            "label": "perimeter",
            "method": "update"
           }
          ],
          "direction": "down",
          "pad": {
           "r": 10,
           "t": 10
          },
          "showactive": true,
          "x": 0.25,
          "xanchor": "left",
          "y": 1.09,
          "yanchor": "top"
         }
        ],
        "xaxis": {
         "autorange": true,
         "range": [
          -0.5,
          4.5
         ],
         "showticklabels": false,
         "tickmode": "array",
         "ticktext": [
          "(-inf, 2387520.0000]",
          "(2387520.0000, 4173168.2500]",
          "(4173168.2500, 5154156.0000]",
          "(5154156.0000, 7815335.5000]",
          "(7815335.5000, +inf)"
         ],
         "tickvals": [
          0,
          1,
          2,
          3,
          4
         ],
         "title": {
          "text": "Bins"
         }
        },
        "yaxis": {
         "autorange": true,
         "overlaying": "y2",
         "range": [
          -2.567343713010399,
          4.44819760438308
         ],
         "side": "left",
         "title": {
          "text": "Prediction and target"
         },
         "type": "linear"
        },
        "yaxis2": {
         "autorange": true,
         "position": 1,
         "range": [
          0,
          382.10526315789474
         ],
         "side": "right",
         "title": {
          "text": "Objects per bin"
         },
         "type": "linear"
        }
       }
      },
      "image/png": "[encoded data removed]",
      "text/html": [
       "<div>                            <div id=\"32201355-a8bb-4b73-843f-ed50f0d21950\" class=\"plotly-graph-div\" style=\"height:525px; width:100%;\"></div>            <script type=\"text/javascript\">                require([\"plotly\"], function(Plotly) {                    window.PLOTLYENV=window.PLOTLYENV || {};                                    if (document.getElementById(\"32201355-a8bb-4b73-843f-ed50f0d21950\")) {                    Plotly.newPlot(                        \"32201355-a8bb-4b73-843f-ed50f0d21950\",                        [{\"mode\":\"lines+markers\",\"name\":\"Mean target\",\"xaxis\":\"x\",\"y\":[0.3636363744735718,0.8545454740524292,0.761904776096344,0.7772276997566223,0.4736842215061188],\"yaxis\":\"y\",\"type\":\"scatter\"},{\"line\":{\"dash\":\"dash\"},\"mode\":\"lines+markers\",\"name\":\"Mean prediction on each segment of feature values\",\"xaxis\":\"x\",\"y\":[0.3939513862133026,3.236057996749878,2.2273340225219727,2.6214404106140137,0.024850212037563324],\"yaxis\":\"y\",\"type\":\"scatter\"},{\"marker\":{\"color\":\"rgba(30, 150, 30, 0.4)\"},\"name\":\"Objects per bin\",\"width\":0.8,\"xaxis\":\"x\",\"y\":[11,55,42,404,57],\"yaxis\":\"y2\",\"type\":\"bar\"},{\"line\":{\"dash\":\"dashdot\"},\"mode\":\"lines+markers\",\"name\":\"Mean prediction with substituted feature\",\"xaxis\":\"x\",\"y\":[1.6498770974181656,2.3490609839935126,2.5055954958542697,2.345274164348007,1.6653193345865354],\"yaxis\":\"y\",\"type\":\"scatter\"}],                        {\"annotations\":[{\"align\":\"left\",\"showarrow\":false,\"text\":\"Statistics for feature\",\"x\":0,\"xref\":\"paper\",\"y\":1.05,\"yref\":\"paper\"}],\"legend\":{\"bgcolor\":\"rgba(0,0,0,0)\",\"x\":1.07},\"template\":{\"data\":{\"barpolar\":[{\"marker\":{\"line\":{\"color\":\"#E5ECF6\",\"width\":0.5},\"pattern\":{\"fillmode\":\"overlay\",\"size\":10,\"solidity\":0.2}},\"type\":\"barpolar\"}],\"bar\":[{\"error_x\":{\"color\":\"#2a3f5f\"},\"error_y\":{\"color\":\"#2a3f5f\"},\"marker\":{\"line\":{\"color\":\"#E5ECF6\",\"width\":0.5},\"pattern\":{\"fillmode\":\"overlay\",\"size\":10,\"solidity\":0.2}},\"type\":\"bar\"}],\"carpet\":[{\"aaxis\":{\"endlinecolor\":\"#2a3f5f\",\"gridcolor\":\"white\",\"linecolor\":\"white\",\"minorgridcolor\":\"white\",\"startlinecolor\":\"#2a3f5f\"},\"baxis\":{\"endlinecolor\":\"#2a3f5f\",\"gridcolor\":\"white\",\"linecolor\":\"white\",\"minorgridcolor\":\"white\",\"startlinecolor\":\"#2a3f5f\"},\"type\":\"carpet\"}],\"choropleth\":[{\"colorbar\":{\"outlinewidth\":0,\"ticks\":\"\"},\"type\":\"choropleth\"}],\"contourcarpet\":[{\"colorbar\":{\"outlinewidth\":0,\"ticks\":\"\"},\"type\":\"contourcarpet\"}],\"contour\":[{\"colorbar\":{\"outlinewidth\":0,\"ticks\":\"\"},\"colorscale\":[[0.0,\"#0d0887\"],[0.1111111111111111,\"#46039f\"],[0.2222222222222222,\"#7201a8\"],[0.3333333333333333,\"#9c179e\"],[0.4444444444444444,\"#bd3786\"],[0.5555555555555556,\"#d8576b\"],[0.6666666666666666,\"#ed7953\"],[0.7777777777777778,\"#fb9f3a\"],[0.8888888888888888,\"#fdca26\"],[1.0,\"#f0f921\"]],\"type\":\"contour\"}],\"heatmapgl\":[{\"colorbar\":{\"outlinewidth\":0,\"ticks\":\"\"},\"colorscale\":[[0.0,\"#0d0887\"],[0.1111111111111111,\"#46039f\"],[0.2222222222222222,\"#7201a8\"],[0.3333333333333333,\"#9c179e\"],[0.4444444444444444,\"#bd3786\"],[0.5555555555555556,\"#d8576b\"],[0.6666666666666666,\"#ed7953\"],[0.7777777777777778,\"#fb9f3a\"],[0.8888888888888888,\"#fdca26\"],[1.0,\"#f0f921\"]],\"type\":\"heatmapgl\"}],\"heatmap\":[{\"colorbar\":{\"outlinewidth\":0,\"ticks\":\"\"},\"colorscale\":[[0.0,\"#0d0887\"],[0.1111111111111111,\"#46039f\"],[0.2222222222222222,\"#7201a8\"],[0.3333333333333333,\"#9c179e\"],[0.4444444444444444,\"#bd3786\"],[0.5555555555555556,\"#d8576b\"],[0.6666666666666666,\"#ed7953\"],[0.7777777777777778,\"#fb9f3a\"],[0.8888888888888888,\"#fdca26\"],[1.0,\"#f0f921\"]],\"type\":\"heatmap\"}],\"histogram2dcontour\":[{\"colorbar\":{\"outlinewidth\":0,\"ticks\":\"\"},\"colorscale\":[[0.0,\"#0d0887\"],[0.1111111111111111,\"#46039f\"],[0.2222222222222222,\"#7201a8\"],[0.3333333333333333,\"#9c179e\"],[0.4444444444444444,\"#bd3786\"],[0.5555555555555556,\"#d8576b\"],[0.6666666666666666,\"#ed7953\"],[0.7777777777777778,\"#fb9f3a\"],[0.8888888888888888,\"#fdca26\"],[1.0,\"#f0f921\"]],\"type\":\"histogram2dcontour\"}],\"histogram2d\":[{\"colorbar\":{\"outlinewidth\":0,\"ticks\":\"\"},\"colorscale\":[[0.0,\"#0d0887\"],[0.1111111111111111,\"#46039f\"],[0.2222222222222222,\"#7201a8\"],[0.3333333333333333,\"#9c179e\"],[0.4444444444444444,\"#bd3786\"],[0.5555555555555556,\"#d8576b\"],[0.6666666666666666,\"#ed7953\"],[0.7777777777777778,\"#fb9f3a\"],[0.8888888888888888,\"#fdca26\"],[1.0,\"#f0f921\"]],\"type\":\"histogram2d\"}],\"histogram\":[{\"marker\":{\"pattern\":{\"fillmode\":\"overlay\",\"size\":10,\"solidity\":0.2}},\"type\":\"histogram\"}],\"mesh3d\":[{\"colorbar\":{\"outlinewidth\":0,\"ticks\":\"\"},\"type\":\"mesh3d\"}],\"parcoords\":[{\"line\":{\"colorbar\":{\"outlinewidth\":0,\"ticks\":\"\"}},\"type\":\"parcoords\"}],\"pie\":[{\"automargin\":true,\"type\":\"pie\"}],\"scatter3d\":[{\"line\":{\"colorbar\":{\"outlinewidth\":0,\"ticks\":\"\"}},\"marker\":{\"colorbar\":{\"outlinewidth\":0,\"ticks\":\"\"}},\"type\":\"scatter3d\"}],\"scattercarpet\":[{\"marker\":{\"colorbar\":{\"outlinewidth\":0,\"ticks\":\"\"}},\"type\":\"scattercarpet\"}],\"scattergeo\":[{\"marker\":{\"colorbar\":{\"outlinewidth\":0,\"ticks\":\"\"}},\"type\":\"scattergeo\"}],\"scattergl\":[{\"marker\":{\"colorbar\":{\"outlinewidth\":0,\"ticks\":\"\"}},\"type\":\"scattergl\"}],\"scattermapbox\":[{\"marker\":{\"colorbar\":{\"outlinewidth\":0,\"ticks\":\"\"}},\"type\":\"scattermapbox\"}],\"scatterpolargl\":[{\"marker\":{\"colorbar\":{\"outlinewidth\":0,\"ticks\":\"\"}},\"type\":\"scatterpolargl\"}],\"scatterpolar\":[{\"marker\":{\"colorbar\":{\"outlinewidth\":0,\"ticks\":\"\"}},\"type\":\"scatterpolar\"}],\"scatter\":[{\"fillpattern\":{\"fillmode\":\"overlay\",\"size\":10,\"solidity\":0.2},\"type\":\"scatter\"}],\"scatterternary\":[{\"marker\":{\"colorbar\":{\"outlinewidth\":0,\"ticks\":\"\"}},\"type\":\"scatterternary\"}],\"surface\":[{\"colorbar\":{\"outlinewidth\":0,\"ticks\":\"\"},\"colorscale\":[[0.0,\"#0d0887\"],[0.1111111111111111,\"#46039f\"],[0.2222222222222222,\"#7201a8\"],[0.3333333333333333,\"#9c179e\"],[0.4444444444444444,\"#bd3786\"],[0.5555555555555556,\"#d8576b\"],[0.6666666666666666,\"#ed7953\"],[0.7777777777777778,\"#fb9f3a\"],[0.8888888888888888,\"#fdca26\"],[1.0,\"#f0f921\"]],\"type\":\"surface\"}],\"table\":[{\"cells\":{\"fill\":{\"color\":\"#EBF0F8\"},\"line\":{\"color\":\"white\"}},\"header\":{\"fill\":{\"color\":\"#C8D4E3\"},\"line\":{\"color\":\"white\"}},\"type\":\"table\"}]},\"layout\":{\"annotationdefaults\":{\"arrowcolor\":\"#2a3f5f\",\"arrowhead\":0,\"arrowwidth\":1},\"autotypenumbers\":\"strict\",\"coloraxis\":{\"colorbar\":{\"outlinewidth\":0,\"ticks\":\"\"}},\"colorscale\":{\"diverging\":[[0,\"#8e0152\"],[0.1,\"#c51b7d\"],[0.2,\"#de77ae\"],[0.3,\"#f1b6da\"],[0.4,\"#fde0ef\"],[0.5,\"#f7f7f7\"],[0.6,\"#e6f5d0\"],[0.7,\"#b8e186\"],[0.8,\"#7fbc41\"],[0.9,\"#4d9221\"],[1,\"#276419\"]],\"sequential\":[[0.0,\"#0d0887\"],[0.1111111111111111,\"#46039f\"],[0.2222222222222222,\"#7201a8\"],[0.3333333333333333,\"#9c179e\"],[0.4444444444444444,\"#bd3786\"],[0.5555555555555556,\"#d8576b\"],[0.6666666666666666,\"#ed7953\"],[0.7777777777777778,\"#fb9f3a\"],[0.8888888888888888,\"#fdca26\"],[1.0,\"#f0f921\"]],\"sequentialminus\":[[0.0,\"#0d0887\"],[0.1111111111111111,\"#46039f\"],[0.2222222222222222,\"#7201a8\"],[0.3333333333333333,\"#9c179e\"],[0.4444444444444444,\"#bd3786\"],[0.5555555555555556,\"#d8576b\"],[0.6666666666666666,\"#ed7953\"],[0.7777777777777778,\"#fb9f3a\"],[0.8888888888888888,\"#fdca26\"],[1.0,\"#f0f921\"]]},\"colorway\":[\"#636efa\",\"#EF553B\",\"#00cc96\",\"#ab63fa\",\"#FFA15A\",\"#19d3f3\",\"#FF6692\",\"#B6E880\",\"#FF97FF\",\"#FECB52\"],\"font\":{\"color\":\"#2a3f5f\"},\"geo\":{\"bgcolor\":\"white\",\"lakecolor\":\"white\",\"landcolor\":\"#E5ECF6\",\"showlakes\":true,\"showland\":true,\"subunitcolor\":\"white\"},\"hoverlabel\":{\"align\":\"left\"},\"hovermode\":\"closest\",\"mapbox\":{\"style\":\"light\"},\"paper_bgcolor\":\"white\",\"plot_bgcolor\":\"#E5ECF6\",\"polar\":{\"angularaxis\":{\"gridcolor\":\"white\",\"linecolor\":\"white\",\"ticks\":\"\"},\"bgcolor\":\"#E5ECF6\",\"radialaxis\":{\"gridcolor\":\"white\",\"linecolor\":\"white\",\"ticks\":\"\"}},\"scene\":{\"xaxis\":{\"backgroundcolor\":\"#E5ECF6\",\"gridcolor\":\"white\",\"gridwidth\":2,\"linecolor\":\"white\",\"showbackground\":true,\"ticks\":\"\",\"zerolinecolor\":\"white\"},\"yaxis\":{\"backgroundcolor\":\"#E5ECF6\",\"gridcolor\":\"white\",\"gridwidth\":2,\"linecolor\":\"white\",\"showbackground\":true,\"ticks\":\"\",\"zerolinecolor\":\"white\"},\"zaxis\":{\"backgroundcolor\":\"#E5ECF6\",\"gridcolor\":\"white\",\"gridwidth\":2,\"linecolor\":\"white\",\"showbackground\":true,\"ticks\":\"\",\"zerolinecolor\":\"white\"}},\"shapedefaults\":{\"line\":{\"color\":\"#2a3f5f\"}},\"ternary\":{\"aaxis\":{\"gridcolor\":\"white\",\"linecolor\":\"white\",\"ticks\":\"\"},\"baxis\":{\"gridcolor\":\"white\",\"linecolor\":\"white\",\"ticks\":\"\"},\"bgcolor\":\"#E5ECF6\",\"caxis\":{\"gridcolor\":\"white\",\"linecolor\":\"white\",\"ticks\":\"\"}},\"title\":{\"x\":0.05},\"xaxis\":{\"automargin\":true,\"gridcolor\":\"white\",\"linecolor\":\"white\",\"ticks\":\"\",\"title\":{\"standoff\":15},\"zerolinecolor\":\"white\",\"zerolinewidth\":2},\"yaxis\":{\"automargin\":true,\"gridcolor\":\"white\",\"linecolor\":\"white\",\"ticks\":\"\",\"title\":{\"standoff\":15},\"zerolinecolor\":\"white\",\"zerolinewidth\":2}}},\"updatemenus\":[{\"buttons\":[{\"args\":[{\"y\":[[0.3636363744735718,0.8545454740524292,0.761904776096344,0.7772276997566223,0.4736842215061188],[0.3939513862133026,3.236057996749878,2.2273340225219727,2.6214404106140137,0.024850212037563324],[11,55,42,404,57],[1.6498770974181656,2.3490609839935126,2.5055954958542697,2.345274164348007,1.6653193345865354]]},{\"xaxis\":{\"showticklabels\":false,\"tickmode\":\"array\",\"ticktext\":[\"(-inf, -1766210.7500]\",\"(-1766210.7500, -1749000.6250]\",\"(-1749000.6250, -1737858.0000]\",\"(-1737858.0000, -432738.3750]\",\"(-432738.3750, +inf)\"],\"tickvals\":[0,1,2,3,4],\"title\":{\"text\":\"Bins\"}}}],\"label\":\"y_centroid\",\"method\":\"update\"},{\"args\":[{\"y\":[[0.9311294555664062,0.8775510191917419,0.5384615659713745,0.47999998927116394,0.1603773534297943],[3.951263427734375,2.4809165000915527,0.2373974472284317,-0.24960127472877502,-2.0704095363616943],[363,49,26,25,106],[3.2012908533547653,2.666537399804923,1.385547342451472,1.188113008025693,0.5151162934623549]]},{\"xaxis\":{\"showticklabels\":false,\"tickmode\":\"array\",\"ticktext\":[\"(-inf, 2387520.0000]\",\"(2387520.0000, 4173168.2500]\",\"(4173168.2500, 5154156.0000]\",\"(5154156.0000, 7815335.5000]\",\"(7815335.5000, +inf)\"],\"tickvals\":[0,1,2,3,4],\"title\":{\"text\":\"Bins\"}}}],\"label\":\"area_m\",\"method\":\"update\"},{\"args\":[{\"y\":[[0.9335106611251831,0.625,0.20353981852531433],[3.9188311100006104,0.9434061050415039,-1.8815102577209473],[376,80,113],[2.414427682099245,2.3711619462200235,1.9975389086671014]]},{\"xaxis\":{\"showticklabels\":false,\"tickmode\":\"array\",\"ticktext\":[\"(-inf, 10224.3320]\",\"(10224.3320, 16280.9160]\",\"(16280.9160, +inf)\"],\"tickvals\":[0,1,2],\"title\":{\"text\":\"Bins\"}}}],\"label\":\"perimeter\",\"method\":\"update\"}],\"direction\":\"down\",\"pad\":{\"r\":10,\"t\":10},\"showactive\":true,\"x\":0.25,\"xanchor\":\"left\",\"y\":1.09,\"yanchor\":\"top\"}],\"xaxis\":{\"showticklabels\":false,\"tickmode\":\"array\",\"ticktext\":[\"(-inf, -1766210.7500]\",\"(-1766210.7500, -1749000.6250]\",\"(-1749000.6250, -1737858.0000]\",\"(-1737858.0000, -432738.3750]\",\"(-432738.3750, +inf)\"],\"tickvals\":[0,1,2,3,4],\"title\":{\"text\":\"Bins\"}},\"yaxis\":{\"overlaying\":\"y2\",\"side\":\"left\",\"title\":{\"text\":\"Prediction and target\"}},\"yaxis2\":{\"position\":1.0,\"side\":\"right\",\"title\":{\"text\":\"Objects per bin\"}}},                        {\"responsive\": true}                    ).then(function(){\n",
       "                            \n",
       "var gd = document.getElementById('32201355-a8bb-4b73-843f-ed50f0d21950');\n",
       "var x = new MutationObserver(function (mutations, observer) {{\n",
       "        var display = window.getComputedStyle(gd).display;\n",
       "        if (!display || display === 'none') {{\n",
       "            console.log([gd, 'removed!']);\n",
       "            Plotly.purge(gd);\n",
       "            observer.disconnect();\n",
       "        }}\n",
       "}});\n",
       "\n",
       "// Listen for the removal of the full notebook cells\n",
       "var notebookContainer = gd.closest('#notebook-container');\n",
       "if (notebookContainer) {{\n",
       "    x.observe(notebookContainer, {childList: true});\n",
       "}}\n",
       "\n",
       "// Listen for the clearing of the current output cell\n",
       "var outputEl = gd.closest('.output');\n",
       "if (outputEl) {{\n",
       "    x.observe(outputEl, {childList: true});\n",
       "}}\n",
       "\n",
       "                        })                };                });            </script>        </div>"
      ]
     },
     "metadata": {},
     "output_type": "display_data"
    }
   ],
   "source": [
    "res = model.calc_feature_statistics(X_train,\n",
    "                                    y_train,\n",
    "                                    feature=[1, 2, 3, 4],\n",
    "                                    plot=True)\n"
   ]
  },
  {
   "cell_type": "code",
   "execution_count": null,
   "id": "a51efbc2-2ac8-48d7-bba1-52247212d142",
   "metadata": {},
   "outputs": [],
   "source": []
  },
  {
   "cell_type": "markdown",
   "id": "38eca8d6-509f-4e5a-8e63-a5c34aa2ac1c",
   "metadata": {},
   "source": [
    "## model predict probabilities (the entire dataset)"
   ]
  },
  {
   "cell_type": "code",
   "execution_count": 120,
   "id": "673bbfe9-73ed-4bc5-b405-4a637da5508c",
   "metadata": {},
   "outputs": [],
   "source": [
    "probs = model.predict_proba(X)\n"
   ]
  },
  {
   "cell_type": "markdown",
   "id": "b115f74a-eb6d-4736-89b6-4f5068df0325",
   "metadata": {},
   "source": [
    "### feature importsnce"
   ]
  },
  {
   "cell_type": "code",
   "execution_count": 172,
   "id": "8bde8fee-e422-477a-a593-e68cadf429e9",
   "metadata": {},
   "outputs": [
    {
     "data": {
      "text/html": [
       "<div>\n",
       "<style scoped>\n",
       "    .dataframe tbody tr th:only-of-type {\n",
       "        vertical-align: middle;\n",
       "    }\n",
       "\n",
       "    .dataframe tbody tr th {\n",
       "        vertical-align: top;\n",
       "    }\n",
       "\n",
       "    .dataframe thead th {\n",
       "        text-align: right;\n",
       "    }\n",
       "</style>\n",
       "<table border=\"1\" class=\"dataframe\">\n",
       "  <thead>\n",
       "    <tr style=\"text-align: right;\">\n",
       "      <th></th>\n",
       "      <th>Feature Id</th>\n",
       "      <th>Importances</th>\n",
       "    </tr>\n",
       "  </thead>\n",
       "  <tbody>\n",
       "    <tr>\n",
       "      <th>0</th>\n",
       "      <td>area_m</td>\n",
       "      <td>15.159030</td>\n",
       "    </tr>\n",
       "    <tr>\n",
       "      <th>1</th>\n",
       "      <td>range_elevation</td>\n",
       "      <td>12.044861</td>\n",
       "    </tr>\n",
       "    <tr>\n",
       "      <th>2</th>\n",
       "      <td>x_centroid</td>\n",
       "      <td>11.464264</td>\n",
       "    </tr>\n",
       "    <tr>\n",
       "      <th>3</th>\n",
       "      <td>mean_slope</td>\n",
       "      <td>8.814833</td>\n",
       "    </tr>\n",
       "    <tr>\n",
       "      <th>4</th>\n",
       "      <td>median_slope</td>\n",
       "      <td>7.448238</td>\n",
       "    </tr>\n",
       "    <tr>\n",
       "      <th>5</th>\n",
       "      <td>min_elevation</td>\n",
       "      <td>5.693697</td>\n",
       "    </tr>\n",
       "    <tr>\n",
       "      <th>6</th>\n",
       "      <td>y_centroid</td>\n",
       "      <td>5.384608</td>\n",
       "    </tr>\n",
       "    <tr>\n",
       "      <th>7</th>\n",
       "      <td>Rc</td>\n",
       "      <td>4.414305</td>\n",
       "    </tr>\n",
       "    <tr>\n",
       "      <th>8</th>\n",
       "      <td>max_slope</td>\n",
       "      <td>4.168981</td>\n",
       "    </tr>\n",
       "    <tr>\n",
       "      <th>9</th>\n",
       "      <td>rainy_days_frac</td>\n",
       "      <td>3.971328</td>\n",
       "    </tr>\n",
       "    <tr>\n",
       "      <th>10</th>\n",
       "      <td>mean_july_T</td>\n",
       "      <td>2.948322</td>\n",
       "    </tr>\n",
       "    <tr>\n",
       "      <th>11</th>\n",
       "      <td>max_elevation</td>\n",
       "      <td>2.781705</td>\n",
       "    </tr>\n",
       "    <tr>\n",
       "      <th>12</th>\n",
       "      <td>M</td>\n",
       "      <td>2.688898</td>\n",
       "    </tr>\n",
       "    <tr>\n",
       "      <th>13</th>\n",
       "      <td>mean_monsoon_sum_tp</td>\n",
       "      <td>2.448551</td>\n",
       "    </tr>\n",
       "    <tr>\n",
       "      <th>14</th>\n",
       "      <td>belowzero_frac</td>\n",
       "      <td>1.632113</td>\n",
       "    </tr>\n",
       "    <tr>\n",
       "      <th>15</th>\n",
       "      <td>n_rainy_days</td>\n",
       "      <td>1.479111</td>\n",
       "    </tr>\n",
       "    <tr>\n",
       "      <th>16</th>\n",
       "      <td>glarea_percent</td>\n",
       "      <td>1.117559</td>\n",
       "    </tr>\n",
       "    <tr>\n",
       "      <th>17</th>\n",
       "      <td>perimeter</td>\n",
       "      <td>1.032987</td>\n",
       "    </tr>\n",
       "    <tr>\n",
       "      <th>18</th>\n",
       "      <td>median_elevation</td>\n",
       "      <td>0.974102</td>\n",
       "    </tr>\n",
       "    <tr>\n",
       "      <th>19</th>\n",
       "      <td>mean_daylymonsoon_tp_x</td>\n",
       "      <td>0.947952</td>\n",
       "    </tr>\n",
       "    <tr>\n",
       "      <th>20</th>\n",
       "      <td>variance_elevation</td>\n",
       "      <td>0.895338</td>\n",
       "    </tr>\n",
       "    <tr>\n",
       "      <th>21</th>\n",
       "      <td>min_slope</td>\n",
       "      <td>0.855325</td>\n",
       "    </tr>\n",
       "    <tr>\n",
       "      <th>22</th>\n",
       "      <td>mean_annual_tp</td>\n",
       "      <td>0.472546</td>\n",
       "    </tr>\n",
       "    <tr>\n",
       "      <th>23</th>\n",
       "      <td>range_slope</td>\n",
       "      <td>0.392840</td>\n",
       "    </tr>\n",
       "    <tr>\n",
       "      <th>24</th>\n",
       "      <td>monsoon_tp_frac</td>\n",
       "      <td>0.351146</td>\n",
       "    </tr>\n",
       "    <tr>\n",
       "      <th>25</th>\n",
       "      <td>std_elevation</td>\n",
       "      <td>0.312625</td>\n",
       "    </tr>\n",
       "    <tr>\n",
       "      <th>26</th>\n",
       "      <td>mean_monsoon_T</td>\n",
       "      <td>0.104734</td>\n",
       "    </tr>\n",
       "    <tr>\n",
       "      <th>27</th>\n",
       "      <td>glaciersum</td>\n",
       "      <td>0.000000</td>\n",
       "    </tr>\n",
       "    <tr>\n",
       "      <th>28</th>\n",
       "      <td>mean_elevation</td>\n",
       "      <td>0.000000</td>\n",
       "    </tr>\n",
       "    <tr>\n",
       "      <th>29</th>\n",
       "      <td>region</td>\n",
       "      <td>0.000000</td>\n",
       "    </tr>\n",
       "    <tr>\n",
       "      <th>30</th>\n",
       "      <td>std_slope</td>\n",
       "      <td>0.000000</td>\n",
       "    </tr>\n",
       "    <tr>\n",
       "      <th>31</th>\n",
       "      <td>variance_slope</td>\n",
       "      <td>0.000000</td>\n",
       "    </tr>\n",
       "    <tr>\n",
       "      <th>32</th>\n",
       "      <td>glacier</td>\n",
       "      <td>0.000000</td>\n",
       "    </tr>\n",
       "    <tr>\n",
       "      <th>33</th>\n",
       "      <td>Cc</td>\n",
       "      <td>0.000000</td>\n",
       "    </tr>\n",
       "    <tr>\n",
       "      <th>34</th>\n",
       "      <td>mean_annual_T</td>\n",
       "      <td>0.000000</td>\n",
       "    </tr>\n",
       "    <tr>\n",
       "      <th>35</th>\n",
       "      <td>mean_jan_T</td>\n",
       "      <td>0.000000</td>\n",
       "    </tr>\n",
       "    <tr>\n",
       "      <th>36</th>\n",
       "      <td>mean_no_monsoon_T</td>\n",
       "      <td>0.000000</td>\n",
       "    </tr>\n",
       "    <tr>\n",
       "      <th>37</th>\n",
       "      <td>count_zeros</td>\n",
       "      <td>0.000000</td>\n",
       "    </tr>\n",
       "    <tr>\n",
       "      <th>38</th>\n",
       "      <td>avgtemp_belowzero</td>\n",
       "      <td>0.000000</td>\n",
       "    </tr>\n",
       "    <tr>\n",
       "      <th>39</th>\n",
       "      <td>mean_annualsum_tp</td>\n",
       "      <td>0.000000</td>\n",
       "    </tr>\n",
       "    <tr>\n",
       "      <th>40</th>\n",
       "      <td>mean_daylymonsoon_tp_y</td>\n",
       "      <td>0.000000</td>\n",
       "    </tr>\n",
       "  </tbody>\n",
       "</table>\n",
       "</div>"
      ],
      "text/plain": [
       "                Feature Id  Importances\n",
       "0                   area_m    15.159030\n",
       "1          range_elevation    12.044861\n",
       "2               x_centroid    11.464264\n",
       "3               mean_slope     8.814833\n",
       "4             median_slope     7.448238\n",
       "5            min_elevation     5.693697\n",
       "6               y_centroid     5.384608\n",
       "7                       Rc     4.414305\n",
       "8                max_slope     4.168981\n",
       "9          rainy_days_frac     3.971328\n",
       "10             mean_july_T     2.948322\n",
       "11           max_elevation     2.781705\n",
       "12                       M     2.688898\n",
       "13     mean_monsoon_sum_tp     2.448551\n",
       "14          belowzero_frac     1.632113\n",
       "15            n_rainy_days     1.479111\n",
       "16          glarea_percent     1.117559\n",
       "17               perimeter     1.032987\n",
       "18        median_elevation     0.974102\n",
       "19  mean_daylymonsoon_tp_x     0.947952\n",
       "20      variance_elevation     0.895338\n",
       "21               min_slope     0.855325\n",
       "22          mean_annual_tp     0.472546\n",
       "23             range_slope     0.392840\n",
       "24         monsoon_tp_frac     0.351146\n",
       "25           std_elevation     0.312625\n",
       "26          mean_monsoon_T     0.104734\n",
       "27              glaciersum     0.000000\n",
       "28          mean_elevation     0.000000\n",
       "29                  region     0.000000\n",
       "30               std_slope     0.000000\n",
       "31          variance_slope     0.000000\n",
       "32                 glacier     0.000000\n",
       "33                      Cc     0.000000\n",
       "34           mean_annual_T     0.000000\n",
       "35              mean_jan_T     0.000000\n",
       "36       mean_no_monsoon_T     0.000000\n",
       "37             count_zeros     0.000000\n",
       "38       avgtemp_belowzero     0.000000\n",
       "39       mean_annualsum_tp     0.000000\n",
       "40  mean_daylymonsoon_tp_y     0.000000"
      ]
     },
     "execution_count": 172,
     "metadata": {},
     "output_type": "execute_result"
    }
   ],
   "source": [
    "feature_import = model.get_feature_importance(prettified=True)\n",
    "feature_import"
   ]
  },
  {
   "cell_type": "code",
   "execution_count": 176,
   "id": "48934e00-f258-495d-833e-8a8047492fd1",
   "metadata": {},
   "outputs": [
    {
     "data": {
      "text/plain": [
       "Text(0.5, 1.0, 'Feature Importance')"
      ]
     },
     "execution_count": 176,
     "metadata": {},
     "output_type": "execute_result"
    },
    {
     "data": {
      "image/png": "[encoded data removed]",
      "text/plain": [
       "<Figure size 1080x720 with 1 Axes>"
      ]
     },
     "metadata": {
      "needs_background": "light"
     },
     "output_type": "display_data"
    }
   ],
   "source": [
    "\n",
    "feature_importance = model.feature_importances_\n",
    "sorted_idx = np.argsort(feature_importance)\n",
    "fig = plt.figure(figsize=(15, 10))\n",
    "plt.barh(range(len(sorted_idx)), feature_importance[sorted_idx], align='center')\n",
    "plt.yticks(range(len(sorted_idx)), np.array(X_validation.columns)[sorted_idx])\n",
    "plt.title('Feature Importance')"
   ]
  },
  {
   "cell_type": "markdown",
   "id": "af3b9c78-cabd-4f8a-82c3-dd20625f6601",
   "metadata": {},
   "source": [
    "### shap stuff"
   ]
  },
  {
   "cell_type": "code",
   "execution_count": 194,
   "id": "e543083d-6fe5-440f-93ce-911a723c5c3e",
   "metadata": {},
   "outputs": [
    {
     "data": {
      "image/png": "[encoded data removed]",
      "text/plain": [
       "<Figure size 576x684 with 2 Axes>"
      ]
     },
     "metadata": {
      "needs_background": "light"
     },
     "output_type": "display_data"
    }
   ],
   "source": [
    "import shap \n",
    "\n",
    "\n",
    "explainer = shap.TreeExplainer(model)\n",
    "shap_values = explainer.shap_values(X_validation)#, cat_features=cat_features)\n",
    "\n",
    "shap.summary_plot(shap_values, X_validation)"
   ]
  },
  {
   "cell_type": "code",
   "execution_count": 178,
   "id": "ae2c512d-f058-4093-9d0d-e505a4455f8c",
   "metadata": {},
   "outputs": [
    {
     "data": {
      "image/png": "[encoded data removed]",
      "text/plain": [
       "<Figure size 576x684 with 1 Axes>"
      ]
     },
     "metadata": {
      "needs_background": "light"
     },
     "output_type": "display_data"
    }
   ],
   "source": [
    "shap.summary_plot(shap_values, X_validation, plot_type=\"bar\")\n",
    "\n",
    "# shap.plots.bar(shap_values, max_display=X_validation.shape[0])\n"
   ]
  },
  {
   "cell_type": "code",
   "execution_count": 192,
   "id": "015433ad-549d-4c1b-a569-308db2756332",
   "metadata": {},
   "outputs": [],
   "source": [
    "# shap.force_plot(explainer.expected_value, shap_values[0,:], X.iloc[0,:])\n",
    "# shap.force_plot(explainer.expected_value, shap_values, X)\n"
   ]
  },
  {
   "cell_type": "markdown",
   "id": "3bdc7031-da13-40ab-abb5-549714033ccd",
   "metadata": {},
   "source": [
    "### apply the model \n"
   ]
  },
  {
   "cell_type": "code",
   "execution_count": 179,
   "id": "d86a51cb-4fc7-4e60-9c89-4ed266683837",
   "metadata": {},
   "outputs": [],
   "source": [
    "y_result = model.predict(X)\n",
    "\n",
    "y_result_probs = model.predict_proba(X)\n",
    "y_result_probs = y_result_probs[:,1]\n",
    "\n",
    "df['y_result'] = y_result\n",
    "df['y_result_probs'] = y_result_probs\n"
   ]
  },
  {
   "cell_type": "code",
   "execution_count": 183,
   "id": "562ef86e-9147-4bd5-81ce-de0e623ec727",
   "metadata": {},
   "outputs": [
    {
     "data": {
      "text/plain": [
       "(array([ 21.,  24.,  15.,  16.,  11.,  10.,   5.,   8.,   8.,   3.,   2.,\n",
       "          2.,   6.,   6.,   2.,   2.,   2.,   3.,   0.,   1.,   0.,   4.,\n",
       "          2.,   1.,   1.,   3.,   7.,   1.,   2.,   4.,   2.,   3.,   5.,\n",
       "          5.,   6.,   7.,   1.,   3.,   5.,   2.,   8.,   5.,  20.,  20.,\n",
       "         18.,  23.,  26.,  51.,  64., 266.]),\n",
       " array([0.014 , 0.0337, 0.0534, 0.0731, 0.0928, 0.1126, 0.1323, 0.152 ,\n",
       "        0.1717, 0.1914, 0.2111, 0.2309, 0.2506, 0.2703, 0.29  , 0.3097,\n",
       "        0.3294, 0.3492, 0.3689, 0.3886, 0.4083, 0.428 , 0.4477, 0.4675,\n",
       "        0.4872, 0.5069, 0.5266, 0.5463, 0.566 , 0.5858, 0.6055, 0.6252,\n",
       "        0.6449, 0.6646, 0.6843, 0.7041, 0.7238, 0.7435, 0.7632, 0.7829,\n",
       "        0.8026, 0.8224, 0.8421, 0.8618, 0.8815, 0.9012, 0.9209, 0.9407,\n",
       "        0.9604, 0.9801, 0.9998]),\n",
       " <BarContainer object of 50 artists>)"
      ]
     },
     "execution_count": 183,
     "metadata": {},
     "output_type": "execute_result"
    },
    {
     "data": {
      "image/png": "[encoded data removed]",
      "text/plain": [
       "<Figure size 432x288 with 1 Axes>"
      ]
     },
     "metadata": {
      "needs_background": "light"
     },
     "output_type": "display_data"
    }
   ],
   "source": [
    "plt.hist(y_result_probs, bins = 50)"
   ]
  },
  {
   "cell_type": "markdown",
   "id": "4fc674a7-5669-46bd-a5b9-61f9fe94b948",
   "metadata": {},
   "source": [
    "### partial depend stuff\n"
   ]
  },
  {
   "cell_type": "code",
   "execution_count": 202,
   "id": "07ac4947-9358-4657-83de-989baeca5758",
   "metadata": {},
   "outputs": [
    {
     "name": "stderr",
     "output_type": "stream",
     "text": [
      "Function plot_partial_dependence is deprecated; Function `plot_partial_dependence` is deprecated in 1.0 and will be removed in 1.2. Use PartialDependenceDisplay.from_estimator instead\n"
     ]
    },
    {
     "data": {
      "text/plain": [
       "(0.0, 1.0)"
      ]
     },
     "execution_count": 202,
     "metadata": {},
     "output_type": "execute_result"
    },
    {
     "data": {
      "image/png": "[encoded data removed]",
      "text/plain": [
       "<Figure size 720x576 with 2 Axes>"
      ]
     },
     "metadata": {
      "needs_background": "light"
     },
     "output_type": "display_data"
    }
   ],
   "source": [
    "# see this as background: \n",
    "# https://christophm.github.io/interpretable-ml-book/pdp.html\n",
    "\n",
    "from sklearn.inspection import partial_dependence, plot_partial_dependence\n",
    "\n",
    "fig, ax = plt.subplots(figsize=(10, 8))\n",
    "ax.set_ylim(0, 1)\n",
    "\n",
    "my_plots = plot_partial_dependence(model,       \n",
    "                                   features=['mean_monsoon_sum_tp'],       # column numbers of plots we want to show\n",
    "                                   X=X,                        # raw predictors data.\n",
    "                                   grid_resolution=300,\n",
    "                                   response_method='predict_proba', \n",
    "                                   ax=ax)  # number of values to plot on x axis\n",
    "ax.set_ylim(0, 1)\n",
    "\n",
    "# plt.savefig('figs/pdp_mean_elev.pdf')"
   ]
  },
  {
   "cell_type": "code",
   "execution_count": 201,
   "id": "f2f434f5-2fb6-4d52-9679-6919be363cf6",
   "metadata": {},
   "outputs": [
    {
     "data": {
      "text/plain": [
       "Index(['x_centroid', 'y_centroid', 'area_m', 'perimeter', 'glaciersum',\n",
       "       'mean_elevation', 'median_elevation', 'std_elevation', 'min_elevation',\n",
       "       'max_elevation', 'range_elevation', 'variance_elevation', 'region',\n",
       "       'mean_slope', 'median_slope', 'std_slope', 'min_slope', 'max_slope',\n",
       "       'range_slope', 'variance_slope', 'glarea_percent', 'glacier', 'M', 'Rc',\n",
       "       'Cc', 'mean_annual_T', 'mean_jan_T', 'mean_july_T', 'mean_monsoon_T',\n",
       "       'mean_no_monsoon_T', 'count_zeros', 'belowzero_frac',\n",
       "       'avgtemp_belowzero', 'mean_annual_tp', 'mean_annualsum_tp',\n",
       "       'mean_daylymonsoon_tp_x', 'mean_daylymonsoon_tp_y',\n",
       "       'mean_monsoon_sum_tp', 'monsoon_tp_frac', 'n_rainy_days',\n",
       "       'rainy_days_frac'],\n",
       "      dtype='object')"
      ]
     },
     "execution_count": 201,
     "metadata": {},
     "output_type": "execute_result"
    }
   ],
   "source": [
    "X.columns"
   ]
  },
  {
   "cell_type": "code",
   "execution_count": null,
   "id": "0f6f7648-db91-44df-941e-a4a6e3dac343",
   "metadata": {},
   "outputs": [],
   "source": []
  }
 ],
 "metadata": {
  "kernelspec": {
   "display_name": "Python [conda env:project1] *",
   "language": "python",
   "name": "conda-env-project1-py"
  },
  "language_info": {
   "codemirror_mode": {
    "name": "ipython",
    "version": 3
   },
   "file_extension": ".py",
   "mimetype": "text/x-python",
   "name": "python",
   "nbconvert_exporter": "python",
   "pygments_lexer": "ipython3",
   "version": "3.7.11"
  }
 },
 "nbformat": 4,
 "nbformat_minor": 5
}
