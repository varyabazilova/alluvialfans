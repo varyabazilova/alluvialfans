{
 "cells": [
  {
   "cell_type": "code",
   "execution_count": 1,
   "id": "a719ed03-71e8-433d-8ce3-35a033b183f7",
   "metadata": {},
   "outputs": [],
   "source": [
    "#  in this notebook varya is trying to implement catboost library for the catchment probability prediction "
   ]
  },
  {
   "cell_type": "code",
   "execution_count": 5,
   "id": "cb687bcd-17c0-4694-9ab4-02ccecafe659",
   "metadata": {},
   "outputs": [],
   "source": [
    "# !pip install catboost\n",
    "# !pip install ipywidgets\n",
    "\n",
    "# catboost tutorial: \n",
    "# https://github.com/catboost/tutorials/blob/master/classification/classification_tutorial.ipynb"
   ]
  },
  {
   "cell_type": "code",
   "execution_count": 6,
   "id": "0ca267f2-597d-4fa9-ab77-5b9e47b06ed2",
   "metadata": {},
   "outputs": [
    {
     "name": "stdout",
     "output_type": "stream",
     "text": [
      "1.0.6\n",
      "Python 3.7.11\n"
     ]
    }
   ],
   "source": [
    "import catboost\n",
    "print(catboost.__version__)\n",
    "!python --version"
   ]
  },
  {
   "cell_type": "code",
   "execution_count": 7,
   "id": "ab303cca-bc2c-47e8-89ce-7e1888a30dc6",
   "metadata": {},
   "outputs": [
    {
     "name": "stdout",
     "output_type": "stream",
     "text": [
      "Config option `kernel_spec_manager_class` not recognized by `EnableNBExtensionApp`.\n",
      "Enabling notebook extension jupyter-js-widgets/extension...\n",
      "      - Validating: \u001b[32mOK\u001b[0m\n"
     ]
    }
   ],
   "source": [
    "import pandas as pd\n",
    "import os\n",
    "import numpy as np\n",
    "np.set_printoptions(precision=4)\n",
    "import catboost\n",
    "from catboost import *\n",
    "from catboost import datasets\n",
    "\n",
    "# train and test:\n",
    "from sklearn.model_selection import train_test_split\n",
    "\n",
    "!jupyter nbextension enable --py widgetsnbextension\n",
    "\n",
    "\n",
    "# some opinions:\n",
    "# https://towardsdatascience.com/catboost-vs-light-gbm-vs-xgboost-5f93620723db"
   ]
  },
  {
   "cell_type": "code",
   "execution_count": 16,
   "id": "f0ac6d00-9108-4f48-a311-b15b36d5ecc4",
   "metadata": {},
   "outputs": [],
   "source": [
    "# read the data: \n",
    "\n",
    "path = '/Users/varyabazilova/Desktop/alluvial_fans/dem_all/all_points_so_far/ml_model/data_current/'\n",
    "# df = pd.read_csv(path + 'dfclim_3aug_rainydays.csv', sep = ',', index_col = 0)\n",
    "df = pd.read_csv(path + '09082022dfclim_permafrost.csv', sep = ',', index_col = 0)\n",
    "\n",
    "df = df[df.target.isin([1,0])]\n",
    "df = df.drop(['DN', 'Name', 'mean_daylymonsoon_tp_x'], axis = 1)\n"
   ]
  },
  {
   "cell_type": "code",
   "execution_count": 14,
   "id": "4d2dc4c6-51d6-47a7-aaa6-872c3e1b8917",
   "metadata": {},
   "outputs": [
    {
     "data": {
      "text/plain": [
       "Index(['target', 'x_centroid', 'y_centroid', 'area_m', 'perimeter',\n",
       "       'glaciersum', 'mean_elevation', 'median_elevation', 'std_elevation',\n",
       "       'min_elevation', 'max_elevation', 'range_elevation',\n",
       "       'variance_elevation', 'region', 'region_name', 'mean_slope',\n",
       "       'median_slope', 'std_slope', 'min_slope', 'max_slope', 'range_slope',\n",
       "       'variance_slope', 'glarea_percent', 'glacier', 'x_wgs', 'y_wgs', 'M',\n",
       "       'Rc', 'Cc', 'mean_annual_T', 'mean_jan_T', 'mean_july_T',\n",
       "       'mean_monsoon_T', 'mean_no_monsoon_T', 'count_zeros', 'belowzero_frac',\n",
       "       'avgtemp_belowzero', 'mean_annual_tp', 'mean_annualsum_tp',\n",
       "       'mean_daylymonsoon_tp_x', 'mean_daylymonsoon_tp_y',\n",
       "       'mean_monsoon_sum_tp', 'monsoon_tp_frac', 'n_rainy_days',\n",
       "       'rainy_days_frac', 'permafrost1', 'permafrost1_frac', 'permafrost2',\n",
       "       'permafrost2_frac', 'permafrost3', 'permafrost3_frac', 'permafrost4',\n",
       "       'permafrost4_frac', 'cont_permafrost', 'cont_permafrost_frac50',\n",
       "       'all_permafrost_frac', 'any_permafrost'],\n",
       "      dtype='object')"
      ]
     },
     "execution_count": 14,
     "metadata": {},
     "output_type": "execute_result"
    }
   ],
   "source": [
    "# df.columns"
   ]
  },
  {
   "cell_type": "code",
   "execution_count": 15,
   "id": "bf212d74-9ac2-4bc2-9449-3478a4ca0b28",
   "metadata": {},
   "outputs": [
    {
     "data": {
      "text/plain": [
       "tadjikistan       233\n",
       "karakorum         166\n",
       "chitral            89\n",
       "eastTSH            84\n",
       "interior tibet     84\n",
       "langtang           32\n",
       "nyanq              24\n",
       "Name: region_name, dtype: int64"
      ]
     },
     "execution_count": 15,
     "metadata": {},
     "output_type": "execute_result"
    }
   ],
   "source": [
    "# df.columns\n",
    "\n",
    "df['region_name'].value_counts()\n",
    "\n",
    "# print('cat features': list(range(0, X.shape[1])))"
   ]
  },
  {
   "cell_type": "code",
   "execution_count": 56,
   "id": "cb7b4e2a-cda8-4f60-9ae7-9427a966d2f4",
   "metadata": {},
   "outputs": [],
   "source": [
    "# define X and y \n",
    "y = df.target\n",
    "X = df.drop(columns=['target', 'region_name'])\n",
    "\n",
    "\n",
    "# # what values are categorical: \n",
    "# # region, glacier, avgtemp_belowzero, cont_permafrost, any_permafrost, cont_permafrost_frac50\n",
    "X['glacier'] = X['glacier'].astype('category') # n 21\n",
    "X['region'] = X['region'].astype('category') # n 12\n",
    "X['avgtemp_belowzero'] = X['avgtemp_belowzero'].astype('category') # n 34\n",
    "X['cont_permafrost'] = X['cont_permafrost'].astype('category') # n 51\n",
    "X['any_permafrost'] = X['any_permafrost'].astype('category') # n 52\n",
    "X['cont_permafrost_frac50'] = X['cont_permafrost_frac50'].astype('category') # n 54\n",
    "\n"
   ]
  },
  {
   "cell_type": "code",
   "execution_count": 100,
   "id": "0bddb45b-2943-48e0-9823-92cabac5d5dc",
   "metadata": {},
   "outputs": [
    {
     "data": {
      "text/plain": [
       "Index(['x_centroid', 'y_centroid', 'area_m', 'perimeter', 'glaciersum',\n",
       "       'mean_elevation', 'median_elevation', 'std_elevation', 'min_elevation',\n",
       "       'max_elevation', 'range_elevation', 'variance_elevation', 'region',\n",
       "       'mean_slope', 'median_slope', 'std_slope', 'min_slope', 'max_slope',\n",
       "       'range_slope', 'variance_slope', 'glarea_percent', 'glacier', 'x_wgs',\n",
       "       'y_wgs', 'M', 'Rc', 'Cc', 'mean_annual_T', 'mean_jan_T', 'mean_july_T',\n",
       "       'mean_monsoon_T', 'mean_no_monsoon_T', 'count_zeros', 'belowzero_frac',\n",
       "       'avgtemp_belowzero', 'mean_annual_tp', 'mean_annualsum_tp',\n",
       "       'mean_daylymonsoon_tp_y', 'mean_monsoon_sum_tp', 'monsoon_tp_frac',\n",
       "       'n_rainy_days', 'rainy_days_frac', 'permafrost1', 'permafrost1_frac',\n",
       "       'permafrost2', 'permafrost2_frac', 'permafrost3', 'permafrost3_frac',\n",
       "       'permafrost4', 'permafrost4_frac', 'cont_permafrost',\n",
       "       'cont_permafrost_frac50', 'all_permafrost_frac', 'any_permafrost'],\n",
       "      dtype='object')"
      ]
     },
     "execution_count": 100,
     "metadata": {},
     "output_type": "execute_result"
    }
   ],
   "source": [
    "X.columns\n",
    "\n",
    "# 13, 22, 35, 52, 53, 55 - cat features "
   ]
  },
  {
   "cell_type": "code",
   "execution_count": 68,
   "id": "2dfef0ce-168c-4e42-92ad-ed5abcf1e3c3",
   "metadata": {},
   "outputs": [],
   "source": [
    "# cat features: \n",
    "# X.columns\n",
    "cat_features = list([12, 21, 34, 50, 51, 53])\n",
    "# type(cat_features)\n",
    "# cat_features = list(range(0, X.shape[1]))"
   ]
  },
  {
   "cell_type": "code",
   "execution_count": 69,
   "id": "5e4bf72c-9b74-4689-939a-95a623129100",
   "metadata": {},
   "outputs": [
    {
     "name": "stdout",
     "output_type": "stream",
     "text": [
      "Labels: {0, 1}\n",
      "FF (0) count = 173, DF (1) count = 539\n"
     ]
    }
   ],
   "source": [
    "print('Labels: {}'.format(set(y)))\n",
    "print('FF (0) count = {}, DF (1) count = {}'.format(len(y) - sum(y), sum(y)))\n"
   ]
  },
  {
   "cell_type": "code",
   "execution_count": null,
   "id": "9d0a9f70-eafe-45f1-a1ee-14fcbfb1224c",
   "metadata": {},
   "outputs": [],
   "source": []
  },
  {
   "cell_type": "code",
   "execution_count": null,
   "id": "4aed9629-0fbe-40a1-9479-3f9557476496",
   "metadata": {},
   "outputs": [],
   "source": []
  },
  {
   "cell_type": "code",
   "execution_count": null,
   "id": "97b37116-76f2-4282-9e9f-3595714d9536",
   "metadata": {},
   "outputs": [],
   "source": []
  },
  {
   "cell_type": "code",
   "execution_count": null,
   "id": "e3764aa4-98d8-42fc-ac40-3fd2bc94234d",
   "metadata": {},
   "outputs": [],
   "source": []
  },
  {
   "cell_type": "markdown",
   "id": "0c128d00-c965-4c22-babd-df7ae6de4701",
   "metadata": {},
   "source": [
    "# catboost classifier "
   ]
  },
  {
   "cell_type": "markdown",
   "id": "16de74d1-b908-4bdf-9290-417de9e536bb",
   "metadata": {},
   "source": [
    "### train test "
   ]
  },
  {
   "cell_type": "code",
   "execution_count": 70,
   "id": "b55fff85-aa44-4410-9cf2-8ce482b8c7ed",
   "metadata": {},
   "outputs": [],
   "source": [
    "from sklearn.model_selection import train_test_split\n",
    "\n",
    "seed = 42\n",
    "test_size = 0.2\n",
    "\n",
    "X_train, X_test, y_train, y_test = train_test_split(X, y, test_size=test_size, random_state=seed)\n",
    "# X_train, X_validation, y_train, y_validation = train_test_split(X, y, test_size=test_size, random_state=seed)"
   ]
  },
  {
   "cell_type": "markdown",
   "id": "d02a12f2-6d51-4c04-b47d-dfb8138855b7",
   "metadata": {},
   "source": [
    "## Pool data class (?) \n",
    "\n",
    "#### catboost needs data to be stored as a \"pool\" thing for some functions "
   ]
  },
  {
   "cell_type": "code",
   "execution_count": 101,
   "id": "f6db7859-b2f4-473b-a2e3-6b42927bb604",
   "metadata": {},
   "outputs": [],
   "source": [
    "from catboost import Pool\n",
    "\n",
    "train_data = Pool(data=X_train,\n",
    "                  label=y_train,\n",
    "                  cat_features=cat_features,\n",
    "                 )\n",
    "\n",
    "test_data = Pool(data=X_test,\n",
    "                 label=y_test,\n",
    "                 cat_features=cat_features,\n",
    "                 )"
   ]
  },
  {
   "cell_type": "markdown",
   "id": "87582f7b-eb00-4762-9728-a1f1621c15fa",
   "metadata": {},
   "source": [
    "### classifier "
   ]
  },
  {
   "cell_type": "code",
   "execution_count": 104,
   "id": "33a55d18-49cc-4adf-aedc-109a2216392e",
   "metadata": {},
   "outputs": [
    {
     "data": {
      "application/vnd.jupyter.widget-view+json": {
       "model_id": "bded6e7327eb49f497deaf6e3b85266a",
       "version_major": 2,
       "version_minor": 0
      },
      "text/plain": [
       "MetricVisualizer(layout=Layout(align_self='stretch', height='500px'))"
      ]
     },
     "metadata": {},
     "output_type": "display_data"
    },
    {
     "name": "stdout",
     "output_type": "stream",
     "text": [
      "Model is fitted: True\n",
      "Model params:\n",
      "{'iterations': 500, 'learning_rate': 0.1, 'loss_function': 'CrossEntropy', 'use_best_model': True, 'custom_loss': ['AUC', 'Accuracy']}\n"
     ]
    }
   ],
   "source": [
    "from catboost import CatBoostClassifier\n",
    "# logloss - default(?)\n",
    "# CrossEntropy - for probabilities \n",
    "\n",
    "model = CatBoostClassifier(\n",
    "    iterations=500,\n",
    "    learning_rate=0.1,\n",
    "    use_best_model= True,\n",
    "    loss_function='CrossEntropy', \n",
    "    custom_loss=['AUC', 'Accuracy']\n",
    ")\n",
    "\n",
    "\n",
    "model.fit(\n",
    "    train_data,                # pool thing - instead of X_train, y_train\n",
    "    # cat_features=cat_features, # since the data is a pool - it already knows about it \n",
    "    eval_set=test_data,        # pool thing - instead of X_test, y_test\n",
    "    verbose=False, \n",
    "    plot=True\n",
    ")\n",
    "\n",
    "print('Model is fitted: ' + str(model.is_fitted()))\n",
    "print('Model params:')\n",
    "print(model.get_params())"
   ]
  },
  {
   "cell_type": "markdown",
   "id": "f6efa838-320b-499b-b4c2-ead7c3a990ef",
   "metadata": {},
   "source": [
    "### cross validation "
   ]
  },
  {
   "cell_type": "code",
   "execution_count": null,
   "id": "02a68ae4-a7c7-434a-a5e6-ff4a3321cf4f",
   "metadata": {},
   "outputs": [
    {
     "data": {
      "application/vnd.jupyter.widget-view+json": {
       "model_id": "fe8584643a604446a6fb7aa8b088c49e",
       "version_major": 2,
       "version_minor": 0
      },
      "text/plain": [
       "MetricVisualizer(layout=Layout(align_self='stretch', height='500px'))"
      ]
     },
     "metadata": {},
     "output_type": "display_data"
    },
    {
     "name": "stdout",
     "output_type": "stream",
     "text": [
      "Training on fold [0/10]\n",
      "0:\ttest: 0.8189300\tbest: 0.8189300 (0)\ttotal: 11.3ms\tremaining: 11.3s\n",
      "200:\ttest: 0.9125514\tbest: 0.9156379 (131)\ttotal: 720ms\tremaining: 2.86s\n",
      "400:\ttest: 0.9135802\tbest: 0.9156379 (131)\ttotal: 1.66s\tremaining: 2.48s\n",
      "600:\ttest: 0.9146091\tbest: 0.9156379 (131)\ttotal: 2.49s\tremaining: 1.65s\n",
      "800:\ttest: 0.9166667\tbest: 0.9166667 (744)\ttotal: 3.19s\tremaining: 792ms\n",
      "999:\ttest: 0.9146091\tbest: 0.9166667 (744)\ttotal: 4s\tremaining: 0us\n",
      "\n",
      "bestTest = 0.9166666667\n",
      "bestIteration = 744\n",
      "\n",
      "Training on fold [1/10]\n",
      "0:\ttest: 0.8127572\tbest: 0.8127572 (0)\ttotal: 4.75ms\tremaining: 4.74s\n",
      "200:\ttest: 0.8703704\tbest: 0.8744856 (173)\ttotal: 816ms\tremaining: 3.25s\n",
      "400:\ttest: 0.8796296\tbest: 0.8806584 (337)\ttotal: 1.84s\tremaining: 2.75s\n",
      "600:\ttest: 0.8786008\tbest: 0.8827160 (529)\ttotal: 2.56s\tremaining: 1.7s\n",
      "800:\ttest: 0.8827160\tbest: 0.8847737 (685)\ttotal: 3.28s\tremaining: 814ms\n",
      "999:\ttest: 0.8837449\tbest: 0.8847737 (685)\ttotal: 4.03s\tremaining: 0us\n",
      "\n",
      "bestTest = 0.8847736626\n",
      "bestIteration = 685\n",
      "\n",
      "Training on fold [2/10]\n",
      "0:\ttest: 0.9603909\tbest: 0.9603909 (0)\ttotal: 3.13ms\tremaining: 3.13s\n",
      "200:\ttest: 0.9825103\tbest: 0.9845679 (178)\ttotal: 801ms\tremaining: 3.18s\n",
      "400:\ttest: 0.9783951\tbest: 0.9845679 (178)\ttotal: 1.55s\tremaining: 2.31s\n",
      "600:\ttest: 0.9701646\tbest: 0.9845679 (178)\ttotal: 2.33s\tremaining: 1.54s\n",
      "800:\ttest: 0.9670782\tbest: 0.9845679 (178)\ttotal: 3.1s\tremaining: 770ms\n",
      "999:\ttest: 0.9670782\tbest: 0.9845679 (178)\ttotal: 3.98s\tremaining: 0us\n",
      "\n",
      "bestTest = 0.9845679012\n",
      "bestIteration = 178\n",
      "\n",
      "Training on fold [3/10]\n",
      "0:\ttest: 0.7826797\tbest: 0.7826797 (0)\ttotal: 3.64ms\tremaining: 3.63s\n",
      "200:\ttest: 0.9183007\tbest: 0.9193900 (167)\ttotal: 778ms\tremaining: 3.09s\n",
      "400:\ttest: 0.9204793\tbest: 0.9204793 (319)\ttotal: 1.69s\tremaining: 2.52s\n",
      "600:\ttest: 0.9313725\tbest: 0.9313725 (586)\ttotal: 2.53s\tremaining: 1.68s\n",
      "800:\ttest: 0.9324619\tbest: 0.9335512 (737)\ttotal: 3.36s\tremaining: 836ms\n",
      "999:\ttest: 0.9346405\tbest: 0.9346405 (891)\ttotal: 4.25s\tremaining: 0us\n",
      "\n",
      "bestTest = 0.9346405229\n",
      "bestIteration = 891\n",
      "\n",
      "Training on fold [4/10]\n",
      "0:\ttest: 0.8447712\tbest: 0.8447712 (0)\ttotal: 3.6ms\tremaining: 3.6s\n",
      "200:\ttest: 0.8877996\tbest: 0.8948802 (1)\ttotal: 778ms\tremaining: 3.09s\n",
      "400:\ttest: 0.9030501\tbest: 0.9030501 (398)\ttotal: 1.69s\tremaining: 2.52s\n",
      "600:\ttest: 0.9052288\tbest: 0.9063181 (563)\ttotal: 2.41s\tremaining: 1.6s\n",
      "800:\ttest: 0.9106754\tbest: 0.9128540 (761)\ttotal: 3.34s\tremaining: 829ms\n",
      "999:\ttest: 0.9074074\tbest: 0.9128540 (761)\ttotal: 4.13s\tremaining: 0us\n",
      "\n",
      "bestTest = 0.9128540305\n",
      "bestIteration = 761\n",
      "\n",
      "Training on fold [5/10]\n",
      "0:\ttest: 0.8758170\tbest: 0.8758170 (0)\ttotal: 3.12ms\tremaining: 3.11s\n",
      "200:\ttest: 0.9379085\tbest: 0.9379085 (144)\ttotal: 719ms\tremaining: 2.86s\n",
      "400:\ttest: 0.9346405\tbest: 0.9379085 (144)\ttotal: 1.65s\tremaining: 2.47s\n",
      "600:\ttest: 0.9335512\tbest: 0.9379085 (144)\ttotal: 2.56s\tremaining: 1.7s\n",
      "800:\ttest: 0.9346405\tbest: 0.9379085 (144)\ttotal: 3.47s\tremaining: 862ms\n",
      "999:\ttest: 0.9324619\tbest: 0.9379085 (144)\ttotal: 4.18s\tremaining: 0us\n",
      "\n",
      "bestTest = 0.9379084967\n",
      "bestIteration = 144\n",
      "\n",
      "Training on fold [6/10]\n",
      "0:\ttest: 0.8327887\tbest: 0.8327887 (0)\ttotal: 4ms\tremaining: 3.99s\n",
      "200:\ttest: 0.9498911\tbest: 0.9673203 (50)\ttotal: 996ms\tremaining: 3.96s\n",
      "400:\ttest: 0.9291939\tbest: 0.9673203 (50)\ttotal: 1.85s\tremaining: 2.76s\n",
      "600:\ttest: 0.9161220\tbest: 0.9673203 (50)\ttotal: 2.84s\tremaining: 1.88s\n",
      "800:\ttest: 0.9204793\tbest: 0.9673203 (50)\ttotal: 3.55s\tremaining: 881ms\n",
      "999:\ttest: 0.9281046\tbest: 0.9673203 (50)\ttotal: 4.46s\tremaining: 0us\n",
      "\n",
      "bestTest = 0.9673202614\n",
      "bestIteration = 50\n",
      "\n",
      "Training on fold [7/10]\n",
      "0:\ttest: 0.9248366\tbest: 0.9248366 (0)\ttotal: 3.78ms\tremaining: 3.78s\n",
      "200:\ttest: 0.9335512\tbest: 0.9531590 (32)\ttotal: 983ms\tremaining: 3.91s\n",
      "400:\ttest: 0.9324619\tbest: 0.9531590 (32)\ttotal: 1.96s\tremaining: 2.93s\n",
      "600:\ttest: 0.9368192\tbest: 0.9531590 (32)\ttotal: 2.67s\tremaining: 1.77s\n",
      "800:\ttest: 0.9389978\tbest: 0.9531590 (32)\ttotal: 3.72s\tremaining: 925ms\n",
      "999:\ttest: 0.9346405\tbest: 0.9531590 (32)\ttotal: 4.62s\tremaining: 0us\n",
      "\n",
      "bestTest = 0.9531590414\n",
      "bestIteration = 32\n",
      "\n",
      "Training on fold [8/10]\n",
      "0:\ttest: 0.8011983\tbest: 0.8011983 (0)\ttotal: 3.83ms\tremaining: 3.83s\n",
      "200:\ttest: 0.9302832\tbest: 0.9357298 (113)\ttotal: 1.06s\tremaining: 4.22s\n",
      "400:\ttest: 0.9335512\tbest: 0.9357298 (113)\ttotal: 1.83s\tremaining: 2.74s\n",
      "600:\ttest: 0.9324619\tbest: 0.9357298 (113)\ttotal: 2.81s\tremaining: 1.86s\n",
      "800:\ttest: 0.9357298\tbest: 0.9357298 (113)\ttotal: 3.9s\tremaining: 968ms\n",
      "999:\ttest: 0.9368192\tbest: 0.9379085 (868)\ttotal: 5.1s\tremaining: 0us\n",
      "\n",
      "bestTest = 0.9379084967\n",
      "bestIteration = 868\n",
      "\n",
      "Training on fold [9/10]\n",
      "0:\ttest: 0.8751387\tbest: 0.8751387 (0)\ttotal: 6.1ms\tremaining: 6.09s\n"
     ]
    }
   ],
   "source": [
    "%%time\n",
    "from catboost import cv\n",
    "\n",
    "\n",
    "params = {'loss_function':'Logloss',\n",
    "          'eval_metric':'AUC',\n",
    "          'verbose': 200,\n",
    "          'random_seed': seed\n",
    "         }\n",
    "\n",
    "all_train_data = Pool(data=X,\n",
    "                      label=y,\n",
    "                      cat_features=cat_features\n",
    "                     )\n",
    "\n",
    "scores = cv(pool=all_train_data,\n",
    "            params=params, \n",
    "            fold_count=10,\n",
    "            seed=seed, \n",
    "            shuffle=True,\n",
    "            stratified=True, # if True the folds are made by preserving the percentage of samples for each class\n",
    "            plot=True\n",
    "           )"
   ]
  },
  {
   "cell_type": "code",
   "execution_count": null,
   "id": "77caaad0-e760-44f6-8b1e-1636f34e0748",
   "metadata": {},
   "outputs": [],
   "source": []
  },
  {
   "cell_type": "code",
   "execution_count": null,
   "id": "afe9f7ae-f01e-4673-8324-bcca1acad2df",
   "metadata": {},
   "outputs": [],
   "source": []
  },
  {
   "cell_type": "code",
   "execution_count": null,
   "id": "3029b603-d9ec-4821-b45e-70d04c9092a2",
   "metadata": {},
   "outputs": [],
   "source": []
  },
  {
   "cell_type": "code",
   "execution_count": null,
   "id": "2c605f85-c38b-411a-84b0-9cc7ec84f25a",
   "metadata": {},
   "outputs": [],
   "source": []
  },
  {
   "cell_type": "code",
   "execution_count": null,
   "id": "f9cb4e7e-b09f-4068-a46f-01ee934bae22",
   "metadata": {},
   "outputs": [],
   "source": []
  },
  {
   "cell_type": "code",
   "execution_count": null,
   "id": "bbfb56a8-95a8-40ee-8c84-c9c0ccbe801d",
   "metadata": {},
   "outputs": [],
   "source": []
  },
  {
   "cell_type": "markdown",
   "id": "09d7f5aa-bafd-44ab-b962-571777f466ad",
   "metadata": {},
   "source": [
    "### feature statistics build it plot "
   ]
  },
  {
   "cell_type": "code",
   "execution_count": 51,
   "id": "cd590e44-d698-4ba3-9a1d-f907e8e77ed9",
   "metadata": {},
   "outputs": [
    {
     "data": {
      "text/html": [
       "        <script type=\"text/javascript\">\n",
       "        window.PlotlyConfig = {MathJaxConfig: 'local'};\n",
       "        if (window.MathJax && window.MathJax.Hub && window.MathJax.Hub.Config) {window.MathJax.Hub.Config({SVG: {font: \"STIX-Web\"}});}\n",
       "        if (typeof require !== 'undefined') {\n",
       "        require.undef(\"plotly\");\n",
       "        requirejs.config({\n",
       "            paths: {\n",
       "                'plotly': ['https://cdn.plot.ly/plotly-2.12.1.min']\n",
       "            }\n",
       "        });\n",
       "        require(['plotly'], function(Plotly) {\n",
       "            window._Plotly = Plotly;\n",
       "        });\n",
       "        }\n",
       "        </script>\n",
       "        "
      ]
     },
     "metadata": {},
     "output_type": "display_data"
    },
    {
     "data": {
      "application/vnd.plotly.v1+json": {
       "config": {
        "linkText": "Export to plot.ly",
        "plotlyServerURL": "https://plot.ly",
        "showLink": false
       },
       "data": [
        {
         "mode": "lines+markers",
         "name": "Mean target",
         "type": "scatter",
         "xaxis": "x",
         "y": [
          0.8891966938972473,
          0.7833333611488342,
          0.550561785697937,
          0.1428571492433548,
          0.0714285746216774,
          0.6666666865348816
         ],
         "yaxis": "y"
        },
        {
         "line": {
          "dash": "dash"
         },
         "mode": "lines+markers",
         "name": "Mean prediction on each segment of feature values",
         "type": "scatter",
         "xaxis": "x",
         "y": [
          2.621488332748413,
          1.5543280839920044,
          0.5233548283576965,
          -1.4374183416366577,
          -1.917044997215271,
          -1.1092355251312256
         ],
         "yaxis": "y"
        },
        {
         "marker": {
          "color": "rgba(30, 150, 30, 0.4)"
         },
         "name": "Objects per bin",
         "type": "bar",
         "width": 0.8,
         "xaxis": "x",
         "y": [
          361,
          60,
          89,
          14,
          42,
          3
         ],
         "yaxis": "y2"
        },
        {
         "line": {
          "dash": "dashdot"
         },
         "mode": "lines+markers",
         "name": "Mean prediction with substituted feature",
         "type": "scatter",
         "xaxis": "x",
         "y": [
          1.784975119413357,
          1.7074274409814696,
          1.6881311454755465,
          1.5836672565706784,
          1.535304041364193,
          1.5264686225676665
         ],
         "yaxis": "y"
        }
       ],
       "layout": {
        "annotations": [
         {
          "align": "left",
          "showarrow": false,
          "text": "Statistics for feature",
          "x": 0,
          "xref": "paper",
          "y": 1.05,
          "yref": "paper"
         }
        ],
        "autosize": true,
        "legend": {
         "bgcolor": "rgba(0, 0, 0, 0)",
         "x": 1.07,
         "y": 1
        },
        "template": {
         "data": {
          "bar": [
           {
            "error_x": {
             "color": "#2a3f5f"
            },
            "error_y": {
             "color": "#2a3f5f"
            },
            "marker": {
             "line": {
              "color": "#E5ECF6",
              "width": 0.5
             },
             "pattern": {
              "fillmode": "overlay",
              "size": 10,
              "solidity": 0.2
             }
            },
            "type": "bar"
           }
          ],
          "barpolar": [
           {
            "marker": {
             "line": {
              "color": "#E5ECF6",
              "width": 0.5
             },
             "pattern": {
              "fillmode": "overlay",
              "size": 10,
              "solidity": 0.2
             }
            },
            "type": "barpolar"
           }
          ],
          "carpet": [
           {
            "aaxis": {
             "endlinecolor": "#2a3f5f",
             "gridcolor": "white",
             "linecolor": "white",
             "minorgridcolor": "white",
             "startlinecolor": "#2a3f5f"
            },
            "baxis": {
             "endlinecolor": "#2a3f5f",
             "gridcolor": "white",
             "linecolor": "white",
             "minorgridcolor": "white",
             "startlinecolor": "#2a3f5f"
            },
            "type": "carpet"
           }
          ],
          "choropleth": [
           {
            "colorbar": {
             "outlinewidth": 0,
             "ticks": ""
            },
            "type": "choropleth"
           }
          ],
          "contour": [
           {
            "colorbar": {
             "outlinewidth": 0,
             "ticks": ""
            },
            "colorscale": [
             [
              0,
              "#0d0887"
             ],
             [
              0.1111111111111111,
              "#46039f"
             ],
             [
              0.2222222222222222,
              "#7201a8"
             ],
             [
              0.3333333333333333,
              "#9c179e"
             ],
             [
              0.4444444444444444,
              "#bd3786"
             ],
             [
              0.5555555555555556,
              "#d8576b"
             ],
             [
              0.6666666666666666,
              "#ed7953"
             ],
             [
              0.7777777777777778,
              "#fb9f3a"
             ],
             [
              0.8888888888888888,
              "#fdca26"
             ],
             [
              1,
              "#f0f921"
             ]
            ],
            "type": "contour"
           }
          ],
          "contourcarpet": [
           {
            "colorbar": {
             "outlinewidth": 0,
             "ticks": ""
            },
            "type": "contourcarpet"
           }
          ],
          "heatmap": [
           {
            "colorbar": {
             "outlinewidth": 0,
             "ticks": ""
            },
            "colorscale": [
             [
              0,
              "#0d0887"
             ],
             [
              0.1111111111111111,
              "#46039f"
             ],
             [
              0.2222222222222222,
              "#7201a8"
             ],
             [
              0.3333333333333333,
              "#9c179e"
             ],
             [
              0.4444444444444444,
              "#bd3786"
             ],
             [
              0.5555555555555556,
              "#d8576b"
             ],
             [
              0.6666666666666666,
              "#ed7953"
             ],
             [
              0.7777777777777778,
              "#fb9f3a"
             ],
             [
              0.8888888888888888,
              "#fdca26"
             ],
             [
              1,
              "#f0f921"
             ]
            ],
            "type": "heatmap"
           }
          ],
          "heatmapgl": [
           {
            "colorbar": {
             "outlinewidth": 0,
             "ticks": ""
            },
            "colorscale": [
             [
              0,
              "#0d0887"
             ],
             [
              0.1111111111111111,
              "#46039f"
             ],
             [
              0.2222222222222222,
              "#7201a8"
             ],
             [
              0.3333333333333333,
              "#9c179e"
             ],
             [
              0.4444444444444444,
              "#bd3786"
             ],
             [
              0.5555555555555556,
              "#d8576b"
             ],
             [
              0.6666666666666666,
              "#ed7953"
             ],
             [
              0.7777777777777778,
              "#fb9f3a"
             ],
             [
              0.8888888888888888,
              "#fdca26"
             ],
             [
              1,
              "#f0f921"
             ]
            ],
            "type": "heatmapgl"
           }
          ],
          "histogram": [
           {
            "marker": {
             "pattern": {
              "fillmode": "overlay",
              "size": 10,
              "solidity": 0.2
             }
            },
            "type": "histogram"
           }
          ],
          "histogram2d": [
           {
            "colorbar": {
             "outlinewidth": 0,
             "ticks": ""
            },
            "colorscale": [
             [
              0,
              "#0d0887"
             ],
             [
              0.1111111111111111,
              "#46039f"
             ],
             [
              0.2222222222222222,
              "#7201a8"
             ],
             [
              0.3333333333333333,
              "#9c179e"
             ],
             [
              0.4444444444444444,
              "#bd3786"
             ],
             [
              0.5555555555555556,
              "#d8576b"
             ],
             [
              0.6666666666666666,
              "#ed7953"
             ],
             [
              0.7777777777777778,
              "#fb9f3a"
             ],
             [
              0.8888888888888888,
              "#fdca26"
             ],
             [
              1,
              "#f0f921"
             ]
            ],
            "type": "histogram2d"
           }
          ],
          "histogram2dcontour": [
           {
            "colorbar": {
             "outlinewidth": 0,
             "ticks": ""
            },
            "colorscale": [
             [
              0,
              "#0d0887"
             ],
             [
              0.1111111111111111,
              "#46039f"
             ],
             [
              0.2222222222222222,
              "#7201a8"
             ],
             [
              0.3333333333333333,
              "#9c179e"
             ],
             [
              0.4444444444444444,
              "#bd3786"
             ],
             [
              0.5555555555555556,
              "#d8576b"
             ],
             [
              0.6666666666666666,
              "#ed7953"
             ],
             [
              0.7777777777777778,
              "#fb9f3a"
             ],
             [
              0.8888888888888888,
              "#fdca26"
             ],
             [
              1,
              "#f0f921"
             ]
            ],
            "type": "histogram2dcontour"
           }
          ],
          "mesh3d": [
           {
            "colorbar": {
             "outlinewidth": 0,
             "ticks": ""
            },
            "type": "mesh3d"
           }
          ],
          "parcoords": [
           {
            "line": {
             "colorbar": {
              "outlinewidth": 0,
              "ticks": ""
             }
            },
            "type": "parcoords"
           }
          ],
          "pie": [
           {
            "automargin": true,
            "type": "pie"
           }
          ],
          "scatter": [
           {
            "fillpattern": {
             "fillmode": "overlay",
             "size": 10,
             "solidity": 0.2
            },
            "type": "scatter"
           }
          ],
          "scatter3d": [
           {
            "line": {
             "colorbar": {
              "outlinewidth": 0,
              "ticks": ""
             }
            },
            "marker": {
             "colorbar": {
              "outlinewidth": 0,
              "ticks": ""
             }
            },
            "type": "scatter3d"
           }
          ],
          "scattercarpet": [
           {
            "marker": {
             "colorbar": {
              "outlinewidth": 0,
              "ticks": ""
             }
            },
            "type": "scattercarpet"
           }
          ],
          "scattergeo": [
           {
            "marker": {
             "colorbar": {
              "outlinewidth": 0,
              "ticks": ""
             }
            },
            "type": "scattergeo"
           }
          ],
          "scattergl": [
           {
            "marker": {
             "colorbar": {
              "outlinewidth": 0,
              "ticks": ""
             }
            },
            "type": "scattergl"
           }
          ],
          "scattermapbox": [
           {
            "marker": {
             "colorbar": {
              "outlinewidth": 0,
              "ticks": ""
             }
            },
            "type": "scattermapbox"
           }
          ],
          "scatterpolar": [
           {
            "marker": {
             "colorbar": {
              "outlinewidth": 0,
              "ticks": ""
             }
            },
            "type": "scatterpolar"
           }
          ],
          "scatterpolargl": [
           {
            "marker": {
             "colorbar": {
              "outlinewidth": 0,
              "ticks": ""
             }
            },
            "type": "scatterpolargl"
           }
          ],
          "scatterternary": [
           {
            "marker": {
             "colorbar": {
              "outlinewidth": 0,
              "ticks": ""
             }
            },
            "type": "scatterternary"
           }
          ],
          "surface": [
           {
            "colorbar": {
             "outlinewidth": 0,
             "ticks": ""
            },
            "colorscale": [
             [
              0,
              "#0d0887"
             ],
             [
              0.1111111111111111,
              "#46039f"
             ],
             [
              0.2222222222222222,
              "#7201a8"
             ],
             [
              0.3333333333333333,
              "#9c179e"
             ],
             [
              0.4444444444444444,
              "#bd3786"
             ],
             [
              0.5555555555555556,
              "#d8576b"
             ],
             [
              0.6666666666666666,
              "#ed7953"
             ],
             [
              0.7777777777777778,
              "#fb9f3a"
             ],
             [
              0.8888888888888888,
              "#fdca26"
             ],
             [
              1,
              "#f0f921"
             ]
            ],
            "type": "surface"
           }
          ],
          "table": [
           {
            "cells": {
             "fill": {
              "color": "#EBF0F8"
             },
             "line": {
              "color": "white"
             }
            },
            "header": {
             "fill": {
              "color": "#C8D4E3"
             },
             "line": {
              "color": "white"
             }
            },
            "type": "table"
           }
          ]
         },
         "layout": {
          "annotationdefaults": {
           "arrowcolor": "#2a3f5f",
           "arrowhead": 0,
           "arrowwidth": 1
          },
          "autotypenumbers": "strict",
          "coloraxis": {
           "colorbar": {
            "outlinewidth": 0,
            "ticks": ""
           }
          },
          "colorscale": {
           "diverging": [
            [
             0,
             "#8e0152"
            ],
            [
             0.1,
             "#c51b7d"
            ],
            [
             0.2,
             "#de77ae"
            ],
            [
             0.3,
             "#f1b6da"
            ],
            [
             0.4,
             "#fde0ef"
            ],
            [
             0.5,
             "#f7f7f7"
            ],
            [
             0.6,
             "#e6f5d0"
            ],
            [
             0.7,
             "#b8e186"
            ],
            [
             0.8,
             "#7fbc41"
            ],
            [
             0.9,
             "#4d9221"
            ],
            [
             1,
             "#276419"
            ]
           ],
           "sequential": [
            [
             0,
             "#0d0887"
            ],
            [
             0.1111111111111111,
             "#46039f"
            ],
            [
             0.2222222222222222,
             "#7201a8"
            ],
            [
             0.3333333333333333,
             "#9c179e"
            ],
            [
             0.4444444444444444,
             "#bd3786"
            ],
            [
             0.5555555555555556,
             "#d8576b"
            ],
            [
             0.6666666666666666,
             "#ed7953"
            ],
            [
             0.7777777777777778,
             "#fb9f3a"
            ],
            [
             0.8888888888888888,
             "#fdca26"
            ],
            [
             1,
             "#f0f921"
            ]
           ],
           "sequentialminus": [
            [
             0,
             "#0d0887"
            ],
            [
             0.1111111111111111,
             "#46039f"
            ],
            [
             0.2222222222222222,
             "#7201a8"
            ],
            [
             0.3333333333333333,
             "#9c179e"
            ],
            [
             0.4444444444444444,
             "#bd3786"
            ],
            [
             0.5555555555555556,
             "#d8576b"
            ],
            [
             0.6666666666666666,
             "#ed7953"
            ],
            [
             0.7777777777777778,
             "#fb9f3a"
            ],
            [
             0.8888888888888888,
             "#fdca26"
            ],
            [
             1,
             "#f0f921"
            ]
           ]
          },
          "colorway": [
           "#636efa",
           "#EF553B",
           "#00cc96",
           "#ab63fa",
           "#FFA15A",
           "#19d3f3",
           "#FF6692",
           "#B6E880",
           "#FF97FF",
           "#FECB52"
          ],
          "font": {
           "color": "#2a3f5f"
          },
          "geo": {
           "bgcolor": "white",
           "lakecolor": "white",
           "landcolor": "#E5ECF6",
           "showlakes": true,
           "showland": true,
           "subunitcolor": "white"
          },
          "hoverlabel": {
           "align": "left"
          },
          "hovermode": "closest",
          "mapbox": {
           "style": "light"
          },
          "paper_bgcolor": "white",
          "plot_bgcolor": "#E5ECF6",
          "polar": {
           "angularaxis": {
            "gridcolor": "white",
            "linecolor": "white",
            "ticks": ""
           },
           "bgcolor": "#E5ECF6",
           "radialaxis": {
            "gridcolor": "white",
            "linecolor": "white",
            "ticks": ""
           }
          },
          "scene": {
           "xaxis": {
            "backgroundcolor": "#E5ECF6",
            "gridcolor": "white",
            "gridwidth": 2,
            "linecolor": "white",
            "showbackground": true,
            "ticks": "",
            "zerolinecolor": "white"
           },
           "yaxis": {
            "backgroundcolor": "#E5ECF6",
            "gridcolor": "white",
            "gridwidth": 2,
            "linecolor": "white",
            "showbackground": true,
            "ticks": "",
            "zerolinecolor": "white"
           },
           "zaxis": {
            "backgroundcolor": "#E5ECF6",
            "gridcolor": "white",
            "gridwidth": 2,
            "linecolor": "white",
            "showbackground": true,
            "ticks": "",
            "zerolinecolor": "white"
           }
          },
          "shapedefaults": {
           "line": {
            "color": "#2a3f5f"
           }
          },
          "ternary": {
           "aaxis": {
            "gridcolor": "white",
            "linecolor": "white",
            "ticks": ""
           },
           "baxis": {
            "gridcolor": "white",
            "linecolor": "white",
            "ticks": ""
           },
           "bgcolor": "#E5ECF6",
           "caxis": {
            "gridcolor": "white",
            "linecolor": "white",
            "ticks": ""
           }
          },
          "title": {
           "x": 0.05
          },
          "xaxis": {
           "automargin": true,
           "gridcolor": "white",
           "linecolor": "white",
           "ticks": "",
           "title": {
            "standoff": 15
           },
           "zerolinecolor": "white",
           "zerolinewidth": 2
          },
          "yaxis": {
           "automargin": true,
           "gridcolor": "white",
           "linecolor": "white",
           "ticks": "",
           "title": {
            "standoff": 15
           },
           "zerolinecolor": "white",
           "zerolinewidth": 2
          }
         }
        },
        "updatemenus": [
         {
          "active": 9,
          "buttons": [
           {
            "args": [
             {
              "y": [
               [
                0.3636363744735718,
                0.8333333134651184,
                0.7599999904632568,
                0.6896551847457886,
                0.7777777910232544,
                0.7692307829856873,
                0.6129032373428345,
                0.7157894968986511,
                0.782608687877655
               ],
               [
                0.6268503069877625,
                2.087812900543213,
                1.3519383668899536,
                1.6720116138458252,
                1.9124501943588257,
                1.1180492639541626,
                1.2513978481292725,
                1.5904287099838257,
                1.9063212871551514
               ],
               [
                11,
                72,
                25,
                29,
                9,
                13,
                62,
                95,
                253
               ],
               [
                1.5140465724690098,
                1.622786036376067,
                1.6360005735396612,
                1.658241864606548,
                1.7062946751253287,
                1.6856705847199598,
                1.659874085185343,
                1.6557789270394416,
                1.661115870384452
               ]
              ]
             },
             {
              "xaxis": {
               "showticklabels": false,
               "tickmode": "array",
               "ticktext": [
                "(-inf, -1766210.7500]",
                "(-1766210.7500, -1746088.3750]",
                "(-1746088.3750, -1737858.0000]",
                "(-1737858.0000, -1727026.2500]",
                "(-1727026.2500, -1725226.0000]",
                "(-1725226.0000, -1722178.3750]",
                "(-1722178.3750, -1698711.7500]",
                "(-1698711.7500, -1277978.7500]",
                "(-1277978.7500, +inf)"
               ],
               "tickvals": [
                0,
                1,
                2,
                3,
                4,
                5,
                6,
                7,
                8
               ],
               "title": {
                "text": "Bins"
               }
              }
             }
            ],
            "label": "y_centroid",
            "method": "update"
           },
           {
            "args": [
             {
              "y": [
               [
                0.9382239580154419,
                0.9342105388641357,
                0.9230769276618958,
                0.800000011920929,
                1,
                0.6538461446762085,
                0.4444444477558136,
                0.4838709533214569,
                0.5,
                0.1538461595773697
               ],
               [
                2.912716865539551,
                2.9998486042022705,
                2.499453067779541,
                1.4918617010116577,
                2.3891351222991943,
                1.0283076763153076,
                -0.10539616644382477,
                -0.05618372932076454,
                -0.6161568760871887,
                -1.6571561098098755
               ],
               [
                259,
                76,
                52,
                5,
                5,
                26,
                9,
                31,
                2,
                104
               ],
               [
                2.133705601734028,
                2.107797545386025,
                1.9641267956772726,
                1.8153167492540454,
                1.725612827564729,
                1.515116853251646,
                1.4206139948223275,
                1.1938110229057388,
                0.8932120408291345,
                0.5154986750264199
               ]
              ]
             },
             {
              "xaxis": {
               "showticklabels": false,
               "tickmode": "array",
               "ticktext": [
                "(-inf, 707815.3125]",
                "(707815.3125, 1573713.0000]",
                "(1573713.0000, 2985229.0000]",
                "(2985229.0000, 3136729.5000]",
                "(3136729.5000, 3436084.0000]",
                "(3436084.0000, 4547848.5000]",
                "(4547848.5000, 4915948.5000]",
                "(4915948.5000, 7815335.5000]",
                "(7815335.5000, 7908209.0000]",
                "(7908209.0000, +inf)"
               ],
               "tickvals": [
                0,
                1,
                2,
                3,
                4,
                5,
                6,
                7,
                8,
                9
               ],
               "title": {
                "text": "Bins"
               }
              }
             }
            ],
            "label": "area_m",
            "method": "update"
           },
           {
            "args": [
             {
              "y": [
               [
                0.9329897165298462,
                1,
                0.875,
                0.5,
                0.5581395626068115,
                0.3384615480899811,
                0.11999999731779099,
                0.1875,
                0
               ],
               [
                2.8652570247650146,
                2.375706195831299,
                1.7568702697753906,
                0.806695282459259,
                0.5961913466453552,
                -0.8948549628257751,
                -1.7226340770721436,
                -1.7131245136260986,
                -2.3453240394592285
               ],
               [
                388,
                2,
                8,
                2,
                43,
                65,
                25,
                16,
                20
               ],
               [
                1.9560159518875635,
                1.8757588387835689,
                1.6505821441055362,
                1.4947690928487136,
                1.3504205987554658,
                1.281526947829026,
                1.1248278263922267,
                1.043125830626933,
                0.9912949606406882
               ]
              ]
             },
             {
              "xaxis": {
               "showticklabels": false,
               "tickmode": "array",
               "ticktext": [
                "(-inf, 10741.6738]",
                "(10741.6738, 10855.7314]",
                "(10855.7314, 11763.0127]",
                "(11763.0127, 11787.8184]",
                "(11787.8184, 15107.2383]",
                "(15107.2383, 24253.7812]",
                "(24253.7812, 31362.6660]",
                "(31362.6660, 47010.2422]",
                "(47010.2422, +inf)"
               ],
               "tickvals": [
                0,
                1,
                2,
                3,
                4,
                5,
                6,
                7,
                8
               ],
               "title": {
                "text": "Bins"
               }
              }
             }
            ],
            "label": "perimeter",
            "method": "update"
           },
           {
            "args": [
             {
              "y": [
               [
                0.819327712059021,
                0.6296296119689941,
                0.5882353186607361,
                0.1428571492433548
               ],
               [
                2.2053043842315674,
                0.8529773354530334,
                0.05282536521553993,
                -1.8658207654953003
               ],
               [
                476,
                27,
                17,
                49
               ],
               [
                1.7455479959616724,
                1.7279013344016503,
                1.56954156388567,
                1.3905144558390572
               ]
              ]
             },
             {
              "xaxis": {
               "autorange": true,
               "range": [
                -0.5,
                3.5
               ],
               "showticklabels": false,
               "tickmode": "array",
               "ticktext": [
                "(-inf, 140178.5000]",
                "(140178.5000, 448093.5312]",
                "(448093.5312, 820557.6250]",
                "(820557.6250, +inf)"
               ],
               "tickvals": [
                0,
                1,
                2,
                3
               ],
               "title": {
                "text": "Bins"
               }
              }
             }
            ],
            "label": "glaciersum",
            "method": "update"
           },
           {
            "args": [
             {
              "y": [
               [
                0.7529411911964417,
                0.7418546080589294
               ],
               [
                1.6708214282989502,
                1.7498462200164795
               ],
               [
                170,
                399
               ],
               [
                1.6863697589047917,
                1.7317992001631015
               ]
              ]
             },
             {
              "xaxis": {
               "showticklabels": false,
               "tickmode": "array",
               "ticktext": [
                "(-inf, 3768.0898]",
                "(3768.0898, +inf)"
               ],
               "tickvals": [
                0,
                1
               ],
               "title": {
                "text": "Bins"
               }
              }
             }
            ],
            "label": "mean_elevation",
            "method": "update"
           },
           {
            "args": [
             {
              "y": [
               [
                0.7739130258560181,
                0.6707317233085632,
                0.7023809552192688,
                0.7673611044883728
               ],
               [
                1.8306822776794434,
                1.2638872861862183,
                1.3833482265472412,
                1.916178822517395
               ],
               [
                115,
                82,
                84,
                288
               ],
               [
                1.5740364019720177,
                1.6582927084473806,
                1.7199520033655815,
                1.792848324407156
               ]
              ]
             },
             {
              "xaxis": {
               "showticklabels": false,
               "tickmode": "array",
               "ticktext": [
                "(-inf, 3496.5000]",
                "(3496.5000, 3857.0000]",
                "(3857.0000, 4136.0000]",
                "(4136.0000, +inf)"
               ],
               "tickvals": [
                0,
                1,
                2,
                3
               ],
               "title": {
                "text": "Bins"
               }
              }
             }
            ],
            "label": "median_elevation",
            "method": "update"
           },
           {
            "args": [
             {
              "y": [
               [
                0.8326271176338196,
                0.3195876181125641
               ],
               [
                2.2416419982910156,
                -0.7817263007164001
               ],
               [
                472,
                97
               ],
               [
                1.7354995499163084,
                1.6747028718779782
               ]
              ]
             },
             {
              "xaxis": {
               "showticklabels": false,
               "tickmode": "array",
               "ticktext": [
                "(-inf, 468.0347]",
                "(468.0347, +inf)"
               ],
               "tickvals": [
                0,
                1
               ],
               "title": {
                "text": "Bins"
               }
              }
             }
            ],
            "label": "std_elevation",
            "method": "update"
           },
           {
            "args": [
             {
              "y": [
               [
                0.4532374143600464,
                0.8571428656578064,
                0.8015267252922058,
                0.8560000061988831
               ],
               [
                0.1452980935573578,
                2.0782887935638428,
                1.792626976966858,
                2.5014452934265137
               ],
               [
                139,
                49,
                131,
                250
               ],
               [
                1.5862700910017065,
                1.7026281336949585,
                1.7337390965243167,
                1.830412889668279
               ]
              ]
             },
             {
              "xaxis": {
               "showticklabels": false,
               "tickmode": "array",
               "ticktext": [
                "(-inf, 2865.5000]",
                "(2865.5000, 3090.5000]",
                "(3090.5000, 3473.0000]",
                "(3473.0000, +inf)"
               ],
               "tickvals": [
                0,
                1,
                2,
                3
               ],
               "title": {
                "text": "Bins"
               }
              }
             }
            ],
            "label": "min_elevation",
            "method": "update"
           },
           {
            "args": [
             {
              "y": [
               [
                0.859375,
                0.7139480113983154,
                0.6666666865348816
               ],
               [
                2.2665176391601562,
                1.6253244876861572,
                0.25564396381378174
               ],
               [
                128,
                423,
                18
               ],
               [
                1.679468675204796,
                1.7357407486021548,
                1.75423169462621
               ]
              ]
             },
             {
              "xaxis": {
               "showticklabels": false,
               "tickmode": "array",
               "ticktext": [
                "(-inf, 4159.0000]",
                "(4159.0000, 6285.5000]",
                "(6285.5000, +inf)"
               ],
               "tickvals": [
                0,
                1,
                2
               ],
               "title": {
                "text": "Bins"
               }
              }
             }
            ],
            "label": "max_elevation",
            "method": "update"
           },
           {
            "args": [
             {
              "y": [
               [
                0.8891966938972473,
                0.7833333611488342,
                0.550561785697937,
                0.1428571492433548,
                0.0714285746216774,
                0.6666666865348816
               ],
               [
                2.621488332748413,
                1.5543280839920044,
                0.5233548283576965,
                -1.4374183416366577,
                -1.917044997215271,
                -1.1092355251312256
               ],
               [
                361,
                60,
                89,
                14,
                42,
                3
               ],
               [
                1.784975119413357,
                1.7074274409814696,
                1.6881311454755465,
                1.5836672565706784,
                1.535304041364193,
                1.5264686225676665
               ]
              ]
             },
             {
              "xaxis": {
               "autorange": true,
               "range": [
                -0.5,
                5.5
               ],
               "showticklabels": false,
               "tickmode": "array",
               "ticktext": [
                "(-inf, 1608.0000]",
                "(1608.0000, 1860.0000]",
                "(1860.0000, 2599.0000]",
                "(2599.0000, 2706.5000]",
                "(2706.5000, 3947.5000]",
                "(3947.5000, +inf)"
               ],
               "tickvals": [
                0,
                1,
                2,
                3,
                4,
                5
               ],
               "title": {
                "text": "Bins"
               }
              }
             }
            ],
            "label": "range_elevation",
            "method": "update"
           }
          ],
          "direction": "down",
          "pad": {
           "r": 10,
           "t": 10
          },
          "showactive": true,
          "x": 0.25,
          "xanchor": "left",
          "y": 1.09,
          "yanchor": "top"
         }
        ],
        "xaxis": {
         "autorange": true,
         "range": [
          -0.5,
          5.5
         ],
         "showticklabels": false,
         "tickmode": "array",
         "ticktext": [
          "(-inf, 1608.0000]",
          "(1608.0000, 1860.0000]",
          "(1860.0000, 2599.0000]",
          "(2599.0000, 2706.5000]",
          "(2706.5000, 3947.5000]",
          "(3947.5000, +inf)"
         ],
         "tickvals": [
          0,
          1,
          2,
          3,
          4,
          5
         ],
         "title": {
          "text": "Bins"
         }
        },
        "yaxis": {
         "autorange": true,
         "overlaying": "y2",
         "range": [
          -2.291584155513245,
          2.996027491046387
         ],
         "side": "left",
         "title": {
          "text": "Prediction and target"
         },
         "type": "linear"
        },
        "yaxis2": {
         "autorange": true,
         "position": 1,
         "range": [
          0,
          380
         ],
         "side": "right",
         "title": {
          "text": "Objects per bin"
         },
         "type": "linear"
        }
       }
      },
      "image/png": "[encoded data removed]",
      "text/html": [
       "<div>                            <div id=\"4bd34166-b1ed-484e-89c8-a973e3006281\" class=\"plotly-graph-div\" style=\"height:525px; width:100%;\"></div>            <script type=\"text/javascript\">                require([\"plotly\"], function(Plotly) {                    window.PLOTLYENV=window.PLOTLYENV || {};                                    if (document.getElementById(\"4bd34166-b1ed-484e-89c8-a973e3006281\")) {                    Plotly.newPlot(                        \"4bd34166-b1ed-484e-89c8-a973e3006281\",                        [{\"mode\":\"lines+markers\",\"name\":\"Mean target\",\"xaxis\":\"x\",\"y\":[0.3636363744735718,0.8333333134651184,0.7599999904632568,0.6896551847457886,0.7777777910232544,0.7692307829856873,0.6129032373428345,0.7157894968986511,0.782608687877655],\"yaxis\":\"y\",\"type\":\"scatter\"},{\"line\":{\"dash\":\"dash\"},\"mode\":\"lines+markers\",\"name\":\"Mean prediction on each segment of feature values\",\"xaxis\":\"x\",\"y\":[0.6268503069877625,2.087812900543213,1.3519383668899536,1.6720116138458252,1.9124501943588257,1.1180492639541626,1.2513978481292725,1.5904287099838257,1.9063212871551514],\"yaxis\":\"y\",\"type\":\"scatter\"},{\"marker\":{\"color\":\"rgba(30, 150, 30, 0.4)\"},\"name\":\"Objects per bin\",\"width\":0.8,\"xaxis\":\"x\",\"y\":[11,72,25,29,9,13,62,95,253],\"yaxis\":\"y2\",\"type\":\"bar\"},{\"line\":{\"dash\":\"dashdot\"},\"mode\":\"lines+markers\",\"name\":\"Mean prediction with substituted feature\",\"xaxis\":\"x\",\"y\":[1.5140465724690098,1.622786036376067,1.6360005735396612,1.658241864606548,1.7062946751253287,1.6856705847199598,1.659874085185343,1.6557789270394416,1.661115870384452],\"yaxis\":\"y\",\"type\":\"scatter\"}],                        {\"annotations\":[{\"align\":\"left\",\"showarrow\":false,\"text\":\"Statistics for feature\",\"x\":0,\"xref\":\"paper\",\"y\":1.05,\"yref\":\"paper\"}],\"legend\":{\"bgcolor\":\"rgba(0,0,0,0)\",\"x\":1.07},\"template\":{\"data\":{\"barpolar\":[{\"marker\":{\"line\":{\"color\":\"#E5ECF6\",\"width\":0.5},\"pattern\":{\"fillmode\":\"overlay\",\"size\":10,\"solidity\":0.2}},\"type\":\"barpolar\"}],\"bar\":[{\"error_x\":{\"color\":\"#2a3f5f\"},\"error_y\":{\"color\":\"#2a3f5f\"},\"marker\":{\"line\":{\"color\":\"#E5ECF6\",\"width\":0.5},\"pattern\":{\"fillmode\":\"overlay\",\"size\":10,\"solidity\":0.2}},\"type\":\"bar\"}],\"carpet\":[{\"aaxis\":{\"endlinecolor\":\"#2a3f5f\",\"gridcolor\":\"white\",\"linecolor\":\"white\",\"minorgridcolor\":\"white\",\"startlinecolor\":\"#2a3f5f\"},\"baxis\":{\"endlinecolor\":\"#2a3f5f\",\"gridcolor\":\"white\",\"linecolor\":\"white\",\"minorgridcolor\":\"white\",\"startlinecolor\":\"#2a3f5f\"},\"type\":\"carpet\"}],\"choropleth\":[{\"colorbar\":{\"outlinewidth\":0,\"ticks\":\"\"},\"type\":\"choropleth\"}],\"contourcarpet\":[{\"colorbar\":{\"outlinewidth\":0,\"ticks\":\"\"},\"type\":\"contourcarpet\"}],\"contour\":[{\"colorbar\":{\"outlinewidth\":0,\"ticks\":\"\"},\"colorscale\":[[0.0,\"#0d0887\"],[0.1111111111111111,\"#46039f\"],[0.2222222222222222,\"#7201a8\"],[0.3333333333333333,\"#9c179e\"],[0.4444444444444444,\"#bd3786\"],[0.5555555555555556,\"#d8576b\"],[0.6666666666666666,\"#ed7953\"],[0.7777777777777778,\"#fb9f3a\"],[0.8888888888888888,\"#fdca26\"],[1.0,\"#f0f921\"]],\"type\":\"contour\"}],\"heatmapgl\":[{\"colorbar\":{\"outlinewidth\":0,\"ticks\":\"\"},\"colorscale\":[[0.0,\"#0d0887\"],[0.1111111111111111,\"#46039f\"],[0.2222222222222222,\"#7201a8\"],[0.3333333333333333,\"#9c179e\"],[0.4444444444444444,\"#bd3786\"],[0.5555555555555556,\"#d8576b\"],[0.6666666666666666,\"#ed7953\"],[0.7777777777777778,\"#fb9f3a\"],[0.8888888888888888,\"#fdca26\"],[1.0,\"#f0f921\"]],\"type\":\"heatmapgl\"}],\"heatmap\":[{\"colorbar\":{\"outlinewidth\":0,\"ticks\":\"\"},\"colorscale\":[[0.0,\"#0d0887\"],[0.1111111111111111,\"#46039f\"],[0.2222222222222222,\"#7201a8\"],[0.3333333333333333,\"#9c179e\"],[0.4444444444444444,\"#bd3786\"],[0.5555555555555556,\"#d8576b\"],[0.6666666666666666,\"#ed7953\"],[0.7777777777777778,\"#fb9f3a\"],[0.8888888888888888,\"#fdca26\"],[1.0,\"#f0f921\"]],\"type\":\"heatmap\"}],\"histogram2dcontour\":[{\"colorbar\":{\"outlinewidth\":0,\"ticks\":\"\"},\"colorscale\":[[0.0,\"#0d0887\"],[0.1111111111111111,\"#46039f\"],[0.2222222222222222,\"#7201a8\"],[0.3333333333333333,\"#9c179e\"],[0.4444444444444444,\"#bd3786\"],[0.5555555555555556,\"#d8576b\"],[0.6666666666666666,\"#ed7953\"],[0.7777777777777778,\"#fb9f3a\"],[0.8888888888888888,\"#fdca26\"],[1.0,\"#f0f921\"]],\"type\":\"histogram2dcontour\"}],\"histogram2d\":[{\"colorbar\":{\"outlinewidth\":0,\"ticks\":\"\"},\"colorscale\":[[0.0,\"#0d0887\"],[0.1111111111111111,\"#46039f\"],[0.2222222222222222,\"#7201a8\"],[0.3333333333333333,\"#9c179e\"],[0.4444444444444444,\"#bd3786\"],[0.5555555555555556,\"#d8576b\"],[0.6666666666666666,\"#ed7953\"],[0.7777777777777778,\"#fb9f3a\"],[0.8888888888888888,\"#fdca26\"],[1.0,\"#f0f921\"]],\"type\":\"histogram2d\"}],\"histogram\":[{\"marker\":{\"pattern\":{\"fillmode\":\"overlay\",\"size\":10,\"solidity\":0.2}},\"type\":\"histogram\"}],\"mesh3d\":[{\"colorbar\":{\"outlinewidth\":0,\"ticks\":\"\"},\"type\":\"mesh3d\"}],\"parcoords\":[{\"line\":{\"colorbar\":{\"outlinewidth\":0,\"ticks\":\"\"}},\"type\":\"parcoords\"}],\"pie\":[{\"automargin\":true,\"type\":\"pie\"}],\"scatter3d\":[{\"line\":{\"colorbar\":{\"outlinewidth\":0,\"ticks\":\"\"}},\"marker\":{\"colorbar\":{\"outlinewidth\":0,\"ticks\":\"\"}},\"type\":\"scatter3d\"}],\"scattercarpet\":[{\"marker\":{\"colorbar\":{\"outlinewidth\":0,\"ticks\":\"\"}},\"type\":\"scattercarpet\"}],\"scattergeo\":[{\"marker\":{\"colorbar\":{\"outlinewidth\":0,\"ticks\":\"\"}},\"type\":\"scattergeo\"}],\"scattergl\":[{\"marker\":{\"colorbar\":{\"outlinewidth\":0,\"ticks\":\"\"}},\"type\":\"scattergl\"}],\"scattermapbox\":[{\"marker\":{\"colorbar\":{\"outlinewidth\":0,\"ticks\":\"\"}},\"type\":\"scattermapbox\"}],\"scatterpolargl\":[{\"marker\":{\"colorbar\":{\"outlinewidth\":0,\"ticks\":\"\"}},\"type\":\"scatterpolargl\"}],\"scatterpolar\":[{\"marker\":{\"colorbar\":{\"outlinewidth\":0,\"ticks\":\"\"}},\"type\":\"scatterpolar\"}],\"scatter\":[{\"fillpattern\":{\"fillmode\":\"overlay\",\"size\":10,\"solidity\":0.2},\"type\":\"scatter\"}],\"scatterternary\":[{\"marker\":{\"colorbar\":{\"outlinewidth\":0,\"ticks\":\"\"}},\"type\":\"scatterternary\"}],\"surface\":[{\"colorbar\":{\"outlinewidth\":0,\"ticks\":\"\"},\"colorscale\":[[0.0,\"#0d0887\"],[0.1111111111111111,\"#46039f\"],[0.2222222222222222,\"#7201a8\"],[0.3333333333333333,\"#9c179e\"],[0.4444444444444444,\"#bd3786\"],[0.5555555555555556,\"#d8576b\"],[0.6666666666666666,\"#ed7953\"],[0.7777777777777778,\"#fb9f3a\"],[0.8888888888888888,\"#fdca26\"],[1.0,\"#f0f921\"]],\"type\":\"surface\"}],\"table\":[{\"cells\":{\"fill\":{\"color\":\"#EBF0F8\"},\"line\":{\"color\":\"white\"}},\"header\":{\"fill\":{\"color\":\"#C8D4E3\"},\"line\":{\"color\":\"white\"}},\"type\":\"table\"}]},\"layout\":{\"annotationdefaults\":{\"arrowcolor\":\"#2a3f5f\",\"arrowhead\":0,\"arrowwidth\":1},\"autotypenumbers\":\"strict\",\"coloraxis\":{\"colorbar\":{\"outlinewidth\":0,\"ticks\":\"\"}},\"colorscale\":{\"diverging\":[[0,\"#8e0152\"],[0.1,\"#c51b7d\"],[0.2,\"#de77ae\"],[0.3,\"#f1b6da\"],[0.4,\"#fde0ef\"],[0.5,\"#f7f7f7\"],[0.6,\"#e6f5d0\"],[0.7,\"#b8e186\"],[0.8,\"#7fbc41\"],[0.9,\"#4d9221\"],[1,\"#276419\"]],\"sequential\":[[0.0,\"#0d0887\"],[0.1111111111111111,\"#46039f\"],[0.2222222222222222,\"#7201a8\"],[0.3333333333333333,\"#9c179e\"],[0.4444444444444444,\"#bd3786\"],[0.5555555555555556,\"#d8576b\"],[0.6666666666666666,\"#ed7953\"],[0.7777777777777778,\"#fb9f3a\"],[0.8888888888888888,\"#fdca26\"],[1.0,\"#f0f921\"]],\"sequentialminus\":[[0.0,\"#0d0887\"],[0.1111111111111111,\"#46039f\"],[0.2222222222222222,\"#7201a8\"],[0.3333333333333333,\"#9c179e\"],[0.4444444444444444,\"#bd3786\"],[0.5555555555555556,\"#d8576b\"],[0.6666666666666666,\"#ed7953\"],[0.7777777777777778,\"#fb9f3a\"],[0.8888888888888888,\"#fdca26\"],[1.0,\"#f0f921\"]]},\"colorway\":[\"#636efa\",\"#EF553B\",\"#00cc96\",\"#ab63fa\",\"#FFA15A\",\"#19d3f3\",\"#FF6692\",\"#B6E880\",\"#FF97FF\",\"#FECB52\"],\"font\":{\"color\":\"#2a3f5f\"},\"geo\":{\"bgcolor\":\"white\",\"lakecolor\":\"white\",\"landcolor\":\"#E5ECF6\",\"showlakes\":true,\"showland\":true,\"subunitcolor\":\"white\"},\"hoverlabel\":{\"align\":\"left\"},\"hovermode\":\"closest\",\"mapbox\":{\"style\":\"light\"},\"paper_bgcolor\":\"white\",\"plot_bgcolor\":\"#E5ECF6\",\"polar\":{\"angularaxis\":{\"gridcolor\":\"white\",\"linecolor\":\"white\",\"ticks\":\"\"},\"bgcolor\":\"#E5ECF6\",\"radialaxis\":{\"gridcolor\":\"white\",\"linecolor\":\"white\",\"ticks\":\"\"}},\"scene\":{\"xaxis\":{\"backgroundcolor\":\"#E5ECF6\",\"gridcolor\":\"white\",\"gridwidth\":2,\"linecolor\":\"white\",\"showbackground\":true,\"ticks\":\"\",\"zerolinecolor\":\"white\"},\"yaxis\":{\"backgroundcolor\":\"#E5ECF6\",\"gridcolor\":\"white\",\"gridwidth\":2,\"linecolor\":\"white\",\"showbackground\":true,\"ticks\":\"\",\"zerolinecolor\":\"white\"},\"zaxis\":{\"backgroundcolor\":\"#E5ECF6\",\"gridcolor\":\"white\",\"gridwidth\":2,\"linecolor\":\"white\",\"showbackground\":true,\"ticks\":\"\",\"zerolinecolor\":\"white\"}},\"shapedefaults\":{\"line\":{\"color\":\"#2a3f5f\"}},\"ternary\":{\"aaxis\":{\"gridcolor\":\"white\",\"linecolor\":\"white\",\"ticks\":\"\"},\"baxis\":{\"gridcolor\":\"white\",\"linecolor\":\"white\",\"ticks\":\"\"},\"bgcolor\":\"#E5ECF6\",\"caxis\":{\"gridcolor\":\"white\",\"linecolor\":\"white\",\"ticks\":\"\"}},\"title\":{\"x\":0.05},\"xaxis\":{\"automargin\":true,\"gridcolor\":\"white\",\"linecolor\":\"white\",\"ticks\":\"\",\"title\":{\"standoff\":15},\"zerolinecolor\":\"white\",\"zerolinewidth\":2},\"yaxis\":{\"automargin\":true,\"gridcolor\":\"white\",\"linecolor\":\"white\",\"ticks\":\"\",\"title\":{\"standoff\":15},\"zerolinecolor\":\"white\",\"zerolinewidth\":2}}},\"updatemenus\":[{\"buttons\":[{\"args\":[{\"y\":[[0.3636363744735718,0.8333333134651184,0.7599999904632568,0.6896551847457886,0.7777777910232544,0.7692307829856873,0.6129032373428345,0.7157894968986511,0.782608687877655],[0.6268503069877625,2.087812900543213,1.3519383668899536,1.6720116138458252,1.9124501943588257,1.1180492639541626,1.2513978481292725,1.5904287099838257,1.9063212871551514],[11,72,25,29,9,13,62,95,253],[1.5140465724690098,1.622786036376067,1.6360005735396612,1.658241864606548,1.7062946751253287,1.6856705847199598,1.659874085185343,1.6557789270394416,1.661115870384452]]},{\"xaxis\":{\"showticklabels\":false,\"tickmode\":\"array\",\"ticktext\":[\"(-inf, -1766210.7500]\",\"(-1766210.7500, -1746088.3750]\",\"(-1746088.3750, -1737858.0000]\",\"(-1737858.0000, -1727026.2500]\",\"(-1727026.2500, -1725226.0000]\",\"(-1725226.0000, -1722178.3750]\",\"(-1722178.3750, -1698711.7500]\",\"(-1698711.7500, -1277978.7500]\",\"(-1277978.7500, +inf)\"],\"tickvals\":[0,1,2,3,4,5,6,7,8],\"title\":{\"text\":\"Bins\"}}}],\"label\":\"y_centroid\",\"method\":\"update\"},{\"args\":[{\"y\":[[0.9382239580154419,0.9342105388641357,0.9230769276618958,0.800000011920929,1.0,0.6538461446762085,0.4444444477558136,0.4838709533214569,0.5,0.1538461595773697],[2.912716865539551,2.9998486042022705,2.499453067779541,1.4918617010116577,2.3891351222991943,1.0283076763153076,-0.10539616644382477,-0.05618372932076454,-0.6161568760871887,-1.6571561098098755],[259,76,52,5,5,26,9,31,2,104],[2.133705601734028,2.107797545386025,1.9641267956772726,1.8153167492540454,1.725612827564729,1.515116853251646,1.4206139948223275,1.1938110229057388,0.8932120408291345,0.5154986750264199]]},{\"xaxis\":{\"showticklabels\":false,\"tickmode\":\"array\",\"ticktext\":[\"(-inf, 707815.3125]\",\"(707815.3125, 1573713.0000]\",\"(1573713.0000, 2985229.0000]\",\"(2985229.0000, 3136729.5000]\",\"(3136729.5000, 3436084.0000]\",\"(3436084.0000, 4547848.5000]\",\"(4547848.5000, 4915948.5000]\",\"(4915948.5000, 7815335.5000]\",\"(7815335.5000, 7908209.0000]\",\"(7908209.0000, +inf)\"],\"tickvals\":[0,1,2,3,4,5,6,7,8,9],\"title\":{\"text\":\"Bins\"}}}],\"label\":\"area_m\",\"method\":\"update\"},{\"args\":[{\"y\":[[0.9329897165298462,1.0,0.875,0.5,0.5581395626068115,0.3384615480899811,0.11999999731779099,0.1875,0.0],[2.8652570247650146,2.375706195831299,1.7568702697753906,0.806695282459259,0.5961913466453552,-0.8948549628257751,-1.7226340770721436,-1.7131245136260986,-2.3453240394592285],[388,2,8,2,43,65,25,16,20],[1.9560159518875635,1.8757588387835689,1.6505821441055362,1.4947690928487136,1.3504205987554658,1.281526947829026,1.1248278263922267,1.043125830626933,0.9912949606406882]]},{\"xaxis\":{\"showticklabels\":false,\"tickmode\":\"array\",\"ticktext\":[\"(-inf, 10741.6738]\",\"(10741.6738, 10855.7314]\",\"(10855.7314, 11763.0127]\",\"(11763.0127, 11787.8184]\",\"(11787.8184, 15107.2383]\",\"(15107.2383, 24253.7812]\",\"(24253.7812, 31362.6660]\",\"(31362.6660, 47010.2422]\",\"(47010.2422, +inf)\"],\"tickvals\":[0,1,2,3,4,5,6,7,8],\"title\":{\"text\":\"Bins\"}}}],\"label\":\"perimeter\",\"method\":\"update\"},{\"args\":[{\"y\":[[0.819327712059021,0.6296296119689941,0.5882353186607361,0.1428571492433548],[2.2053043842315674,0.8529773354530334,0.05282536521553993,-1.8658207654953003],[476,27,17,49],[1.7455479959616724,1.7279013344016503,1.56954156388567,1.3905144558390572]]},{\"xaxis\":{\"showticklabels\":false,\"tickmode\":\"array\",\"ticktext\":[\"(-inf, 140178.5000]\",\"(140178.5000, 448093.5312]\",\"(448093.5312, 820557.6250]\",\"(820557.6250, +inf)\"],\"tickvals\":[0,1,2,3],\"title\":{\"text\":\"Bins\"}}}],\"label\":\"glaciersum\",\"method\":\"update\"},{\"args\":[{\"y\":[[0.7529411911964417,0.7418546080589294],[1.6708214282989502,1.7498462200164795],[170,399],[1.6863697589047917,1.7317992001631015]]},{\"xaxis\":{\"showticklabels\":false,\"tickmode\":\"array\",\"ticktext\":[\"(-inf, 3768.0898]\",\"(3768.0898, +inf)\"],\"tickvals\":[0,1],\"title\":{\"text\":\"Bins\"}}}],\"label\":\"mean_elevation\",\"method\":\"update\"},{\"args\":[{\"y\":[[0.7739130258560181,0.6707317233085632,0.7023809552192688,0.7673611044883728],[1.8306822776794434,1.2638872861862183,1.3833482265472412,1.916178822517395],[115,82,84,288],[1.5740364019720177,1.6582927084473806,1.7199520033655815,1.792848324407156]]},{\"xaxis\":{\"showticklabels\":false,\"tickmode\":\"array\",\"ticktext\":[\"(-inf, 3496.5000]\",\"(3496.5000, 3857.0000]\",\"(3857.0000, 4136.0000]\",\"(4136.0000, +inf)\"],\"tickvals\":[0,1,2,3],\"title\":{\"text\":\"Bins\"}}}],\"label\":\"median_elevation\",\"method\":\"update\"},{\"args\":[{\"y\":[[0.8326271176338196,0.3195876181125641],[2.2416419982910156,-0.7817263007164001],[472,97],[1.7354995499163084,1.6747028718779782]]},{\"xaxis\":{\"showticklabels\":false,\"tickmode\":\"array\",\"ticktext\":[\"(-inf, 468.0347]\",\"(468.0347, +inf)\"],\"tickvals\":[0,1],\"title\":{\"text\":\"Bins\"}}}],\"label\":\"std_elevation\",\"method\":\"update\"},{\"args\":[{\"y\":[[0.4532374143600464,0.8571428656578064,0.8015267252922058,0.8560000061988831],[0.1452980935573578,2.0782887935638428,1.792626976966858,2.5014452934265137],[139,49,131,250],[1.5862700910017065,1.7026281336949585,1.7337390965243167,1.830412889668279]]},{\"xaxis\":{\"showticklabels\":false,\"tickmode\":\"array\",\"ticktext\":[\"(-inf, 2865.5000]\",\"(2865.5000, 3090.5000]\",\"(3090.5000, 3473.0000]\",\"(3473.0000, +inf)\"],\"tickvals\":[0,1,2,3],\"title\":{\"text\":\"Bins\"}}}],\"label\":\"min_elevation\",\"method\":\"update\"},{\"args\":[{\"y\":[[0.859375,0.7139480113983154,0.6666666865348816],[2.2665176391601562,1.6253244876861572,0.25564396381378174],[128,423,18],[1.679468675204796,1.7357407486021548,1.75423169462621]]},{\"xaxis\":{\"showticklabels\":false,\"tickmode\":\"array\",\"ticktext\":[\"(-inf, 4159.0000]\",\"(4159.0000, 6285.5000]\",\"(6285.5000, +inf)\"],\"tickvals\":[0,1,2],\"title\":{\"text\":\"Bins\"}}}],\"label\":\"max_elevation\",\"method\":\"update\"},{\"args\":[{\"y\":[[0.8891966938972473,0.7833333611488342,0.550561785697937,0.1428571492433548,0.0714285746216774,0.6666666865348816],[2.621488332748413,1.5543280839920044,0.5233548283576965,-1.4374183416366577,-1.917044997215271,-1.1092355251312256],[361,60,89,14,42,3],[1.784975119413357,1.7074274409814696,1.6881311454755465,1.5836672565706784,1.535304041364193,1.5264686225676665]]},{\"xaxis\":{\"showticklabels\":false,\"tickmode\":\"array\",\"ticktext\":[\"(-inf, 1608.0000]\",\"(1608.0000, 1860.0000]\",\"(1860.0000, 2599.0000]\",\"(2599.0000, 2706.5000]\",\"(2706.5000, 3947.5000]\",\"(3947.5000, +inf)\"],\"tickvals\":[0,1,2,3,4,5],\"title\":{\"text\":\"Bins\"}}}],\"label\":\"range_elevation\",\"method\":\"update\"}],\"direction\":\"down\",\"pad\":{\"r\":10,\"t\":10},\"showactive\":true,\"x\":0.25,\"xanchor\":\"left\",\"y\":1.09,\"yanchor\":\"top\"}],\"xaxis\":{\"showticklabels\":false,\"tickmode\":\"array\",\"ticktext\":[\"(-inf, -1766210.7500]\",\"(-1766210.7500, -1746088.3750]\",\"(-1746088.3750, -1737858.0000]\",\"(-1737858.0000, -1727026.2500]\",\"(-1727026.2500, -1725226.0000]\",\"(-1725226.0000, -1722178.3750]\",\"(-1722178.3750, -1698711.7500]\",\"(-1698711.7500, -1277978.7500]\",\"(-1277978.7500, +inf)\"],\"tickvals\":[0,1,2,3,4,5,6,7,8],\"title\":{\"text\":\"Bins\"}},\"yaxis\":{\"overlaying\":\"y2\",\"side\":\"left\",\"title\":{\"text\":\"Prediction and target\"}},\"yaxis2\":{\"position\":1.0,\"side\":\"right\",\"title\":{\"text\":\"Objects per bin\"}}},                        {\"responsive\": true}                    ).then(function(){\n",
       "                            \n",
       "var gd = document.getElementById('4bd34166-b1ed-484e-89c8-a973e3006281');\n",
       "var x = new MutationObserver(function (mutations, observer) {{\n",
       "        var display = window.getComputedStyle(gd).display;\n",
       "        if (!display || display === 'none') {{\n",
       "            console.log([gd, 'removed!']);\n",
       "            Plotly.purge(gd);\n",
       "            observer.disconnect();\n",
       "        }}\n",
       "}});\n",
       "\n",
       "// Listen for the removal of the full notebook cells\n",
       "var notebookContainer = gd.closest('#notebook-container');\n",
       "if (notebookContainer) {{\n",
       "    x.observe(notebookContainer, {childList: true});\n",
       "}}\n",
       "\n",
       "// Listen for the clearing of the current output cell\n",
       "var outputEl = gd.closest('.output');\n",
       "if (outputEl) {{\n",
       "    x.observe(outputEl, {childList: true});\n",
       "}}\n",
       "\n",
       "                        })                };                });            </script>        </div>"
      ]
     },
     "metadata": {},
     "output_type": "display_data"
    }
   ],
   "source": [
    "res = model.calc_feature_statistics(X_train,\n",
    "                                    y_train,\n",
    "                                    feature=[1, 2, 3, 4, 5, 6, 7, 8, 9, 10],\n",
    "                                    plot=True)\n"
   ]
  },
  {
   "cell_type": "code",
   "execution_count": null,
   "id": "be2d1dcf-d252-4a86-9b70-44b79a0bcff6",
   "metadata": {
    "tags": []
   },
   "outputs": [],
   "source": []
  },
  {
   "cell_type": "code",
   "execution_count": null,
   "id": "a51efbc2-2ac8-48d7-bba1-52247212d142",
   "metadata": {},
   "outputs": [],
   "source": []
  },
  {
   "cell_type": "markdown",
   "id": "38eca8d6-509f-4e5a-8e63-a5c34aa2ac1c",
   "metadata": {},
   "source": [
    "## model predict probabilities (the entire dataset)"
   ]
  },
  {
   "cell_type": "code",
   "execution_count": 55,
   "id": "673bbfe9-73ed-4bc5-b405-4a637da5508c",
   "metadata": {},
   "outputs": [],
   "source": [
    "probs = model.predict_proba(X)\n"
   ]
  },
  {
   "cell_type": "markdown",
   "id": "b115f74a-eb6d-4736-89b6-4f5068df0325",
   "metadata": {},
   "source": [
    "### feature importsnce"
   ]
  },
  {
   "cell_type": "code",
   "execution_count": 172,
   "id": "8bde8fee-e422-477a-a593-e68cadf429e9",
   "metadata": {},
   "outputs": [
    {
     "data": {
      "text/html": [
       "<div>\n",
       "<style scoped>\n",
       "    .dataframe tbody tr th:only-of-type {\n",
       "        vertical-align: middle;\n",
       "    }\n",
       "\n",
       "    .dataframe tbody tr th {\n",
       "        vertical-align: top;\n",
       "    }\n",
       "\n",
       "    .dataframe thead th {\n",
       "        text-align: right;\n",
       "    }\n",
       "</style>\n",
       "<table border=\"1\" class=\"dataframe\">\n",
       "  <thead>\n",
       "    <tr style=\"text-align: right;\">\n",
       "      <th></th>\n",
       "      <th>Feature Id</th>\n",
       "      <th>Importances</th>\n",
       "    </tr>\n",
       "  </thead>\n",
       "  <tbody>\n",
       "    <tr>\n",
       "      <th>0</th>\n",
       "      <td>area_m</td>\n",
       "      <td>15.159030</td>\n",
       "    </tr>\n",
       "    <tr>\n",
       "      <th>1</th>\n",
       "      <td>range_elevation</td>\n",
       "      <td>12.044861</td>\n",
       "    </tr>\n",
       "    <tr>\n",
       "      <th>2</th>\n",
       "      <td>x_centroid</td>\n",
       "      <td>11.464264</td>\n",
       "    </tr>\n",
       "    <tr>\n",
       "      <th>3</th>\n",
       "      <td>mean_slope</td>\n",
       "      <td>8.814833</td>\n",
       "    </tr>\n",
       "    <tr>\n",
       "      <th>4</th>\n",
       "      <td>median_slope</td>\n",
       "      <td>7.448238</td>\n",
       "    </tr>\n",
       "    <tr>\n",
       "      <th>5</th>\n",
       "      <td>min_elevation</td>\n",
       "      <td>5.693697</td>\n",
       "    </tr>\n",
       "    <tr>\n",
       "      <th>6</th>\n",
       "      <td>y_centroid</td>\n",
       "      <td>5.384608</td>\n",
       "    </tr>\n",
       "    <tr>\n",
       "      <th>7</th>\n",
       "      <td>Rc</td>\n",
       "      <td>4.414305</td>\n",
       "    </tr>\n",
       "    <tr>\n",
       "      <th>8</th>\n",
       "      <td>max_slope</td>\n",
       "      <td>4.168981</td>\n",
       "    </tr>\n",
       "    <tr>\n",
       "      <th>9</th>\n",
       "      <td>rainy_days_frac</td>\n",
       "      <td>3.971328</td>\n",
       "    </tr>\n",
       "    <tr>\n",
       "      <th>10</th>\n",
       "      <td>mean_july_T</td>\n",
       "      <td>2.948322</td>\n",
       "    </tr>\n",
       "    <tr>\n",
       "      <th>11</th>\n",
       "      <td>max_elevation</td>\n",
       "      <td>2.781705</td>\n",
       "    </tr>\n",
       "    <tr>\n",
       "      <th>12</th>\n",
       "      <td>M</td>\n",
       "      <td>2.688898</td>\n",
       "    </tr>\n",
       "    <tr>\n",
       "      <th>13</th>\n",
       "      <td>mean_monsoon_sum_tp</td>\n",
       "      <td>2.448551</td>\n",
       "    </tr>\n",
       "    <tr>\n",
       "      <th>14</th>\n",
       "      <td>belowzero_frac</td>\n",
       "      <td>1.632113</td>\n",
       "    </tr>\n",
       "    <tr>\n",
       "      <th>15</th>\n",
       "      <td>n_rainy_days</td>\n",
       "      <td>1.479111</td>\n",
       "    </tr>\n",
       "    <tr>\n",
       "      <th>16</th>\n",
       "      <td>glarea_percent</td>\n",
       "      <td>1.117559</td>\n",
       "    </tr>\n",
       "    <tr>\n",
       "      <th>17</th>\n",
       "      <td>perimeter</td>\n",
       "      <td>1.032987</td>\n",
       "    </tr>\n",
       "    <tr>\n",
       "      <th>18</th>\n",
       "      <td>median_elevation</td>\n",
       "      <td>0.974102</td>\n",
       "    </tr>\n",
       "    <tr>\n",
       "      <th>19</th>\n",
       "      <td>mean_daylymonsoon_tp_x</td>\n",
       "      <td>0.947952</td>\n",
       "    </tr>\n",
       "    <tr>\n",
       "      <th>20</th>\n",
       "      <td>variance_elevation</td>\n",
       "      <td>0.895338</td>\n",
       "    </tr>\n",
       "    <tr>\n",
       "      <th>21</th>\n",
       "      <td>min_slope</td>\n",
       "      <td>0.855325</td>\n",
       "    </tr>\n",
       "    <tr>\n",
       "      <th>22</th>\n",
       "      <td>mean_annual_tp</td>\n",
       "      <td>0.472546</td>\n",
       "    </tr>\n",
       "    <tr>\n",
       "      <th>23</th>\n",
       "      <td>range_slope</td>\n",
       "      <td>0.392840</td>\n",
       "    </tr>\n",
       "    <tr>\n",
       "      <th>24</th>\n",
       "      <td>monsoon_tp_frac</td>\n",
       "      <td>0.351146</td>\n",
       "    </tr>\n",
       "    <tr>\n",
       "      <th>25</th>\n",
       "      <td>std_elevation</td>\n",
       "      <td>0.312625</td>\n",
       "    </tr>\n",
       "    <tr>\n",
       "      <th>26</th>\n",
       "      <td>mean_monsoon_T</td>\n",
       "      <td>0.104734</td>\n",
       "    </tr>\n",
       "    <tr>\n",
       "      <th>27</th>\n",
       "      <td>glaciersum</td>\n",
       "      <td>0.000000</td>\n",
       "    </tr>\n",
       "    <tr>\n",
       "      <th>28</th>\n",
       "      <td>mean_elevation</td>\n",
       "      <td>0.000000</td>\n",
       "    </tr>\n",
       "    <tr>\n",
       "      <th>29</th>\n",
       "      <td>region</td>\n",
       "      <td>0.000000</td>\n",
       "    </tr>\n",
       "    <tr>\n",
       "      <th>30</th>\n",
       "      <td>std_slope</td>\n",
       "      <td>0.000000</td>\n",
       "    </tr>\n",
       "    <tr>\n",
       "      <th>31</th>\n",
       "      <td>variance_slope</td>\n",
       "      <td>0.000000</td>\n",
       "    </tr>\n",
       "    <tr>\n",
       "      <th>32</th>\n",
       "      <td>glacier</td>\n",
       "      <td>0.000000</td>\n",
       "    </tr>\n",
       "    <tr>\n",
       "      <th>33</th>\n",
       "      <td>Cc</td>\n",
       "      <td>0.000000</td>\n",
       "    </tr>\n",
       "    <tr>\n",
       "      <th>34</th>\n",
       "      <td>mean_annual_T</td>\n",
       "      <td>0.000000</td>\n",
       "    </tr>\n",
       "    <tr>\n",
       "      <th>35</th>\n",
       "      <td>mean_jan_T</td>\n",
       "      <td>0.000000</td>\n",
       "    </tr>\n",
       "    <tr>\n",
       "      <th>36</th>\n",
       "      <td>mean_no_monsoon_T</td>\n",
       "      <td>0.000000</td>\n",
       "    </tr>\n",
       "    <tr>\n",
       "      <th>37</th>\n",
       "      <td>count_zeros</td>\n",
       "      <td>0.000000</td>\n",
       "    </tr>\n",
       "    <tr>\n",
       "      <th>38</th>\n",
       "      <td>avgtemp_belowzero</td>\n",
       "      <td>0.000000</td>\n",
       "    </tr>\n",
       "    <tr>\n",
       "      <th>39</th>\n",
       "      <td>mean_annualsum_tp</td>\n",
       "      <td>0.000000</td>\n",
       "    </tr>\n",
       "    <tr>\n",
       "      <th>40</th>\n",
       "      <td>mean_daylymonsoon_tp_y</td>\n",
       "      <td>0.000000</td>\n",
       "    </tr>\n",
       "  </tbody>\n",
       "</table>\n",
       "</div>"
      ],
      "text/plain": [
       "                Feature Id  Importances\n",
       "0                   area_m    15.159030\n",
       "1          range_elevation    12.044861\n",
       "2               x_centroid    11.464264\n",
       "3               mean_slope     8.814833\n",
       "4             median_slope     7.448238\n",
       "5            min_elevation     5.693697\n",
       "6               y_centroid     5.384608\n",
       "7                       Rc     4.414305\n",
       "8                max_slope     4.168981\n",
       "9          rainy_days_frac     3.971328\n",
       "10             mean_july_T     2.948322\n",
       "11           max_elevation     2.781705\n",
       "12                       M     2.688898\n",
       "13     mean_monsoon_sum_tp     2.448551\n",
       "14          belowzero_frac     1.632113\n",
       "15            n_rainy_days     1.479111\n",
       "16          glarea_percent     1.117559\n",
       "17               perimeter     1.032987\n",
       "18        median_elevation     0.974102\n",
       "19  mean_daylymonsoon_tp_x     0.947952\n",
       "20      variance_elevation     0.895338\n",
       "21               min_slope     0.855325\n",
       "22          mean_annual_tp     0.472546\n",
       "23             range_slope     0.392840\n",
       "24         monsoon_tp_frac     0.351146\n",
       "25           std_elevation     0.312625\n",
       "26          mean_monsoon_T     0.104734\n",
       "27              glaciersum     0.000000\n",
       "28          mean_elevation     0.000000\n",
       "29                  region     0.000000\n",
       "30               std_slope     0.000000\n",
       "31          variance_slope     0.000000\n",
       "32                 glacier     0.000000\n",
       "33                      Cc     0.000000\n",
       "34           mean_annual_T     0.000000\n",
       "35              mean_jan_T     0.000000\n",
       "36       mean_no_monsoon_T     0.000000\n",
       "37             count_zeros     0.000000\n",
       "38       avgtemp_belowzero     0.000000\n",
       "39       mean_annualsum_tp     0.000000\n",
       "40  mean_daylymonsoon_tp_y     0.000000"
      ]
     },
     "execution_count": 172,
     "metadata": {},
     "output_type": "execute_result"
    }
   ],
   "source": [
    "feature_import = model.get_feature_importance(prettified=True)\n",
    "feature_import"
   ]
  },
  {
   "cell_type": "code",
   "execution_count": 176,
   "id": "48934e00-f258-495d-833e-8a8047492fd1",
   "metadata": {},
   "outputs": [
    {
     "data": {
      "text/plain": [
       "Text(0.5, 1.0, 'Feature Importance')"
      ]
     },
     "execution_count": 176,
     "metadata": {},
     "output_type": "execute_result"
    },
    {
     "data": {
      "image/png": "[encoded data removed]",
      "text/plain": [
       "<Figure size 1080x720 with 1 Axes>"
      ]
     },
     "metadata": {
      "needs_background": "light"
     },
     "output_type": "display_data"
    }
   ],
   "source": [
    "\n",
    "feature_importance = model.feature_importances_\n",
    "sorted_idx = np.argsort(feature_importance)\n",
    "fig = plt.figure(figsize=(15, 10))\n",
    "plt.barh(range(len(sorted_idx)), feature_importance[sorted_idx], align='center')\n",
    "plt.yticks(range(len(sorted_idx)), np.array(X_validation.columns)[sorted_idx])\n",
    "plt.title('Feature Importance')"
   ]
  },
  {
   "cell_type": "markdown",
   "id": "af3b9c78-cabd-4f8a-82c3-dd20625f6601",
   "metadata": {},
   "source": [
    "### shap stuff"
   ]
  },
  {
   "cell_type": "code",
   "execution_count": 194,
   "id": "e543083d-6fe5-440f-93ce-911a723c5c3e",
   "metadata": {},
   "outputs": [
    {
     "data": {
      "image/png": "[encoded data removed]",
      "text/plain": [
       "<Figure size 576x684 with 2 Axes>"
      ]
     },
     "metadata": {
      "needs_background": "light"
     },
     "output_type": "display_data"
    }
   ],
   "source": [
    "import shap \n",
    "\n",
    "\n",
    "explainer = shap.TreeExplainer(model)\n",
    "shap_values = explainer.shap_values(X_validation)#, cat_features=cat_features)\n",
    "\n",
    "shap.summary_plot(shap_values, X_validation)"
   ]
  },
  {
   "cell_type": "code",
   "execution_count": 178,
   "id": "ae2c512d-f058-4093-9d0d-e505a4455f8c",
   "metadata": {},
   "outputs": [
    {
     "data": {
      "image/png": "[encoded data removed]",
      "text/plain": [
       "<Figure size 576x684 with 1 Axes>"
      ]
     },
     "metadata": {
      "needs_background": "light"
     },
     "output_type": "display_data"
    }
   ],
   "source": [
    "shap.summary_plot(shap_values, X_validation, plot_type=\"bar\")\n",
    "\n",
    "# shap.plots.bar(shap_values, max_display=X_validation.shape[0])\n"
   ]
  },
  {
   "cell_type": "code",
   "execution_count": 192,
   "id": "015433ad-549d-4c1b-a569-308db2756332",
   "metadata": {},
   "outputs": [],
   "source": [
    "# shap.force_plot(explainer.expected_value, shap_values[0,:], X.iloc[0,:])\n",
    "# shap.force_plot(explainer.expected_value, shap_values, X)\n"
   ]
  },
  {
   "cell_type": "markdown",
   "id": "3bdc7031-da13-40ab-abb5-549714033ccd",
   "metadata": {},
   "source": [
    "### apply the model \n"
   ]
  },
  {
   "cell_type": "code",
   "execution_count": 179,
   "id": "d86a51cb-4fc7-4e60-9c89-4ed266683837",
   "metadata": {},
   "outputs": [],
   "source": [
    "y_result = model.predict(X)\n",
    "\n",
    "y_result_probs = model.predict_proba(X)\n",
    "y_result_probs = y_result_probs[:,1]\n",
    "\n",
    "df['y_result'] = y_result\n",
    "df['y_result_probs'] = y_result_probs\n"
   ]
  },
  {
   "cell_type": "code",
   "execution_count": 183,
   "id": "562ef86e-9147-4bd5-81ce-de0e623ec727",
   "metadata": {},
   "outputs": [
    {
     "data": {
      "text/plain": [
       "(array([ 21.,  24.,  15.,  16.,  11.,  10.,   5.,   8.,   8.,   3.,   2.,\n",
       "          2.,   6.,   6.,   2.,   2.,   2.,   3.,   0.,   1.,   0.,   4.,\n",
       "          2.,   1.,   1.,   3.,   7.,   1.,   2.,   4.,   2.,   3.,   5.,\n",
       "          5.,   6.,   7.,   1.,   3.,   5.,   2.,   8.,   5.,  20.,  20.,\n",
       "         18.,  23.,  26.,  51.,  64., 266.]),\n",
       " array([0.014 , 0.0337, 0.0534, 0.0731, 0.0928, 0.1126, 0.1323, 0.152 ,\n",
       "        0.1717, 0.1914, 0.2111, 0.2309, 0.2506, 0.2703, 0.29  , 0.3097,\n",
       "        0.3294, 0.3492, 0.3689, 0.3886, 0.4083, 0.428 , 0.4477, 0.4675,\n",
       "        0.4872, 0.5069, 0.5266, 0.5463, 0.566 , 0.5858, 0.6055, 0.6252,\n",
       "        0.6449, 0.6646, 0.6843, 0.7041, 0.7238, 0.7435, 0.7632, 0.7829,\n",
       "        0.8026, 0.8224, 0.8421, 0.8618, 0.8815, 0.9012, 0.9209, 0.9407,\n",
       "        0.9604, 0.9801, 0.9998]),\n",
       " <BarContainer object of 50 artists>)"
      ]
     },
     "execution_count": 183,
     "metadata": {},
     "output_type": "execute_result"
    },
    {
     "data": {
      "image/png": "[encoded data removed]",
      "text/plain": [
       "<Figure size 432x288 with 1 Axes>"
      ]
     },
     "metadata": {
      "needs_background": "light"
     },
     "output_type": "display_data"
    }
   ],
   "source": [
    "plt.hist(y_result_probs, bins = 50)"
   ]
  },
  {
   "cell_type": "markdown",
   "id": "4fc674a7-5669-46bd-a5b9-61f9fe94b948",
   "metadata": {},
   "source": [
    "### partial depend stuff\n"
   ]
  },
  {
   "cell_type": "code",
   "execution_count": 202,
   "id": "07ac4947-9358-4657-83de-989baeca5758",
   "metadata": {},
   "outputs": [
    {
     "name": "stderr",
     "output_type": "stream",
     "text": [
      "Function plot_partial_dependence is deprecated; Function `plot_partial_dependence` is deprecated in 1.0 and will be removed in 1.2. Use PartialDependenceDisplay.from_estimator instead\n"
     ]
    },
    {
     "data": {
      "text/plain": [
       "(0.0, 1.0)"
      ]
     },
     "execution_count": 202,
     "metadata": {},
     "output_type": "execute_result"
    },
    {
     "data": {
      "image/png": "[encoded data removed]",
      "text/plain": [
       "<Figure size 720x576 with 2 Axes>"
      ]
     },
     "metadata": {
      "needs_background": "light"
     },
     "output_type": "display_data"
    }
   ],
   "source": [
    "# see this as background: \n",
    "# https://christophm.github.io/interpretable-ml-book/pdp.html\n",
    "\n",
    "from sklearn.inspection import partial_dependence, plot_partial_dependence\n",
    "\n",
    "fig, ax = plt.subplots(figsize=(10, 8))\n",
    "ax.set_ylim(0, 1)\n",
    "\n",
    "my_plots = plot_partial_dependence(model,       \n",
    "                                   features=['mean_monsoon_sum_tp'],       # column numbers of plots we want to show\n",
    "                                   X=X,                        # raw predictors data.\n",
    "                                   grid_resolution=300,\n",
    "                                   response_method='predict_proba', \n",
    "                                   ax=ax)  # number of values to plot on x axis\n",
    "ax.set_ylim(0, 1)\n",
    "\n",
    "# plt.savefig('figs/pdp_mean_elev.pdf')"
   ]
  },
  {
   "cell_type": "code",
   "execution_count": 201,
   "id": "f2f434f5-2fb6-4d52-9679-6919be363cf6",
   "metadata": {},
   "outputs": [
    {
     "data": {
      "text/plain": [
       "Index(['x_centroid', 'y_centroid', 'area_m', 'perimeter', 'glaciersum',\n",
       "       'mean_elevation', 'median_elevation', 'std_elevation', 'min_elevation',\n",
       "       'max_elevation', 'range_elevation', 'variance_elevation', 'region',\n",
       "       'mean_slope', 'median_slope', 'std_slope', 'min_slope', 'max_slope',\n",
       "       'range_slope', 'variance_slope', 'glarea_percent', 'glacier', 'M', 'Rc',\n",
       "       'Cc', 'mean_annual_T', 'mean_jan_T', 'mean_july_T', 'mean_monsoon_T',\n",
       "       'mean_no_monsoon_T', 'count_zeros', 'belowzero_frac',\n",
       "       'avgtemp_belowzero', 'mean_annual_tp', 'mean_annualsum_tp',\n",
       "       'mean_daylymonsoon_tp_x', 'mean_daylymonsoon_tp_y',\n",
       "       'mean_monsoon_sum_tp', 'monsoon_tp_frac', 'n_rainy_days',\n",
       "       'rainy_days_frac'],\n",
       "      dtype='object')"
      ]
     },
     "execution_count": 201,
     "metadata": {},
     "output_type": "execute_result"
    }
   ],
   "source": [
    "X.columns"
   ]
  },
  {
   "cell_type": "code",
   "execution_count": null,
   "id": "0f6f7648-db91-44df-941e-a4a6e3dac343",
   "metadata": {},
   "outputs": [],
   "source": []
  }
 ],
 "metadata": {
  "kernelspec": {
   "display_name": "Python [conda env:project1] *",
   "language": "python",
   "name": "conda-env-project1-py"
  },
  "language_info": {
   "codemirror_mode": {
    "name": "ipython",
    "version": 3
   },
   "file_extension": ".py",
   "mimetype": "text/x-python",
   "name": "python",
   "nbconvert_exporter": "python",
   "pygments_lexer": "ipython3",
   "version": "3.7.11"
  }
 },
 "nbformat": 4,
 "nbformat_minor": 5
}
